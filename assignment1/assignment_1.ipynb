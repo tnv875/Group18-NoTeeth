{
 "cells": [
  {
   "cell_type": "markdown",
   "metadata": {
    "deletable": false,
    "editable": false,
    "nbgrader": {
     "checksum": "52fdab5a075c0b5b2c392d9f3e890a9c",
     "grade": false,
     "grade_id": "cell-e81de4401376cd82",
     "locked": true,
     "schema_version": 1,
     "solution": false
    }
   },
   "source": [
    "# Mandatory Assignment 1\n",
    "\n",
    "This is the first of two mandatory assignments which must be completed during the course. First some practical information:\n",
    "\n",
    "* When is the assignment due?: **23:59, Sunday, August 19, 2018.**\n",
    "* How do you grade the assignment?: You will **peergrade** each other as primary grading. \n",
    "* Can i work with my group?: **yes**\n",
    "\n",
    "The assigment consist of one to tree problems from each of the exercise sets you have solved so far (excluding Set 1). We've tried to select problems which are self contained, but it might be nessecary to solve some of the previous exercises in each set to fully answer the problems in this assignment.\n",
    "\n",
    "## Problems from Exercise Set 2:\n",
    "\n",
    "> **Ex. 2.2**: Make two lists. The first should be numbered. The second should be unnumbered and contain at least one sublevel. "
   ]
  },
  {
   "cell_type": "markdown",
   "metadata": {},
   "source": [
    "### Converted (Using shortkey M)\n",
    "\n",
    "1. Ordered 1\n",
    "1. Ordered 2\n",
    "    1. Ordered 1.1\n",
    "    1. Ordered 1.2\n",
    "    \n",
    "      \n",
    "- Unnumbered 1\n",
    "- Unnumbered 2\n",
    "    - Unnumbered sublevel 1"
   ]
  },
  {
   "cell_type": "markdown",
   "metadata": {
    "deletable": false,
    "editable": false,
    "nbgrader": {
     "checksum": "5dfa16d57d526109fffe155cea5147bc",
     "grade": false,
     "grade_id": "cell-075bc22ce52a4ffe",
     "locked": true,
     "schema_version": 1,
     "solution": false
    }
   },
   "source": [
    "## Problems from Exercise set 3:\n",
    "\n",
    "> **Ex. 3.1.3:** Let `l1 = ['r ', 'Is', '>', ' < ', 'g ', '?']`. Create from `l1` the sentence `\"Is r > g?\"` using your knowledge about string formatting. Store this new string in a variable called `answer_31`. Make sure there is only one space in between worlds.\n",
    ">\n",
    ">> _Hint:_ You should be able to combine the above informations to solve this exercise."
   ]
  },
  {
   "cell_type": "code",
   "execution_count": 41,
   "metadata": {
    "deletable": false,
    "nbgrader": {
     "checksum": "54f945a62727e4c9616a38b1d1f6673d",
     "grade": false,
     "grade_id": "problem_31",
     "locked": false,
     "schema_version": 1,
     "solution": true
    }
   },
   "outputs": [
    {
     "name": "stdout",
     "output_type": "stream",
     "text": [
      "Is r > g?\n"
     ]
    }
   ],
   "source": [
    "# [Answer to Ex. 3.1.3 here]\n",
    "l1 = ['r ', 'Is', '>', ' < ', 'g ', '?']\n",
    "\n",
    "# answer_31 = \n",
    "\n",
    "answer_31 = l1[1] + \" \" + l1[0].strip() + \" \" + l1[2] + \" \" + l1[4].strip() + l1[-1]\n",
    "print(answer_31)"
   ]
  },
  {
   "cell_type": "code",
   "execution_count": 42,
   "metadata": {
    "deletable": false,
    "editable": false,
    "nbgrader": {
     "checksum": "99da4cf8dc98518963d95fb054131224",
     "grade": true,
     "grade_id": "problem_31_tests",
     "locked": true,
     "points": 1,
     "schema_version": 1,
     "solution": false
    }
   },
   "outputs": [],
   "source": [
    "assert answer_31 == \"Is r > g?\""
   ]
  },
  {
   "cell_type": "markdown",
   "metadata": {
    "deletable": false,
    "editable": false,
    "nbgrader": {
     "checksum": "dc2c4cc2a1cdba681ed1006bba8f4619",
     "grade": false,
     "grade_id": "cell-1d737e504b202c4a",
     "locked": true,
     "schema_version": 1,
     "solution": false
    }
   },
   "source": [
    "> **Ex. 3.1.4**: Create an empty dictionary `words` using the `dict()`function. Then add each of the words in `['animal', 'coffee', 'python', 'unit', 'knowledge', 'tread', 'arise']` as a key, with the value being a boolean indicator for whether the word begins with a vowel. The results should look like `{'bacon': False, 'asynchronous': True ...}`. Store the result in a new variable called `answer_32`.\n",
    ">\n",
    ">> _Hint:_ You might want co first construct a function that asseses whether a given word begins with a vowel or not."
   ]
  },
  {
   "cell_type": "code",
   "execution_count": 43,
   "metadata": {
    "deletable": false,
    "nbgrader": {
     "checksum": "77bbae13d6cb074fac5b05890acaf4e6",
     "grade": false,
     "grade_id": "problem_32",
     "locked": false,
     "schema_version": 1,
     "solution": true
    }
   },
   "outputs": [
    {
     "name": "stdout",
     "output_type": "stream",
     "text": [
      "{'animal': True, 'coffee': False, 'python': False, 'unit': True, 'knowledge': False, 'tread': False, 'arise': True}\n"
     ]
    }
   ],
   "source": [
    "# [Answer to Ex. 3.1.4 here]\n",
    "W = ['animal', 'coffee', 'python', 'unit', 'knowledge', 'tread', 'arise']\n",
    "\n",
    "# answer_32 = \n",
    "\n",
    "\n",
    "# YOUR CODE HERE\n",
    "words = dict()\n",
    "keys = ['animal', 'coffee', 'python', 'unit', 'knowledge', 'tread', 'arise']\n",
    "values = []\n",
    "\n",
    "for word in keys:\n",
    "    if word[0] in \"aeiouy\":\n",
    "        values.append(True)\n",
    "    else:\n",
    "        values.append(False)\n",
    "\n",
    "words = list(zip(keys, values))\n",
    "answer_32 = dict(words)\n",
    "print(answer_32)"
   ]
  },
  {
   "cell_type": "code",
   "execution_count": 44,
   "metadata": {
    "deletable": false,
    "editable": false,
    "nbgrader": {
     "checksum": "b9b444b7f9f76b5dc862d1aae155c794",
     "grade": true,
     "grade_id": "problem_32_tests",
     "locked": true,
     "points": 1,
     "schema_version": 1,
     "solution": false
    }
   },
   "outputs": [],
   "source": [
    "assert answer_32 == {i: i[0] in 'aeiou' for i in W}\n",
    "assert sorted(answer_32) == sorted(W)"
   ]
  },
  {
   "cell_type": "markdown",
   "metadata": {
    "deletable": false,
    "editable": false,
    "nbgrader": {
     "checksum": "29d96b09d12a59e80fc8cc796d836363",
     "grade": false,
     "grade_id": "cell-b4f75d07ccec62ef",
     "locked": true,
     "schema_version": 1,
     "solution": false
    }
   },
   "source": [
    "> **Ex. 3.3.2:** use the `requests` module (get it with `pip install requests`) and `construct_link()` which you defined in the previous question (ex 3.3.1) to request birth data from the \"FOD\" table. Get all available years (variable \"Tid\"), but only female births (BARNKON=P) . Unpack the json payload and store the result. Wrap the whole thing in a function which takes an url as input and returns the corresponding output.\n",
    ">\n",
    "> Store the birth data in a new variable called `answer_33`.\n",
    ">\n",
    ">> _Hint:_ The `requests.response` object has a `.json()` method. \n",
    ">\n",
    ">> _Note:_ you wrote `construct_link()` in 3.3.1, if you didn't heres the link you need to get: `https://api.statbank.dk/v1/data/FOLK1A/JSONSTAT?lang=en&Tid=*`"
   ]
  },
  {
   "cell_type": "code",
   "execution_count": 45,
   "metadata": {
    "deletable": false,
    "nbgrader": {
     "checksum": "68d07574aa272d282cfabe0adbd40035",
     "grade": false,
     "grade_id": "problem_33",
     "locked": false,
     "schema_version": 1,
     "solution": true
    }
   },
   "outputs": [],
   "source": [
    "'https://api.statbank.dk/v1/data/FOLK1A/JSONSTAT?lang=en&Tid=*'\n",
    "def construct_link(table_id, variables):\n",
    "    base = 'https://api.statbank.dk/v1/data/{id}/JSONSTAT?lang=en'.format(id = table_id)\n",
    "    \n",
    "    for var in variables:\n",
    "        base += '&{v}'.format(v = var)\n",
    "\n",
    "    return base \n",
    "\n",
    "construct_link('FOLK1A', ['Tid=*'])\n",
    "\n",
    "\n",
    "URL = construct_link('FOD',['Tid=*','BARNKON=P'])\n",
    "\n",
    "import requests \n",
    "import pprint\n",
    "import json\n",
    "\n",
    "def unpackjson(x , file_name):\n",
    "    response = requests.get(x) \n",
    "    response_json = response.json()\n",
    "    with open(file_name, 'w') as f:\n",
    "        response_json_str = json.dumps(response_json)\n",
    "        f.write(response_json_str)\n",
    "    return(response_json)\n",
    "    \n",
    "response_json = unpackjson(URL, 'my_filelec')\n",
    "\n",
    "answer_33 = response_json"
   ]
  },
  {
   "cell_type": "code",
   "execution_count": 46,
   "metadata": {
    "deletable": false,
    "editable": false,
    "nbgrader": {
     "checksum": "05a6f9bbf5fc1d972e3bdfb90bf7d8c0",
     "grade": true,
     "grade_id": "problem_33_tests",
     "locked": true,
     "points": 1,
     "schema_version": 1,
     "solution": false
    }
   },
   "outputs": [],
   "source": [
    "assert sorted(answer_33['dataset'].keys()) == ['dimension', 'label', 'source', 'updated', 'value']\n",
    "assert 'BARNKON' in answer_33['dataset']['dimension'].keys()"
   ]
  },
  {
   "cell_type": "markdown",
   "metadata": {
    "deletable": false,
    "editable": false,
    "nbgrader": {
     "checksum": "080f814e193a79742f10b565f49e667b",
     "grade": false,
     "grade_id": "cell-7738e4de11c9ba89",
     "locked": true,
     "schema_version": 1,
     "solution": false
    }
   },
   "source": [
    "## Problems from exercise set 4\n"
   ]
  },
  {
   "cell_type": "code",
   "execution_count": 47,
   "metadata": {
    "deletable": false,
    "editable": false,
    "nbgrader": {
     "checksum": "dc62d41fddcf5f9cc24531cbc8aeb995",
     "grade": false,
     "grade_id": "cell-6ce85387893ff77f",
     "locked": true,
     "schema_version": 1,
     "solution": false
    }
   },
   "outputs": [],
   "source": [
    "import numpy as np\n",
    "import pandas as pd"
   ]
  },
  {
   "cell_type": "markdown",
   "metadata": {
    "deletable": false,
    "editable": false,
    "nbgrader": {
     "checksum": "8f4eb9718da6000d04736de9af469001",
     "grade": false,
     "grade_id": "cell-0cf565ee06bf9606",
     "locked": true,
     "schema_version": 1,
     "solution": false
    }
   },
   "source": [
    "> **Ex. 4.1.1:** Use Pandas' CSV reader to fetch  daily data weather from 1864 for various stations - available [here](https://www1.ncdc.noaa.gov/pub/data/ghcn/daily/by_year/). Store the dataframe in a variable called `answer_41`.\n",
    ">\n",
    ">> *Hint 1*: for compressed files you may need to specify the keyword `compression`.\n",
    ">\n",
    ">> *Hint 2*: keyword `header` can be specified as the CSV has no column names.\n",
    ">\n",
    ">> *Hint 3*: Specify the path, as the URL linking directly to the 1864 file. "
   ]
  },
  {
   "cell_type": "code",
   "execution_count": 48,
   "metadata": {
    "deletable": false,
    "nbgrader": {
     "checksum": "c5b74ef23beb0bc773344af6e8e90809",
     "grade": false,
     "grade_id": "problem_41",
     "locked": false,
     "schema_version": 1,
     "solution": true
    }
   },
   "outputs": [],
   "source": [
    "# [Answer to Ex. 4.1.1 here]\n",
    "\n",
    "# answer_41 = \n",
    "\n",
    "url = 'https://www1.ncdc.noaa.gov/pub/data/ghcn/daily/by_year/1864.csv.gz'\n",
    "\n",
    "answer_41 = pd.read_csv(url,\n",
    "                         compression='gzip',\n",
    "                         header=None)#.iloc[:,:4] #for exercise we want all 8 columns.."
   ]
  },
  {
   "cell_type": "code",
   "execution_count": 49,
   "metadata": {
    "deletable": false,
    "editable": false,
    "nbgrader": {
     "checksum": "238d18588151c3bdb43bce91f5f5c908",
     "grade": true,
     "grade_id": "problem_41_tests",
     "locked": true,
     "points": 1,
     "schema_version": 1,
     "solution": false
    }
   },
   "outputs": [],
   "source": [
    "assert answer_41.shape == (27349, 8)\n",
    "assert list(answer_41.columns) == list(range(8))"
   ]
  },
  {
   "cell_type": "markdown",
   "metadata": {
    "deletable": false,
    "editable": false,
    "nbgrader": {
     "checksum": "2c9865188a9e267f6ae311090805d3c6",
     "grade": false,
     "grade_id": "cell-fef3fd772e3b2e19",
     "locked": true,
     "schema_version": 1,
     "solution": false
    }
   },
   "source": [
    "> **Ex. 4.1.2:** Structure your weather DataFrame by using only the relevant columns (station identifier, data, observation type, observation value), rename them. Make sure observations are correctly formated (how many decimals should we add? one?).\n",
    ">\n",
    "> Store the resulting dataframe in a new variable called `answer_42`.\n",
    ">\n",
    ">> *Hint:* rename can be done with `df.columns=COLS` where `COLS` is a list of column names."
   ]
  },
  {
   "cell_type": "code",
   "execution_count": 50,
   "metadata": {
    "deletable": false,
    "nbgrader": {
     "checksum": "f8b0be8cbe49efa6f85b2a318effdf31",
     "grade": false,
     "grade_id": "problem_42",
     "locked": false,
     "schema_version": 1,
     "solution": true
    }
   },
   "outputs": [],
   "source": [
    "# [Answer to Ex. 4.1.2 here]\n",
    "\n",
    "# answer_42 = \n",
    "\n",
    "# YOUR CODE HERE\n",
    "answer_42 = answer_41.iloc[:,:4]\n",
    "\n",
    "answer_42.columns = ['station', 'datetime', 'obs_type', 'obs_value']\n",
    "answer_42['obs_value'] = answer_42['obs_value'] / 10"
   ]
  },
  {
   "cell_type": "code",
   "execution_count": 51,
   "metadata": {
    "deletable": false,
    "editable": false,
    "nbgrader": {
     "checksum": "5559217edb771ff89b82031f801c8eee",
     "grade": true,
     "grade_id": "problem_42_tests",
     "locked": true,
     "points": 1,
     "schema_version": 1,
     "solution": false
    }
   },
   "outputs": [],
   "source": [
    "assert answer_42.shape == (27349, 4)\n",
    "assert 144.8 in [answer_42[i].max() for i in answer_42]\n",
    "assert -666.0 in [answer_42[i].min() for i in answer_42]\n",
    "assert 18640101 in [answer_42[i].min() for i in answer_42]"
   ]
  },
  {
   "cell_type": "markdown",
   "metadata": {
    "deletable": false,
    "editable": false,
    "nbgrader": {
     "checksum": "003c5b1c802d4d1556083d23611093ad",
     "grade": false,
     "grade_id": "cell-323f47f2db7307c1",
     "locked": true,
     "schema_version": 1,
     "solution": false
    }
   },
   "source": [
    "> **Ex. 4.1.3:**  Select data for the station `ITE00100550` and only observations for maximal temperature. Make a copy of the DataFrame. Explain in a one or two sentences how copying works.\n",
    ">\n",
    "> Store the subsetted dataframe in a new variable called `answer_43`.\n",
    ">\n",
    ">> *Hint 1*: the `&` operator works elementwise on boolean series (like `and` in core python).\n",
    ">\n",
    ">> *Hint 2*: copying of the dataframe is done with the `copy` method for DataFrames."
   ]
  },
  {
   "cell_type": "code",
   "execution_count": 52,
   "metadata": {
    "deletable": false,
    "nbgrader": {
     "checksum": "35bba693b17ba982b78783c2e510c1be",
     "grade": false,
     "grade_id": "problem_43",
     "locked": false,
     "schema_version": 1,
     "solution": true
    }
   },
   "outputs": [],
   "source": [
    "# [Answer to Ex. 4.1.3 here]\n",
    "\n",
    "# answer_43 = \n",
    "\n",
    "\n",
    "# YOUR CODE HERE\n",
    "answer_43 = answer_42[(answer_42.station == 'ITE00100550') & (answer_42.obs_type == 'TMAX')].copy()"
   ]
  },
  {
   "cell_type": "code",
   "execution_count": 53,
   "metadata": {
    "deletable": false,
    "editable": false,
    "nbgrader": {
     "checksum": "db7520577f35003b0ce18b42f0d6bd2e",
     "grade": true,
     "grade_id": "problem_43_tests",
     "locked": true,
     "points": 1,
     "schema_version": 1,
     "solution": false
    }
   },
   "outputs": [],
   "source": [
    "assert 'ITE00100550' in [answer_43[i].min() for i in answer_43]\n",
    "assert 'ITE00100550' in [answer_43[i].max() for i in answer_43]\n",
    "assert 'TMAX' in [answer_43[i].min() for i in answer_43]\n",
    "assert 'TMAX' in [answer_43[i].max() for i in answer_43]"
   ]
  },
  {
   "cell_type": "markdown",
   "metadata": {
    "deletable": false,
    "editable": false,
    "nbgrader": {
     "checksum": "40769f7d8f4a1b396187443bc14517d9",
     "grade": false,
     "grade_id": "cell-d6100b901a5d4ba8",
     "locked": true,
     "schema_version": 1,
     "solution": false
    }
   },
   "source": [
    "> **Ex. 4.1.4:** Make a new column in `answer_44` called `TMAX_F` where you have converted the temperature variables to Fahrenheit. Make sure not to overwrite `answer_43`.\n",
    ">\n",
    "> Store the resulting dataframe in a variable called `answer_44`.\n",
    ">\n",
    ">> *Hint*: Conversion is $F = 32 + 1.8*C$ where $F$ is Fahrenheit and $C$ is Celsius."
   ]
  },
  {
   "cell_type": "code",
   "execution_count": 54,
   "metadata": {
    "deletable": false,
    "nbgrader": {
     "checksum": "e88dde4ccdbddb981100b636b0d1d448",
     "grade": false,
     "grade_id": "problem_44",
     "locked": false,
     "schema_version": 1,
     "solution": true
    }
   },
   "outputs": [],
   "source": [
    "# [Answer to Ex. 4.1.4 here]\n",
    "answer_44 = answer_43.copy()\n",
    "# answer_44 = \n",
    "\n",
    "# YOUR CODE HERE\n",
    "answer_44['TMAX_F'] = 32 + 1.8 * answer_44['obs_value']"
   ]
  },
  {
   "cell_type": "code",
   "execution_count": 55,
   "metadata": {
    "deletable": false,
    "editable": false,
    "nbgrader": {
     "checksum": "cb8fb435c837f57fc91f5d55df8709c7",
     "grade": true,
     "grade_id": "problem_44_tests",
     "locked": true,
     "points": 1,
     "schema_version": 1,
     "solution": false
    }
   },
   "outputs": [],
   "source": [
    "assert set(answer_44.columns) -  set(answer_43.columns) == {'TMAX_F'}"
   ]
  },
  {
   "cell_type": "markdown",
   "metadata": {
    "deletable": false,
    "editable": false,
    "nbgrader": {
     "checksum": "7abe66bdec5e0922773485287403a31f",
     "grade": false,
     "grade_id": "cell-69a5ddb907fc34bc",
     "locked": true,
     "schema_version": 1,
     "solution": false
    }
   },
   "source": [
    "## Problems from exercise set 5"
   ]
  },
  {
   "cell_type": "code",
   "execution_count": 56,
   "metadata": {
    "deletable": false,
    "editable": false,
    "nbgrader": {
     "checksum": "3ec8e5eab14daeb68b706c206bce27a4",
     "grade": false,
     "grade_id": "cell-dc072f65e62126e4",
     "locked": true,
     "schema_version": 1,
     "solution": false
    }
   },
   "outputs": [],
   "source": [
    "import matplotlib.pyplot as plt\n",
    "import numpy as np \n",
    "import pandas as pd\n",
    "import seaborn as sns \n",
    "\n",
    "%matplotlib inline \n",
    "\n",
    "iris = sns.load_dataset('iris')\n",
    "titanic = sns.load_dataset('titanic')"
   ]
  },
  {
   "cell_type": "markdown",
   "metadata": {
    "deletable": false,
    "editable": false,
    "nbgrader": {
     "checksum": "44db0d95253cc709f8289a00c40bd014",
     "grade": false,
     "grade_id": "cell-ef0604c76e360580",
     "locked": true,
     "schema_version": 1,
     "solution": false
    }
   },
   "source": [
    "> **Ex. 5.1.1:**: Show the first five rows of the titanic dataset. What information is in the dataset? Use a barplot to show the probability of survival for men and women within each passenger class. Can you make a boxplot showing the same information (why/why not?). _Bonus:_ show a boxplot for the fare-prices within each passenger class. \n",
    ">\n",
    "> Spend five minutes discussing what you can learn about the survival-selection aboard titanic from the figure(s).\n",
    ">\n",
    "> > _Hint:_ https://seaborn.pydata.org/generated/seaborn.barplot.html, specifically the `hue` option.\n"
   ]
  },
  {
   "cell_type": "code",
   "execution_count": 57,
   "metadata": {
    "deletable": false,
    "nbgrader": {
     "checksum": "18ef2e9eff41ceb6b26fb588206b684f",
     "grade": true,
     "grade_id": "problem_51",
     "locked": false,
     "points": 1,
     "schema_version": 1,
     "solution": true
    }
   },
   "outputs": [
    {
     "name": "stdout",
     "output_type": "stream",
     "text": [
      "   survived  pclass     sex   age  sibsp  parch     fare embarked  class  \\\n",
      "0         0       3    male  22.0      1      0   7.2500        S  Third   \n",
      "1         1       1  female  38.0      1      0  71.2833        C  First   \n",
      "2         1       3  female  26.0      0      0   7.9250        S  Third   \n",
      "3         1       1  female  35.0      1      0  53.1000        S  First   \n",
      "4         0       3    male  35.0      0      0   8.0500        S  Third   \n",
      "\n",
      "     who  adult_male deck  embark_town alive  alone  \n",
      "0    man        True  NaN  Southampton    no  False  \n",
      "1  woman       False    C    Cherbourg   yes  False  \n",
      "2  woman       False  NaN  Southampton   yes   True  \n",
      "3  woman       False    C  Southampton   yes  False  \n",
      "4    man        True  NaN  Southampton    no   True  \n"
     ]
    },
    {
     "data": {
      "text/plain": [
       "<matplotlib.axes._subplots.AxesSubplot at 0x1a220c3208>"
      ]
     },
     "execution_count": 57,
     "metadata": {},
     "output_type": "execute_result"
    },
    {
     "data": {
      "image/png": "[encoded data removed]",
      "text/plain": [
       "<Figure size 432x288 with 1 Axes>"
      ]
     },
     "metadata": {
      "needs_background": "light"
     },
     "output_type": "display_data"
    }
   ],
   "source": [
    "# [Answer to Ex. 5.1.1 here]\n",
    "\n",
    "# YOUR CODE HERE\n",
    "print(titanic.head(5))\n",
    "\n",
    "fig1 = sns.barplot(x = 'sex', y = 'survived', hue = 'class', data = titanic)\n",
    "\n",
    "#boxplot for fare prices\n",
    "sns.boxplot(x='class', y='fare', data=titanic)"
   ]
  },
  {
   "cell_type": "markdown",
   "metadata": {
    "deletable": false,
    "editable": false,
    "nbgrader": {
     "checksum": "fc466900f77bd9400665fc24523ba7d7",
     "grade": false,
     "grade_id": "cell-8d78955bde3112ba",
     "locked": true,
     "schema_version": 1,
     "solution": false
    }
   },
   "source": [
    "> **Ex. 5.1.2:** Using the iris flower dataset, draw a scatterplot of sepal length and petal length. Include a second order polynomial fitted to the data. Add a title to the plot and rename the axis labels.\n",
    "> _Discuss:_ Is this a meaningful way to display the data? What could we do differently?\n",
    ">\n",
    "> For a better understanding of the dataset this image might be useful:\n",
    "> <img src=\"iris_pic.png\" alt=\"Drawing\" style=\"width: 200px;\"/>\n",
    ">\n",
    ">> _Hint:_ use the `.regplot` method from seaborn. "
   ]
  },
  {
   "cell_type": "code",
   "execution_count": 58,
   "metadata": {
    "deletable": false,
    "nbgrader": {
     "checksum": "cdb3b79fb6852431c37310696e841913",
     "grade": true,
     "grade_id": "cell-8631e73e3796008b",
     "locked": false,
     "points": 1,
     "schema_version": 1,
     "solution": true
    }
   },
   "outputs": [
    {
     "data": {
      "text/plain": [
       "Text(0.5, 0, 'asdasd')"
      ]
     },
     "execution_count": 58,
     "metadata": {},
     "output_type": "execute_result"
    },
    {
     "data": {
      "image/png": "[encoded data removed]",
      "text/plain": [
       "<Figure size 432x288 with 1 Axes>"
      ]
     },
     "metadata": {
      "needs_background": "light"
     },
     "output_type": "display_data"
    }
   ],
   "source": [
    "# [Answer to Ex. 5.1.2 here]\n",
    "\n",
    "# YOUR CODE HERE\n",
    "iris.head(5)\n",
    "\n",
    "plt.scatter(x=iris['sepal_length'], y=iris['petal_length'])\n",
    "\n",
    "\n",
    "flower = sns.regplot(x='sepal_length', y='petal_length', order = 2, data = iris)\n",
    "flower.set_title('Flowers')\n",
    "flower.set_ylabel('xss')\n",
    "flower.set_xlabel('asdasd')"
   ]
  },
  {
   "cell_type": "markdown",
   "metadata": {
    "deletable": false,
    "editable": false,
    "nbgrader": {
     "checksum": "f6955bf905fc3c63c64ac4420d11d1f6",
     "grade": false,
     "grade_id": "cell-95796f67165019ab",
     "locked": true,
     "schema_version": 1,
     "solution": false
    }
   },
   "source": [
    "> **Ex. 5.1.3:** Combine the two of the figures you created above into a two-panel figure similar to the one shown here:\n",
    "> <img src=\"Example.png\" alt=\"Drawing\" style=\"width: 600px;\"/>\n",
    ">\n",
    "> Save the figure as a png file on your computer. \n",
    ">> _Hint:_ See [this question](https://stackoverflow.com/questions/41384040/subplot-for-seaborn-boxplot) on stackoverflow for inspiration."
   ]
  },
  {
   "cell_type": "code",
   "execution_count": 59,
   "metadata": {
    "deletable": false,
    "nbgrader": {
     "checksum": "5552793303f021420e75daf3f7caa237",
     "grade": true,
     "grade_id": "cell-686e1fcbc475435a",
     "locked": false,
     "points": 1,
     "schema_version": 1,
     "solution": true
    }
   },
   "outputs": [
    {
     "data": {
      "image/png": "[encoded data removed]",
      "text/plain": [
       "<Figure size 432x288 with 2 Axes>"
      ]
     },
     "metadata": {
      "needs_background": "light"
     },
     "output_type": "display_data"
    }
   ],
   "source": [
    "# [Answer to Ex. 5.1.3 here]\n",
    "\n",
    "# YOUR CODE HERE\n",
    "f, axes = plt.subplots(1, 2)\n",
    "\n",
    "flower = sns.regplot(x='sepal_length', y='petal_length', order = 2, data = iris, ax=axes[0])\n",
    "flower.set_title('Flowers')\n",
    "flower.set_ylabel('xss')\n",
    "flower.set_xlabel('asdasd')\n",
    "\n",
    "fig1 = sns.barplot(x = 'sex', y = 'survived', hue = 'class', data = titanic, ax=axes[1])"
   ]
  },
  {
   "cell_type": "markdown",
   "metadata": {
    "deletable": false,
    "editable": false,
    "nbgrader": {
     "checksum": "d4010a7acb4875fd0440dbc6057bb84a",
     "grade": false,
     "grade_id": "cell-e280df998b60ae2f",
     "locked": true,
     "schema_version": 1,
     "solution": false
    }
   },
   "source": [
    "> **Ex. 5.1.4:** Use [pairplot with hue](https://seaborn.pydata.org/generated/seaborn.pairplot.html) to create a figure that clearly shows how the different species vary across measurements. Change the color palette and remove the shading from the density plots. _Bonus:_ Try to explain how the `diag_kws` argument works (_hint:_ [read here](https://stackoverflow.com/questions/1769403/understanding-kwargs-in-python))"
   ]
  },
  {
   "cell_type": "code",
   "execution_count": 60,
   "metadata": {
    "deletable": false,
    "nbgrader": {
     "checksum": "492a7bf33f9d310739162fae57556a1f",
     "grade": true,
     "grade_id": "cell-0f5793c056a02040",
     "locked": false,
     "points": 1,
     "schema_version": 1,
     "solution": true
    }
   },
   "outputs": [
    {
     "data": {
      "text/plain": [
       "<seaborn.axisgrid.PairGrid at 0x11e610a58>"
      ]
     },
     "execution_count": 60,
     "metadata": {},
     "output_type": "execute_result"
    },
    {
     "data": {
      "image/png": "[encoded data removed]",
      "text/plain": [
       "<Figure size 804.75x720 with 20 Axes>"
      ]
     },
     "metadata": {
      "needs_background": "light"
     },
     "output_type": "display_data"
    }
   ],
   "source": [
    "# [Answer to Ex. 5.1.4 here]\n",
    "\n",
    "# YOUR CODE HERE\n",
    "sns.pairplot(iris, hue = 'species', diag_kws=dict(shade=False), palette=\"dark\") #"
   ]
  },
  {
   "cell_type": "markdown",
   "metadata": {
    "deletable": false,
    "editable": false,
    "nbgrader": {
     "checksum": "50981ef2a4bf0b5c3c2c69baea6a7685",
     "grade": false,
     "grade_id": "cell-ee43396c59c5301f",
     "locked": true,
     "schema_version": 1,
     "solution": false
    }
   },
   "source": [
    "## Problems from exercise set 6\n",
    "\n",
    "> _Note:_ In the exercises we asked you to download weather data from the NOAA website. For this assignment the data are loaded in the following code cell into two pandas dataframes."
   ]
  },
  {
   "cell_type": "code",
   "execution_count": 61,
   "metadata": {
    "deletable": false,
    "editable": false,
    "nbgrader": {
     "checksum": "06644b5719b20405b4baee66e20fe061",
     "grade": false,
     "grade_id": "cell-834b03b8b15b0307",
     "locked": true,
     "schema_version": 1,
     "solution": false
    }
   },
   "outputs": [],
   "source": [
    "%matplotlib inline\n",
    "import pandas as pd\n",
    "import matplotlib.pyplot as plt\n",
    "\n",
    "weather_1864 = pd.read_csv('weather_data_1864.csv')"
   ]
  },
  {
   "cell_type": "markdown",
   "metadata": {
    "deletable": false,
    "editable": false,
    "nbgrader": {
     "checksum": "b31c95426614b2adb9069483b538734e",
     "grade": false,
     "grade_id": "cell-3b947e0bc3564fc0",
     "locked": true,
     "schema_version": 1,
     "solution": false
    }
   },
   "source": [
    "> **Ex. 6.1.4:** Extract the country code from the station name into a separate column.\n",
    ">\n",
    "> Create a new column in `weather_1864` called `answer_61` and store the country codes here.\n",
    ">\n",
    ">> _Hint:_ The station column contains a GHCND ID, given to each weather station by NOAA. The format of these ID's is a 2-3 letter country code, followed by a integer identifying the specific station. A simple approach is to assume a fixed length of the country ID. A more complex way would be to use the [`re`](https://docs.python.org/2/library/re.html) module."
   ]
  },
  {
   "cell_type": "code",
   "execution_count": 62,
   "metadata": {},
   "outputs": [
    {
     "data": {
      "text/html": [
       "<div>\n",
       "<style scoped>\n",
       "    .dataframe tbody tr th:only-of-type {\n",
       "        vertical-align: middle;\n",
       "    }\n",
       "\n",
       "    .dataframe tbody tr th {\n",
       "        vertical-align: top;\n",
       "    }\n",
       "\n",
       "    .dataframe thead th {\n",
       "        text-align: right;\n",
       "    }\n",
       "</style>\n",
       "<table border=\"1\" class=\"dataframe\">\n",
       "  <thead>\n",
       "    <tr style=\"text-align: right;\">\n",
       "      <th></th>\n",
       "      <th>station</th>\n",
       "      <th>datetime</th>\n",
       "      <th>obs_type</th>\n",
       "      <th>obs_value</th>\n",
       "      <th>TMAX_F</th>\n",
       "      <th>datetime_dt</th>\n",
       "    </tr>\n",
       "  </thead>\n",
       "  <tbody>\n",
       "    <tr>\n",
       "      <th>0</th>\n",
       "      <td>SZ000006717</td>\n",
       "      <td>18640226</td>\n",
       "      <td>TMAX</td>\n",
       "      <td>-34.0</td>\n",
       "      <td>-29.20</td>\n",
       "      <td>1864-02-26</td>\n",
       "    </tr>\n",
       "    <tr>\n",
       "      <th>1</th>\n",
       "      <td>SZ000006717</td>\n",
       "      <td>18640208</td>\n",
       "      <td>TMAX</td>\n",
       "      <td>-17.4</td>\n",
       "      <td>0.68</td>\n",
       "      <td>1864-02-08</td>\n",
       "    </tr>\n",
       "    <tr>\n",
       "      <th>2</th>\n",
       "      <td>CA006158350</td>\n",
       "      <td>18640217</td>\n",
       "      <td>TMAX</td>\n",
       "      <td>-16.7</td>\n",
       "      <td>1.94</td>\n",
       "      <td>1864-02-17</td>\n",
       "    </tr>\n",
       "    <tr>\n",
       "      <th>3</th>\n",
       "      <td>SZ000006717</td>\n",
       "      <td>18640103</td>\n",
       "      <td>TMAX</td>\n",
       "      <td>-16.5</td>\n",
       "      <td>2.30</td>\n",
       "      <td>1864-01-03</td>\n",
       "    </tr>\n",
       "    <tr>\n",
       "      <th>4</th>\n",
       "      <td>CA006158350</td>\n",
       "      <td>18640102</td>\n",
       "      <td>TMAX</td>\n",
       "      <td>-16.1</td>\n",
       "      <td>3.02</td>\n",
       "      <td>1864-01-02</td>\n",
       "    </tr>\n",
       "  </tbody>\n",
       "</table>\n",
       "</div>"
      ],
      "text/plain": [
       "       station  datetime obs_type  obs_value  TMAX_F datetime_dt\n",
       "0  SZ000006717  18640226     TMAX      -34.0  -29.20  1864-02-26\n",
       "1  SZ000006717  18640208     TMAX      -17.4    0.68  1864-02-08\n",
       "2  CA006158350  18640217     TMAX      -16.7    1.94  1864-02-17\n",
       "3  SZ000006717  18640103     TMAX      -16.5    2.30  1864-01-03\n",
       "4  CA006158350  18640102     TMAX      -16.1    3.02  1864-01-02"
      ]
     },
     "execution_count": 62,
     "metadata": {},
     "output_type": "execute_result"
    }
   ],
   "source": [
    "weather_1864.head()"
   ]
  },
  {
   "cell_type": "code",
   "execution_count": 63,
   "metadata": {
    "deletable": false,
    "nbgrader": {
     "checksum": "449adcf52422faf0dec2cd826ff87d2a",
     "grade": false,
     "grade_id": "problem_61",
     "locked": false,
     "schema_version": 1,
     "solution": true
    }
   },
   "outputs": [],
   "source": [
    "# [Answer to Ex. 6.1.4]\n",
    "# weather_1864['answer_61'] =\n",
    "\n",
    "# YOUR CODE HERE\n",
    "#answer_42['station'].unique() \n",
    "\n",
    "#weather_1864['answer_61']=answer_42['station'].str.replace('\\d','') \n",
    "\n",
    "weather_1864['answer_61'] = weather_1864['station'].str[:2]\n",
    "\n",
    "#wsorted(.unique())\n",
    "#sorted(['SZ', 'CA', 'EZ', 'GM', 'AU', 'IT', 'BE', 'UK', 'EI', 'AG', 'AS']) # der er for få lande???"
   ]
  },
  {
   "cell_type": "code",
   "execution_count": 64,
   "metadata": {
    "deletable": false,
    "editable": false,
    "nbgrader": {
     "checksum": "149a5ad93fbe65bcda27008f62ebc94a",
     "grade": true,
     "grade_id": "problem_61_tests",
     "locked": true,
     "points": 1,
     "schema_version": 1,
     "solution": false
    }
   },
   "outputs": [],
   "source": [
    "assert sorted(weather_1864['answer_61'].str[:2].unique()) == sorted(['SZ', 'CA', 'EZ', 'GM', 'AU', 'IT', 'BE', 'UK', 'EI', 'AG', 'AS'])"
   ]
  },
  {
   "cell_type": "markdown",
   "metadata": {
    "deletable": false,
    "editable": false,
    "nbgrader": {
     "checksum": "d720993d20e02b6684611da9488872ea",
     "grade": false,
     "grade_id": "cell-369017dafb1e6d7c",
     "locked": true,
     "schema_version": 1,
     "solution": false
    }
   },
   "source": [
    "> **Ex. 6.1.5:** Make a function that downloads and formats the weather data according to previous exercises in Exercise Section 4.1, 6.1. You should use data for ALL stations but still only select maximal temperature. _Bonus:_ To validate that your function works plot the temperature curve for each country in the same window. Use `plt.legend()` to add a legend. \n",
    ">\n",
    "> Name your function `prepareWeatherData`."
   ]
  },
  {
   "cell_type": "code",
   "execution_count": 65,
   "metadata": {
    "deletable": false,
    "nbgrader": {
     "checksum": "920bf57a90b7599b51659c580eb9d604",
     "grade": false,
     "grade_id": "problem_62",
     "locked": false,
     "schema_version": 1,
     "solution": true
    }
   },
   "outputs": [
    {
     "name": "stdout",
     "output_type": "stream",
     "text": [
      "(5686, 6)\n"
     ]
    },
    {
     "data": {
      "text/html": [
       "<div>\n",
       "<style scoped>\n",
       "    .dataframe tbody tr th:only-of-type {\n",
       "        vertical-align: middle;\n",
       "    }\n",
       "\n",
       "    .dataframe tbody tr th {\n",
       "        vertical-align: top;\n",
       "    }\n",
       "\n",
       "    .dataframe thead th {\n",
       "        text-align: right;\n",
       "    }\n",
       "</style>\n",
       "<table border=\"1\" class=\"dataframe\">\n",
       "  <thead>\n",
       "    <tr style=\"text-align: right;\">\n",
       "      <th></th>\n",
       "      <th>station</th>\n",
       "      <th>datetime</th>\n",
       "      <th>obs_type</th>\n",
       "      <th>obs_value</th>\n",
       "      <th>TMAX_F</th>\n",
       "      <th>month</th>\n",
       "    </tr>\n",
       "  </thead>\n",
       "  <tbody>\n",
       "    <tr>\n",
       "      <th>845</th>\n",
       "      <td>SZ000006717</td>\n",
       "      <td>1864-02-26</td>\n",
       "      <td>TMAX</td>\n",
       "      <td>-34.0</td>\n",
       "      <td>-29.20</td>\n",
       "      <td>2</td>\n",
       "    </tr>\n",
       "    <tr>\n",
       "      <th>577</th>\n",
       "      <td>SZ000006717</td>\n",
       "      <td>1864-02-08</td>\n",
       "      <td>TMAX</td>\n",
       "      <td>-17.4</td>\n",
       "      <td>0.68</td>\n",
       "      <td>2</td>\n",
       "    </tr>\n",
       "    <tr>\n",
       "      <th>699</th>\n",
       "      <td>CA006158350</td>\n",
       "      <td>1864-02-17</td>\n",
       "      <td>TMAX</td>\n",
       "      <td>-16.7</td>\n",
       "      <td>1.94</td>\n",
       "      <td>2</td>\n",
       "    </tr>\n",
       "    <tr>\n",
       "      <th>42</th>\n",
       "      <td>SZ000006717</td>\n",
       "      <td>1864-01-03</td>\n",
       "      <td>TMAX</td>\n",
       "      <td>-16.5</td>\n",
       "      <td>2.30</td>\n",
       "      <td>1</td>\n",
       "    </tr>\n",
       "    <tr>\n",
       "      <th>16</th>\n",
       "      <td>CA006158350</td>\n",
       "      <td>1864-01-02</td>\n",
       "      <td>TMAX</td>\n",
       "      <td>-16.1</td>\n",
       "      <td>3.02</td>\n",
       "      <td>1</td>\n",
       "    </tr>\n",
       "  </tbody>\n",
       "</table>\n",
       "</div>"
      ],
      "text/plain": [
       "         station   datetime obs_type  obs_value  TMAX_F  month\n",
       "845  SZ000006717 1864-02-26     TMAX      -34.0  -29.20      2\n",
       "577  SZ000006717 1864-02-08     TMAX      -17.4    0.68      2\n",
       "699  CA006158350 1864-02-17     TMAX      -16.7    1.94      2\n",
       "42   SZ000006717 1864-01-03     TMAX      -16.5    2.30      1\n",
       "16   CA006158350 1864-01-02     TMAX      -16.1    3.02      1"
      ]
     },
     "execution_count": 65,
     "metadata": {},
     "output_type": "execute_result"
    }
   ],
   "source": [
    "# [Answer to Ex. 6.1.5]\n",
    "\n",
    "def prepareWeatherData(year):\n",
    "    # Your code here\n",
    "    return \n",
    "\n",
    "# YOUR CODE HERE\n",
    "def prepareWeatherData(year):\n",
    "    start_url ='https://www1.ncdc.noaa.gov/pub/data/ghcn/daily/by_year/'\n",
    "    endpoint_url = year + '.csv.gz'\n",
    "    url = start_url + endpoint_url\n",
    "    \n",
    "    df_weather = pd.read_csv(url,\n",
    "                             compression='gzip',\n",
    "                             header=None).iloc[:,:4]\n",
    "\n",
    "    df_weather.columns = ['station', 'datetime', 'obs_type', 'obs_value']\n",
    "    df_weather['obs_value'] = df_weather['obs_value'] / 10\n",
    "    df_select = df_weather[(df_weather.obs_type == 'TMAX')].copy()\n",
    "    df_select['TMAX_F'] = 32 + 1.8 * df_select['obs_value']\n",
    "    df_sorted = df_select.reset_index(drop=True).sort_values(by=['obs_value'])\n",
    "    \n",
    "    #Converting strings to the correct datetime format.\n",
    "    df_sorted['datetime']=pd.to_datetime(df_sorted['datetime'].astype(str)) \n",
    "    #New column month.\n",
    "    month = df_sorted['datetime'].dt.month # taking month\n",
    "    df_sorted['month'] = month\n",
    "    \n",
    "    #Making date time as indexindex.\n",
    "    #df_sorted = df_sorted.set_index('datetime') TAGET UD FOR DENNE ASSIGNMENT\n",
    "    \n",
    "    return(df_sorted)\n",
    "\n",
    "data1 = prepareWeatherData('1864')\n",
    "print(data1.shape)\n",
    "data1.head()"
   ]
  },
  {
   "cell_type": "code",
   "execution_count": 66,
   "metadata": {
    "deletable": false,
    "editable": false,
    "nbgrader": {
     "checksum": "21b573bbe818e27e3cba31ba439f889d",
     "grade": true,
     "grade_id": "problem_62_tests",
     "locked": true,
     "points": 1,
     "schema_version": 1,
     "solution": false
    }
   },
   "outputs": [],
   "source": [
    "assert prepareWeatherData('1864').shape == (5686, 6)"
   ]
  },
  {
   "cell_type": "markdown",
   "metadata": {
    "deletable": false,
    "editable": false,
    "nbgrader": {
     "checksum": "d0a38a1a62cf78e9c6214e21ea8e6174",
     "grade": false,
     "grade_id": "cell-e206cc10e0354153",
     "locked": true,
     "schema_version": 1,
     "solution": false
    }
   },
   "source": [
    "## Problems from exercise set 7\n",
    "\n",
    "> _Note:_ Once again if you haven't managed to download the data from NOAA, you can refer to the github repo to get csv-files containing the required data."
   ]
  },
  {
   "cell_type": "code",
   "execution_count": 67,
   "metadata": {
    "deletable": false,
    "editable": false,
    "nbgrader": {
     "checksum": "aae2b85bce7a1f050aba06e5f14f07c8",
     "grade": false,
     "grade_id": "cell-15d553fb5be81d7a",
     "locked": true,
     "schema_version": 1,
     "solution": false
    }
   },
   "outputs": [],
   "source": [
    "%matplotlib inline \n",
    "\n",
    "import pandas as pd \n",
    "import matplotlib.pyplot as plt\n",
    "import matplotlib as mpl\n",
    "\n",
    "# Increases the plot size a little\n",
    "mpl.rcParams['figure.figsize'] = 11, 6"
   ]
  },
  {
   "cell_type": "markdown",
   "metadata": {
    "deletable": false,
    "editable": false,
    "nbgrader": {
     "checksum": "807c2181bc38762b44c6706d86291424",
     "grade": false,
     "grade_id": "cell-c48aef6db605ecd8",
     "locked": true,
     "schema_version": 1,
     "solution": false
    }
   },
   "source": [
    "> **Ex. 7.1.1:** Plot the monthly max,min, mean, first and third quartiles for maximum temperature for our station with the ID _'ITE00100550'_ in 1864. \n",
    "\n",
    "> *Hint*: the method `describe` computes all these measures."
   ]
  },
  {
   "cell_type": "code",
   "execution_count": 68,
   "metadata": {
    "deletable": false,
    "nbgrader": {
     "checksum": "ecfe6ce83747d19c96ac19778351daee",
     "grade": true,
     "grade_id": "problem_71",
     "locked": false,
     "points": 1,
     "schema_version": 1,
     "solution": true
    }
   },
   "outputs": [],
   "source": [
    "# [Answer to Ex. 7.1.1]\n",
    "\n",
    "# YOUR CODE HERE\n",
    "def dlweather(year):\n",
    "    start_url ='https://www1.ncdc.noaa.gov/pub/data/ghcn/daily/by_year/'\n",
    "    endpoint_url = year + '.csv.gz'\n",
    "    url = start_url + endpoint_url\n",
    "    \n",
    "    df_weather = pd.read_csv(url,\n",
    "                             compression='gzip',\n",
    "                             header=None).iloc[:,:5]\n",
    "\n",
    "    df_weather.columns = ['station', 'datetime', 'obs_type', 'obs_value','tst']\n",
    "    df_weather['obs_value'] = df_weather['obs_value'] / 10\n",
    "    df_select = df_weather[(df_weather.obs_type == 'TMAX')].copy()\n",
    "    df_select['TMAX_F'] = 32 + 1.8 * df_select['obs_value']\n",
    "    df_sorted = df_select.reset_index(drop=True).sort_values(by=['obs_value'])\n",
    "    \n",
    "    #Converting strings to the correct datetime format.\n",
    "    df_sorted['datetime']=pd.to_datetime(df_sorted['datetime'].astype(str)) \n",
    "    #New column month.\n",
    "    month = df_sorted['datetime'].dt.month # taking month\n",
    "    df_sorted['month'] = month\n",
    "    \n",
    "    #Making date time as indexindex.\n",
    "    #df_sorted = df_sorted.set_index('datetime') TAGET UD FOR DENNE ASSIGNMENT\n",
    "    \n",
    "    return(df_sorted)\n",
    "\n",
    "weathersp = dlweather('1864')"
   ]
  },
  {
   "cell_type": "code",
   "execution_count": 69,
   "metadata": {},
   "outputs": [
    {
     "data": {
      "text/html": [
       "<div>\n",
       "<style scoped>\n",
       "    .dataframe tbody tr th:only-of-type {\n",
       "        vertical-align: middle;\n",
       "    }\n",
       "\n",
       "    .dataframe tbody tr th {\n",
       "        vertical-align: top;\n",
       "    }\n",
       "\n",
       "    .dataframe thead th {\n",
       "        text-align: right;\n",
       "    }\n",
       "</style>\n",
       "<table border=\"1\" class=\"dataframe\">\n",
       "  <thead>\n",
       "    <tr style=\"text-align: right;\">\n",
       "      <th></th>\n",
       "      <th>station</th>\n",
       "      <th>datetime</th>\n",
       "      <th>obs_type</th>\n",
       "      <th>obs_value</th>\n",
       "      <th>tst</th>\n",
       "      <th>TMAX_F</th>\n",
       "      <th>month</th>\n",
       "    </tr>\n",
       "  </thead>\n",
       "  <tbody>\n",
       "    <tr>\n",
       "      <th>237</th>\n",
       "      <td>ITE00100550</td>\n",
       "      <td>1864-01-17</td>\n",
       "      <td>TMAX</td>\n",
       "      <td>-6.3</td>\n",
       "      <td>NaN</td>\n",
       "      <td>20.66</td>\n",
       "      <td>1</td>\n",
       "    </tr>\n",
       "    <tr>\n",
       "      <th>192</th>\n",
       "      <td>ITE00100550</td>\n",
       "      <td>1864-01-14</td>\n",
       "      <td>TMAX</td>\n",
       "      <td>-5.0</td>\n",
       "      <td>NaN</td>\n",
       "      <td>23.00</td>\n",
       "      <td>1</td>\n",
       "    </tr>\n",
       "    <tr>\n",
       "      <th>251</th>\n",
       "      <td>ITE00100550</td>\n",
       "      <td>1864-01-18</td>\n",
       "      <td>TMAX</td>\n",
       "      <td>-5.0</td>\n",
       "      <td>NaN</td>\n",
       "      <td>23.00</td>\n",
       "      <td>1</td>\n",
       "    </tr>\n",
       "    <tr>\n",
       "      <th>177</th>\n",
       "      <td>ITE00100550</td>\n",
       "      <td>1864-01-13</td>\n",
       "      <td>TMAX</td>\n",
       "      <td>-4.3</td>\n",
       "      <td>NaN</td>\n",
       "      <td>24.26</td>\n",
       "      <td>1</td>\n",
       "    </tr>\n",
       "    <tr>\n",
       "      <th>207</th>\n",
       "      <td>ITE00100550</td>\n",
       "      <td>1864-01-15</td>\n",
       "      <td>TMAX</td>\n",
       "      <td>-3.1</td>\n",
       "      <td>NaN</td>\n",
       "      <td>26.42</td>\n",
       "      <td>1</td>\n",
       "    </tr>\n",
       "  </tbody>\n",
       "</table>\n",
       "</div>"
      ],
      "text/plain": [
       "         station   datetime obs_type  obs_value  tst  TMAX_F  month\n",
       "237  ITE00100550 1864-01-17     TMAX       -6.3  NaN   20.66      1\n",
       "192  ITE00100550 1864-01-14     TMAX       -5.0  NaN   23.00      1\n",
       "251  ITE00100550 1864-01-18     TMAX       -5.0  NaN   23.00      1\n",
       "177  ITE00100550 1864-01-13     TMAX       -4.3  NaN   24.26      1\n",
       "207  ITE00100550 1864-01-15     TMAX       -3.1  NaN   26.42      1"
      ]
     },
     "execution_count": 69,
     "metadata": {},
     "output_type": "execute_result"
    }
   ],
   "source": [
    "weathersp = weathersp[(weathersp.station == 'ITE00100550')].copy()\n",
    "weathersp.head()"
   ]
  },
  {
   "cell_type": "code",
   "execution_count": 70,
   "metadata": {},
   "outputs": [
    {
     "name": "stdout",
     "output_type": "stream",
     "text": [
      "      TMAX_F                                                         \n",
      "       count       mean       std    min     25%    50%    75%    max\n",
      "month                                                                \n",
      "1       31.0  31.860645  5.516290  20.66  28.040  32.00  35.42  41.54\n",
      "2       29.0  39.442069  5.456973  28.76  34.700  39.92  44.24  47.12\n",
      "3       31.0  53.960000  5.004734  46.22  50.090  53.78  57.47  64.40\n",
      "4       30.0  61.238000  8.076958  43.34  57.965  61.25  65.12  77.18\n",
      "5       31.0  70.647742  5.962719  57.20  67.100  69.98  74.84  80.60\n"
     ]
    },
    {
     "data": {
      "text/plain": [
       "<matplotlib.axes._subplots.AxesSubplot at 0x11f3159e8>"
      ]
     },
     "execution_count": 70,
     "metadata": {},
     "output_type": "execute_result"
    },
    {
     "data": {
      "image/png": "[encoded data removed]",
      "text/plain": [
       "<Figure size 720x504 with 1 Axes>"
      ]
     },
     "metadata": {
      "needs_background": "light"
     },
     "output_type": "display_data"
    }
   ],
   "source": [
    "#grouping on month\n",
    "split_vars = ['month'] \n",
    "apply_vars = ['TMAX_F']\n",
    "#apply_fcts = ['max','min','mean','']\n",
    "\n",
    "weathersp_final = weathersp.groupby(split_vars)[apply_vars].describe()\n",
    "print(weathersp_final.head())\n",
    "\n",
    "#dropping count and std, husk at det er ligesom en ordbog. \n",
    "weathersp_final = weathersp_final['TMAX_F'][['mean','min','25%','50%','75%','max']]\n",
    "\n",
    "weathersp_final.plot(figsize=(10,7))"
   ]
  },
  {
   "cell_type": "markdown",
   "metadata": {
    "deletable": false,
    "editable": false,
    "nbgrader": {
     "checksum": "210cb4ca3448895862b65daa1a32b1f1",
     "grade": false,
     "grade_id": "cell-0e3079a5520618d4",
     "locked": true,
     "schema_version": 1,
     "solution": false
    }
   },
   "source": [
    "> **Ex. 7.1.2:** Get the processed data from years 1864-1867 as a list of DataFrames. Convert the list into a single DataFrame by concatenating vertically. \n",
    ">\n",
    "> Name the concatenated data `answer_72`"
   ]
  },
  {
   "cell_type": "code",
   "execution_count": 71,
   "metadata": {
    "deletable": false,
    "nbgrader": {
     "checksum": "b221fc2dbd44eb50ad781368243b9a9c",
     "grade": false,
     "grade_id": "problem_72",
     "locked": false,
     "schema_version": 1,
     "solution": true
    }
   },
   "outputs": [],
   "source": [
    "# [Answer to Ex. 7.1.2]\n",
    "\n",
    "# YOUR CODE HERE\n",
    "\n",
    "dc={}\n",
    "for year in ['1864','1865','1866','1867']:\n",
    "    dc[year] = dlweather(year)\n",
    "\n",
    "answer_72 = pd.concat([dc['1864'],dc['1865'],dc['1866'],dc['1867']], join ='outer',axis=0, sort=False)"
   ]
  },
  {
   "cell_type": "code",
   "execution_count": 72,
   "metadata": {
    "deletable": false,
    "editable": false,
    "nbgrader": {
     "checksum": "107cafe2715660c3c36cb1ffab1e7fd6",
     "grade": true,
     "grade_id": "problem_72_tests",
     "locked": true,
     "points": 1,
     "schema_version": 1,
     "solution": false
    }
   },
   "outputs": [],
   "source": [
    "assert answer_72.shape == (30003, 7)"
   ]
  },
  {
   "cell_type": "markdown",
   "metadata": {
    "deletable": false,
    "editable": false,
    "nbgrader": {
     "checksum": "1a8926f4bb982bcc276dc7e8b5f1c3e0",
     "grade": false,
     "grade_id": "cell-5b9d68d7b6583e3d",
     "locked": true,
     "schema_version": 1,
     "solution": false
    }
   },
   "source": [
    "> **Ex. 7.1.3:** Parse the station location data which you can find at https://www1.ncdc.noaa.gov/pub/data/ghcn/daily/ghcnd-stations.txt. Merge station locations onto the weather data spanning 1864-1867.  \n",
    ">\n",
    "> Store the merged data in a new variable called `answer_73`.\n",
    ">\n",
    "> _Hint:_ The location data have the folllowing format, \n",
    "\n",
    "```\n",
    "------------------------------\n",
    "Variable   Columns   Type\n",
    "------------------------------\n",
    "ID            1-11   Character\n",
    "LATITUDE     13-20   Real\n",
    "LONGITUDE    22-30   Real\n",
    "ELEVATION    32-37   Real\n",
    "STATE        39-40   Character\n",
    "NAME         42-71   Character\n",
    "GSN FLAG     73-75   Character\n",
    "HCN/CRN FLAG 77-79   Character\n",
    "WMO ID       81-85   Character\n",
    "------------------------------\n",
    "```\n",
    "\n",
    "> *Hint*: The station information has fixed width format - does there exist a pandas reader for that?"
   ]
  },
  {
   "cell_type": "code",
   "execution_count": 73,
   "metadata": {
    "deletable": false,
    "nbgrader": {
     "checksum": "167a6bcc96b0b283f04e3506dffefedb",
     "grade": false,
     "grade_id": "problem_73",
     "locked": false,
     "schema_version": 1,
     "solution": true
    }
   },
   "outputs": [],
   "source": [
    "# [Answer to Ex. 7.1.3]\n",
    "\n",
    "# YOUR CODE HERE\n",
    "df_country = pd.read_fwf('https://www1.ncdc.noaa.gov/pub/data/ghcn/daily/ghcnd-stations.txt') #fwf = fixed width format\n",
    "#print(df_country.head())"
   ]
  },
  {
   "cell_type": "code",
   "execution_count": 74,
   "metadata": {
    "deletable": false,
    "editable": false,
    "nbgrader": {
     "checksum": "47dd6b4fd0458276b20dd22afbf6e952",
     "grade": true,
     "grade_id": "problem_73_tests",
     "locked": true,
     "points": 1,
     "schema_version": 1,
     "solution": false
    }
   },
   "outputs": [
    {
     "ename": "NameError",
     "evalue": "name 'answer_73' is not defined",
     "output_type": "error",
     "traceback": [
      "\u001b[0;31m---------------------------------------------------------------------------\u001b[0m",
      "\u001b[0;31mNameError\u001b[0m                                 Traceback (most recent call last)",
      "\u001b[0;32m<ipython-input-74-f0cf6e9fe28a>\u001b[0m in \u001b[0;36m<module>\u001b[0;34m()\u001b[0m\n\u001b[0;32m----> 1\u001b[0;31m \u001b[0;32massert\u001b[0m \u001b[0manswer_73\u001b[0m\u001b[0;34m.\u001b[0m\u001b[0mshape\u001b[0m \u001b[0;34m==\u001b[0m \u001b[0;34m(\u001b[0m\u001b[0;36m5686\u001b[0m\u001b[0;34m,\u001b[0m \u001b[0;36m15\u001b[0m\u001b[0;34m)\u001b[0m \u001b[0;32mor\u001b[0m \u001b[0manswer_73\u001b[0m\u001b[0;34m.\u001b[0m\u001b[0mshape\u001b[0m \u001b[0;34m==\u001b[0m \u001b[0;34m(\u001b[0m\u001b[0;36m30003\u001b[0m\u001b[0;34m,\u001b[0m \u001b[0;36m15\u001b[0m\u001b[0;34m)\u001b[0m\u001b[0;34m\u001b[0m\u001b[0;34m\u001b[0m\u001b[0m\n\u001b[0m",
      "\u001b[0;31mNameError\u001b[0m: name 'answer_73' is not defined"
     ]
    }
   ],
   "source": [
    "assert answer_73.shape == (5686, 15) or answer_73.shape == (30003, 15)"
   ]
  },
  {
   "cell_type": "markdown",
   "metadata": {
    "deletable": false,
    "editable": false,
    "nbgrader": {
     "checksum": "71047da6e2e34b2c66bbddb6e2dba62a",
     "grade": false,
     "grade_id": "cell-01cb09ebc1fe07d8",
     "locked": true,
     "schema_version": 1,
     "solution": false
    }
   },
   "source": [
    "## Problems from exercise set 8\n",
    "\n",
    "> **Ex. 8.1.2.:** Use the `request` module to collect the first page of job postings.\n",
    ">\n",
    "> Store the response.json() object in a new variable called `answer_81`.\n",
    "> "
   ]
  },
  {
   "cell_type": "code",
   "execution_count": 75,
   "metadata": {
    "deletable": false,
    "nbgrader": {
     "checksum": "3675e9996445e60c9c55871bbf9656b5",
     "grade": false,
     "grade_id": "problem_81",
     "locked": false,
     "schema_version": 1,
     "solution": true
    }
   },
   "outputs": [
    {
     "data": {
      "text/plain": [
       "dict_keys(['Expression', 'Facets', 'JobPositionPostings', 'TotalResultCount'])"
      ]
     },
     "execution_count": 75,
     "metadata": {},
     "output_type": "execute_result"
    }
   ],
   "source": [
    "# [Answer to Ex. 8.1.2]\n",
    "\n",
    "# YOUR CODE HERE\n",
    "import pandas as pd\n",
    "import requests\n",
    "\n",
    "url ='https://job.jobnet.dk/CV/FindWork/Search?Offset=20' # tag /Search?Offset=20 af hvis du vil have ALLE jobs. \n",
    "r = requests.get(url)\n",
    "r.status_code\n",
    "answer_81=r.json()\n",
    "answer_81.keys()"
   ]
  },
  {
   "cell_type": "code",
   "execution_count": 76,
   "metadata": {
    "deletable": false,
    "editable": false,
    "nbgrader": {
     "checksum": "a870431a18f53296a6d3676efb0e5ffc",
     "grade": true,
     "grade_id": "problem_81_tests",
     "locked": true,
     "points": 1,
     "schema_version": 1,
     "solution": false
    }
   },
   "outputs": [],
   "source": [
    "assert sorted(answer_81.keys()) == sorted(['Expression', 'Facets', 'JobPositionPostings', 'TotalResultCount'])"
   ]
  },
  {
   "cell_type": "markdown",
   "metadata": {
    "deletable": false,
    "editable": false,
    "nbgrader": {
     "checksum": "fe4949db01017cc8618490263967fe1b",
     "grade": false,
     "grade_id": "cell-6f74cab704e1fb70",
     "locked": true,
     "schema_version": 1,
     "solution": false
    }
   },
   "source": [
    "> **Ex. 8.1.3.:** Store the 'TotalResultCount' value for later use. Also create a dataframe from the 'JobPositionPostings' field in the json. Name this dataframe `answer_82`."
   ]
  },
  {
   "cell_type": "code",
   "execution_count": 77,
   "metadata": {
    "deletable": false,
    "nbgrader": {
     "checksum": "b554f0f47fb8dacb41d1517d1afc42a3",
     "grade": false,
     "grade_id": "problem_82",
     "locked": false,
     "schema_version": 1,
     "solution": true
    }
   },
   "outputs": [
    {
     "data": {
      "text/plain": [
       "(20, 44)"
      ]
     },
     "execution_count": 77,
     "metadata": {},
     "output_type": "execute_result"
    }
   ],
   "source": [
    "# [Answer to Ex. 8.1.3]\n",
    "# answer_82 = \n",
    "\n",
    "# YOUR CODE HERE\n",
    "trCount= r.json()['TotalResultCount']\n",
    "\n",
    "answer_82=pd.DataFrame(r.json()['JobPositionPostings'])\n",
    "answer_82.shape"
   ]
  },
  {
   "cell_type": "code",
   "execution_count": 78,
   "metadata": {
    "deletable": false,
    "editable": false,
    "nbgrader": {
     "checksum": "a353e060971a565cb33498db98d2aaa5",
     "grade": true,
     "grade_id": "problem_82_tests",
     "locked": true,
     "points": 1,
     "schema_version": 1,
     "solution": false
    }
   },
   "outputs": [],
   "source": [
    "assert answer_82.shape == (20,44)"
   ]
  },
  {
   "cell_type": "code",
   "execution_count": null,
   "metadata": {},
   "outputs": [],
   "source": []
  },
  {
   "cell_type": "code",
   "execution_count": null,
   "metadata": {},
   "outputs": [],
   "source": []
  },
  {
   "cell_type": "code",
   "execution_count": null,
   "metadata": {},
   "outputs": [],
   "source": []
  },
  {
   "cell_type": "code",
   "execution_count": null,
   "metadata": {},
   "outputs": [],
   "source": []
  },
  {
   "cell_type": "code",
   "execution_count": null,
   "metadata": {},
   "outputs": [],
   "source": []
  },
  {
   "cell_type": "code",
   "execution_count": null,
   "metadata": {},
   "outputs": [],
   "source": []
  },
  {
   "cell_type": "code",
   "execution_count": null,
   "metadata": {},
   "outputs": [],
   "source": []
  },
  {
   "cell_type": "code",
   "execution_count": null,
   "metadata": {},
   "outputs": [],
   "source": []
  }
 ],
 "metadata": {
  "kernelspec": {
   "display_name": "Python 3",
   "language": "python",
   "name": "python3"
  },
  "language_info": {
   "codemirror_mode": {
    "name": "ipython",
    "version": 3
   },
   "file_extension": ".py",
   "mimetype": "text/x-python",
   "name": "python",
   "nbconvert_exporter": "python",
   "pygments_lexer": "ipython3",
   "version": "3.7.3"
  }
 },
 "nbformat": 4,
 "nbformat_minor": 2
}
