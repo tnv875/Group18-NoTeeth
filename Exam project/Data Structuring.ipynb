{
 "cells": [
  {
   "cell_type": "code",
   "execution_count": 10,
   "metadata": {},
   "outputs": [],
   "source": [
    "import scraping_class\n",
    "logfile = 'log.txt'## name your log file.\n",
    "connector = scraping_class.Connector(logfile)\n",
    "import requests\n",
    "from bs4 import BeautifulSoup\n",
    "from tqdm import tqdm_notebook"
   ]
  },
  {
   "cell_type": "code",
   "execution_count": 11,
   "metadata": {},
   "outputs": [],
   "source": [
    "import pandas as pd\n",
    "import numpy as np\n",
    "import html5lib\n",
    "import sys"
   ]
  },
  {
   "cell_type": "code",
   "execution_count": 12,
   "metadata": {},
   "outputs": [],
   "source": [
    "dict_load = np.load('kurser_scrabe_ALL.npy', allow_pickle=True).item()\n",
    "dict_load;"
   ]
  },
  {
   "cell_type": "code",
   "execution_count": 13,
   "metadata": {},
   "outputs": [],
   "source": [
    "df = pd.DataFrame.from_dict(dict_load, orient='index')"
   ]
  },
  {
   "cell_type": "markdown",
   "metadata": {},
   "source": [
    "## Aid"
   ]
  },
  {
   "cell_type": "code",
   "execution_count": 14,
   "metadata": {},
   "outputs": [],
   "source": [
    "df['Aid_edit'] = df['Aid']\n",
    "\n",
    "for i in range(len(df['Aid_edit'])):\n",
    "    \n",
    "    if str(df['Aid_edit'][i]) == 'nan':\n",
    "        df['Aid_edit'][i] = 'nan'\n",
    "    \n",
    "    elif df['Aid_edit'][i] == 'Alle hjælpemidler tilladt':\n",
    "        df['Aid_edit'][i] = 'All aids allowed'\n",
    "        \n",
    "    elif df['Aid_edit'][i] == 'Uden hjælpemidler':\n",
    "        df['Aid_edit'][i] = 'Without aids'\n",
    "        \n",
    "    elif df['Aid_edit'][i] == 'Skriftlige hjælpemidler tilladt':\n",
    "        df['Aid_edit'][i] = 'Written aids allowed'\n",
    "        \n",
    "    elif 'Kun visse hjælpemidler tilladt \\r' in df['Aid_edit'][i]:\n",
    "        df['Aid_edit'][i] = 'Only certain aids allowed'\n",
    "    \n",
    "    elif 'Only certain aids allowed \\r' in df['Aid_edit'][i]:\n",
    "        df['Aid_edit'][i] = 'Only certain aids allowed'\n",
    "        \n",
    "    elif  'Skriftlige hjælpemidler tilladt \\r' in df['Aid_edit'][i]:\n",
    "        df['Aid_edit'][i] = 'Written aids allowed'\n",
    "        \n",
    "    elif  'Written aids allowed \\r' in df['Aid_edit'][i]:\n",
    "        df['Aid_edit'][i] = 'Written aids allowed'\n",
    "        \n",
    "    elif  'Alle hjælpemidler tilladt \\r' in df['Aid_edit'][i]:\n",
    "        df['Aid_edit'][i] = 'All aids allowed'\n",
    "        \n",
    "    elif  'All aids allowed \\r' in df['Aid_edit'][i]:\n",
    "        df['Aid_edit'][i] = 'All aids allowed'   \n",
    "        \n",
    "    elif  'Without aids \\r' in df['Aid_edit'][i]:\n",
    "        df['Aid_edit'][i] = 'Without aids'\n",
    " \n",
    "    elif  'Uden hjælpemidler \\r' in df['Aid_edit'][i]:\n",
    "        df['Aid_edit'][i] = 'Without aids'\n",
    "        \n",
    "    elif  'No aids are allowed' in df['Aid_edit'][i]:\n",
    "        df['Aid_edit'][i] = 'Without aids'\n",
    "\n",
    "    elif  'Ingen hjælpemidler tilladt' in df['Aid_edit'][i]:\n",
    "        df['Aid_edit'][i] = 'Without aids'\n",
    "        \n",
    "    else:\n",
    "        df['Aid_edit'][i] = 'Only certain aids allowed'"
   ]
  },
  {
   "cell_type": "markdown",
   "metadata": {},
   "source": [
    "## Marking scale"
   ]
  },
  {
   "cell_type": "code",
   "execution_count": 15,
   "metadata": {},
   "outputs": [],
   "source": [
    "df['Marking scale_edit'] = df['Marking scale']\n",
    "\n",
    "for i in range(len(df['Marking scale_edit'])):\n",
    "    \n",
    "    if df['Marking scale_edit'][i] == '7-trins skala':\n",
    "        df['Marking scale_edit'][i] = '7-point grading scale'\n",
    "        \n",
    "    elif df['Marking scale_edit'][i] == 'bestået/ikke bestået':\n",
    "        df['Marking scale_edit'][i] = 'passed/not passed'\n",
    "        \n",
    "    elif df['Marking scale_edit'][i] == 'godkendt/ikke godkendt':\n",
    "        df['Marking scale_edit'][i] = 'completed/not completed'\n",
    "    \n",
    "    elif df['Marking scale_edit'][i] == 'Ingen bedømmelse':\n",
    "        df['Marking scale_edit'][i] = 'Without assessment'\n",
    "        \n",
    "    elif str(df['Marking scale_edit'][i]) == 'nan':\n",
    "        df['Marking scale_edit'][i] = 'nan'"
   ]
  },
  {
   "cell_type": "markdown",
   "metadata": {},
   "source": [
    "## Censorshp form"
   ]
  },
  {
   "cell_type": "code",
   "execution_count": 16,
   "metadata": {},
   "outputs": [],
   "source": [
    "df['Censorship form_edit'] = df['Censorship form']\n",
    "\n",
    "for i in range(len(df['Censorship form_edit'])):\n",
    "    \n",
    "    if str(df['Censorship form_edit'][i]) == 'nan':\n",
    "        df['Censorship form_edit'][i] = 'nan'\n",
    "    \n",
    "    elif df['Censorship form_edit'][i] == 'Ingen ekstern censur':\n",
    "        df['Censorship form_edit'][i] = 'No external censorship'\n",
    "        \n",
    "    elif df['Censorship form_edit'][i] == 'Ekstern censur':\n",
    "        df['Censorship form_edit'][i] = 'External censorship'\n",
    "        \n",
    "    elif df['Censorship form_edit'][i][0:14] == 'Ekstern censur':\n",
    "        df['Censorship form_edit'][i] = 'External censorship'\n",
    "        \n",
    "    elif df['Censorship form_edit'][i][0:20] == 'Ingen ekstern censur':\n",
    "        df['Censorship form_edit'][i] = 'No external censorship'\n",
    "        \n",
    "    elif df['Censorship form_edit'][i][0:22] == 'No external censorship':\n",
    "        df['Censorship form_edit'][i] = 'No external censorship'\n",
    "            \n",
    "    elif df['Censorship form_edit'][i][0:19] == 'External censorship':\n",
    "        df['Censorship form_edit'][i] = 'External censorship'\n",
    "    \n",
    "    elif df['Censorship form_edit'][i] == 'ingen censur':\n",
    "        df['Censorship form_edit'][i] = 'No censorship'\n",
    "        \n",
    "    else:\n",
    "        df['Censorship form_edit'][i] = 'Dependent on exam'"
   ]
  },
  {
   "cell_type": "markdown",
   "metadata": {},
   "source": [
    "## Level"
   ]
  },
  {
   "cell_type": "code",
   "execution_count": 17,
   "metadata": {},
   "outputs": [
    {
     "data": {
      "application/vnd.jupyter.widget-view+json": {
       "model_id": "f207d07d93da42be99304e8738704e60",
       "version_major": 2,
       "version_minor": 0
      },
      "text/plain": [
       "HBox(children=(IntProgress(value=0, max=19116), HTML(value='')))"
      ]
     },
     "metadata": {},
     "output_type": "display_data"
    },
    {
     "name": "stderr",
     "output_type": "stream",
     "text": [
      "C:\\Users\\sfv328\\AppData\\Local\\Continuum\\anaconda3\\lib\\site-packages\\ipykernel_launcher.py:37: SettingWithCopyWarning: \n",
      "A value is trying to be set on a copy of a slice from a DataFrame\n",
      "\n",
      "See the caveats in the documentation: http://pandas.pydata.org/pandas-docs/stable/indexing.html#indexing-view-versus-copy\n",
      "C:\\Users\\sfv328\\AppData\\Local\\Continuum\\anaconda3\\lib\\site-packages\\ipykernel_launcher.py:16: SettingWithCopyWarning: \n",
      "A value is trying to be set on a copy of a slice from a DataFrame\n",
      "\n",
      "See the caveats in the documentation: http://pandas.pydata.org/pandas-docs/stable/indexing.html#indexing-view-versus-copy\n",
      "  app.launch_new_instance()\n",
      "C:\\Users\\sfv328\\AppData\\Local\\Continuum\\anaconda3\\lib\\site-packages\\ipykernel_launcher.py:17: SettingWithCopyWarning: \n",
      "A value is trying to be set on a copy of a slice from a DataFrame\n",
      "\n",
      "See the caveats in the documentation: http://pandas.pydata.org/pandas-docs/stable/indexing.html#indexing-view-versus-copy\n",
      "C:\\Users\\sfv328\\AppData\\Local\\Continuum\\anaconda3\\lib\\site-packages\\ipykernel_launcher.py:35: SettingWithCopyWarning: \n",
      "A value is trying to be set on a copy of a slice from a DataFrame\n",
      "\n",
      "See the caveats in the documentation: http://pandas.pydata.org/pandas-docs/stable/indexing.html#indexing-view-versus-copy\n",
      "C:\\Users\\sfv328\\AppData\\Local\\Continuum\\anaconda3\\lib\\site-packages\\ipykernel_launcher.py:30: SettingWithCopyWarning: \n",
      "A value is trying to be set on a copy of a slice from a DataFrame\n",
      "\n",
      "See the caveats in the documentation: http://pandas.pydata.org/pandas-docs/stable/indexing.html#indexing-view-versus-copy\n",
      "C:\\Users\\sfv328\\AppData\\Local\\Continuum\\anaconda3\\lib\\site-packages\\ipykernel_launcher.py:31: SettingWithCopyWarning: \n",
      "A value is trying to be set on a copy of a slice from a DataFrame\n",
      "\n",
      "See the caveats in the documentation: http://pandas.pydata.org/pandas-docs/stable/indexing.html#indexing-view-versus-copy\n",
      "C:\\Users\\sfv328\\AppData\\Local\\Continuum\\anaconda3\\lib\\site-packages\\ipykernel_launcher.py:26: SettingWithCopyWarning: \n",
      "A value is trying to be set on a copy of a slice from a DataFrame\n",
      "\n",
      "See the caveats in the documentation: http://pandas.pydata.org/pandas-docs/stable/indexing.html#indexing-view-versus-copy\n",
      "C:\\Users\\sfv328\\AppData\\Local\\Continuum\\anaconda3\\lib\\site-packages\\ipykernel_launcher.py:47: SettingWithCopyWarning: \n",
      "A value is trying to be set on a copy of a slice from a DataFrame\n",
      "\n",
      "See the caveats in the documentation: http://pandas.pydata.org/pandas-docs/stable/indexing.html#indexing-view-versus-copy\n",
      "C:\\Users\\sfv328\\AppData\\Local\\Continuum\\anaconda3\\lib\\site-packages\\ipykernel_launcher.py:44: SettingWithCopyWarning: \n",
      "A value is trying to be set on a copy of a slice from a DataFrame\n",
      "\n",
      "See the caveats in the documentation: http://pandas.pydata.org/pandas-docs/stable/indexing.html#indexing-view-versus-copy\n",
      "C:\\Users\\sfv328\\AppData\\Local\\Continuum\\anaconda3\\lib\\site-packages\\ipykernel_launcher.py:40: SettingWithCopyWarning: \n",
      "A value is trying to be set on a copy of a slice from a DataFrame\n",
      "\n",
      "See the caveats in the documentation: http://pandas.pydata.org/pandas-docs/stable/indexing.html#indexing-view-versus-copy\n",
      "C:\\Users\\sfv328\\AppData\\Local\\Continuum\\anaconda3\\lib\\site-packages\\ipykernel_launcher.py:41: SettingWithCopyWarning: \n",
      "A value is trying to be set on a copy of a slice from a DataFrame\n",
      "\n",
      "See the caveats in the documentation: http://pandas.pydata.org/pandas-docs/stable/indexing.html#indexing-view-versus-copy\n",
      "C:\\Users\\sfv328\\AppData\\Local\\Continuum\\anaconda3\\lib\\site-packages\\ipykernel_launcher.py:54: SettingWithCopyWarning: \n",
      "A value is trying to be set on a copy of a slice from a DataFrame\n",
      "\n",
      "See the caveats in the documentation: http://pandas.pydata.org/pandas-docs/stable/indexing.html#indexing-view-versus-copy\n",
      "C:\\Users\\sfv328\\AppData\\Local\\Continuum\\anaconda3\\lib\\site-packages\\ipykernel_launcher.py:20: SettingWithCopyWarning: \n",
      "A value is trying to be set on a copy of a slice from a DataFrame\n",
      "\n",
      "See the caveats in the documentation: http://pandas.pydata.org/pandas-docs/stable/indexing.html#indexing-view-versus-copy\n",
      "C:\\Users\\sfv328\\AppData\\Local\\Continuum\\anaconda3\\lib\\site-packages\\ipykernel_launcher.py:23: SettingWithCopyWarning: \n",
      "A value is trying to be set on a copy of a slice from a DataFrame\n",
      "\n",
      "See the caveats in the documentation: http://pandas.pydata.org/pandas-docs/stable/indexing.html#indexing-view-versus-copy\n",
      "C:\\Users\\sfv328\\AppData\\Local\\Continuum\\anaconda3\\lib\\site-packages\\ipykernel_launcher.py:51: SettingWithCopyWarning: \n",
      "A value is trying to be set on a copy of a slice from a DataFrame\n",
      "\n",
      "See the caveats in the documentation: http://pandas.pydata.org/pandas-docs/stable/indexing.html#indexing-view-versus-copy\n",
      "C:\\Users\\sfv328\\AppData\\Local\\Continuum\\anaconda3\\lib\\site-packages\\ipykernel_launcher.py:57: SettingWithCopyWarning: \n",
      "A value is trying to be set on a copy of a slice from a DataFrame\n",
      "\n",
      "See the caveats in the documentation: http://pandas.pydata.org/pandas-docs/stable/indexing.html#indexing-view-versus-copy\n",
      "C:\\Users\\sfv328\\AppData\\Local\\Continuum\\anaconda3\\lib\\site-packages\\ipykernel_launcher.py:66: SettingWithCopyWarning: \n",
      "A value is trying to be set on a copy of a slice from a DataFrame\n",
      "\n",
      "See the caveats in the documentation: http://pandas.pydata.org/pandas-docs/stable/indexing.html#indexing-view-versus-copy\n",
      "C:\\Users\\sfv328\\AppData\\Local\\Continuum\\anaconda3\\lib\\site-packages\\ipykernel_launcher.py:60: SettingWithCopyWarning: \n",
      "A value is trying to be set on a copy of a slice from a DataFrame\n",
      "\n",
      "See the caveats in the documentation: http://pandas.pydata.org/pandas-docs/stable/indexing.html#indexing-view-versus-copy\n",
      "C:\\Users\\sfv328\\AppData\\Local\\Continuum\\anaconda3\\lib\\site-packages\\ipykernel_launcher.py:63: SettingWithCopyWarning: \n",
      "A value is trying to be set on a copy of a slice from a DataFrame\n",
      "\n",
      "See the caveats in the documentation: http://pandas.pydata.org/pandas-docs/stable/indexing.html#indexing-view-versus-copy\n",
      "C:\\Users\\sfv328\\AppData\\Local\\Continuum\\anaconda3\\lib\\site-packages\\ipykernel_launcher.py:33: SettingWithCopyWarning: \n",
      "A value is trying to be set on a copy of a slice from a DataFrame\n",
      "\n",
      "See the caveats in the documentation: http://pandas.pydata.org/pandas-docs/stable/indexing.html#indexing-view-versus-copy\n"
     ]
    }
   ],
   "source": [
    "\n",
    "\n",
    "df['Bachelor'] = 0\n",
    "df['Bachelor choice'] = 0\n",
    "df['Full Degree Master choice'] = 0\n",
    "df['Full Degree Master'] = 0\n",
    "df['Propaedeutics'] = 0\n",
    "df['Part Time Master'] = 0 \n",
    "df['Ph.D.'] = 0\n",
    "df['Professionsbachelor'] = 0\n",
    "df['Master'] = 0\n",
    "\n",
    "\n",
    "\n",
    "for i in tqdm_notebook(range(0,len(df['Level']))):\n",
    "\n",
    "    if df['Level'][i].count('Bachelor') == 2:\n",
    "        df['Bachelor choice'][i] = 1\n",
    "        df['Bachelor'][i] = 1\n",
    "        \n",
    "    elif 'Bachelor tilvalg' in df['Level'][i]:\n",
    "        df['Bachelor choice'][i] = 1\n",
    "    \n",
    "    elif 'Bachelor choice' in  df['Level'][i]:\n",
    "        df['Bachelor choice'][i] = 1\n",
    "    \n",
    "    elif 'Bachelor' in df['Level'][i]:\n",
    "        df['Bachelor'][i] = 1\n",
    "            \n",
    "            \n",
    "    if df['Level'][i].count('Full Degree Master') == 2:\n",
    "        df['Full Degree Master choice'][i] = 1\n",
    "        df['Full Degree Master'][i] = 1    \n",
    "    elif 'Full Degree Master choice' in  df['Level'][i]:\n",
    "        df['Full Degree Master choice'][i] = 1        \n",
    "    elif 'Full Degree Master' in  df['Level'][i]:\n",
    "        df['Full Degree Master'][i] = 1   \n",
    "    elif 'Master' in df['Level'][i] and 'Part Time Master' not in df['Level'][i]:\n",
    "        df['Master'][i] = 1\n",
    "        \n",
    "    if df['Level'][i].count('Kandidat') == 2:\n",
    "        df['Full Degree Master choice'][i] = 1\n",
    "        df['Full Degree Master'][i] = 1\n",
    "        \n",
    "    elif 'Kandidat tilvalg' in  df['Level'][i]:\n",
    "        df['Full Degree Master choice'][i] = 1\n",
    "        \n",
    "    elif 'Kandidat' in  df['Level'][i]:\n",
    "        df['Full Degree Master'][i] = 1\n",
    "        \n",
    "        \n",
    "    if 'Propaedeutics' in  df['Level'][i]:\n",
    "        df['Propaedeutics'][i] = 1 \n",
    "        \n",
    "    elif 'Propædeutik' in  df['Level'][i]:\n",
    "        df['Propaedeutics'][i] = 1      \n",
    "    \n",
    "    if 'Part Time Master' in df['Level'][i]:\n",
    "        df['Part Time Master'][i] = 1\n",
    "        \n",
    "    if 'Ph.D.' in df['Level'][i]:\n",
    "        df['Ph.D.'][i] = 1\n",
    "        \n",
    "    if  'Ph.d.' in df['Level'][i]:\n",
    "        df['Ph.D.'][i] = 1\n",
    "        \n",
    "    if 'Professionsbachelor' in df['Level'][i]:\n",
    "        df['Professionsbachelor'][i] = 1"
   ]
  },
  {
   "cell_type": "markdown",
   "metadata": {},
   "source": [
    "## Duration"
   ]
  },
  {
   "cell_type": "code",
   "execution_count": 18,
   "metadata": {},
   "outputs": [
    {
     "name": "stderr",
     "output_type": "stream",
     "text": [
      "C:\\Users\\sfv328\\AppData\\Local\\Continuum\\anaconda3\\lib\\site-packages\\ipykernel_launcher.py:11: SettingWithCopyWarning: \n",
      "A value is trying to be set on a copy of a slice from a DataFrame\n",
      "\n",
      "See the caveats in the documentation: http://pandas.pydata.org/pandas-docs/stable/indexing.html#indexing-view-versus-copy\n",
      "  # This is added back by InteractiveShellApp.init_path()\n",
      "C:\\Users\\sfv328\\AppData\\Local\\Continuum\\anaconda3\\lib\\site-packages\\ipykernel_launcher.py:25: SettingWithCopyWarning: \n",
      "A value is trying to be set on a copy of a slice from a DataFrame\n",
      "\n",
      "See the caveats in the documentation: http://pandas.pydata.org/pandas-docs/stable/indexing.html#indexing-view-versus-copy\n",
      "C:\\Users\\sfv328\\AppData\\Local\\Continuum\\anaconda3\\lib\\site-packages\\ipykernel_launcher.py:8: SettingWithCopyWarning: \n",
      "A value is trying to be set on a copy of a slice from a DataFrame\n",
      "\n",
      "See the caveats in the documentation: http://pandas.pydata.org/pandas-docs/stable/indexing.html#indexing-view-versus-copy\n",
      "  \n",
      "C:\\Users\\sfv328\\AppData\\Local\\Continuum\\anaconda3\\lib\\site-packages\\ipykernel_launcher.py:20: SettingWithCopyWarning: \n",
      "A value is trying to be set on a copy of a slice from a DataFrame\n",
      "\n",
      "See the caveats in the documentation: http://pandas.pydata.org/pandas-docs/stable/indexing.html#indexing-view-versus-copy\n",
      "C:\\Users\\sfv328\\AppData\\Local\\Continuum\\anaconda3\\lib\\site-packages\\ipykernel_launcher.py:5: SettingWithCopyWarning: \n",
      "A value is trying to be set on a copy of a slice from a DataFrame\n",
      "\n",
      "See the caveats in the documentation: http://pandas.pydata.org/pandas-docs/stable/indexing.html#indexing-view-versus-copy\n",
      "  \"\"\"\n",
      "C:\\Users\\sfv328\\AppData\\Local\\Continuum\\anaconda3\\lib\\site-packages\\ipykernel_launcher.py:14: SettingWithCopyWarning: \n",
      "A value is trying to be set on a copy of a slice from a DataFrame\n",
      "\n",
      "See the caveats in the documentation: http://pandas.pydata.org/pandas-docs/stable/indexing.html#indexing-view-versus-copy\n",
      "  \n",
      "C:\\Users\\sfv328\\AppData\\Local\\Continuum\\anaconda3\\lib\\site-packages\\ipykernel_launcher.py:17: SettingWithCopyWarning: \n",
      "A value is trying to be set on a copy of a slice from a DataFrame\n",
      "\n",
      "See the caveats in the documentation: http://pandas.pydata.org/pandas-docs/stable/indexing.html#indexing-view-versus-copy\n"
     ]
    }
   ],
   "source": [
    "df['Duration_edit'] = df['Duration']\n",
    "\n",
    "for i in range(len(df['Duration_edit'])):\n",
    "    if str(df['Duration_edit'][i]) == 'nan':\n",
    "        df['Duration_edit'][i] = 'nan'\n",
    "    \n",
    "    elif df['Duration_edit'][i] == '1 blok':\n",
    "        df['Duration_edit'][i] = '1 block'\n",
    "        \n",
    "    elif df['Duration_edit'][i][0:10] == '1 semester':\n",
    "        df['Duration_edit'][i] = '1 semester'\n",
    "        \n",
    "    elif df['Duration_edit'][i] == '2 blokke':\n",
    "        df['Duration_edit'][i] = '2 blocks'\n",
    "        \n",
    "    elif df['Duration_edit'][i][0:len('1 blok')] == '1 blok':\n",
    "        df['Duration_edit'][i] = '1 block'\n",
    "        \n",
    "    elif df['Duration_edit'][i][0:len('1 block')] == '1 block':\n",
    "        df['Duration_edit'][i] = '1 block'\n",
    "    \n",
    "    if df['Duration_edit'][i] != '1 semester':\n",
    "        if df['Duration_edit'][i] != '1 block': \n",
    "            if df['Duration_edit'][i] != '2 blocks':\n",
    "                df['Duration_edit'][i] = 'Other/Not specified'"
   ]
  },
  {
   "cell_type": "markdown",
   "metadata": {},
   "source": [
    "### Editing Credit"
   ]
  },
  {
   "cell_type": "code",
   "execution_count": 19,
   "metadata": {},
   "outputs": [
    {
     "name": "stderr",
     "output_type": "stream",
     "text": [
      "C:\\Users\\sfv328\\AppData\\Local\\Continuum\\anaconda3\\lib\\site-packages\\ipykernel_launcher.py:6: SettingWithCopyWarning: \n",
      "A value is trying to be set on a copy of a slice from a DataFrame\n",
      "\n",
      "See the caveats in the documentation: http://pandas.pydata.org/pandas-docs/stable/indexing.html#indexing-view-versus-copy\n",
      "  \n"
     ]
    }
   ],
   "source": [
    "df['Credit_edit'] = df['Credit'].copy()\n",
    "\n",
    "for i in range(0,len(df['Credit'])):\n",
    "    \n",
    "    # Removing ECTS from the credit column and changing , to . \n",
    "    df['Credit_edit'][i] = df['Credit'][i][:-5].replace(',','.')\n",
    "    \n",
    "# Converting to numeric\n",
    "df['Credit_edit'] = pd.to_numeric(df['Credit_edit'])"
   ]
  },
  {
   "cell_type": "markdown",
   "metadata": {},
   "source": [
    "### Editing Workload"
   ]
  },
  {
   "cell_type": "code",
   "execution_count": 20,
   "metadata": {},
   "outputs": [
    {
     "data": {
      "application/vnd.jupyter.widget-view+json": {
       "model_id": "d2a510879d7a48a88f8367c50f7eeaf8",
       "version_major": 2,
       "version_minor": 0
      },
      "text/plain": [
       "HBox(children=(IntProgress(value=0, max=19116), HTML(value='')))"
      ]
     },
     "metadata": {},
     "output_type": "display_data"
    },
    {
     "name": "stderr",
     "output_type": "stream",
     "text": [
      "C:\\Users\\sfv328\\AppData\\Local\\Continuum\\anaconda3\\lib\\site-packages\\ipykernel_launcher.py:16: SettingWithCopyWarning: \n",
      "A value is trying to be set on a copy of a slice from a DataFrame\n",
      "\n",
      "See the caveats in the documentation: http://pandas.pydata.org/pandas-docs/stable/indexing.html#indexing-view-versus-copy\n",
      "  app.launch_new_instance()\n"
     ]
    },
    {
     "ename": "KeyboardInterrupt",
     "evalue": "",
     "output_type": "error",
     "traceback": [
      "\u001b[1;31m---------------------------------------------------------------------------\u001b[0m",
      "\u001b[1;31mKeyboardInterrupt\u001b[0m                         Traceback (most recent call last)",
      "\u001b[1;32m<ipython-input-20-938b1f274970>\u001b[0m in \u001b[0;36m<module>\u001b[1;34m\u001b[0m\n\u001b[0;32m     14\u001b[0m     \u001b[1;32mfor\u001b[0m \u001b[0mk\u001b[0m \u001b[1;32min\u001b[0m \u001b[0mliste\u001b[0m\u001b[1;33m:\u001b[0m\u001b[1;33m\u001b[0m\u001b[1;33m\u001b[0m\u001b[0m\n\u001b[0;32m     15\u001b[0m         \u001b[0medit_titel\u001b[0m \u001b[1;33m=\u001b[0m \u001b[0mk\u001b[0m \u001b[1;33m+\u001b[0m \u001b[1;34m'_edit'\u001b[0m\u001b[1;33m\u001b[0m\u001b[1;33m\u001b[0m\u001b[0m\n\u001b[1;32m---> 16\u001b[1;33m         \u001b[0mdf\u001b[0m\u001b[1;33m[\u001b[0m\u001b[0medit_titel\u001b[0m\u001b[1;33m]\u001b[0m\u001b[1;33m[\u001b[0m\u001b[0mi\u001b[0m\u001b[1;33m]\u001b[0m \u001b[1;33m=\u001b[0m \u001b[0mdf\u001b[0m\u001b[1;33m[\u001b[0m\u001b[0mk\u001b[0m\u001b[1;33m]\u001b[0m\u001b[1;33m[\u001b[0m\u001b[0mi\u001b[0m\u001b[1;33m]\u001b[0m\u001b[1;33m.\u001b[0m\u001b[0mreplace\u001b[0m\u001b[1;33m(\u001b[0m\u001b[1;34m','\u001b[0m\u001b[1;33m,\u001b[0m\u001b[1;34m'.'\u001b[0m\u001b[1;33m)\u001b[0m\u001b[1;33m\u001b[0m\u001b[1;33m\u001b[0m\u001b[0m\n\u001b[0m\u001b[0;32m     17\u001b[0m \u001b[1;33m\u001b[0m\u001b[0m\n\u001b[0;32m     18\u001b[0m \u001b[1;32mfor\u001b[0m \u001b[0mk\u001b[0m \u001b[1;32min\u001b[0m \u001b[0mliste\u001b[0m\u001b[1;33m:\u001b[0m\u001b[1;33m\u001b[0m\u001b[1;33m\u001b[0m\u001b[0m\n",
      "\u001b[1;32m~\\AppData\\Local\\Continuum\\anaconda3\\lib\\site-packages\\pandas\\core\\series.py\u001b[0m in \u001b[0;36m__setitem__\u001b[1;34m(self, key, value)\u001b[0m\n\u001b[0;32m   1036\u001b[0m \u001b[1;33m\u001b[0m\u001b[0m\n\u001b[0;32m   1037\u001b[0m         \u001b[1;31m# do the setitem\u001b[0m\u001b[1;33m\u001b[0m\u001b[1;33m\u001b[0m\u001b[1;33m\u001b[0m\u001b[0m\n\u001b[1;32m-> 1038\u001b[1;33m         \u001b[0mcacher_needs_updating\u001b[0m \u001b[1;33m=\u001b[0m \u001b[0mself\u001b[0m\u001b[1;33m.\u001b[0m\u001b[0m_check_is_chained_assignment_possible\u001b[0m\u001b[1;33m(\u001b[0m\u001b[1;33m)\u001b[0m\u001b[1;33m\u001b[0m\u001b[1;33m\u001b[0m\u001b[0m\n\u001b[0m\u001b[0;32m   1039\u001b[0m         \u001b[0msetitem\u001b[0m\u001b[1;33m(\u001b[0m\u001b[0mkey\u001b[0m\u001b[1;33m,\u001b[0m \u001b[0mvalue\u001b[0m\u001b[1;33m)\u001b[0m\u001b[1;33m\u001b[0m\u001b[1;33m\u001b[0m\u001b[0m\n\u001b[0;32m   1040\u001b[0m         \u001b[1;32mif\u001b[0m \u001b[0mcacher_needs_updating\u001b[0m\u001b[1;33m:\u001b[0m\u001b[1;33m\u001b[0m\u001b[1;33m\u001b[0m\u001b[0m\n",
      "\u001b[1;32m~\\AppData\\Local\\Continuum\\anaconda3\\lib\\site-packages\\pandas\\core\\generic.py\u001b[0m in \u001b[0;36m_check_is_chained_assignment_possible\u001b[1;34m(self)\u001b[0m\n\u001b[0;32m   3197\u001b[0m             \u001b[1;32mif\u001b[0m \u001b[0mref\u001b[0m \u001b[1;32mis\u001b[0m \u001b[1;32mnot\u001b[0m \u001b[1;32mNone\u001b[0m \u001b[1;32mand\u001b[0m \u001b[0mref\u001b[0m\u001b[1;33m.\u001b[0m\u001b[0m_is_mixed_type\u001b[0m\u001b[1;33m:\u001b[0m\u001b[1;33m\u001b[0m\u001b[1;33m\u001b[0m\u001b[0m\n\u001b[0;32m   3198\u001b[0m                 self._check_setitem_copy(stacklevel=4, t='referant',\n\u001b[1;32m-> 3199\u001b[1;33m                                          force=True)\n\u001b[0m\u001b[0;32m   3200\u001b[0m             \u001b[1;32mreturn\u001b[0m \u001b[1;32mTrue\u001b[0m\u001b[1;33m\u001b[0m\u001b[1;33m\u001b[0m\u001b[0m\n\u001b[0;32m   3201\u001b[0m         \u001b[1;32melif\u001b[0m \u001b[0mself\u001b[0m\u001b[1;33m.\u001b[0m\u001b[0m_is_copy\u001b[0m\u001b[1;33m:\u001b[0m\u001b[1;33m\u001b[0m\u001b[1;33m\u001b[0m\u001b[0m\n",
      "\u001b[1;32m~\\AppData\\Local\\Continuum\\anaconda3\\lib\\site-packages\\pandas\\core\\generic.py\u001b[0m in \u001b[0;36m_check_setitem_copy\u001b[1;34m(self, stacklevel, t, force)\u001b[0m\n\u001b[0;32m   3244\u001b[0m             \u001b[1;32mtry\u001b[0m\u001b[1;33m:\u001b[0m\u001b[1;33m\u001b[0m\u001b[1;33m\u001b[0m\u001b[0m\n\u001b[0;32m   3245\u001b[0m                 \u001b[0mgc\u001b[0m\u001b[1;33m.\u001b[0m\u001b[0mcollect\u001b[0m\u001b[1;33m(\u001b[0m\u001b[1;36m2\u001b[0m\u001b[1;33m)\u001b[0m\u001b[1;33m\u001b[0m\u001b[1;33m\u001b[0m\u001b[0m\n\u001b[1;32m-> 3246\u001b[1;33m                 \u001b[1;32mif\u001b[0m \u001b[1;32mnot\u001b[0m \u001b[0mgc\u001b[0m\u001b[1;33m.\u001b[0m\u001b[0mget_referents\u001b[0m\u001b[1;33m(\u001b[0m\u001b[0mself\u001b[0m\u001b[1;33m.\u001b[0m\u001b[0m_is_copy\u001b[0m\u001b[1;33m(\u001b[0m\u001b[1;33m)\u001b[0m\u001b[1;33m)\u001b[0m\u001b[1;33m:\u001b[0m\u001b[1;33m\u001b[0m\u001b[1;33m\u001b[0m\u001b[0m\n\u001b[0m\u001b[0;32m   3247\u001b[0m                     \u001b[0mself\u001b[0m\u001b[1;33m.\u001b[0m\u001b[0m_is_copy\u001b[0m \u001b[1;33m=\u001b[0m \u001b[1;32mNone\u001b[0m\u001b[1;33m\u001b[0m\u001b[1;33m\u001b[0m\u001b[0m\n\u001b[0;32m   3248\u001b[0m                     \u001b[1;32mreturn\u001b[0m\u001b[1;33m\u001b[0m\u001b[1;33m\u001b[0m\u001b[0m\n",
      "\u001b[1;31mKeyboardInterrupt\u001b[0m: "
     ]
    }
   ],
   "source": [
    "liste = ['Lectures','Preparation','Exam','Total','Practical exercises','Field Work','Guidance','Class Seminar',\\\n",
    "         'Class Exercises','Study Groups','Exercises','Exam Preparation','Excursions','Øvelseshold','Øvelser', \\\n",
    "         'Course Preparation','Theory exercises','Project work','Clinical practice','Praktik','Colloquia', 'Laboratory',\\\n",
    "         'E-Learning','Practical Training','Praksishold','Tutoring','Manuduktion']\n",
    "\n",
    "for k in liste:\n",
    "    \n",
    "    df[k] = df[k].fillna(0).astype(str)\n",
    "    edit_titel = k + '_edit'\n",
    "    df[edit_titel] = df[k].copy()\n",
    "\n",
    "for i in tqdm_notebook(range(0,len(df))):\n",
    "    \n",
    "    for k in liste:\n",
    "        edit_titel = k + '_edit'\n",
    "        df[edit_titel][i] = df[k][i].replace(',','.')\n",
    "    \n",
    "for k in liste:\n",
    "    edit_titel = k + '_edit'\n",
    "    df[edit_titel] = pd.to_numeric(df[edit_titel])"
   ]
  },
  {
   "cell_type": "markdown",
   "metadata": {},
   "source": [
    "### Editing Language"
   ]
  },
  {
   "cell_type": "code",
   "execution_count": null,
   "metadata": {},
   "outputs": [],
   "source": [
    "# Finding unique values in the Language column\n",
    "print(set(df['Language'].tolist()))\n",
    "\n",
    "check_danish = [\"Dansk\",\"dansk\",\"Danish\",\"danish\"]\n",
    "check_english = [\"Engelsk\",\"engelsk\",\"English\",\"english\"]\n",
    "\n",
    "df['Language_edit'] = df['Language'].copy()\n",
    "\n",
    "for i in tqdm_notebook(range(0,len(df['Language']))):\n",
    "    \n",
    "    # Checking for danish\n",
    "    if any(k in df['Language'][i][:6] for k in check_danish) or any(k in df['Language'][i][:5] for k in check_danish):\n",
    "        df['Language_edit'][i] = \"Danish\"\n",
    "        \n",
    "    # Checking for enlgish\n",
    "    elif any(k in df['Language'][i][:7] for k in check_english):\n",
    "        df['Language_edit'][i] = \"English\"\n",
    "        \n",
    "    else:\n",
    "        df['Language_edit'][i] = \"Other\""
   ]
  },
  {
   "cell_type": "markdown",
   "metadata": {},
   "source": [
    "### Editing Type of Assesment"
   ]
  },
  {
   "cell_type": "code",
   "execution_count": null,
   "metadata": {},
   "outputs": [],
   "source": [
    "check_written_start = [\"Skriftlig\",\"skriftlig\",\"Written\",\"written\",\"skriftlige hjemmeopgave\",\"Skriftlig prøve\"] \n",
    "check_written_run = [\"skriftlige hjemmeopgave\",\"Skriftlig prøve\", \"skriftlig prøve\"] \n",
    "check_written_level_2 = [\"med opsyn\",\"Med opsyn\",\"under invigilation\",\"Under invigilation\", \"Peter Bangs Vej\"]\n",
    "\n",
    "check_con_ass = [\"Continuous assessment\",\"continuous assessment\",\"Løbende bedømmelse\",\"løbende bedømmelse\"]\n",
    "\n",
    "check_oral = [\"Mundtlig\",\"mundtlig\",\"Oral\",\"oral\",\"Fri mundtlig prøve\",\"fri mundtlig prøve\"]\n",
    "\n",
    "check_other = [\"Andet\",\"andet\",\"Other\",\"other\"]\n",
    "\n",
    "check_exam = [\"Eksamen\",\"eksamen\",\"Exam\",\"exam\"]\n",
    "\n",
    "check_cor_part = [\"Kursusdeltagelse\",\"kursusdeltagelse\",\"Course participation\",\"course participation\"]\n",
    "#check_cor_part_written = [\"Skriftlig\",\"skriftlig\",\"Written\",\"written\",\"skriftlige hjemmeopgave\",\"Skriftlig prøve\"], #\\\n",
    "                         #\"KursusdeltagelseSkriftlig\",\"Kursusdeltagelseskriftlig\",\"\"]\n",
    "    \n",
    "check_port = [\"Portfolio\",\"portfolio\",\"Portefølje\",\"portefølje\"]\n",
    "\n",
    "check_prac = [\"Praktisk\",\"praktisk\",\"Practical\",\"practical\"]\n",
    "\n",
    "list_written_exams = []\n",
    "list_written_exams_invigilation = []\n",
    "list_written_exams_not_invigilation = []\n",
    "\n",
    "\n",
    "list_oral_exams = []\n",
    "list_oralandwritten_exams = []\n",
    "\n",
    "list_con_ass = []\n",
    "list_con_ass_exams = []\n",
    "\n",
    "list_other_exams = []\n",
    "\n",
    "list_cor_part = []\n",
    "list_cor_part_written = []\n",
    "list_cor_part_not_written = []\n",
    "\n",
    "list_port = []\n",
    "\n",
    "list_prac = []\n",
    "\n",
    "list_res = []\n",
    "\n",
    "for i in tqdm_notebook(range(0,len(df_eksamensform))):\n",
    "    \n",
    "    # Checking for cont. assement \n",
    "    if any(k in df_eksamensform[i][0:21] for k in check_con_ass) or any(k in df_eksamensform[i][0:18] for k in check_con_ass):\n",
    "        #list_con_ass.append(df_eksamensform[i])\n",
    "        \n",
    "        if any(k in df_eksamensform[i] for k in check_exam):\n",
    "            list_con_ass_exams.append(df_eksamensform[i])\n",
    "            df['Type of assessmet_edit'][i] = \"Continuous assessment exam\"\n",
    "            \n",
    "        else:\n",
    "            list_con_ass.append(df_eksamensform[i])\n",
    "            df['Type of assessmet_edit'][i] = \"Continuous assessment not exam\"\n",
    "  \n",
    "    else:\n",
    "        # Checking written/skriftligt\n",
    "        if any(k in df_eksamensform[i][0:9] for k in check_written_start) \\\n",
    "        or any(k in df_eksamensform[i][0:7] for k in check_written_start) \\\n",
    "        or (any(k in df_eksamensform[i] for k in check_written_run) and any(k in df_eksamensform[i][0:5] for k in check_other)):\n",
    "            #list_written_exams.append(df_eksamensform[i])\n",
    "\n",
    "            # Under inv. or not.\n",
    "            if any(k in df_eksamensform[i] for k in check_written_level_2):\n",
    "                list_written_exams_invigilation.append(df_eksamensform[i])\n",
    "                df['Type of assessmet_edit'][i] = \"Written under invigilation\"\n",
    "\n",
    "            else:\n",
    "                list_written_exams_not_invigilation.append(df_eksamensform[i])\n",
    "                df['Type of assessmet_edit'][i] = \"Written not under invigilation\"\n",
    "\n",
    "        # Checking mundtligt/oral\n",
    "        elif any(k in df_eksamensform[i][0:8] for k in check_oral) or any(k in df_eksamensform[i][0:4] for k in check_oral) \\\n",
    "        or (any(k in df_eksamensform[i]for k in check_oral) and any(k in df_eksamensform[i][0:5] for k in check_other)):\n",
    "            list_oral_exams.append(df_eksamensform[i])\n",
    "            df['Type of assessmet_edit'][i] = \"Oral\"\n",
    "\n",
    "        # Checking andet/other\n",
    "        elif any(k in df_eksamensform[i][0:5] for k in check_other):\n",
    "            list_other_exams.append(df_eksamensform[i])\n",
    "            df['Type of assessmet_edit'][i] = \"Other\"\n",
    "        \n",
    "        # Checking kursusdeltagelse/course participation \n",
    "        elif any(k in df_eksamensform[i][0:16] for k in check_cor_part) \\\n",
    "        or any(k in df_eksamensform[i][0:20] for k in check_cor_part) :\n",
    "            #list_cor_part.append(df_eksamensform[i])\n",
    "            \n",
    "            if any(k in df_eksamensform[i] for k in check_written_start):\n",
    "                list_cor_part_written.append(df_eksamensform[i])\n",
    "                df['Type of assessmet_edit'][i] = \"Course participation written\"\n",
    "                \n",
    "            else:\n",
    "                list_cor_part_not_written.append(df_eksamensform[i])\n",
    "                df['Type of assessmet_edit'][i] = \"Course participation not written\"\n",
    "                \n",
    "        # Checking portfolio\n",
    "        elif any(k in df_eksamensform[i][0:9] for k in check_port):\n",
    "            list_port.append(df_eksamensform[i])\n",
    "            df['Type of assessmet_edit'][i] = \"Portfolio\"\n",
    "            \n",
    "        # Checking practical \n",
    "        elif any(k in df_eksamensform[i][0:9] for k in check_prac):\n",
    "            list_prac.append(df_eksamensform[i])\n",
    "            df['Type of assessmet_edit'][i] = \"Practical\"\n",
    "            \n",
    "        # Residual \n",
    "        else:\n",
    "            list_res.append(df_eksamensform[i])\n",
    "            df['Type of assessmet_edit'][i] = \"Resdiual\""
   ]
  },
  {
   "cell_type": "markdown",
   "metadata": {},
   "source": [
    "### Saving data "
   ]
  },
  {
   "cell_type": "code",
   "execution_count": null,
   "metadata": {},
   "outputs": [],
   "source": [
    "df.to_pickle('kurser_scrabe_ALL_edit.pkl')"
   ]
  },
  {
   "cell_type": "markdown",
   "metadata": {},
   "source": [
    "### Creating 'ID' to be able to merge on ID and Year"
   ]
  },
  {
   "cell_type": "code",
   "execution_count": null,
   "metadata": {},
   "outputs": [],
   "source": [
    "dfc = pd.read_pickle('kurser_scrabe_ALL_edit.pkl')"
   ]
  },
  {
   "cell_type": "code",
   "execution_count": null,
   "metadata": {},
   "outputs": [],
   "source": [
    "for i in tqdm_notebook(range(len(dfc['Course code']))):\n",
    "    dfc['ID'][i] = dfc['Course code'][i][:-1]"
   ]
  },
  {
   "cell_type": "code",
   "execution_count": null,
   "metadata": {},
   "outputs": [],
   "source": [
    "dfc = dfc.reset_index()\n",
    "dfc['URL_C'] = dfc['index']\n",
    "dfc = dfc.drop('index', axis=1)"
   ]
  },
  {
   "cell_type": "code",
   "execution_count": null,
   "metadata": {},
   "outputs": [],
   "source": [
    "dfc.to_pickle('course_final.pkl')"
   ]
  },
  {
   "cell_type": "markdown",
   "metadata": {},
   "source": [
    "## Grade data"
   ]
  },
  {
   "cell_type": "code",
   "execution_count": null,
   "metadata": {},
   "outputs": [],
   "source": [
    "with open('grade_scrabe_ALL.pkl', 'rb') as f:\n",
    "    grades = pickle.load(f)\n",
    "    grades = grades.set_index([0])\n",
    "    grades_trans = grades.Tgrades_trans = grades.T"
   ]
  },
  {
   "cell_type": "code",
   "execution_count": null,
   "metadata": {},
   "outputs": [],
   "source": [
    "# Dropping rows which do not contain an URL ie. no exam data exits. \n",
    "grades_trans = grades_trans.dropna(subset = ['URL'])\n"
   ]
  },
  {
   "cell_type": "code",
   "execution_count": null,
   "metadata": {},
   "outputs": [],
   "source": [
    "school_year_list = []\n",
    "\n",
    "for i in tqdm_notebook(grades_trans.index):\n",
    "    # Checking for summer exam\n",
    "    if grades_trans['URL'][i][58:64] == 'Summer':\n",
    "                        #the exam year minus one year                    the exam year\n",
    "        school_year = str(int(grades_trans['URL'][i][65:69])-1) + '-' + grades_trans['URL'][i][65:69]\n",
    "        school_year_list.append(school_year)\n",
    "\n",
    "    # Checking for winter exam\n",
    "    elif grades_trans['URL'][i][58:64] == 'Winter':\n",
    "                        #the exam year minus one year                    the exam year plus one year\n",
    "        school_year = grades_trans['URL'][i][65:69] + '-' + str(int(grades_trans['URL'][i][65:69])+1)\n",
    "        school_year_list.append(school_year)\n",
    "    \n",
    "grades_trans['Year'] = school_year_list "
   ]
  },
  {
   "cell_type": "code",
   "execution_count": null,
   "metadata": {},
   "outputs": [],
   "source": [
    "list_id = []\n",
    "for i in grades_trans.index:\n",
    "    list_id.append(grades_trans['URL'][i][47:56])\n",
    "grades_trans['ID'] = list_id"
   ]
  },
  {
   "cell_type": "code",
   "execution_count": null,
   "metadata": {},
   "outputs": [],
   "source": [
    "re_list = []\n",
    "for i in grades_trans.index:\n",
    "    if 're' in str(i):\n",
    "        re_list.append(1)\n",
    "    else:\n",
    "        re_list.append(0)\n",
    "grades_trans['Re-exam_dummy'] = re_list"
   ]
  },
  {
   "cell_type": "code",
   "execution_count": null,
   "metadata": {},
   "outputs": [],
   "source": [
    "#Remnaming and dropping URL so we get both \n",
    "grades_trans['URL_E'] = grades_trans['URL']\n",
    "grades_trans = grades_trans.drop(['URL'], axis=1)"
   ]
  },
  {
   "cell_type": "markdown",
   "metadata": {},
   "source": [
    "## Merging grade and course data"
   ]
  },
  {
   "cell_type": "code",
   "execution_count": null,
   "metadata": {},
   "outputs": [],
   "source": [
    "df_final = pd.merge(grades_trans, course, on=['ID','Year'], how='inner')"
   ]
  },
  {
   "cell_type": "code",
   "execution_count": null,
   "metadata": {},
   "outputs": [],
   "source": [
    "df_final.to_pickle('df_final_v2.pkl')"
   ]
  },
  {
   "cell_type": "code",
   "execution_count": null,
   "metadata": {},
   "outputs": [],
   "source": [
    "df_final_outer = pd.merge(grades_trans, course, on=['ID','Year'], how='inner')"
   ]
  },
  {
   "cell_type": "code",
   "execution_count": null,
   "metadata": {},
   "outputs": [],
   "source": []
  },
  {
   "cell_type": "code",
   "execution_count": null,
   "metadata": {},
   "outputs": [],
   "source": []
  },
  {
   "cell_type": "code",
   "execution_count": null,
   "metadata": {},
   "outputs": [],
   "source": []
  },
  {
   "cell_type": "code",
   "execution_count": null,
   "metadata": {},
   "outputs": [],
   "source": []
  }
 ],
 "metadata": {
  "kernelspec": {
   "display_name": "Python 3",
   "language": "python",
   "name": "python3"
  },
  "language_info": {
   "codemirror_mode": {
    "name": "ipython",
    "version": 3
   },
   "file_extension": ".py",
   "mimetype": "text/x-python",
   "name": "python",
   "nbconvert_exporter": "python",
   "pygments_lexer": "ipython3",
   "version": "3.7.3"
  }
 },
 "nbformat": 4,
 "nbformat_minor": 2
}
