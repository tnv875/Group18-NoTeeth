{
 "cells": [
  {
   "cell_type": "code",
   "execution_count": null,
   "metadata": {},
   "outputs": [],
   "source": [
    "import scraping_class\n",
    "logfile = 'log.txt'## name your log file.\n",
    "connector = scraping_class.Connector(logfile)\n",
    "import requests\n",
    "from bs4 import BeautifulSoup\n",
    "from tqdm import tqdm_notebook"
   ]
  },
  {
   "cell_type": "code",
   "execution_count": null,
   "metadata": {},
   "outputs": [],
   "source": [
    "import pandas as pd\n",
    "import numpy as np\n",
    "import html5lib\n",
    "import sys"
   ]
  },
  {
   "cell_type": "code",
   "execution_count": null,
   "metadata": {},
   "outputs": [],
   "source": [
    "dict_load = np.load('kurser_scrabe_ALL.npy', allow_pickle=True).item()\n",
    "dict_load;"
   ]
  },
  {
   "cell_type": "code",
   "execution_count": null,
   "metadata": {},
   "outputs": [],
   "source": [
    "df = pd.DataFrame.from_dict(dict_load, orient='index')"
   ]
  },
  {
   "cell_type": "markdown",
   "metadata": {},
   "source": [
    "## Aid"
   ]
  },
  {
   "cell_type": "code",
   "execution_count": null,
   "metadata": {},
   "outputs": [],
   "source": [
    "df['Aid_edit'] = df['Aid']\n",
    "\n",
    "for i in range(len(df['Aid_edit'])):\n",
    "    \n",
    "    if str(df['Aid_edit'][i]) == 'nan':\n",
    "        df['Aid_edit'][i] = 'nan'\n",
    "    \n",
    "    elif df['Aid_edit'][i] == 'Alle hjælpemidler tilladt':\n",
    "        df['Aid_edit'][i] = 'All aids allowed'\n",
    "        \n",
    "    elif df['Aid_edit'][i] == 'Uden hjælpemidler':\n",
    "        df['Aid_edit'][i] = 'Without aids'\n",
    "        \n",
    "    elif df['Aid_edit'][i] == 'Skriftlige hjælpemidler tilladt':\n",
    "        df['Aid_edit'][i] = 'Written aids allowed'\n",
    "        \n",
    "    elif 'Kun visse hjælpemidler tilladt \\r' in df['Aid_edit'][i]:\n",
    "        df['Aid_edit'][i] = 'Only certain aids allowed'\n",
    "    \n",
    "    elif 'Only certain aids allowed \\r' in df['Aid_edit'][i]:\n",
    "        df['Aid_edit'][i] = 'Only certain aids allowed'\n",
    "        \n",
    "    elif  'Skriftlige hjælpemidler tilladt \\r' in df['Aid_edit'][i]:\n",
    "        df['Aid_edit'][i] = 'Written aids allowed'\n",
    "        \n",
    "    elif  'Written aids allowed \\r' in df['Aid_edit'][i]:\n",
    "        df['Aid_edit'][i] = 'Written aids allowed'\n",
    "        \n",
    "    elif  'Alle hjælpemidler tilladt \\r' in df['Aid_edit'][i]:\n",
    "        df['Aid_edit'][i] = 'All aids allowed'\n",
    "        \n",
    "    elif  'All aids allowed \\r' in df['Aid_edit'][i]:\n",
    "        df['Aid_edit'][i] = 'All aids allowed'   \n",
    "        \n",
    "    elif  'Without aids \\r' in df['Aid_edit'][i]:\n",
    "        df['Aid_edit'][i] = 'Without aids'\n",
    " \n",
    "    elif  'Uden hjælpemidler \\r' in df['Aid_edit'][i]:\n",
    "        df['Aid_edit'][i] = 'Without aids'\n",
    "        \n",
    "    elif  'No aids are allowed' in df['Aid_edit'][i]:\n",
    "        df['Aid_edit'][i] = 'Without aids'\n",
    "\n",
    "    elif  'Ingen hjælpemidler tilladt' in df['Aid_edit'][i]:\n",
    "        df['Aid_edit'][i] = 'Without aids'\n",
    "        \n",
    "    else:\n",
    "        df['Aid_edit'][i] = 'Only certain aids allowed'"
   ]
  },
  {
   "cell_type": "markdown",
   "metadata": {},
   "source": [
    "## Marking scale"
   ]
  },
  {
   "cell_type": "code",
   "execution_count": null,
   "metadata": {},
   "outputs": [],
   "source": [
    "df['Marking scale_edit'] = df['Marking scale']\n",
    "\n",
    "for i in range(len(df['Marking scale_edit'])):\n",
    "    \n",
    "    if df['Marking scale_edit'][i] == '7-trins skala':\n",
    "        df['Marking scale_edit'][i] = '7-point grading scale'\n",
    "        \n",
    "    elif df['Marking scale_edit'][i] == 'bestået/ikke bestået':\n",
    "        df['Marking scale_edit'][i] = 'passed/not passed'\n",
    "        \n",
    "    elif df['Marking scale_edit'][i] == 'godkendt/ikke godkendt':\n",
    "        df['Marking scale_edit'][i] = 'completed/not completed'\n",
    "    \n",
    "    elif df['Marking scale_edit'][i] == 'Ingen bedømmelse':\n",
    "        df['Marking scale_edit'][i] = 'Without assessment'\n",
    "        \n",
    "    elif str(df['Marking scale_edit'][i]) == 'nan':\n",
    "        df['Marking scale_edit'][i] = 'nan'"
   ]
  },
  {
   "cell_type": "markdown",
   "metadata": {},
   "source": [
    "## Censorshp form"
   ]
  },
  {
   "cell_type": "code",
   "execution_count": null,
   "metadata": {},
   "outputs": [],
   "source": [
    "df['Censorship form_edit'] = df['Censorship form']\n",
    "\n",
    "for i in range(len(df['Censorship form_edit'])):\n",
    "    \n",
    "    if str(df['Censorship form_edit'][i]) == 'nan':\n",
    "        df['Censorship form_edit'][i] = 'nan'\n",
    "    \n",
    "    elif df['Censorship form_edit'][i] == 'Ingen ekstern censur':\n",
    "        df['Censorship form_edit'][i] = 'No external censorship'\n",
    "        \n",
    "    elif df['Censorship form_edit'][i] == 'Ekstern censur':\n",
    "        df['Censorship form_edit'][i] = 'External censorship'\n",
    "        \n",
    "    elif df['Censorship form_edit'][i][0:14] == 'Ekstern censur':\n",
    "        df['Censorship form_edit'][i] = 'External censorship'\n",
    "        \n",
    "    elif df['Censorship form_edit'][i][0:20] == 'Ingen ekstern censur':\n",
    "        df['Censorship form_edit'][i] = 'No external censorship'\n",
    "        \n",
    "    elif df['Censorship form_edit'][i][0:22] == 'No external censorship':\n",
    "        df['Censorship form_edit'][i] = 'No external censorship'\n",
    "            \n",
    "    elif df['Censorship form_edit'][i][0:19] == 'External censorship':\n",
    "        df['Censorship form_edit'][i] = 'External censorship'\n",
    "    \n",
    "    elif df['Censorship form_edit'][i] == 'ingen censur':\n",
    "        df['Censorship form_edit'][i] = 'No censorship'\n",
    "        \n",
    "    else:\n",
    "        df['Censorship form_edit'][i] = 'Dependent on exam'"
   ]
  },
  {
   "cell_type": "markdown",
   "metadata": {},
   "source": [
    "## Level"
   ]
  },
  {
   "cell_type": "code",
   "execution_count": null,
   "metadata": {},
   "outputs": [],
   "source": [
    "\n",
    "\n",
    "df['Bachelor'] = 0\n",
    "df['Bachelor choice'] = 0\n",
    "df['Full Degree Master choice'] = 0\n",
    "df['Full Degree Master'] = 0\n",
    "df['Propaedeutics'] = 0\n",
    "df['Part Time Master'] = 0 \n",
    "df['Ph.D.'] = 0\n",
    "df['Professionsbachelor'] = 0\n",
    "df['Master'] = 0\n",
    "\n",
    "\n",
    "\n",
    "for i in tqdm_notebook(range(0,len(df['Level']))):\n",
    "\n",
    "    if df['Level'][i].count('Bachelor') == 2:\n",
    "        df['Bachelor choice'][i] = 1\n",
    "        df['Bachelor'][i] = 1\n",
    "        \n",
    "    elif 'Bachelor tilvalg' in df['Level'][i]:\n",
    "        df['Bachelor choice'][i] = 1\n",
    "    \n",
    "    elif 'Bachelor choice' in  df['Level'][i]:\n",
    "        df['Bachelor choice'][i] = 1\n",
    "    \n",
    "    elif 'Bachelor' in df['Level'][i]:\n",
    "        df['Bachelor'][i] = 1\n",
    "            \n",
    "            \n",
    "    if df['Level'][i].count('Full Degree Master') == 2:\n",
    "        df['Full Degree Master choice'][i] = 1\n",
    "        df['Full Degree Master'][i] = 1    \n",
    "    elif 'Full Degree Master choice' in  df['Level'][i]:\n",
    "        df['Full Degree Master choice'][i] = 1        \n",
    "    elif 'Full Degree Master' in  df['Level'][i]:\n",
    "        df['Full Degree Master'][i] = 1   \n",
    "    elif 'Master' in df['Level'][i] and 'Part Time Master' not in df['Level'][i]:\n",
    "        df['Master'][i] = 1\n",
    "        \n",
    "    if df['Level'][i].count('Kandidat') == 2:\n",
    "        df['Full Degree Master choice'][i] = 1\n",
    "        df['Full Degree Master'][i] = 1\n",
    "        \n",
    "    elif 'Kandidat tilvalg' in  df['Level'][i]:\n",
    "        df['Full Degree Master choice'][i] = 1\n",
    "        \n",
    "    elif 'Kandidat' in  df['Level'][i]:\n",
    "        df['Full Degree Master'][i] = 1\n",
    "        \n",
    "        \n",
    "    if 'Propaedeutics' in  df['Level'][i]:\n",
    "        df['Propaedeutics'][i] = 1 \n",
    "        \n",
    "    elif 'Propædeutik' in  df['Level'][i]:\n",
    "        df['Propaedeutics'][i] = 1      \n",
    "    \n",
    "    if 'Part Time Master' in df['Level'][i]:\n",
    "        df['Part Time Master'][i] = 1\n",
    "        \n",
    "    if 'Ph.D.' in df['Level'][i]:\n",
    "        df['Ph.D.'][i] = 1\n",
    "        \n",
    "    if  'Ph.d.' in df['Level'][i]:\n",
    "        df['Ph.D.'][i] = 1\n",
    "        \n",
    "    if 'Professionsbachelor' in df['Level'][i]:\n",
    "        df['Professionsbachelor'][i] = 1\n",
    "        \n",
    "    "
   ]
  },
  {
   "cell_type": "code",
   "execution_count": null,
   "metadata": {},
   "outputs": [],
   "source": []
  }
 ],
 "metadata": {
  "kernelspec": {
   "display_name": "Python 3",
   "language": "python",
   "name": "python3"
  },
  "language_info": {
   "codemirror_mode": {
    "name": "ipython",
    "version": 3
   },
   "file_extension": ".py",
   "mimetype": "text/x-python",
   "name": "python",
   "nbconvert_exporter": "python",
   "pygments_lexer": "ipython3",
   "version": "3.7.3"
  }
 },
 "nbformat": 4,
 "nbformat_minor": 2
}
