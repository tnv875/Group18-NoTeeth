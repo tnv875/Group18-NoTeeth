{
 "cells": [
  {
   "cell_type": "code",
   "execution_count": 1,
   "metadata": {},
   "outputs": [],
   "source": [
    "import scraping_class\n",
    "logfile = 'log.txt'## name your log file.\n",
    "connector = scraping_class.Connector(logfile)\n",
    "import requests\n",
    "from bs4 import BeautifulSoup\n",
    "from tqdm import tqdm_notebook"
   ]
  },
  {
   "cell_type": "code",
   "execution_count": 2,
   "metadata": {},
   "outputs": [],
   "source": [
    "import pandas as pd\n",
    "import numpy as np\n",
    "import html5lib"
   ]
  },
  {
   "cell_type": "code",
   "execution_count": 3,
   "metadata": {},
   "outputs": [],
   "source": [
    "dict_load = np.load('kurser_scrabe_ALL.npy', allow_pickle=True).item()\n",
    "dict_load;"
   ]
  },
  {
   "cell_type": "code",
   "execution_count": 4,
   "metadata": {},
   "outputs": [],
   "source": [
    "df = pd.DataFrame.from_dict(dict_load, orient='index')"
   ]
  },
  {
   "cell_type": "code",
   "execution_count": 5,
   "metadata": {},
   "outputs": [],
   "source": [
    "df['Bachelor'] = 0\n",
    "df['Bachelor choice'] = 0\n",
    "df['Full Degree Master choice'] = 0\n",
    "df['Full Degree Master'] = 0\n",
    "df['Propaedeutics'] = 0\n",
    "df['Part Time Master'] = 0 \n",
    "df['Ph.D'] = 0"
   ]
  },
  {
   "cell_type": "code",
   "execution_count": 8,
   "metadata": {},
   "outputs": [
    {
     "data": {
      "application/vnd.jupyter.widget-view+json": {
       "model_id": "436fafe5be09436482880e5bf4d8bc2d",
       "version_major": 2,
       "version_minor": 0
      },
      "text/plain": [
       "HBox(children=(IntProgress(value=0, max=19119), HTML(value='')))"
      ]
     },
     "metadata": {},
     "output_type": "display_data"
    },
    {
     "name": "stderr",
     "output_type": "stream",
     "text": [
      "C:\\Users\\sfv328\\AppData\\Local\\Continuum\\anaconda3\\lib\\site-packages\\ipykernel_launcher.py:3: SettingWithCopyWarning: \n",
      "A value is trying to be set on a copy of a slice from a DataFrame\n",
      "\n",
      "See the caveats in the documentation: http://pandas.pydata.org/pandas-docs/stable/indexing.html#indexing-view-versus-copy\n",
      "  This is separate from the ipykernel package so we can avoid doing imports until\n"
     ]
    },
    {
     "name": "stdout",
     "output_type": "stream",
     "text": [
      "\n"
     ]
    }
   ],
   "source": [
    "for i in tqdm_notebook(range(0,len(df['Level']))):\n",
    "    if 'Bachelor tilvalg' or 'Bachelor choice' in  df['Level'][i]:\n",
    "        df['Bachelor choice'][i] = 1\n",
    "    \n",
    "    if 'Bachelor' in df['Level'][i]:\n",
    "         df['Bachelor'][i] = 1\n",
    "            "
   ]
  },
  {
   "cell_type": "code",
   "execution_count": null,
   "metadata": {},
   "outputs": [],
   "source": [
    "\n",
    "Out[18]:\n",
    "array(['Master', 'Bachelor\\r\\nBachelor choice Full Degree Master',\n",
    "       'Bachelor\\r\\nBachelor choice Full Degree Master Full Degree Master choice',\n",
    "       'Bachelor\\r\\nBachelor tilvalg', 'Bachelor',\n",
    "       'Full Degree Master\\r\\nBachelor Bachelor choice Full Degree Master choice',\n",
    "       'Kandidat', 'Full Degree Master', 'Bachelor\\r\\nKandidat',\n",
    "       'Kandidat\\r\\nBachelor', 'Bachelor\\r\\nKandidat tilvalg',\n",
    "       'Bachelor\\r\\nBachelor choice', 'Kandidat\\r\\nKandidat tilvalg',\n",
    "       'Bachelor\\r\\nFull Degree Master',\n",
    "       'Bachelor\\r\\nBachelor tilvalg Kandidat tilvalg',\n",
    "       'Bachelor\\r\\nKandidat Kandidat tilvalg',\n",
    "       'Full Degree Master\\r\\nBachelor',\n",
    "       'Full Degree Master\\r\\nBachelor Full Degree Master choice',\n",
    "       'Kandidat\\r\\nBachelor Kandidat tilvalg',\n",
    "       'Full Degree Master\\r\\nFull Degree Master choice',\n",
    "       'Full Degree Master\\r\\nBachelor Bachelor choice',\n",
    "       'Propædeutik\\r\\nBachelor', 'Kandidat\\r\\nBachelor tilvalg',\n",
    "       'Bachelor\\r\\nBachelor tilvalg Kandidat Kandidat tilvalg',\n",
    "       'Propædeutik\\r\\nBachelor Bachelor tilvalg', 'Propædeutik',\n",
    "       'Kandidat\\r\\nBachelor tilvalg Kandidat tilvalg',\n",
    "       'Kandidat\\r\\nBachelor Bachelor tilvalg', 'Kandidat\\r\\nMaster',\n",
    "       'Bachelor\\r\\nMaster', 'Bachelor\\r\\nBachelor tilvalg Kandidat',\n",
    "       'Full Degree Master\\r\\nBachelor choice Full Degree Master choice',\n",
    "       'Kandidat\\r\\nBachelor Bachelor tilvalg Kandidat tilvalg',\n",
    "       'Propaedeutics\\r\\nBachelor', 'Propædeutik\\r\\nBachelor tilvalg',\n",
    "       'Full Degree Master\\r\\nBachelor choice',\n",
    "       'Propaedeutics\\r\\nBachelor Bachelor choice',\n",
    "       'Bachelor\\r\\nFull Degree Master Full Degree Master choice',\n",
    "       'Full Degree Master\\r\\nPart Time Master', 'Professionsbachelor',\n",
    "       'Professionsbachelor\\r\\nBachelor tilvalg',\n",
    "       'Professionsbachelor\\r\\nBachelor',\n",
    "       'Bachelor\\r\\nBachelor choice Full Degree Master Full Degree Master choice Part\\r\\nTime Master',\n",
    "       'Full Degree Master\\r\\nPh.D.',\n",
    "       'Full Degree Master\\r\\nBachelor choice Part Time Master Ph.D.',\n",
    "       'Full Degree Master\\r\\nBachelor Ph.D.',\n",
    "       'Ph.d.\\r\\nKandidat tilvalg', 'Ph.D.', 'Ph.d.',\n",
    "       'Ph.d.\\r\\nKandidat tilvalg Master', 'Ph.D.\\r\\nPart Time Master',\n",
    "       'Ph.D.\\r\\nFull Degree Master Full Degree Master choice Part Time Master',\n",
    "       'Ph.D.\\r\\nFull Degree Master',\n",
    "       'Ph.D.\\r\\nBachelor choice Full Degree Master choice',\n",
    "       'Part Time Master',\n",
    "       'Full Degree Master\\r\\nFull Degree Master choice Part Time Master',\n",
    "       'Bachelor\\r\\nBachelor choice Full Degree Master choice',\n",
    "       'Kandidat\\r\\nPh.d.', 'Bachelor\\r\\nFull Degree Master choice',\n",
    "       'Kandidat\\r\\nKandidat tilvalg Master', 'Professional bachelor',\n",
    "       'Professionsbachelor\\r\\nBachelor Bachelor tilvalg Kandidat tilvalg',\n",
    "       'Professionsbachelor\\r\\nBachelor Bachelor tilvalg',\n",
    "       'Full Degree Master\\r\\nBachelor Part Time Master',\n",
    "       'Full Degree Master\\r\\nPart Time Master Ph.D.',\n",
    "       'Part Time Master\\r\\nFull Degree Master choice',\n",
    "       'Master\\r\\nKandidat', 'Propaedeutics',\n",
    "       'Part Time Master\\r\\nFull Degree Master',\n",
    "       'Part Time Master\\r\\nFull Degree Master Full Degree Master choice',\n",
    "       'Full Degree Master\\r\\nFull Degree Master choice Part Time Master Ph.D.',\n",
    "       'Full Degree Master\\r\\nBachelor Bachelor choice Full Degree Master choice Part Time\\r\\nMaster',\n",
    "       'Full Degree MasterFull Degree Master choice,Part Time Master,Ph.D.',\n",
    "       'KandidatKandidat tilvalg',\n",
    "       'Professionsbachelor\\r\\nKandidat tilvalg',\n",
    "       'Bachelor\\r\\nFull Degree Master Part Time Master Ph.D.',\n",
    "       'BachelorBachelor choice,Full Degree Master,Full Degree Master choice',\n",
    "       'BachelorBachelor choice',\n",
    "       'Part Time Master\\r\\nBachelor Full Degree Master Full Degree Master choice',\n",
    "       'KandidatBachelor tilvalg', 'BachelorBachelor tilvalg',\n",
    "       'Full Degree Master\\r\\nBachelor Bachelor choice Full Degree Master choice Part Time Master\\r\\nPh.D.'],\n",
    "      dtype=object)"
   ]
  }
 ],
 "metadata": {
  "kernelspec": {
   "display_name": "Python 3",
   "language": "python",
   "name": "python3"
  },
  "language_info": {
   "codemirror_mode": {
    "name": "ipython",
    "version": 3
   },
   "file_extension": ".py",
   "mimetype": "text/x-python",
   "name": "python",
   "nbconvert_exporter": "python",
   "pygments_lexer": "ipython3",
   "version": "3.7.3"
  }
 },
 "nbformat": 4,
 "nbformat_minor": 2
}
