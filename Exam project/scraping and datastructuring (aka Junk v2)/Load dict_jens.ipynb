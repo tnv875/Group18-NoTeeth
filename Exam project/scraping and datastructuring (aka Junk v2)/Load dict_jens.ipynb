{
 "cells": [
  {
   "cell_type": "code",
   "execution_count": 69,
   "metadata": {},
   "outputs": [],
   "source": [
    "import numpy as np\n",
    "import pandas as pd\n",
    "dict_load = np.load('kurser_scrabe_ALL.npy', allow_pickle=True).item()\n",
    "dict_load;\n",
    "df = pd.DataFrame.from_dict(dict_load, orient='index')"
   ]
  },
  {
   "cell_type": "code",
   "execution_count": 70,
   "metadata": {},
   "outputs": [],
   "source": [
    "from tqdm import tqdm_notebook"
   ]
  },
  {
   "cell_type": "code",
   "execution_count": 71,
   "metadata": {},
   "outputs": [
    {
     "data": {
      "text/plain": [
       "['Course Name',\n",
       " 'Credit',\n",
       " 'Type of assessment',\n",
       " 'Aid',\n",
       " 'Marking scale',\n",
       " 'Censorship form',\n",
       " 'Exam period',\n",
       " 'Re-exam',\n",
       " 'Language',\n",
       " 'Course code',\n",
       " 'Level',\n",
       " 'Duration',\n",
       " 'Placement',\n",
       " 'Schedule',\n",
       " 'Study board',\n",
       " 'Year',\n",
       " 'Course id',\n",
       " 'Category',\n",
       " 'Lectures',\n",
       " 'Preparation',\n",
       " 'Exam',\n",
       " 'Total',\n",
       " 'Content',\n",
       " 'Learning\\r\\nOutcome',\n",
       " 'Class Instruction',\n",
       " 'Practical exercises',\n",
       " 'Exam registration requirements',\n",
       " 'Field Work',\n",
       " 'Course capacity',\n",
       " 'Seminar',\n",
       " 'Guidance',\n",
       " 'Continuing and further education',\n",
       " 'Price',\n",
       " 'Class Seminar',\n",
       " 'Class Exercises',\n",
       " 'Study Groups',\n",
       " 'Exercises',\n",
       " 'Exam Preparation',\n",
       " 'Excursions',\n",
       " 'Øvelseshold',\n",
       " 'Øvelser',\n",
       " 'Course Preparation',\n",
       " 'Theory exercises',\n",
       " 'Project work',\n",
       " 'Clinical practice',\n",
       " 'Praktik',\n",
       " 'Colloquia',\n",
       " 'Laboratory',\n",
       " 'E-Learning',\n",
       " 'Practical Training',\n",
       " 'Praksishold',\n",
       " 'Tutoring',\n",
       " 'Manuduktion']"
      ]
     },
     "execution_count": 71,
     "metadata": {},
     "output_type": "execute_result"
    }
   ],
   "source": [
    "list(df.columns.values)"
   ]
  },
  {
   "cell_type": "code",
   "execution_count": 75,
   "metadata": {
    "scrolled": false
   },
   "outputs": [
    {
     "data": {
      "text/plain": [
       "Course Name                        object\n",
       "Credit                             object\n",
       "Type of assessment                 object\n",
       "Aid                                object\n",
       "Marking scale                      object\n",
       "Censorship form                    object\n",
       "Exam period                        object\n",
       "Re-exam                            object\n",
       "Language                           object\n",
       "Course code                        object\n",
       "Level                              object\n",
       "Duration                           object\n",
       "Placement                          object\n",
       "Schedule                           object\n",
       "Study board                        object\n",
       "Year                               object\n",
       "Course id                          object\n",
       "Category                           object\n",
       "Lectures                           object\n",
       "Preparation                        object\n",
       "Exam                               object\n",
       "Total                              object\n",
       "Content                            object\n",
       "Learning\\r\\nOutcome                object\n",
       "Class Instruction                  object\n",
       "Practical exercises                object\n",
       "Exam registration requirements     object\n",
       "Field Work                         object\n",
       "Course capacity                    object\n",
       "Seminar                            object\n",
       "                                   ...   \n",
       "Praksishold                        object\n",
       "Tutoring                           object\n",
       "Manuduktion                        object\n",
       "Lectures_edit                     float64\n",
       "Preparation_edit                  float64\n",
       "Exam_edit                         float64\n",
       "Total_edit                        float64\n",
       "Practical exercises_edit          float64\n",
       "Field Work_edit                   float64\n",
       "Guidance_edit                     float64\n",
       "Class Seminar_edit                float64\n",
       "Class Exercises_edit              float64\n",
       "Study Groups_edit                 float64\n",
       "Exercises_edit                    float64\n",
       "Exam Preparation_edit             float64\n",
       "Excursions_edit                   float64\n",
       "Øvelseshold_edit                  float64\n",
       "Øvelser_edit                      float64\n",
       "Course Preparation_edit           float64\n",
       "Theory exercises_edit             float64\n",
       "Project work_edit                 float64\n",
       "Clinical practice_edit            float64\n",
       "Praktik_edit                      float64\n",
       "Colloquia_edit                    float64\n",
       "Laboratory_edit                     int64\n",
       "E-Learning_edit                   float64\n",
       "Practical Training_edit           float64\n",
       "Praksishold_edit                    int64\n",
       "Tutoring_edit                       int64\n",
       "Manuduktion_edit                    int64\n",
       "Length: 80, dtype: object"
      ]
     },
     "execution_count": 75,
     "metadata": {},
     "output_type": "execute_result"
    }
   ],
   "source": [
    "df.dtypes"
   ]
  },
  {
   "cell_type": "markdown",
   "metadata": {},
   "source": [
    "### Editing Credit"
   ]
  },
  {
   "cell_type": "code",
   "execution_count": 30,
   "metadata": {},
   "outputs": [
    {
     "name": "stdout",
     "output_type": "stream",
     "text": [
      "{'17,5 ECTS', '26,5 ECTS', '21,5 ECTS', '7 ECTS', '2,5 ECTS', '45 ECTS', '15 ECTS', '4 ECTS', '23 ECTS', '1,8 ECTS', '60 ECTS', '5,5 ECTS', '6,5 ECTS', '13,5 ECTS', '0 ECTS', '3,5 ECTS', '0,5 ECTS', '20 ECTS', '3 ECTS', '4,5 ECTS', '10 ECTS', '9 ECTS', '25 ECTS', '27,5 ECTS', '3,7 ECTS', '22,5 ECTS', '2 ECTS', '5 ECTS', '3,8 ECTS', '12 ECTS', '9,5 ECTS', '32,5 ECTS', '6 ECTS', '11 ECTS', '8 ECTS', '1 ECTS', '35 ECTS', '12,5 ECTS', '30 ECTS', '10,5 ECTS', '50 ECTS', '7,5 ECTS', '1,5 ECTS'}\n"
     ]
    }
   ],
   "source": [
    "# Finding unique values in the Language column\n",
    "print(set(df['Credit'].tolist()))"
   ]
  },
  {
   "cell_type": "code",
   "execution_count": 31,
   "metadata": {},
   "outputs": [],
   "source": [
    "df['Credit_edit'] = df['Credit'].copy()\n",
    "\n",
    "for i in range(0,len(df['Credit'])):\n",
    "    \n",
    "    # Removing ECTS from the credit column and changing , to . \n",
    "    df['Credit_edit'][i] = df['Credit'][i][:-5].replace(',','.')\n",
    "    \n",
    "# Converting to numeric\n",
    "df['Credit_edit'] = pd.to_numeric(df['Credit_edit'])"
   ]
  },
  {
   "cell_type": "code",
   "execution_count": 32,
   "metadata": {},
   "outputs": [
    {
     "name": "stdout",
     "output_type": "stream",
     "text": [
      "{0.0, 1.0, 2.5, 2.0, 3.0, 5.0, 6.0, 7.5, 8.0, 9.0, 10.0, 7.0, 12.5, 12.0, 1.5, 15.0, 3.5, 9.5, 17.5, 11.0, 20.0, 4.5, 22.5, 4.0, 23.0, 25.0, 5.5, 27.5, 26.5, 21.5, 30.0, 0.5, 6.5, 32.5, 35.0, 45.0, 50.0, 10.5, 60.0, 13.5, 3.7, 3.8, 1.8}\n"
     ]
    }
   ],
   "source": [
    "print(set(df['Credit_edit'].tolist()))"
   ]
  },
  {
   "cell_type": "markdown",
   "metadata": {},
   "source": [
    "### Editing Workload"
   ]
  },
  {
   "cell_type": "code",
   "execution_count": 74,
   "metadata": {},
   "outputs": [
    {
     "data": {
      "application/vnd.jupyter.widget-view+json": {
       "model_id": "71fbeafee9b64be9a1d6b85c0cddee59",
       "version_major": 2,
       "version_minor": 0
      },
      "text/plain": [
       "HBox(children=(IntProgress(value=0, max=19116), HTML(value='')))"
      ]
     },
     "metadata": {},
     "output_type": "display_data"
    }
   ],
   "source": [
    "liste = ['Lectures','Preparation','Exam','Total','Practical exercises','Field Work','Guidance','Class Seminar',\\\n",
    "         'Class Exercises','Study Groups','Exercises','Exam Preparation','Excursions','Øvelseshold','Øvelser', \\\n",
    "         'Course Preparation','Theory exercises','Project work','Clinical practice','Praktik','Colloquia', 'Laboratory',\\\n",
    "         'E-Learning','Practical Training','Praksishold','Tutoring','Manuduktion']\n",
    "\n",
    "for k in liste:\n",
    "    \n",
    "    df[k] = df[k].fillna(0).astype(str)\n",
    "    edit_titel = k + '_edit'\n",
    "    df[edit_titel] = df[k].copy()\n",
    "\n",
    "for i in tqdm_notebook(range(0,len(df))):\n",
    "    \n",
    "    for k in liste:\n",
    "        edit_titel = k + '_edit'\n",
    "        df[edit_titel][i] = df[k][i].replace(',','.')\n",
    "    \n",
    "for k in liste:\n",
    "    edit_titel = k + '_edit'\n",
    "    df[edit_titel] = pd.to_numeric(df[edit_titel])\n",
    "    "
   ]
  },
  {
   "cell_type": "markdown",
   "metadata": {},
   "source": [
    "### Editing Language"
   ]
  },
  {
   "cell_type": "code",
   "execution_count": 7,
   "metadata": {},
   "outputs": [
    {
     "name": "stdout",
     "output_type": "stream",
     "text": [
      "{'Spansk - Delvist på dansk.', 'Italiensk - Delvist på dansk.', 'Hebraisk - Delvist på dansk.', 'Arabisk - Delvist på dansk.', 'Tysk - Delvist på dansk.', 'Koreansk', 'Serbokroatisk - Delvist på dansk.', 'Thai - Partially in Danish', 'Thai - Delvist på dansk.', 'German - Partially in Danish', 'Kinesisk - Delvist på dansk.', 'Portugisisk', 'Fransk - Delvist på dansk.', 'Portuguese', 'Engelsk - Delvist på dansk.', 'Fransk', 'Koreansk - Delvist på dansk.', 'Portuguese - Partially in Danish', 'English', 'Russisk - Delvist på dansk.', 'HINDI - Partially in Danish', 'Indonesisk - Delvist på dansk.', 'Persisk - Delvist på dansk.', 'Danish', 'Dansk', 'Indonesian', 'Hebraisk', 'Thai', 'Tyrkisk - Delvist på dansk.', 'English - Partially in Danish', 'Spanish - Partially in Danish', 'Arabic - Partially in Danish', 'Italiensk', 'Arabic', 'Spansk', 'Engelsk', 'German', 'Tibetansk - Delvist på dansk.', 'Tysk', 'Portugisisk - Delvist på dansk.', 'Japansk - Delvist på dansk.', 'French - Partially in Danish', 'French', 'Italian', 'Korean', 'Polsk - Delvist på dansk.', 'Hindi - Delvist på dansk.', 'Kinesisk', 'Spanish'}\n"
     ]
    },
    {
     "name": "stderr",
     "output_type": "stream",
     "text": [
      "C:\\Users\\jens_\\Anaconda3\\lib\\site-packages\\ipykernel_launcher.py:13: SettingWithCopyWarning: \n",
      "A value is trying to be set on a copy of a slice from a DataFrame\n",
      "\n",
      "See the caveats in the documentation: http://pandas.pydata.org/pandas-docs/stable/indexing.html#indexing-view-versus-copy\n",
      "  del sys.path[0]\n",
      "C:\\Users\\jens_\\Anaconda3\\lib\\site-packages\\ipykernel_launcher.py:17: SettingWithCopyWarning: \n",
      "A value is trying to be set on a copy of a slice from a DataFrame\n",
      "\n",
      "See the caveats in the documentation: http://pandas.pydata.org/pandas-docs/stable/indexing.html#indexing-view-versus-copy\n",
      "C:\\Users\\jens_\\Anaconda3\\lib\\site-packages\\ipykernel_launcher.py:20: SettingWithCopyWarning: \n",
      "A value is trying to be set on a copy of a slice from a DataFrame\n",
      "\n",
      "See the caveats in the documentation: http://pandas.pydata.org/pandas-docs/stable/indexing.html#indexing-view-versus-copy\n"
     ]
    }
   ],
   "source": [
    "# Finding unique values in the Language column\n",
    "print(set(df['Language'].tolist()))\n",
    "\n",
    "check_danish = [\"Dansk\",\"dansk\",\"Danish\",\"danish\"]\n",
    "check_english = [\"Engelsk\",\"engelsk\",\"English\",\"english\"]\n",
    "\n",
    "df['Language_edit'] = df['Language'].copy()\n",
    "\n",
    "for i in tqdm_notebook(range(0,len(df['Language']))):\n",
    "    \n",
    "    # Checking for danish\n",
    "    if any(k in df['Language'][i][:6] for k in check_danish) or any(k in df['Language'][i][:5] for k in check_danish):\n",
    "        df['Language_edit'][i] = \"Danish\"\n",
    "        \n",
    "    # Checking for enlgish\n",
    "    elif any(k in df['Language'][i][:7] for k in check_english):\n",
    "        df['Language_edit'][i] = \"English\"\n",
    "        \n",
    "    else:\n",
    "        df['Language_edit'][i] = \"Other\""
   ]
  },
  {
   "cell_type": "code",
   "execution_count": 8,
   "metadata": {},
   "outputs": [
    {
     "name": "stdout",
     "output_type": "stream",
     "text": [
      "11313\n",
      "7346\n",
      "460\n"
     ]
    }
   ],
   "source": [
    "print(sum(df['Language_edit'] == \"Danish\"))\n",
    "print(sum(df['Language_edit'] == \"English\"))\n",
    "print(sum(df['Language_edit'] == \"Other\"))"
   ]
  },
  {
   "cell_type": "markdown",
   "metadata": {},
   "source": [
    "### Editing Type of Assesment"
   ]
  },
  {
   "cell_type": "code",
   "execution_count": 3,
   "metadata": {},
   "outputs": [],
   "source": [
    "# Copying to list to check data in the column.\n",
    "df_eksamensform = df['Type of assessment'].tolist()\n",
    "\n",
    "# \n",
    "df['Type of assessmet_edit'] = df['Type of assessment'].copy()\n"
   ]
  },
  {
   "cell_type": "code",
   "execution_count": 4,
   "metadata": {},
   "outputs": [
    {
     "name": "stdout",
     "output_type": "stream",
     "text": [
      "19119\n"
     ]
    }
   ],
   "source": [
    "print(len(df_eksamensform))\n",
    "df_eksamensform;"
   ]
  },
  {
   "cell_type": "code",
   "execution_count": 5,
   "metadata": {},
   "outputs": [],
   "source": [
    "check_written_start = [\"Skriftlig\",\"skriftlig\",\"Written\",\"written\",\"skriftlige hjemmeopgave\",\"Skriftlig prøve\"] \n",
    "check_written_run = [\"skriftlige hjemmeopgave\",\"Skriftlig prøve\", \"skriftlig prøve\"] \n",
    "check_written_level_2 = [\"med opsyn\",\"Med opsyn\",\"under invigilation\",\"Under invigilation\", \"Peter Bangs Vej\"]\n",
    "\n",
    "check_con_ass = [\"Continuous assessment\",\"continuous assessment\",\"Løbende bedømmelse\",\"løbende bedømmelse\"]\n",
    "\n",
    "check_oral = [\"Mundtlig\",\"mundtlig\",\"Oral\",\"oral\",\"Fri mundtlig prøve\",\"fri mundtlig prøve\"]\n",
    "\n",
    "check_other = [\"Andet\",\"andet\",\"Other\",\"other\"]\n",
    "\n",
    "check_exam = [\"Eksamen\",\"eksamen\",\"Exam\",\"exam\"]\n",
    "\n",
    "check_cor_part = [\"Kursusdeltagelse\",\"kursusdeltagelse\",\"Course participation\",\"course participation\"]\n",
    "#check_cor_part_written = [\"Skriftlig\",\"skriftlig\",\"Written\",\"written\",\"skriftlige hjemmeopgave\",\"Skriftlig prøve\"], #\\\n",
    "                         #\"KursusdeltagelseSkriftlig\",\"Kursusdeltagelseskriftlig\",\"\"]\n",
    "    \n",
    "check_port = [\"Portfolio\",\"portfolio\",\"Portefølje\",\"portefølje\"]\n",
    "\n",
    "check_prac = [\"Praktisk\",\"praktisk\",\"Practical\",\"practical\"]\n",
    "\n",
    "list_written_exams = []\n",
    "list_written_exams_invigilation = []\n",
    "list_written_exams_not_invigilation = []\n",
    "\n",
    "\n",
    "list_oral_exams = []\n",
    "list_oralandwritten_exams = []\n",
    "\n",
    "list_con_ass = []\n",
    "list_con_ass_exams = []\n",
    "\n",
    "list_other_exams = []\n",
    "\n",
    "list_cor_part = []\n",
    "list_cor_part_written = []\n",
    "list_cor_part_not_written = []\n",
    "\n",
    "list_port = []\n",
    "\n",
    "list_prac = []\n",
    "\n",
    "list_res = []\n",
    "\n",
    "for i in tqdm_notebook(range(0,len(df_eksamensform))):\n",
    "    \n",
    "    # Checking for cont. assement \n",
    "    if any(k in df_eksamensform[i][0:21] for k in check_con_ass) or any(k in df_eksamensform[i][0:18] for k in check_con_ass):\n",
    "        #list_con_ass.append(df_eksamensform[i])\n",
    "        \n",
    "        if any(k in df_eksamensform[i] for k in check_exam):\n",
    "            list_con_ass_exams.append(df_eksamensform[i])\n",
    "            df['Type of assessmet_edit'][i] = \"Continuous assessment exam\"\n",
    "            \n",
    "        else:\n",
    "            list_con_ass.append(df_eksamensform[i])\n",
    "            df['Type of assessmet_edit'][i] = \"Continuous assessment not exam\"\n",
    "  \n",
    "    else:\n",
    "        # Checking written/skriftligt\n",
    "        if any(k in df_eksamensform[i][0:9] for k in check_written_start) \\\n",
    "        or any(k in df_eksamensform[i][0:7] for k in check_written_start) \\\n",
    "        or (any(k in df_eksamensform[i] for k in check_written_run) and any(k in df_eksamensform[i][0:5] for k in check_other)):\n",
    "            #list_written_exams.append(df_eksamensform[i])\n",
    "\n",
    "            # Under inv. or not.\n",
    "            if any(k in df_eksamensform[i] for k in check_written_level_2):\n",
    "                list_written_exams_invigilation.append(df_eksamensform[i])\n",
    "                df['Type of assessmet_edit'][i] = \"Written under invigilation\"\n",
    "\n",
    "            else:\n",
    "                list_written_exams_not_invigilation.append(df_eksamensform[i])\n",
    "                df['Type of assessmet_edit'][i] = \"Written not under invigilation\"\n",
    "\n",
    "        # Checking mundtligt/oral\n",
    "        elif any(k in df_eksamensform[i][0:8] for k in check_oral) or any(k in df_eksamensform[i][0:4] for k in check_oral) \\\n",
    "        or (any(k in df_eksamensform[i]for k in check_oral) and any(k in df_eksamensform[i][0:5] for k in check_other)):\n",
    "            list_oral_exams.append(df_eksamensform[i])\n",
    "            df['Type of assessmet_edit'][i] = \"Oral\"\n",
    "\n",
    "        # Checking andet/other\n",
    "        elif any(k in df_eksamensform[i][0:5] for k in check_other):\n",
    "            list_other_exams.append(df_eksamensform[i])\n",
    "            df['Type of assessmet_edit'][i] = \"Other\"\n",
    "        \n",
    "        # Checking kursusdeltagelse/course participation \n",
    "        elif any(k in df_eksamensform[i][0:16] for k in check_cor_part) \\\n",
    "        or any(k in df_eksamensform[i][0:20] for k in check_cor_part) :\n",
    "            #list_cor_part.append(df_eksamensform[i])\n",
    "            \n",
    "            if any(k in df_eksamensform[i] for k in check_written_start):\n",
    "                list_cor_part_written.append(df_eksamensform[i])\n",
    "                df['Type of assessmet_edit'][i] = \"Course participation written\"\n",
    "                \n",
    "            else:\n",
    "                list_cor_part_not_written.append(df_eksamensform[i])\n",
    "                df['Type of assessmet_edit'][i] = \"Course participation not written\"\n",
    "                \n",
    "        # Checking portfolio\n",
    "        elif any(k in df_eksamensform[i][0:9] for k in check_port):\n",
    "            list_port.append(df_eksamensform[i])\n",
    "            df['Type of assessmet_edit'][i] = \"Portfolio\"\n",
    "            \n",
    "        # Checking practical \n",
    "        elif any(k in df_eksamensform[i][0:9] for k in check_prac):\n",
    "            list_prac.append(df_eksamensform[i])\n",
    "            df['Type of assessmet_edit'][i] = \"Practical\"\n",
    "            \n",
    "        # Residual \n",
    "        else:\n",
    "            list_res.append(df_eksamensform[i])\n",
    "            df['Type of assessmet_edit'][i] = \"Resdiual\""
   ]
  },
  {
   "cell_type": "code",
   "execution_count": 6,
   "metadata": {},
   "outputs": [
    {
     "name": "stdout",
     "output_type": "stream",
     "text": [
      "{'Portfolio', 'Continuous assessment exam', 'Course participation written', 'Other', 'Course participation not written', 'Written not under invigilation', 'Continuous assessment not exam', 'Written under invigilation', 'Oral', 'Practical'}\n",
      "19119\n"
     ]
    }
   ],
   "source": [
    "# Making sure that the new column has the correct values \n",
    "print(set(df['Type of assessmet_edit'].tolist()))\n",
    "print(len(df['Type of assessmet_edit']))"
   ]
  },
  {
   "cell_type": "code",
   "execution_count": 57,
   "metadata": {},
   "outputs": [
    {
     "name": "stdout",
     "output_type": "stream",
     "text": [
      "233\n",
      "697\n",
      "2613\n",
      "4911\n",
      "3833\n",
      "4897\n",
      "0\n",
      "452\n",
      "709\n",
      "488\n",
      "286\n",
      "0\n"
     ]
    }
   ],
   "source": [
    "print(len( list_con_ass_exams))\n",
    "print(len( list_con_ass))\n",
    "print(len( list_written_exams_invigilation))\n",
    "print(len( list_written_exams_not_invigilation))\n",
    "print(len( list_oral_exams))\n",
    "print(len( list_other_exams))\n",
    "print(len( list_cor_part))\n",
    "print(len( list_cor_part_written))\n",
    "print(len( list_cor_part_not_written))\n",
    "print(len( list_port))\n",
    "print(len( list_prac))\n",
    "print(len( list_res))"
   ]
  }
 ],
 "metadata": {
  "kernelspec": {
   "display_name": "Python 3",
   "language": "python",
   "name": "python3"
  },
  "language_info": {
   "codemirror_mode": {
    "name": "ipython",
    "version": 3
   },
   "file_extension": ".py",
   "mimetype": "text/x-python",
   "name": "python",
   "nbconvert_exporter": "python",
   "pygments_lexer": "ipython3",
   "version": "3.7.3"
  }
 },
 "nbformat": 4,
 "nbformat_minor": 2
}
