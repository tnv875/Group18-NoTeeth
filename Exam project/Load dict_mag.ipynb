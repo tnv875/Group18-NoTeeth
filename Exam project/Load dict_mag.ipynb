{
 "cells": [
  {
   "cell_type": "code",
   "execution_count": 2,
   "metadata": {},
   "outputs": [],
   "source": [
    "import scraping_class\n",
    "logfile = 'log.txt'## name your log file.\n",
    "connector = scraping_class.Connector(logfile)\n",
    "import requests\n",
    "from bs4 import BeautifulSoup\n",
    "from tqdm import tqdm_notebook"
   ]
  },
  {
   "cell_type": "code",
   "execution_count": 3,
   "metadata": {},
   "outputs": [],
   "source": [
    "import pandas as pd\n",
    "import numpy as np\n",
    "import html5lib"
   ]
  },
  {
   "cell_type": "code",
   "execution_count": 15,
   "metadata": {},
   "outputs": [],
   "source": [
    "dict_load = np.load('kurser_scrabe_ALL.npy', allow_pickle=True).item()\n",
    "dict_load;"
   ]
  },
  {
   "cell_type": "code",
   "execution_count": 22,
   "metadata": {},
   "outputs": [],
   "source": [
    "df = pd.DataFrame.from_dict(dict_load, orient='index')"
   ]
  },
  {
   "cell_type": "code",
   "execution_count": 28,
   "metadata": {},
   "outputs": [
    {
     "data": {
      "text/plain": [
       "['Course Name',\n",
       " 'Credit',\n",
       " 'Type of assessment',\n",
       " 'Aid',\n",
       " 'Marking scale',\n",
       " 'Censorship form',\n",
       " 'Exam period',\n",
       " 'Re-exam',\n",
       " 'Language',\n",
       " 'Course code',\n",
       " 'Level',\n",
       " 'Duration',\n",
       " 'Placement',\n",
       " 'Schedule',\n",
       " 'Study board',\n",
       " 'Year',\n",
       " 'Course id',\n",
       " 'Category',\n",
       " 'Lectures',\n",
       " 'Preparation',\n",
       " 'Exam',\n",
       " 'Total',\n",
       " 'Content',\n",
       " 'Learning\\r\\nOutcome',\n",
       " 'Class Instruction',\n",
       " 'Practical exercises',\n",
       " 'Exam registration requirements',\n",
       " 'Kursuskapacitet',\n",
       " 'Feltarbejde',\n",
       " 'Praktiske øvelser',\n",
       " 'Efter- og videreuddannelse',\n",
       " 'Pris',\n",
       " 'Seminar',\n",
       " 'Guidance',\n",
       " 'Seminarhold',\n",
       " 'Class Seminar',\n",
       " 'Class Exercises',\n",
       " 'Study Groups',\n",
       " 'Exercises',\n",
       " 'Exam Preparation',\n",
       " 'Excursions',\n",
       " 'Øvelseshold',\n",
       " 'Studiegrupper',\n",
       " 'Øvelser',\n",
       " 'Course Preparation',\n",
       " 'Teoretiske øvelser',\n",
       " 'Project work',\n",
       " 'Undervisningsforberedelse',\n",
       " 'Eksamensforberedelse',\n",
       " 'Continuing and further education',\n",
       " 'Price',\n",
       " 'Course capacity',\n",
       " 'Ekskursioner',\n",
       " 'Klinik',\n",
       " 'Praktik',\n",
       " 'Kollokvier',\n",
       " 'Field Work',\n",
       " 'Theory exercises',\n",
       " 'Laboratorie',\n",
       " 'Colloquia',\n",
       " 'Laboratory',\n",
       " 'E-læring',\n",
       " 'E-Learning',\n",
       " 'Practical Training',\n",
       " 'Praksishold',\n",
       " 'Clinical practice',\n",
       " 'Tutoring',\n",
       " 'Manuduktion']"
      ]
     },
     "execution_count": 28,
     "metadata": {},
     "output_type": "execute_result"
    }
   ],
   "source": [
    "list(df.columns.values)"
   ]
  },
  {
   "cell_type": "code",
   "execution_count": 32,
   "metadata": {},
   "outputs": [
    {
     "ename": "AttributeError",
     "evalue": "'DataFrame' object has no attribute 'E'",
     "output_type": "error",
     "traceback": [
      "\u001b[1;31m---------------------------------------------------------------------------\u001b[0m",
      "\u001b[1;31mAttributeError\u001b[0m                            Traceback (most recent call last)",
      "\u001b[1;32m<ipython-input-32-6f2d0d1eb606>\u001b[0m in \u001b[0;36m<module>\u001b[1;34m\u001b[0m\n\u001b[1;32m----> 1\u001b[1;33m \u001b[0mdf\u001b[0m\u001b[1;33m.\u001b[0m\u001b[0mE\u001b[0m\u001b[1;33m-\u001b[0m\u001b[0mlæring\u001b[0m\u001b[1;33m.\u001b[0m\u001b[0munique\u001b[0m\u001b[1;33m\u001b[0m\u001b[1;33m\u001b[0m\u001b[0m\n\u001b[0m",
      "\u001b[1;32m~\\AppData\\Local\\Continuum\\anaconda3\\lib\\site-packages\\pandas\\core\\generic.py\u001b[0m in \u001b[0;36m__getattr__\u001b[1;34m(self, name)\u001b[0m\n\u001b[0;32m   5065\u001b[0m             \u001b[1;32mif\u001b[0m \u001b[0mself\u001b[0m\u001b[1;33m.\u001b[0m\u001b[0m_info_axis\u001b[0m\u001b[1;33m.\u001b[0m\u001b[0m_can_hold_identifiers_and_holds_name\u001b[0m\u001b[1;33m(\u001b[0m\u001b[0mname\u001b[0m\u001b[1;33m)\u001b[0m\u001b[1;33m:\u001b[0m\u001b[1;33m\u001b[0m\u001b[1;33m\u001b[0m\u001b[0m\n\u001b[0;32m   5066\u001b[0m                 \u001b[1;32mreturn\u001b[0m \u001b[0mself\u001b[0m\u001b[1;33m[\u001b[0m\u001b[0mname\u001b[0m\u001b[1;33m]\u001b[0m\u001b[1;33m\u001b[0m\u001b[1;33m\u001b[0m\u001b[0m\n\u001b[1;32m-> 5067\u001b[1;33m             \u001b[1;32mreturn\u001b[0m \u001b[0mobject\u001b[0m\u001b[1;33m.\u001b[0m\u001b[0m__getattribute__\u001b[0m\u001b[1;33m(\u001b[0m\u001b[0mself\u001b[0m\u001b[1;33m,\u001b[0m \u001b[0mname\u001b[0m\u001b[1;33m)\u001b[0m\u001b[1;33m\u001b[0m\u001b[1;33m\u001b[0m\u001b[0m\n\u001b[0m\u001b[0;32m   5068\u001b[0m \u001b[1;33m\u001b[0m\u001b[0m\n\u001b[0;32m   5069\u001b[0m     \u001b[1;32mdef\u001b[0m \u001b[0m__setattr__\u001b[0m\u001b[1;33m(\u001b[0m\u001b[0mself\u001b[0m\u001b[1;33m,\u001b[0m \u001b[0mname\u001b[0m\u001b[1;33m,\u001b[0m \u001b[0mvalue\u001b[0m\u001b[1;33m)\u001b[0m\u001b[1;33m:\u001b[0m\u001b[1;33m\u001b[0m\u001b[1;33m\u001b[0m\u001b[0m\n",
      "\u001b[1;31mAttributeError\u001b[0m: 'DataFrame' object has no attribute 'E'"
     ]
    }
   ],
   "source": [
    "df.E-læring.unique"
   ]
  }
 ],
 "metadata": {
  "kernelspec": {
   "display_name": "Python 3",
   "language": "python",
   "name": "python3"
  },
  "language_info": {
   "codemirror_mode": {
    "name": "ipython",
    "version": 3
   },
   "file_extension": ".py",
   "mimetype": "text/x-python",
   "name": "python",
   "nbconvert_exporter": "python",
   "pygments_lexer": "ipython3",
   "version": "3.7.3"
  }
 },
 "nbformat": 4,
 "nbformat_minor": 2
}
