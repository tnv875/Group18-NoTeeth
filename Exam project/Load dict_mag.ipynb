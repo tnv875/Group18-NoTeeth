{
 "cells": [
  {
   "cell_type": "code",
   "execution_count": 2,
   "metadata": {},
   "outputs": [],
   "source": [
    "import scraping_class\n",
    "logfile = 'log.txt'## name your log file.\n",
    "connector = scraping_class.Connector(logfile)\n",
    "import requests\n",
    "from bs4 import BeautifulSoup\n",
    "from tqdm import tqdm_notebook"
   ]
  },
  {
   "cell_type": "code",
   "execution_count": 3,
   "metadata": {},
   "outputs": [],
   "source": [
    "import pandas as pd\n",
    "import numpy as np\n",
    "import html5lib"
   ]
  },
  {
   "cell_type": "code",
   "execution_count": 15,
   "metadata": {},
   "outputs": [],
   "source": [
    "dict_load = np.load('kurser_scrabe_ALL.npy', allow_pickle=True).item()\n",
    "dict_load;"
   ]
  },
  {
   "cell_type": "code",
   "execution_count": 22,
   "metadata": {},
   "outputs": [],
   "source": [
    "df = pd.DataFrame.from_dict(dict_load, orient='index')\n"
   ]
  },
  {
   "cell_type": "code",
   "execution_count": 26,
   "metadata": {},
   "outputs": [
    {
     "data": {
      "text/plain": [
       "['Course Name',\n",
       " 'Credit',\n",
       " 'Type of assessment',\n",
       " 'Aid',\n",
       " 'Marking scale',\n",
       " 'Censorship form',\n",
       " 'Exam period',\n",
       " 'Re-exam',\n",
       " 'Language',\n",
       " 'Course code',\n",
       " 'Level',\n",
       " 'Duration',\n",
       " 'Placement',\n",
       " 'Schedule',\n",
       " 'Study board',\n",
       " 'Year',\n",
       " 'Course id',\n",
       " 'Category',\n",
       " 'Lectures',\n",
       " 'Preparation',\n",
       " 'Exam',\n",
       " 'Total',\n",
       " 'Content',\n",
       " 'Learning\\r\\nOutcome',\n",
       " 'Class Instruction',\n",
       " 'Practical exercises',\n",
       " 'Exam registration requirements',\n",
       " 'Kursuskapacitet',\n",
       " 'Feltarbejde',\n",
       " 'Praktiske øvelser',\n",
       " 'Efter- og videreuddannelse',\n",
       " 'Pris',\n",
       " 'Seminar',\n",
       " 'Guidance',\n",
       " 'Seminarhold',\n",
       " 'Class Seminar',\n",
       " 'Class Exercises',\n",
       " 'Study Groups',\n",
       " 'Exercises',\n",
       " 'Exam Preparation',\n",
       " 'Excursions',\n",
       " 'Øvelseshold',\n",
       " 'Studiegrupper',\n",
       " 'Øvelser',\n",
       " 'Course Preparation',\n",
       " 'Teoretiske øvelser',\n",
       " 'Project work',\n",
       " 'Undervisningsforberedelse',\n",
       " 'Eksamensforberedelse',\n",
       " 'Continuing and further education',\n",
       " 'Price',\n",
       " 'Course capacity',\n",
       " 'Ekskursioner',\n",
       " 'Klinik',\n",
       " 'Praktik',\n",
       " 'Kollokvier',\n",
       " 'Field Work',\n",
       " 'Theory exercises',\n",
       " 'Laboratorie',\n",
       " 'Colloquia',\n",
       " 'Laboratory',\n",
       " 'E-læring',\n",
       " 'E-Learning',\n",
       " 'Practical Training',\n",
       " 'Praksishold',\n",
       " 'Clinical practice',\n",
       " 'Tutoring',\n",
       " 'Manuduktion']"
      ]
     },
     "execution_count": 26,
     "metadata": {},
     "output_type": "execute_result"
    }
   ],
   "source": [
    "list(df.columns.values)"
   ]
  }
 ],
 "metadata": {
  "kernelspec": {
   "display_name": "Python 3",
   "language": "python",
   "name": "python3"
  },
  "language_info": {
   "codemirror_mode": {
    "name": "ipython",
    "version": 3
   },
   "file_extension": ".py",
   "mimetype": "text/x-python",
   "name": "python",
   "nbconvert_exporter": "python",
   "pygments_lexer": "ipython3",
   "version": "3.7.3"
  }
 },
 "nbformat": 4,
 "nbformat_minor": 2
}
