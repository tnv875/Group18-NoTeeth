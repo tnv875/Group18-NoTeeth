{
 "cells": [
  {
   "cell_type": "markdown",
   "metadata": {},
   "source": [
    "# Using soup"
   ]
  },
  {
   "cell_type": "code",
   "execution_count": 3,
   "metadata": {},
   "outputs": [],
   "source": [
    "import scraping_class\n",
    "logfile = 'log.txt' ## name your log file.\n",
    "connector = scraping_class.Connector(logfile)"
   ]
  },
  {
   "cell_type": "code",
   "execution_count": 4,
   "metadata": {},
   "outputs": [],
   "source": [
    "from bs4 import BeautifulSoup\n",
    "import requests\n",
    "main_url = 'https://kurser.ku.dk/archive'\n",
    "response = connector.get(main_url,'year_archives_links')\n",
    "raw_html = response[0].text\n",
    "# Collecting the soup\n",
    "soup = BeautifulSoup(raw_html,'html.parser')"
   ]
  },
  {
   "cell_type": "markdown",
   "metadata": {},
   "source": [
    "### UCPH  Courses - Step 1: Collecting links for the yearly archives"
   ]
  },
  {
   "cell_type": "code",
   "execution_count": 5,
   "metadata": {},
   "outputs": [
    {
     "data": {
      "text/plain": [
       "['/2017-2018', '/2016-2017', '/2015-2016', '/2014-2015', '/2013-2014']"
      ]
     },
     "execution_count": 5,
     "metadata": {},
     "output_type": "execute_result"
    }
   ],
   "source": [
    "# Collecting all the hyperlinks from the mainpage\n",
    "all_links = [a.get('href') for a in soup.find_all('a', href=True)]\n",
    "\n",
    "# Saving all the hyperlinks which contains the 'archive'\n",
    "endpoint_links = [s for s in all_links if \"archive\" in s]\n",
    "\n",
    "# Removing 'archive' from the endpoint links since the word is already in the main_url\n",
    "endpoint_links = [w[7:] for w in endpoint_links]\n",
    "endpoint_links"
   ]
  },
  {
   "cell_type": "code",
   "execution_count": 6,
   "metadata": {},
   "outputs": [
    {
     "data": {
      "text/plain": [
       "['https://kurser.ku.dk/archive/2017-2018',\n",
       " 'https://kurser.ku.dk/archive/2016-2017',\n",
       " 'https://kurser.ku.dk/archive/2015-2016',\n",
       " 'https://kurser.ku.dk/archive/2014-2015',\n",
       " 'https://kurser.ku.dk/archive/2013-2014']"
      ]
     },
     "execution_count": 6,
     "metadata": {},
     "output_type": "execute_result"
    }
   ],
   "source": [
    "# Creating the right links to scrape from the yearly archives\n",
    "desired_links_year = []\n",
    "for i in range(0,len(endpoint_links)):\n",
    "    url = main_url + endpoint_links[i]\n",
    "    desired_links_year.append(url)\n",
    "desired_links_year"
   ]
  },
  {
   "cell_type": "markdown",
   "metadata": {},
   "source": [
    "### UCPH Courses - Step 2: Collceting links for each Study Board"
   ]
  },
  {
   "cell_type": "code",
   "execution_count": 7,
   "metadata": {},
   "outputs": [
    {
     "name": "stdout",
     "output_type": "stream",
     "text": [
      "https://kurser.ku.dk/archive/2017-2018\n",
      "https://kurser.ku.dk/archive/2016-2017\n",
      "https://kurser.ku.dk/archive/2015-2016\n",
      "https://kurser.ku.dk/archive/2014-2015\n",
      "https://kurser.ku.dk/archive/2013-2014\n"
     ]
    }
   ],
   "source": [
    "soup_2 = []\n",
    "all_links_2 = []\n",
    "endpoint_links_2 = []\n",
    "endpoint_links_2_final = []\n",
    "desired_links_study_board = []\n",
    "\n",
    "for i in range(0,len(desired_links_year)):\n",
    "    \n",
    "    main_url_2 = desired_links_year[i]\n",
    "    print(main_url_2)\n",
    "    \n",
    "    response = connector.get(main_url_2,'year_archives_links')\n",
    "    raw_html_2 = response[0].text\n",
    "    # Collecting the soup\n",
    "    soup_2.append(BeautifulSoup(raw_html_2,'html.parser'))\n",
    "    # soup_2 is a list of lists, each lists contains html code for each yearly archive.\n",
    "    \n",
    "    # Collecting all the hyperlinks from the mainpage\n",
    "    all_links_2.append([a.get('href') for a in soup_2[i].find_all('a', href=True)])\n",
    "    \n",
    "    # Saving the given year, this step only needs to be run once. \n",
    "    if i == 0:\n",
    "        given_year = [w[29:] for w in desired_links_year]\n",
    "   \n",
    "    # Saving all the hyperlinks which contains the given year, these are the links for the Study boards\n",
    "    endpoint_links_2.append([s for s in all_links_2[i] if given_year[i] in s])\n",
    "    \n",
    "    # Removing the year from the endpoint_links_2 links since the word is already in the desired_links_year\n",
    "    endpoint_links_2_final.append([b[9:] for b in endpoint_links_2[i]])\n",
    "    \n",
    "    # Creating the right links to scrape from the study board archives\n",
    "    for k in range(0,len(endpoint_links_2_final[i])): \n",
    "        \n",
    "        # Getting elements in the lists out as strings in the correct way\n",
    "        str_studyboard = ''.join(endpoint_links_2_final[i][0+k:1+k])\n",
    "        \n",
    "        desired_links_study_board.append(desired_links_year[i] + str_studyboard)\n",
    "        \n",
    "soup_2;\n",
    "all_links_2;\n",
    "given_year;\n",
    "endpoint_links_2;\n",
    "endpoint_links_2_final;\n",
    "desired_links_study_board;"
   ]
  },
  {
   "cell_type": "code",
   "execution_count": 8,
   "metadata": {},
   "outputs": [
    {
     "data": {
      "text/plain": [
       "192"
      ]
     },
     "execution_count": 8,
     "metadata": {},
     "output_type": "execute_result"
    }
   ],
   "source": [
    "len(desired_links_study_board)"
   ]
  },
  {
   "cell_type": "code",
   "execution_count": 9,
   "metadata": {},
   "outputs": [
    {
     "data": {
      "text/plain": [
       "['https://kurser.ku.dk/archive/2017-2018/888',\n",
       " 'https://kurser.ku.dk/archive/2017-2018/STUDYBOARD_0010',\n",
       " 'https://kurser.ku.dk/archive/2017-2018/STUDYBOARD_0021',\n",
       " 'https://kurser.ku.dk/archive/2017-2018/STUDYBOARD_0044',\n",
       " 'https://kurser.ku.dk/archive/2017-2018/STUDYBOARD_0009']"
      ]
     },
     "execution_count": 9,
     "metadata": {},
     "output_type": "execute_result"
    }
   ],
   "source": [
    "desired_links_study_board[:5]"
   ]
  },
  {
   "cell_type": "markdown",
   "metadata": {},
   "source": [
    "### UCPH Courses - Step 3: Collecting links for each course"
   ]
  },
  {
   "cell_type": "code",
   "execution_count": 10,
   "metadata": {},
   "outputs": [],
   "source": [
    "desired_links_study_board_rev = []\n",
    "\n",
    "# We have to edit til disered_links_study_board because the course url do not contain the study board url.\n",
    "for q in range(0,len(desired_links_study_board)):\n",
    "    desired_links_study_board_rev.append(desired_links_study_board[q][0:38])"
   ]
  },
  {
   "cell_type": "code",
   "execution_count": 11,
   "metadata": {
    "scrolled": true
   },
   "outputs": [
    {
     "name": "stdout",
     "output_type": "stream",
     "text": [
      "https://kurser.ku.dk/archive/2017-2018/888\n",
      "1\n",
      "https://kurser.ku.dk/archive/2017-2018/STUDYBOARD_0010\n",
      "2\n",
      "https://kurser.ku.dk/archive/2017-2018/STUDYBOARD_0021\n",
      "3\n",
      "https://kurser.ku.dk/archive/2017-2018/STUDYBOARD_0044\n",
      "4\n",
      "https://kurser.ku.dk/archive/2017-2018/STUDYBOARD_0009\n",
      "5\n",
      "https://kurser.ku.dk/archive/2017-2018/STUDYBOARD_PB_01\n",
      "6\n",
      "https://kurser.ku.dk/archive/2017-2018/STUDYBOARD_SU_0031\n",
      "7\n",
      "https://kurser.ku.dk/archive/2017-2018/STUDYBOARD_0012\n",
      "8\n",
      "https://kurser.ku.dk/archive/2017-2018/STUDYBOARD_0033\n",
      "9\n",
      "https://kurser.ku.dk/archive/2017-2018/STUDYBOARD_0025\n",
      "10\n",
      "https://kurser.ku.dk/archive/2017-2018/STUDYBOARD_0019\n",
      "11\n",
      "https://kurser.ku.dk/archive/2017-2018/STUDYBOARD__BI_0031\n",
      "12\n",
      "https://kurser.ku.dk/archive/2017-2018/STUDYBOARD_0028\n",
      "13\n",
      "https://kurser.ku.dk/archive/2017-2018/STUDYBOARD_0027\n",
      "14\n",
      "https://kurser.ku.dk/archive/2017-2018/STUDYBOARD_0029\n",
      "15\n",
      "https://kurser.ku.dk/archive/2017-2018/STUDYBOARD_0034\n",
      "16\n",
      "https://kurser.ku.dk/archive/2017-2018/STUDYBOARD_0030\n",
      "17\n",
      "https://kurser.ku.dk/archive/2017-2018/STUDYBOARD_MI_0031\n",
      "18\n",
      "https://kurser.ku.dk/archive/2017-2018/STUDYBOARD_PHD_0010\n",
      "19\n",
      "https://kurser.ku.dk/archive/2017-2018/STUDYBOARD_0020\n",
      "20\n",
      "https://kurser.ku.dk/archive/2017-2018/STUDYBOARD_0054\n",
      "21\n",
      "https://kurser.ku.dk/archive/2017-2018/STUDYBOARD_0001\n",
      "22\n",
      "https://kurser.ku.dk/archive/2017-2018/STUDYBOARD_0005\n",
      "23\n",
      "https://kurser.ku.dk/archive/2017-2018/SUND_FG\n",
      "24\n",
      "https://kurser.ku.dk/archive/2017-2018/STUD_HBI\n",
      "25\n",
      "https://kurser.ku.dk/archive/2017-2018/STUDYBOARD_0032\n",
      "26\n",
      "https://kurser.ku.dk/archive/2017-2018/STUDYBOARD_0006\n",
      "27\n",
      "https://kurser.ku.dk/archive/2017-2018/SUND_MAS\n",
      "28\n",
      "https://kurser.ku.dk/archive/2017-2018/SUND_MS\n",
      "29\n",
      "https://kurser.ku.dk/archive/2017-2018/STUDYBOARD_0091\n",
      "30\n",
      "https://kurser.ku.dk/archive/2017-2018/STUDYBOARD_4861\n",
      "31\n",
      "https://kurser.ku.dk/archive/2017-2018/STUDYBOARD_0003\n",
      "32\n",
      "https://kurser.ku.dk/archive/2017-2018/STUDYBOARD_0203\n",
      "33\n",
      "https://kurser.ku.dk/archive/2017-2018/SUND_SI\n",
      "34\n",
      "https://kurser.ku.dk/archive/2017-2018/STUDYBOARD_0014\n",
      "35\n",
      "https://kurser.ku.dk/archive/2017-2018/STUDYBOARD_0004\n",
      "36\n",
      "https://kurser.ku.dk/archive/2017-2018/STUDYBOARD_0023\n",
      "37\n",
      "https://kurser.ku.dk/archive/2016-2017/STUDYBOARD_0010\n",
      "38\n",
      "https://kurser.ku.dk/archive/2016-2017/STUDYBOARD_0032\n",
      "39\n",
      "https://kurser.ku.dk/archive/2016-2017/STUDYBOARD_0018\n",
      "40\n",
      "https://kurser.ku.dk/archive/2016-2017/STUDYBOARD_0071\n",
      "41\n",
      "https://kurser.ku.dk/archive/2016-2017/STUDYBOARD_0021\n",
      "42\n",
      "https://kurser.ku.dk/archive/2016-2017/STUDYBOARD_0044\n",
      "43\n",
      "https://kurser.ku.dk/archive/2016-2017/STUDYBOARD_0009\n",
      "44\n",
      "https://kurser.ku.dk/archive/2016-2017/STUDYBOARD_PHD_0015\n",
      "45\n",
      "https://kurser.ku.dk/archive/2016-2017/STUDYBOARD_PB_01\n",
      "46\n",
      "https://kurser.ku.dk/archive/2016-2017/STUDYBOARD_0012\n",
      "47\n",
      "https://kurser.ku.dk/archive/2016-2017/STUDYBOARD_0033\n",
      "48\n",
      "https://kurser.ku.dk/archive/2016-2017/STUDYBOARD_0025\n",
      "49\n",
      "https://kurser.ku.dk/archive/2016-2017/STUDYBOARD_0026\n",
      "50\n",
      "https://kurser.ku.dk/archive/2016-2017/STUDYBOARD_MA_0002\n",
      "51\n",
      "https://kurser.ku.dk/archive/2016-2017/STUDYBOARD_0019\n",
      "52\n",
      "https://kurser.ku.dk/archive/2016-2017/STUDYBOARD_0113\n",
      "53\n",
      "https://kurser.ku.dk/archive/2016-2017/STUDYBOARD_0054\n",
      "54\n",
      "https://kurser.ku.dk/archive/2016-2017/STUDYBOARD_0028\n",
      "55\n",
      "https://kurser.ku.dk/archive/2016-2017/STUDYBOARD_0066\n",
      "56\n",
      "https://kurser.ku.dk/archive/2016-2017/STUDYBOARD_0027\n",
      "57\n",
      "https://kurser.ku.dk/archive/2016-2017/STUDYBOARD_0029\n",
      "58\n",
      "https://kurser.ku.dk/archive/2016-2017/STUDYBOARD_0034\n",
      "59\n",
      "https://kurser.ku.dk/archive/2016-2017/STUDYBOARD_MA_0013\n",
      "60\n",
      "https://kurser.ku.dk/archive/2016-2017/STUDYBOARD_0030\n",
      "61\n",
      "https://kurser.ku.dk/archive/2016-2017/STUDYBOARD_0031\n",
      "62\n",
      "https://kurser.ku.dk/archive/2016-2017/STUDYBOARD_PHD_0010\n",
      "63\n",
      "https://kurser.ku.dk/archive/2016-2017/STUDYBOARD_0020\n",
      "64\n",
      "https://kurser.ku.dk/archive/2016-2017/STUDYBOARD_0001\n",
      "65\n",
      "https://kurser.ku.dk/archive/2016-2017/STUDYBOARD_0005\n",
      "66\n",
      "https://kurser.ku.dk/archive/2016-2017/SUND_FG\n",
      "67\n",
      "https://kurser.ku.dk/archive/2016-2017/STUD_HBI\n",
      "68\n",
      "https://kurser.ku.dk/archive/2016-2017/STUDYBOARD_MA_0014\n",
      "69\n",
      "https://kurser.ku.dk/archive/2016-2017/STUDYBOARD_0006\n",
      "70\n",
      "https://kurser.ku.dk/archive/2016-2017/SUND_MAS\n",
      "71\n",
      "https://kurser.ku.dk/archive/2016-2017/STUDYBOARD_0016\n",
      "72\n",
      "https://kurser.ku.dk/archive/2016-2017/SUND_MS\n",
      "73\n",
      "https://kurser.ku.dk/archive/2016-2017/STUDYBOARD_0091\n",
      "74\n",
      "https://kurser.ku.dk/archive/2016-2017/STUDYBOARD_4861\n",
      "75\n",
      "https://kurser.ku.dk/archive/2016-2017/STUDYBOARD_0003\n",
      "76\n",
      "https://kurser.ku.dk/archive/2016-2017/STUDYBOARD_0203\n",
      "77\n",
      "https://kurser.ku.dk/archive/2016-2017/STUDYBOARD_0014\n",
      "78\n",
      "https://kurser.ku.dk/archive/2016-2017/STUDYBOARD_0004\n",
      "79\n",
      "https://kurser.ku.dk/archive/2016-2017/STUDYBOARD_0023\n",
      "80\n",
      "https://kurser.ku.dk/archive/2015-2016/STUDYBOARD_0010\n",
      "81\n",
      "https://kurser.ku.dk/archive/2015-2016/STUDYBOARD_0032\n",
      "82\n",
      "https://kurser.ku.dk/archive/2015-2016/STUDYBOARD_0054\n",
      "83\n",
      "https://kurser.ku.dk/archive/2015-2016/STUDYBOARD_0018\n",
      "84\n",
      "https://kurser.ku.dk/archive/2015-2016/STUDYBOARD_0071\n",
      "85\n",
      "https://kurser.ku.dk/archive/2015-2016/STUDYBOARD_0021\n",
      "86\n",
      "https://kurser.ku.dk/archive/2015-2016/STUDYBOARD_0044\n",
      "87\n",
      "https://kurser.ku.dk/archive/2015-2016/STUDYBOARD_0009\n",
      "88\n",
      "https://kurser.ku.dk/archive/2015-2016/STUDYBOARD_PHD_0015\n",
      "89\n",
      "https://kurser.ku.dk/archive/2015-2016/STUDYBOARD_PB_01\n",
      "90\n",
      "https://kurser.ku.dk/archive/2015-2016/STUDYBOARD_0012\n",
      "91\n",
      "https://kurser.ku.dk/archive/2015-2016/STUDYBOARD_0033\n",
      "92\n",
      "https://kurser.ku.dk/archive/2015-2016/STUDYBOARD_0025\n",
      "93\n",
      "https://kurser.ku.dk/archive/2015-2016/STUDYBOARD_0026\n",
      "94\n",
      "https://kurser.ku.dk/archive/2015-2016/STUDYBOARD_MA_0002\n",
      "95\n",
      "https://kurser.ku.dk/archive/2015-2016/STUDYBOARD_0019\n",
      "96\n",
      "https://kurser.ku.dk/archive/2015-2016/STUDYBOARD_0113\n",
      "97\n",
      "https://kurser.ku.dk/archive/2015-2016/STUDYBOARD_0028\n",
      "98\n",
      "https://kurser.ku.dk/archive/2015-2016/STUDYBOARD_0066\n",
      "99\n",
      "https://kurser.ku.dk/archive/2015-2016/STUDYBOARD_0027\n",
      "100\n",
      "https://kurser.ku.dk/archive/2015-2016/STUDYBOARD_0029\n",
      "101\n",
      "https://kurser.ku.dk/archive/2015-2016/STUDYBOARD_0034\n",
      "102\n",
      "https://kurser.ku.dk/archive/2015-2016/STUDYBOARD_MA_0013\n",
      "103\n",
      "https://kurser.ku.dk/archive/2015-2016/STUDYBOARD_0030\n",
      "104\n",
      "https://kurser.ku.dk/archive/2015-2016/STUDYBOARD_0031\n",
      "105\n",
      "https://kurser.ku.dk/archive/2015-2016/STUDYBOARD_PHD_0010\n",
      "106\n",
      "https://kurser.ku.dk/archive/2015-2016/STUDYBOARD_0020\n",
      "107\n",
      "https://kurser.ku.dk/archive/2015-2016/STUDYBOARD_0001\n",
      "108\n",
      "https://kurser.ku.dk/archive/2015-2016/STUDYBOARD_0005\n",
      "109\n",
      "https://kurser.ku.dk/archive/2015-2016/STUDYBOARD_MA_0014\n",
      "110\n",
      "https://kurser.ku.dk/archive/2015-2016/STUDYBOARD_0006\n",
      "111\n",
      "https://kurser.ku.dk/archive/2015-2016/STUDYBOARD_0016\n",
      "112\n",
      "https://kurser.ku.dk/archive/2015-2016/STUDYBOARD_0091\n",
      "113\n",
      "https://kurser.ku.dk/archive/2015-2016/STUDYBOARD_0003\n",
      "114\n",
      "https://kurser.ku.dk/archive/2015-2016/STUDYBOARD_0203\n",
      "115\n",
      "https://kurser.ku.dk/archive/2015-2016/STUDYBOARD_0014\n",
      "116\n",
      "https://kurser.ku.dk/archive/2015-2016/STUDYBOARD_0004\n",
      "117\n",
      "https://kurser.ku.dk/archive/2015-2016/STUDYBOARD_0023\n",
      "118\n",
      "https://kurser.ku.dk/archive/2014-2015/STUDYBOARD_0010\n",
      "119\n",
      "https://kurser.ku.dk/archive/2014-2015/STUDYBOARD_0032\n",
      "120\n",
      "https://kurser.ku.dk/archive/2014-2015/STUDYBOARD_0054\n",
      "121\n",
      "https://kurser.ku.dk/archive/2014-2015/STUDYBOARD_0018\n",
      "122\n",
      "https://kurser.ku.dk/archive/2014-2015/STUDYBOARD_0071\n",
      "123\n",
      "https://kurser.ku.dk/archive/2014-2015/STUDYBOARD_0021\n",
      "124\n",
      "https://kurser.ku.dk/archive/2014-2015/STUDYBOARD_0044\n",
      "125\n",
      "https://kurser.ku.dk/archive/2014-2015/STUDYBOARD_0009\n",
      "126\n",
      "https://kurser.ku.dk/archive/2014-2015/STUDYBOARD_PHD_0015\n",
      "127\n",
      "https://kurser.ku.dk/archive/2014-2015/STUDYBOARD_PB_01\n",
      "128\n",
      "https://kurser.ku.dk/archive/2014-2015/STUDYBOARD_0012\n",
      "129\n",
      "https://kurser.ku.dk/archive/2014-2015/STUDYBOARD_0033\n",
      "130\n",
      "https://kurser.ku.dk/archive/2014-2015/STUDYBOARD_0025\n",
      "131\n",
      "https://kurser.ku.dk/archive/2014-2015/STUDYBOARD_0026\n",
      "132\n",
      "https://kurser.ku.dk/archive/2014-2015/STUDYBOARD_MA_0002\n",
      "133\n",
      "https://kurser.ku.dk/archive/2014-2015/STUDYBOARD_0019\n",
      "134\n",
      "https://kurser.ku.dk/archive/2014-2015/STUDYBOARD_0113\n",
      "135\n",
      "https://kurser.ku.dk/archive/2014-2015/STUDYBOARD_0028\n",
      "136\n",
      "https://kurser.ku.dk/archive/2014-2015/STUDYBOARD_0066\n",
      "137\n",
      "https://kurser.ku.dk/archive/2014-2015/STUDYBOARD_0027\n",
      "138\n",
      "https://kurser.ku.dk/archive/2014-2015/STUDYBOARD_0029\n",
      "139\n",
      "https://kurser.ku.dk/archive/2014-2015/STUDYBOARD_0034\n",
      "140\n",
      "https://kurser.ku.dk/archive/2014-2015/STUDYBOARD_0020\n",
      "141\n",
      "https://kurser.ku.dk/archive/2014-2015/STUDYBOARD_MA_0013\n"
     ]
    },
    {
     "name": "stdout",
     "output_type": "stream",
     "text": [
      "142\n",
      "https://kurser.ku.dk/archive/2014-2015/STUDYBOARD_0030\n",
      "143\n",
      "https://kurser.ku.dk/archive/2014-2015/STUDYBOARD_0031\n",
      "144\n",
      "https://kurser.ku.dk/archive/2014-2015/STUDYBOARD_PHD_0010\n",
      "145\n",
      "https://kurser.ku.dk/archive/2014-2015/STUDYBOARD_0001\n",
      "146\n",
      "https://kurser.ku.dk/archive/2014-2015/STUDYBOARD_0005\n",
      "147\n",
      "https://kurser.ku.dk/archive/2014-2015/STUDYBOARD_MA_0014\n",
      "148\n",
      "https://kurser.ku.dk/archive/2014-2015/STUDYBOARD_0006\n",
      "149\n",
      "https://kurser.ku.dk/archive/2014-2015/STUDYBOARD_0016\n",
      "150\n",
      "https://kurser.ku.dk/archive/2014-2015/STUDYBOARD_0091\n",
      "151\n",
      "https://kurser.ku.dk/archive/2014-2015/STUDYBOARD_0003\n",
      "152\n",
      "https://kurser.ku.dk/archive/2014-2015/STUDYBOARD_0203\n",
      "153\n",
      "https://kurser.ku.dk/archive/2014-2015/STUDYBOARD_0014\n",
      "154\n",
      "https://kurser.ku.dk/archive/2014-2015/STUDYBOARD_0004\n",
      "155\n",
      "https://kurser.ku.dk/archive/2014-2015/STUDYBOARD_0023\n",
      "156\n",
      "https://kurser.ku.dk/archive/2013-2014/STUDYBOARD_0010\n",
      "157\n",
      "https://kurser.ku.dk/archive/2013-2014/STUDYBOARD_0032\n",
      "158\n",
      "https://kurser.ku.dk/archive/2013-2014/STUDYBOARD_0018\n",
      "159\n",
      "https://kurser.ku.dk/archive/2013-2014/STUDYBOARD_0021\n",
      "160\n",
      "https://kurser.ku.dk/archive/2013-2014/STUDYBOARD_0044\n",
      "161\n",
      "https://kurser.ku.dk/archive/2013-2014/STUDYBOARD_0009\n",
      "162\n",
      "https://kurser.ku.dk/archive/2013-2014/STUDYBOARD_PHD_0015\n",
      "163\n",
      "https://kurser.ku.dk/archive/2013-2014/STUDYBOARD_PB_01\n",
      "164\n",
      "https://kurser.ku.dk/archive/2013-2014/STUDYBOARD_0012\n",
      "165\n",
      "https://kurser.ku.dk/archive/2013-2014/STUDYBOARD_0033\n",
      "166\n",
      "https://kurser.ku.dk/archive/2013-2014/STUDYBOARD_0025\n",
      "167\n",
      "https://kurser.ku.dk/archive/2013-2014/STUDYBOARD_0026\n",
      "168\n",
      "https://kurser.ku.dk/archive/2013-2014/STUDYBOARD_MA_0002\n",
      "169\n",
      "https://kurser.ku.dk/archive/2013-2014/STUDYBOARD_0019\n",
      "170\n",
      "https://kurser.ku.dk/archive/2013-2014/STUDYBOARD_0113\n",
      "171\n",
      "https://kurser.ku.dk/archive/2013-2014/STUDYBOARD_0054\n",
      "172\n",
      "https://kurser.ku.dk/archive/2013-2014/STUDYBOARD_0028\n",
      "173\n",
      "https://kurser.ku.dk/archive/2013-2014/STUDYBOARD_0066\n",
      "174\n",
      "https://kurser.ku.dk/archive/2013-2014/STUDYBOARD_0027\n",
      "175\n",
      "https://kurser.ku.dk/archive/2013-2014/STUDYBOARD_0029\n",
      "176\n",
      "https://kurser.ku.dk/archive/2013-2014/STUDYBOARD_0020\n",
      "177\n",
      "https://kurser.ku.dk/archive/2013-2014/STUDYBOARD_MA_0014\n",
      "178\n",
      "https://kurser.ku.dk/archive/2013-2014/STUDYBOARD_MA_0013\n",
      "179\n",
      "https://kurser.ku.dk/archive/2013-2014/STUDYBOARD_0030\n",
      "180\n",
      "https://kurser.ku.dk/archive/2013-2014/STUDYBOARD_0031\n",
      "181\n",
      "https://kurser.ku.dk/archive/2013-2014/STUDYBOARD_0001\n",
      "182\n",
      "https://kurser.ku.dk/archive/2013-2014/STUDYBOARD_0005\n",
      "183\n",
      "https://kurser.ku.dk/archive/2013-2014/STUDYBOARD_0006\n",
      "184\n",
      "https://kurser.ku.dk/archive/2013-2014/STUDYBOARD_0016\n",
      "185\n",
      "https://kurser.ku.dk/archive/2013-2014/STUDYBOARD_0091\n",
      "186\n",
      "https://kurser.ku.dk/archive/2013-2014/STUDYBOARD_0003\n",
      "187\n",
      "https://kurser.ku.dk/archive/2013-2014/STUDYBOARD_PHD_0010\n",
      "188\n",
      "https://kurser.ku.dk/archive/2013-2014/STUDYBOARD_0203\n",
      "189\n",
      "https://kurser.ku.dk/archive/2013-2014/STUDYBOARD_0014\n",
      "190\n",
      "https://kurser.ku.dk/archive/2013-2014/STUDYBOARD_0004\n",
      "191\n",
      "https://kurser.ku.dk/archive/2013-2014/STUDYBOARD_0023\n",
      "192\n"
     ]
    }
   ],
   "source": [
    "soup_3 = []\n",
    "all_links_3 = []\n",
    "endpoint_links_3 = []\n",
    "endpoint_links_3_final=[]\n",
    "desired_links_courses = []\n",
    "\n",
    "#Looping through all studyboards in a given year and collecting the course links\n",
    "for i in range(0,len(desired_links_study_board)):\n",
    "    main_url_3 = desired_links_study_board[i]\n",
    "    print(main_url_3)\n",
    "    \n",
    "    response = connector.get(main_url_3,'study_board_years_archives_links')\n",
    "    raw_html_3 = response[0].text\n",
    "    # Collecting the soup\n",
    "    soup_3.append(BeautifulSoup(raw_html_3,'html.parser'))\n",
    "    print(len(soup_3)) \n",
    "        \n",
    "    # Collecting all the hyperlinks from the course page from a given study board in a given year\n",
    "    all_links_3.append([a.get('href') for a in soup_3[i].find_all('a', href=True)])\n",
    "    \n",
    "    # Saving all the hyperlinks which contains the given year, these are the links for the Study boards\n",
    "    endpoint_links_3.append([s for s in all_links_3[i] if '/course/' in s])\n",
    "    \n",
    "    # Removing the year and studyboard from endpoint_links_3 \n",
    "    endpoint_links_3_final.append([b[18:] for b in endpoint_links_3[i]]) \n",
    "    \n",
    "    # Running through each study board and collecting the course urls.\n",
    "    for k in range(0,len(endpoint_links_3_final[i])):\n",
    "        \n",
    "        # Getting elements in the lists out as strings in the correct way\n",
    "        str_course = ''.join(endpoint_links_3_final[i][k])\n",
    "        \n",
    "        # Desired_links_courses is a list containing all course links. \n",
    "        desired_links_courses.append(desired_links_study_board_rev[i] + str_course)\n"
   ]
  },
  {
   "cell_type": "code",
   "execution_count": 39,
   "metadata": {},
   "outputs": [
    {
     "name": "stdout",
     "output_type": "stream",
     "text": [
      "20035\n",
      "20035\n"
     ]
    }
   ],
   "source": [
    "print(len(desired_links_courses))\n",
    "print(len(set(desired_links_courses)))\n",
    "#we have no dublicates - which makes sence."
   ]
  },
  {
   "cell_type": "code",
   "execution_count": 17,
   "metadata": {},
   "outputs": [
    {
     "data": {
      "text/plain": [
       "'https://kurser.ku.dk/archive/2017-2018/course/UCPHAUK18U'"
      ]
     },
     "execution_count": 17,
     "metadata": {},
     "output_type": "execute_result"
    }
   ],
   "source": [
    "desired_links_courses[0]"
   ]
  },
  {
   "cell_type": "markdown",
   "metadata": {},
   "source": [
    "### UCPH Courses - Collecting the course ID's"
   ]
  },
  {
   "cell_type": "code",
   "execution_count": 30,
   "metadata": {},
   "outputs": [
    {
     "name": "stdout",
     "output_type": "stream",
     "text": [
      "20035\n"
     ]
    },
    {
     "data": {
      "text/plain": [
       "'SVEK13099U'"
      ]
     },
     "execution_count": 30,
     "metadata": {},
     "output_type": "execute_result"
    }
   ],
   "source": [
    "course_ids = []\n",
    "\n",
    "for i in range(0,len(desired_links_courses)):\n",
    "    course_ids.append(desired_links_courses[i][46:])\n",
    "\n",
    "\n",
    "print(len(course_ids))\n",
    "\n",
    "course_ids[20034]"
   ]
  },
  {
   "cell_type": "code",
   "execution_count": 36,
   "metadata": {},
   "outputs": [
    {
     "data": {
      "text/plain": [
       "11126"
      ]
     },
     "execution_count": 36,
     "metadata": {},
     "output_type": "execute_result"
    }
   ],
   "source": [
    "# A set object is an unordered collection of distinct hashable objects - we convert the set back to a list.\n",
    "unique_course_ids = list(set(course_ids))\n",
    "len(unique_course_ids)\n",
    "# We see that we have some dublicates in the course_ids list. This is becuase some courses do not change ID from year to year."
   ]
  },
  {
   "cell_type": "markdown",
   "metadata": {},
   "source": [
    "### UCPH Courses - Scraping each course "
   ]
  },
  {
   "cell_type": "code",
   "execution_count": 40,
   "metadata": {},
   "outputs": [],
   "source": [
    "import pandas as pd\n",
    "import numpy as np\n",
    "import html5lib"
   ]
  },
  {
   "cell_type": "code",
   "execution_count": 41,
   "metadata": {},
   "outputs": [],
   "source": [
    "def create_df(url):\n",
    "    response = requests.get(url)\n",
    "    \n",
    "    course_id = url.split('/')[-2]\n",
    "    year = url.split('/')[-1]\n",
    "\n",
    "    raw_html = response.text\n",
    "    soup = BeautifulSoup(raw_html,'lxml')\n",
    "\n",
    "    info = soup.find_all(\"dl\", {'class':'dl-horizontal'})\n",
    "\n",
    "    comp_info = pd.DataFrame()\n",
    "    cleaned_id_text = []\n",
    "    for i in info[0].find_all('dt'):\n",
    "        cleaned_id_text.append(i.text)\n",
    "    cleaned_id__attrb_text = []\n",
    "    for i in info[0].find_all('dd'):\n",
    "        cleaned_id__attrb_text.append(i.text)\n",
    "    for i in info[1].find_all('dt'):\n",
    "        cleaned_id_text.append(i.text)\n",
    "    for i in info[1].find_all('dd'):\n",
    "        cleaned_id__attrb_text.append(i.text)\n",
    "\n",
    "    cleaned_id_text.append('Year')\n",
    "    cleaned_id__attrb_text.append(year)\n",
    "\n",
    "    cleaned_id_text.append('Course id')\n",
    "    cleaned_id__attrb_text.append(course_id)\n",
    "\n",
    "    work = soup.find('ul',{'class':'list-unstyled workload clearfix'})\n",
    "    workfi = work.find_all('li')\n",
    "\n",
    "    for i in range(len(workfi)):\n",
    "        if i % 2 ==0:\n",
    "            cleaned_id_text.append(workfi[i].text)\n",
    "        else: \n",
    "            cleaned_id__attrb_text.append(workfi[i].text)\n",
    "\n",
    "\n",
    "    comp_info['Id'] = cleaned_id_text\n",
    "    comp_info['Attribute'] = cleaned_id__attrb_text\n",
    "    return(comp_info)"
   ]
  },
  {
   "cell_type": "code",
   "execution_count": 142,
   "metadata": {},
   "outputs": [
    {
     "name": "stdout",
     "output_type": "stream",
     "text": [
      "https://kurser.ku.dk/archive/2017-2018/course/AANA17100U\n",
      "https://kurser.ku.dk/archive/2017-2018/course/AANA17101U\n",
      "https://kurser.ku.dk/archive/2017-2018/course/AANA17102U\n",
      "https://kurser.ku.dk/archive/2017-2018/course/AANA17103U\n",
      "https://kurser.ku.dk/archive/2017-2018/course/AANA17104U\n",
      "https://kurser.ku.dk/archive/2017-2018/course/AANA17105U\n"
     ]
    },
    {
     "ename": "ValueError",
     "evalue": "Length of values does not match length of index",
     "output_type": "error",
     "traceback": [
      "\u001b[1;31m---------------------------------------------------------------------------\u001b[0m",
      "\u001b[1;31mValueError\u001b[0m                                Traceback (most recent call last)",
      "\u001b[1;32m<ipython-input-142-2b15b6006363>\u001b[0m in \u001b[0;36m<module>\u001b[1;34m()\u001b[0m\n\u001b[0;32m      4\u001b[0m     \u001b[0murl\u001b[0m \u001b[1;33m=\u001b[0m \u001b[0mdesired_links_courses\u001b[0m\u001b[1;33m[\u001b[0m\u001b[0mi\u001b[0m\u001b[1;33m]\u001b[0m\u001b[1;33m\u001b[0m\u001b[1;33m\u001b[0m\u001b[0m\n\u001b[0;32m      5\u001b[0m     \u001b[0mprint\u001b[0m\u001b[1;33m(\u001b[0m\u001b[0mdesired_links_courses\u001b[0m\u001b[1;33m[\u001b[0m\u001b[0mi\u001b[0m\u001b[1;33m]\u001b[0m\u001b[1;33m)\u001b[0m\u001b[1;33m\u001b[0m\u001b[1;33m\u001b[0m\u001b[0m\n\u001b[1;32m----> 6\u001b[1;33m     \u001b[0mdftest\u001b[0m\u001b[1;33m=\u001b[0m\u001b[0mcreate_df\u001b[0m\u001b[1;33m(\u001b[0m\u001b[0murl\u001b[0m\u001b[1;33m)\u001b[0m\u001b[1;33m\u001b[0m\u001b[1;33m\u001b[0m\u001b[0m\n\u001b[0m\u001b[0;32m      7\u001b[0m \u001b[1;33m\u001b[0m\u001b[0m\n\u001b[0;32m      8\u001b[0m     \u001b[1;31m# No need for a column called Id. We just use the Id column as the index. For now.\u001b[0m\u001b[1;33m\u001b[0m\u001b[1;33m\u001b[0m\u001b[1;33m\u001b[0m\u001b[0m\n",
      "\u001b[1;32m<ipython-input-41-b258f0d9fe56>\u001b[0m in \u001b[0;36mcreate_df\u001b[1;34m(url)\u001b[0m\n\u001b[0;32m     39\u001b[0m \u001b[1;33m\u001b[0m\u001b[0m\n\u001b[0;32m     40\u001b[0m     \u001b[0mcomp_info\u001b[0m\u001b[1;33m[\u001b[0m\u001b[1;34m'Id'\u001b[0m\u001b[1;33m]\u001b[0m \u001b[1;33m=\u001b[0m \u001b[0mcleaned_id_text\u001b[0m\u001b[1;33m\u001b[0m\u001b[1;33m\u001b[0m\u001b[0m\n\u001b[1;32m---> 41\u001b[1;33m     \u001b[0mcomp_info\u001b[0m\u001b[1;33m[\u001b[0m\u001b[1;34m'Attribute'\u001b[0m\u001b[1;33m]\u001b[0m \u001b[1;33m=\u001b[0m \u001b[0mcleaned_id__attrb_text\u001b[0m\u001b[1;33m\u001b[0m\u001b[1;33m\u001b[0m\u001b[0m\n\u001b[0m\u001b[0;32m     42\u001b[0m     \u001b[1;32mreturn\u001b[0m\u001b[1;33m(\u001b[0m\u001b[0mcomp_info\u001b[0m\u001b[1;33m)\u001b[0m\u001b[1;33m\u001b[0m\u001b[1;33m\u001b[0m\u001b[0m\n",
      "\u001b[1;32m~\\Anaconda3\\lib\\site-packages\\pandas\\core\\frame.py\u001b[0m in \u001b[0;36m__setitem__\u001b[1;34m(self, key, value)\u001b[0m\n\u001b[0;32m   3368\u001b[0m         \u001b[1;32melse\u001b[0m\u001b[1;33m:\u001b[0m\u001b[1;33m\u001b[0m\u001b[1;33m\u001b[0m\u001b[0m\n\u001b[0;32m   3369\u001b[0m             \u001b[1;31m# set column\u001b[0m\u001b[1;33m\u001b[0m\u001b[1;33m\u001b[0m\u001b[1;33m\u001b[0m\u001b[0m\n\u001b[1;32m-> 3370\u001b[1;33m             \u001b[0mself\u001b[0m\u001b[1;33m.\u001b[0m\u001b[0m_set_item\u001b[0m\u001b[1;33m(\u001b[0m\u001b[0mkey\u001b[0m\u001b[1;33m,\u001b[0m \u001b[0mvalue\u001b[0m\u001b[1;33m)\u001b[0m\u001b[1;33m\u001b[0m\u001b[1;33m\u001b[0m\u001b[0m\n\u001b[0m\u001b[0;32m   3371\u001b[0m \u001b[1;33m\u001b[0m\u001b[0m\n\u001b[0;32m   3372\u001b[0m     \u001b[1;32mdef\u001b[0m \u001b[0m_setitem_slice\u001b[0m\u001b[1;33m(\u001b[0m\u001b[0mself\u001b[0m\u001b[1;33m,\u001b[0m \u001b[0mkey\u001b[0m\u001b[1;33m,\u001b[0m \u001b[0mvalue\u001b[0m\u001b[1;33m)\u001b[0m\u001b[1;33m:\u001b[0m\u001b[1;33m\u001b[0m\u001b[1;33m\u001b[0m\u001b[0m\n",
      "\u001b[1;32m~\\Anaconda3\\lib\\site-packages\\pandas\\core\\frame.py\u001b[0m in \u001b[0;36m_set_item\u001b[1;34m(self, key, value)\u001b[0m\n\u001b[0;32m   3443\u001b[0m \u001b[1;33m\u001b[0m\u001b[0m\n\u001b[0;32m   3444\u001b[0m         \u001b[0mself\u001b[0m\u001b[1;33m.\u001b[0m\u001b[0m_ensure_valid_index\u001b[0m\u001b[1;33m(\u001b[0m\u001b[0mvalue\u001b[0m\u001b[1;33m)\u001b[0m\u001b[1;33m\u001b[0m\u001b[1;33m\u001b[0m\u001b[0m\n\u001b[1;32m-> 3445\u001b[1;33m         \u001b[0mvalue\u001b[0m \u001b[1;33m=\u001b[0m \u001b[0mself\u001b[0m\u001b[1;33m.\u001b[0m\u001b[0m_sanitize_column\u001b[0m\u001b[1;33m(\u001b[0m\u001b[0mkey\u001b[0m\u001b[1;33m,\u001b[0m \u001b[0mvalue\u001b[0m\u001b[1;33m)\u001b[0m\u001b[1;33m\u001b[0m\u001b[1;33m\u001b[0m\u001b[0m\n\u001b[0m\u001b[0;32m   3446\u001b[0m         \u001b[0mNDFrame\u001b[0m\u001b[1;33m.\u001b[0m\u001b[0m_set_item\u001b[0m\u001b[1;33m(\u001b[0m\u001b[0mself\u001b[0m\u001b[1;33m,\u001b[0m \u001b[0mkey\u001b[0m\u001b[1;33m,\u001b[0m \u001b[0mvalue\u001b[0m\u001b[1;33m)\u001b[0m\u001b[1;33m\u001b[0m\u001b[1;33m\u001b[0m\u001b[0m\n\u001b[0;32m   3447\u001b[0m \u001b[1;33m\u001b[0m\u001b[0m\n",
      "\u001b[1;32m~\\Anaconda3\\lib\\site-packages\\pandas\\core\\frame.py\u001b[0m in \u001b[0;36m_sanitize_column\u001b[1;34m(self, key, value, broadcast)\u001b[0m\n\u001b[0;32m   3628\u001b[0m \u001b[1;33m\u001b[0m\u001b[0m\n\u001b[0;32m   3629\u001b[0m             \u001b[1;31m# turn me into an ndarray\u001b[0m\u001b[1;33m\u001b[0m\u001b[1;33m\u001b[0m\u001b[1;33m\u001b[0m\u001b[0m\n\u001b[1;32m-> 3630\u001b[1;33m             \u001b[0mvalue\u001b[0m \u001b[1;33m=\u001b[0m \u001b[0msanitize_index\u001b[0m\u001b[1;33m(\u001b[0m\u001b[0mvalue\u001b[0m\u001b[1;33m,\u001b[0m \u001b[0mself\u001b[0m\u001b[1;33m.\u001b[0m\u001b[0mindex\u001b[0m\u001b[1;33m,\u001b[0m \u001b[0mcopy\u001b[0m\u001b[1;33m=\u001b[0m\u001b[1;32mFalse\u001b[0m\u001b[1;33m)\u001b[0m\u001b[1;33m\u001b[0m\u001b[1;33m\u001b[0m\u001b[0m\n\u001b[0m\u001b[0;32m   3631\u001b[0m             \u001b[1;32mif\u001b[0m \u001b[1;32mnot\u001b[0m \u001b[0misinstance\u001b[0m\u001b[1;33m(\u001b[0m\u001b[0mvalue\u001b[0m\u001b[1;33m,\u001b[0m \u001b[1;33m(\u001b[0m\u001b[0mnp\u001b[0m\u001b[1;33m.\u001b[0m\u001b[0mndarray\u001b[0m\u001b[1;33m,\u001b[0m \u001b[0mIndex\u001b[0m\u001b[1;33m)\u001b[0m\u001b[1;33m)\u001b[0m\u001b[1;33m:\u001b[0m\u001b[1;33m\u001b[0m\u001b[1;33m\u001b[0m\u001b[0m\n\u001b[0;32m   3632\u001b[0m                 \u001b[1;32mif\u001b[0m \u001b[0misinstance\u001b[0m\u001b[1;33m(\u001b[0m\u001b[0mvalue\u001b[0m\u001b[1;33m,\u001b[0m \u001b[0mlist\u001b[0m\u001b[1;33m)\u001b[0m \u001b[1;32mand\u001b[0m \u001b[0mlen\u001b[0m\u001b[1;33m(\u001b[0m\u001b[0mvalue\u001b[0m\u001b[1;33m)\u001b[0m \u001b[1;33m>\u001b[0m \u001b[1;36m0\u001b[0m\u001b[1;33m:\u001b[0m\u001b[1;33m\u001b[0m\u001b[1;33m\u001b[0m\u001b[0m\n",
      "\u001b[1;32m~\\Anaconda3\\lib\\site-packages\\pandas\\core\\internals\\construction.py\u001b[0m in \u001b[0;36msanitize_index\u001b[1;34m(data, index, copy)\u001b[0m\n\u001b[0;32m    517\u001b[0m \u001b[1;33m\u001b[0m\u001b[0m\n\u001b[0;32m    518\u001b[0m     \u001b[1;32mif\u001b[0m \u001b[0mlen\u001b[0m\u001b[1;33m(\u001b[0m\u001b[0mdata\u001b[0m\u001b[1;33m)\u001b[0m \u001b[1;33m!=\u001b[0m \u001b[0mlen\u001b[0m\u001b[1;33m(\u001b[0m\u001b[0mindex\u001b[0m\u001b[1;33m)\u001b[0m\u001b[1;33m:\u001b[0m\u001b[1;33m\u001b[0m\u001b[1;33m\u001b[0m\u001b[0m\n\u001b[1;32m--> 519\u001b[1;33m         \u001b[1;32mraise\u001b[0m \u001b[0mValueError\u001b[0m\u001b[1;33m(\u001b[0m\u001b[1;34m'Length of values does not match length of index'\u001b[0m\u001b[1;33m)\u001b[0m\u001b[1;33m\u001b[0m\u001b[1;33m\u001b[0m\u001b[0m\n\u001b[0m\u001b[0;32m    520\u001b[0m \u001b[1;33m\u001b[0m\u001b[0m\n\u001b[0;32m    521\u001b[0m     \u001b[1;32mif\u001b[0m \u001b[0misinstance\u001b[0m\u001b[1;33m(\u001b[0m\u001b[0mdata\u001b[0m\u001b[1;33m,\u001b[0m \u001b[0mABCIndexClass\u001b[0m\u001b[1;33m)\u001b[0m \u001b[1;32mand\u001b[0m \u001b[1;32mnot\u001b[0m \u001b[0mcopy\u001b[0m\u001b[1;33m:\u001b[0m\u001b[1;33m\u001b[0m\u001b[1;33m\u001b[0m\u001b[0m\n",
      "\u001b[1;31mValueError\u001b[0m: Length of values does not match length of index"
     ]
    }
   ],
   "source": [
    "dct = dict()\n",
    "\n",
    "for i in range(1,20):\n",
    "    url = desired_links_courses[i]\n",
    "    print(desired_links_courses[i])\n",
    "    dftest=create_df(url)\n",
    "\n",
    "    # No need for a column called Id. We just use the Id column as the index. For now.\n",
    "    # Also, we rename the other column ('Attribute') to the course url since we will use this as the key in the dict. \n",
    "    dftest=dftest.set_index('Id').rename(columns = {'Attribute': desired_links_courses[i]})\n",
    "\n",
    "    # Converting the dataframe to a dictionary\n",
    "    dct_temp = dict()\n",
    "    dct_temp = dftest.to_dict()\n",
    "    \n",
    "    # Adding to dict\n",
    "    dct.update(dct_temp)\n",
    "    "
   ]
  },
  {
   "cell_type": "code",
   "execution_count": 140,
   "metadata": {},
   "outputs": [
    {
     "name": "stdout",
     "output_type": "stream",
     "text": [
      "https://kurser.ku.dk/archive/2017-2018/course/AANA17102U\n"
     ]
    },
    {
     "data": {
      "text/plain": [
       "{'Category': 'Hours',\n",
       " 'Censorship form': 'No external censorship',\n",
       " 'Class Instruction': '42',\n",
       " 'Course code': 'AANA17102U',\n",
       " 'Course id': 'course',\n",
       " 'Credit': '7,5 ECTS',\n",
       " 'Duration': '1 semester',\n",
       " 'Exam': '37',\n",
       " 'Exam period': 'The essay must be uploaded to Digital Exam no later than June\\r\\n7th at 12.00 (noon).',\n",
       " 'Language': 'English',\n",
       " 'Level': 'Bachelor\\r\\nBachelor choice Full Degree Master choice',\n",
       " 'Marking scale': '7-point grading scale',\n",
       " 'Placement': 'Spring',\n",
       " 'Practical exercises': '44',\n",
       " 'Preparation': '84',\n",
       " 'Re-exam': '1. re-exam:An essay with a revised problem statement must be submitted at\\r\\nthe announced date. The students must sign up for the 1.\\r\\nre-exam.2. re-exam:A new essay with a revised problem statement must be submitted\\r\\nat the announced date next semester. The students must sign up for\\r\\nthe 2. re-exam.',\n",
       " 'Schedule': 'more information to come.',\n",
       " 'Study board': 'Department of Anthropology, Study Council',\n",
       " 'Total': '207',\n",
       " 'Type of assessment': 'Written assignmentEssay length: 21,600–26,400 keystrokes for an individual\\r\\nsubmission. 6,750–8,250 keystrokes per extra member for group\\r\\nsubmissions. The maximum number of students who can write an essay\\r\\nin a group is four.',\n",
       " 'Year': 'AANA17102U'}"
      ]
     },
     "execution_count": 140,
     "metadata": {},
     "output_type": "execute_result"
    }
   ],
   "source": [
    "\n",
    "print(desired_links_courses[3])\n",
    "dct[desired_links_courses[3]]"
   ]
  },
  {
   "cell_type": "code",
   "execution_count": 143,
   "metadata": {},
   "outputs": [
    {
     "ename": "ValueError",
     "evalue": "Length of values does not match length of index",
     "output_type": "error",
     "traceback": [
      "\u001b[1;31m---------------------------------------------------------------------------\u001b[0m",
      "\u001b[1;31mValueError\u001b[0m                                Traceback (most recent call last)",
      "\u001b[1;32m<ipython-input-143-2350b37cf4f4>\u001b[0m in \u001b[0;36m<module>\u001b[1;34m()\u001b[0m\n\u001b[1;32m----> 1\u001b[1;33m \u001b[0mcreate_df\u001b[0m\u001b[1;33m(\u001b[0m\u001b[1;34m'https://kurser.ku.dk/archive/2017-2018/course/AANA17105U'\u001b[0m\u001b[1;33m)\u001b[0m\u001b[1;33m\u001b[0m\u001b[1;33m\u001b[0m\u001b[0m\n\u001b[0m",
      "\u001b[1;32m<ipython-input-41-b258f0d9fe56>\u001b[0m in \u001b[0;36mcreate_df\u001b[1;34m(url)\u001b[0m\n\u001b[0;32m     39\u001b[0m \u001b[1;33m\u001b[0m\u001b[0m\n\u001b[0;32m     40\u001b[0m     \u001b[0mcomp_info\u001b[0m\u001b[1;33m[\u001b[0m\u001b[1;34m'Id'\u001b[0m\u001b[1;33m]\u001b[0m \u001b[1;33m=\u001b[0m \u001b[0mcleaned_id_text\u001b[0m\u001b[1;33m\u001b[0m\u001b[1;33m\u001b[0m\u001b[0m\n\u001b[1;32m---> 41\u001b[1;33m     \u001b[0mcomp_info\u001b[0m\u001b[1;33m[\u001b[0m\u001b[1;34m'Attribute'\u001b[0m\u001b[1;33m]\u001b[0m \u001b[1;33m=\u001b[0m \u001b[0mcleaned_id__attrb_text\u001b[0m\u001b[1;33m\u001b[0m\u001b[1;33m\u001b[0m\u001b[0m\n\u001b[0m\u001b[0;32m     42\u001b[0m     \u001b[1;32mreturn\u001b[0m\u001b[1;33m(\u001b[0m\u001b[0mcomp_info\u001b[0m\u001b[1;33m)\u001b[0m\u001b[1;33m\u001b[0m\u001b[1;33m\u001b[0m\u001b[0m\n",
      "\u001b[1;32m~\\Anaconda3\\lib\\site-packages\\pandas\\core\\frame.py\u001b[0m in \u001b[0;36m__setitem__\u001b[1;34m(self, key, value)\u001b[0m\n\u001b[0;32m   3368\u001b[0m         \u001b[1;32melse\u001b[0m\u001b[1;33m:\u001b[0m\u001b[1;33m\u001b[0m\u001b[1;33m\u001b[0m\u001b[0m\n\u001b[0;32m   3369\u001b[0m             \u001b[1;31m# set column\u001b[0m\u001b[1;33m\u001b[0m\u001b[1;33m\u001b[0m\u001b[1;33m\u001b[0m\u001b[0m\n\u001b[1;32m-> 3370\u001b[1;33m             \u001b[0mself\u001b[0m\u001b[1;33m.\u001b[0m\u001b[0m_set_item\u001b[0m\u001b[1;33m(\u001b[0m\u001b[0mkey\u001b[0m\u001b[1;33m,\u001b[0m \u001b[0mvalue\u001b[0m\u001b[1;33m)\u001b[0m\u001b[1;33m\u001b[0m\u001b[1;33m\u001b[0m\u001b[0m\n\u001b[0m\u001b[0;32m   3371\u001b[0m \u001b[1;33m\u001b[0m\u001b[0m\n\u001b[0;32m   3372\u001b[0m     \u001b[1;32mdef\u001b[0m \u001b[0m_setitem_slice\u001b[0m\u001b[1;33m(\u001b[0m\u001b[0mself\u001b[0m\u001b[1;33m,\u001b[0m \u001b[0mkey\u001b[0m\u001b[1;33m,\u001b[0m \u001b[0mvalue\u001b[0m\u001b[1;33m)\u001b[0m\u001b[1;33m:\u001b[0m\u001b[1;33m\u001b[0m\u001b[1;33m\u001b[0m\u001b[0m\n",
      "\u001b[1;32m~\\Anaconda3\\lib\\site-packages\\pandas\\core\\frame.py\u001b[0m in \u001b[0;36m_set_item\u001b[1;34m(self, key, value)\u001b[0m\n\u001b[0;32m   3443\u001b[0m \u001b[1;33m\u001b[0m\u001b[0m\n\u001b[0;32m   3444\u001b[0m         \u001b[0mself\u001b[0m\u001b[1;33m.\u001b[0m\u001b[0m_ensure_valid_index\u001b[0m\u001b[1;33m(\u001b[0m\u001b[0mvalue\u001b[0m\u001b[1;33m)\u001b[0m\u001b[1;33m\u001b[0m\u001b[1;33m\u001b[0m\u001b[0m\n\u001b[1;32m-> 3445\u001b[1;33m         \u001b[0mvalue\u001b[0m \u001b[1;33m=\u001b[0m \u001b[0mself\u001b[0m\u001b[1;33m.\u001b[0m\u001b[0m_sanitize_column\u001b[0m\u001b[1;33m(\u001b[0m\u001b[0mkey\u001b[0m\u001b[1;33m,\u001b[0m \u001b[0mvalue\u001b[0m\u001b[1;33m)\u001b[0m\u001b[1;33m\u001b[0m\u001b[1;33m\u001b[0m\u001b[0m\n\u001b[0m\u001b[0;32m   3446\u001b[0m         \u001b[0mNDFrame\u001b[0m\u001b[1;33m.\u001b[0m\u001b[0m_set_item\u001b[0m\u001b[1;33m(\u001b[0m\u001b[0mself\u001b[0m\u001b[1;33m,\u001b[0m \u001b[0mkey\u001b[0m\u001b[1;33m,\u001b[0m \u001b[0mvalue\u001b[0m\u001b[1;33m)\u001b[0m\u001b[1;33m\u001b[0m\u001b[1;33m\u001b[0m\u001b[0m\n\u001b[0;32m   3447\u001b[0m \u001b[1;33m\u001b[0m\u001b[0m\n",
      "\u001b[1;32m~\\Anaconda3\\lib\\site-packages\\pandas\\core\\frame.py\u001b[0m in \u001b[0;36m_sanitize_column\u001b[1;34m(self, key, value, broadcast)\u001b[0m\n\u001b[0;32m   3628\u001b[0m \u001b[1;33m\u001b[0m\u001b[0m\n\u001b[0;32m   3629\u001b[0m             \u001b[1;31m# turn me into an ndarray\u001b[0m\u001b[1;33m\u001b[0m\u001b[1;33m\u001b[0m\u001b[1;33m\u001b[0m\u001b[0m\n\u001b[1;32m-> 3630\u001b[1;33m             \u001b[0mvalue\u001b[0m \u001b[1;33m=\u001b[0m \u001b[0msanitize_index\u001b[0m\u001b[1;33m(\u001b[0m\u001b[0mvalue\u001b[0m\u001b[1;33m,\u001b[0m \u001b[0mself\u001b[0m\u001b[1;33m.\u001b[0m\u001b[0mindex\u001b[0m\u001b[1;33m,\u001b[0m \u001b[0mcopy\u001b[0m\u001b[1;33m=\u001b[0m\u001b[1;32mFalse\u001b[0m\u001b[1;33m)\u001b[0m\u001b[1;33m\u001b[0m\u001b[1;33m\u001b[0m\u001b[0m\n\u001b[0m\u001b[0;32m   3631\u001b[0m             \u001b[1;32mif\u001b[0m \u001b[1;32mnot\u001b[0m \u001b[0misinstance\u001b[0m\u001b[1;33m(\u001b[0m\u001b[0mvalue\u001b[0m\u001b[1;33m,\u001b[0m \u001b[1;33m(\u001b[0m\u001b[0mnp\u001b[0m\u001b[1;33m.\u001b[0m\u001b[0mndarray\u001b[0m\u001b[1;33m,\u001b[0m \u001b[0mIndex\u001b[0m\u001b[1;33m)\u001b[0m\u001b[1;33m)\u001b[0m\u001b[1;33m:\u001b[0m\u001b[1;33m\u001b[0m\u001b[1;33m\u001b[0m\u001b[0m\n\u001b[0;32m   3632\u001b[0m                 \u001b[1;32mif\u001b[0m \u001b[0misinstance\u001b[0m\u001b[1;33m(\u001b[0m\u001b[0mvalue\u001b[0m\u001b[1;33m,\u001b[0m \u001b[0mlist\u001b[0m\u001b[1;33m)\u001b[0m \u001b[1;32mand\u001b[0m \u001b[0mlen\u001b[0m\u001b[1;33m(\u001b[0m\u001b[0mvalue\u001b[0m\u001b[1;33m)\u001b[0m \u001b[1;33m>\u001b[0m \u001b[1;36m0\u001b[0m\u001b[1;33m:\u001b[0m\u001b[1;33m\u001b[0m\u001b[1;33m\u001b[0m\u001b[0m\n",
      "\u001b[1;32m~\\Anaconda3\\lib\\site-packages\\pandas\\core\\internals\\construction.py\u001b[0m in \u001b[0;36msanitize_index\u001b[1;34m(data, index, copy)\u001b[0m\n\u001b[0;32m    517\u001b[0m \u001b[1;33m\u001b[0m\u001b[0m\n\u001b[0;32m    518\u001b[0m     \u001b[1;32mif\u001b[0m \u001b[0mlen\u001b[0m\u001b[1;33m(\u001b[0m\u001b[0mdata\u001b[0m\u001b[1;33m)\u001b[0m \u001b[1;33m!=\u001b[0m \u001b[0mlen\u001b[0m\u001b[1;33m(\u001b[0m\u001b[0mindex\u001b[0m\u001b[1;33m)\u001b[0m\u001b[1;33m:\u001b[0m\u001b[1;33m\u001b[0m\u001b[1;33m\u001b[0m\u001b[0m\n\u001b[1;32m--> 519\u001b[1;33m         \u001b[1;32mraise\u001b[0m \u001b[0mValueError\u001b[0m\u001b[1;33m(\u001b[0m\u001b[1;34m'Length of values does not match length of index'\u001b[0m\u001b[1;33m)\u001b[0m\u001b[1;33m\u001b[0m\u001b[1;33m\u001b[0m\u001b[0m\n\u001b[0m\u001b[0;32m    520\u001b[0m \u001b[1;33m\u001b[0m\u001b[0m\n\u001b[0;32m    521\u001b[0m     \u001b[1;32mif\u001b[0m \u001b[0misinstance\u001b[0m\u001b[1;33m(\u001b[0m\u001b[0mdata\u001b[0m\u001b[1;33m,\u001b[0m \u001b[0mABCIndexClass\u001b[0m\u001b[1;33m)\u001b[0m \u001b[1;32mand\u001b[0m \u001b[1;32mnot\u001b[0m \u001b[0mcopy\u001b[0m\u001b[1;33m:\u001b[0m\u001b[1;33m\u001b[0m\u001b[1;33m\u001b[0m\u001b[0m\n",
      "\u001b[1;31mValueError\u001b[0m: Length of values does not match length of index"
     ]
    }
   ],
   "source": [
    "create_df('https://kurser.ku.dk/archive/2017-2018/course/AANA17105U')"
   ]
  }
 ],
 "metadata": {
  "kernelspec": {
   "display_name": "Python 3",
   "language": "python",
   "name": "python3"
  },
  "language_info": {
   "codemirror_mode": {
    "name": "ipython",
    "version": 3
   },
   "file_extension": ".py",
   "mimetype": "text/x-python",
   "name": "python",
   "nbconvert_exporter": "python",
   "pygments_lexer": "ipython3",
   "version": "3.7.3"
  }
 },
 "nbformat": 4,
 "nbformat_minor": 2
}
