{
 "cells": [
  {
   "cell_type": "code",
   "execution_count": 1,
   "metadata": {},
   "outputs": [],
   "source": [
    "import scraping_class\n",
    "logfile = 'log.txt'## name your log file.\n",
    "connector = scraping_class.Connector(logfile)\n",
    "import requests\n",
    "from bs4 import BeautifulSoup\n",
    "from tqdm import tqdm_notebook"
   ]
  },
  {
   "cell_type": "code",
   "execution_count": 2,
   "metadata": {},
   "outputs": [],
   "source": [
    "import pandas as pd\n",
    "import numpy as np\n",
    "import html5lib\n",
    "import sys\n",
    "import pickle\n",
    "from tqdm import tqdm_notebook\n",
    "import seaborn as sns"
   ]
  },
  {
   "cell_type": "code",
   "execution_count": 3,
   "metadata": {},
   "outputs": [],
   "source": [
    "import matplotlib.pyplot as plt\n",
    "from matplotlib import pyplot"
   ]
  },
  {
   "cell_type": "code",
   "execution_count": 4,
   "metadata": {},
   "outputs": [],
   "source": [
    "with open('df_final.pkl', 'rb') as f:\n",
    "    df = pickle.load(f)"
   ]
  },
  {
   "cell_type": "code",
   "execution_count": 5,
   "metadata": {},
   "outputs": [
    {
     "data": {
      "text/plain": [
       "array(['Kursus', 'Fakultet', 'Institut', 'Termin', 'ECTS', 'Eksamenstype',\n",
       "       'Antal tilmeldte', 'Fremmødte', 'Antal bestået',\n",
       "       'Eksamensgennemsnit', 12, 10, 7, 4, 2, 0, -3, 'Ej mødt',\n",
       "       'Ikke bestået', 'Year', 'ID', 'Re-exam_dummy', 'URL_E', 'level_0',\n",
       "       'Course Name', 'Credit', 'Type of assessment', 'Aid',\n",
       "       'Marking scale', 'Censorship form', 'Exam period', 'Re-exam',\n",
       "       'Language', 'Course code', 'Level', 'Duration', 'Placement',\n",
       "       'Schedule', 'Study board', 'Course id', 'Category', 'Lectures',\n",
       "       'Preparation', 'Exam', 'Total', 'Content', 'Learning\\r\\nOutcome',\n",
       "       'Class Instruction', 'Practical exercises',\n",
       "       'Exam registration requirements', 'Field Work', 'Course capacity',\n",
       "       'Seminar', 'Guidance', 'Continuing and further education', 'Price',\n",
       "       'Class Seminar', 'Class Exercises', 'Study Groups', 'Exercises',\n",
       "       'Exam Preparation', 'Excursions', 'Øvelseshold', 'Øvelser',\n",
       "       'Course Preparation', 'Theory exercises', 'Project work',\n",
       "       'Clinical practice', 'Praktik', 'Colloquia', 'Laboratory',\n",
       "       'E-Learning', 'Practical Training', 'Praksishold', 'Tutoring',\n",
       "       'Manuduktion', 'Aid_edit', 'Marking scale_edit',\n",
       "       'Censorship form_edit', 'Bachelor', 'Bachelor choice',\n",
       "       'Full Degree Master choice', 'Full Degree Master', 'Propaedeutics',\n",
       "       'Part Time Master', 'Ph.D.', 'Professionsbachelor', 'Master',\n",
       "       'Duration_edit', 'Credit_edit', 'Lectures_edit',\n",
       "       'Preparation_edit', 'Exam_edit', 'Total_edit',\n",
       "       'Practical exercises_edit', 'Field Work_edit', 'Guidance_edit',\n",
       "       'Class Seminar_edit', 'Class Exercises_edit', 'Study Groups_edit',\n",
       "       'Exercises_edit', 'Exam Preparation_edit', 'Excursions_edit',\n",
       "       'Øvelseshold_edit', 'Øvelser_edit', 'Course Preparation_edit',\n",
       "       'Theory exercises_edit', 'Project work_edit',\n",
       "       'Clinical practice_edit', 'Praktik_edit', 'Colloquia_edit',\n",
       "       'Laboratory_edit', 'E-Learning_edit', 'Practical Training_edit',\n",
       "       'Praksishold_edit', 'Tutoring_edit', 'Manuduktion_edit',\n",
       "       'Language_edit', 'Type of assessmet_edit', 'URL_C'], dtype=object)"
      ]
     },
     "execution_count": 5,
     "metadata": {},
     "output_type": "execute_result"
    }
   ],
   "source": [
    "df.columns.values"
   ]
  },
  {
   "cell_type": "markdown",
   "metadata": {},
   "source": [
    "### Faculties"
   ]
  },
  {
   "cell_type": "code",
   "execution_count": 6,
   "metadata": {},
   "outputs": [
    {
     "name": "stdout",
     "output_type": "stream",
     "text": [
      "['Det Natur- og Biovidenskabelige Fakultet'\n",
      " 'Det Samfundsvidenskabelige Fakultet' 'Det Humanistiske Fakultet'\n",
      " 'Det Sundhedsvidenskabelige Fakultet' 'Det Juridiske Fakultet'\n",
      " 'Det Teologiske Fakultet']\n"
     ]
    }
   ],
   "source": [
    "# note: no NaN's\n",
    "print(df['Fakultet'].unique())"
   ]
  },
  {
   "cell_type": "code",
   "execution_count": 7,
   "metadata": {},
   "outputs": [
    {
     "name": "stdout",
     "output_type": "stream",
     "text": [
      "5277\n",
      "2225\n",
      "1976\n",
      "2869\n",
      "1264\n",
      "373\n"
     ]
    }
   ],
   "source": [
    "print(sum(df['Fakultet'] == 'Det Natur- og Biovidenskabelige Fakultet'))\n",
    "print(sum(df['Fakultet'] == 'Det Samfundsvidenskabelige Fakultet'))\n",
    "print(sum(df['Fakultet'] == 'Det Humanistiske Fakultet'))\n",
    "print(sum(df['Fakultet'] == 'Det Sundhedsvidenskabelige Fakultet'))\n",
    "print(sum(df['Fakultet'] == 'Det Juridiske Fakultet'))\n",
    "print(sum(df['Fakultet'] == 'Det Teologiske Fakultet'))"
   ]
  },
  {
   "cell_type": "code",
   "execution_count": 253,
   "metadata": {},
   "outputs": [
    {
     "data": {
      "application/vnd.jupyter.widget-view+json": {
       "model_id": "92e51fcf00f54557b503c45768546f25",
       "version_major": 2,
       "version_minor": 0
      },
      "text/plain": [
       "HBox(children=(IntProgress(value=0, max=6), HTML(value='')))"
      ]
     },
     "metadata": {},
     "output_type": "display_data"
    },
    {
     "name": "stdout",
     "output_type": "stream",
     "text": [
      "\n"
     ]
    },
    {
     "data": {
      "text/plain": [
       "[169289, 69597, 44473, 162603, 80992, 4875]"
      ]
     },
     "execution_count": 253,
     "metadata": {},
     "output_type": "execute_result"
    }
   ],
   "source": [
    "#Number of grades given for each faculty. \n",
    "list_number_of_grades_faculties = []\n",
    "for i in tqdm_notebook(df['Fakultet'].unique()):\n",
    "    df_number_grades = df[df['Fakultet'] == i]\n",
    "    list_number_of_grades_faculties.append(int(sum(df_number_grades[[12, 10, 7, 4, 2, 0, -3]].sum(skipna = True))))\n",
    "\n",
    "list_number_of_grades_faculties"
   ]
  },
  {
   "cell_type": "code",
   "execution_count": 254,
   "metadata": {},
   "outputs": [
    {
     "data": {
      "application/vnd.jupyter.widget-view+json": {
       "model_id": "c8f6a17f8b1b457b90f6ee3860f98a2e",
       "version_major": 2,
       "version_minor": 0
      },
      "text/plain": [
       "HBox(children=(IntProgress(value=0, max=6), HTML(value='')))"
      ]
     },
     "metadata": {},
     "output_type": "display_data"
    },
    {
     "name": "stdout",
     "output_type": "stream",
     "text": [
      "\n"
     ]
    },
    {
     "data": {
      "text/plain": [
       "[149084, 62257, 40893, 147508, 72293, 4440]"
      ]
     },
     "execution_count": 254,
     "metadata": {},
     "output_type": "execute_result"
    }
   ],
   "source": [
    "#Number of passing grades given for each faculty. \n",
    "list_no_fail_number_of_grades_faculties = []\n",
    "for i in tqdm_notebook(df['Fakultet'].unique()):\n",
    "    df_number_grades = df[df['Fakultet'] == i]\n",
    "    list_no_fail_number_of_grades_faculties.append(int(sum(df_number_grades[[12, 10, 7, 4, 2]].sum(skipna = True))))\n",
    "\n",
    "list_no_fail_number_of_grades_faculties"
   ]
  },
  {
   "cell_type": "code",
   "execution_count": 259,
   "metadata": {},
   "outputs": [
    {
     "name": "stdout",
     "output_type": "stream",
     "text": [
      "72293\n"
     ]
    }
   ],
   "source": [
    "df_number_grades = df[df['Fakultet'] == 'Det Juridiske Fakultet']\n",
    "print(int(sum(df_number_grades[[12, 10, 7, 4, 2]].sum(skipna = True))))\n"
   ]
  },
  {
   "cell_type": "code",
   "execution_count": 8,
   "metadata": {},
   "outputs": [
    {
     "data": {
      "text/plain": [
       "<matplotlib.axes._subplots.AxesSubplot at 0x25a4a8fdb38>"
      ]
     },
     "execution_count": 8,
     "metadata": {},
     "output_type": "execute_result"
    },
    {
     "data": {
      "image/png": "[encoded data removed]",
      "text/plain": [
       "<Figure size 432x288 with 1 Axes>"
      ]
     },
     "metadata": {
      "needs_background": "light"
     },
     "output_type": "display_data"
    }
   ],
   "source": [
    "a4_dims = (20, 8.27)\n",
    "#df = mylib.load_data()\n",
    "#fig, ax = pyplot.subplots(figsize=a4_dims)\n",
    "sns.boxplot(x='Fakultet', y='Eksamensgennemsnit', data=df)"
   ]
  },
  {
   "cell_type": "code",
   "execution_count": 9,
   "metadata": {},
   "outputs": [
    {
     "data": {
      "text/plain": [
       "array(['Det Natur- og Biovidenskabelige Fakultet',\n",
       "       'Det Samfundsvidenskabelige Fakultet', 'Det Humanistiske Fakultet',\n",
       "       'Det Sundhedsvidenskabelige Fakultet', 'Det Juridiske Fakultet',\n",
       "       'Det Teologiske Fakultet'], dtype=object)"
      ]
     },
     "execution_count": 9,
     "metadata": {},
     "output_type": "execute_result"
    }
   ],
   "source": [
    "df['Fakultet'].unique()"
   ]
  },
  {
   "cell_type": "code",
   "execution_count": 10,
   "metadata": {},
   "outputs": [
    {
     "name": "stderr",
     "output_type": "stream",
     "text": [
      "C:\\Users\\jens_\\Anaconda3\\lib\\site-packages\\numpy\\lib\\histograms.py:824: RuntimeWarning: invalid value encountered in greater_equal\n",
      "  keep = (tmp_a >= first_edge)\n",
      "C:\\Users\\jens_\\Anaconda3\\lib\\site-packages\\numpy\\lib\\histograms.py:825: RuntimeWarning: invalid value encountered in less_equal\n",
      "  keep &= (tmp_a <= last_edge)\n"
     ]
    },
    {
     "data": {
      "text/plain": [
       "(array([   4.,   17.,  113.,  270.,  415.,  698., 1069., 1346.,  788.,\n",
       "         154.]),\n",
       " array([-2.4, -0.96, 0.48, 1.9200000000000004, 3.36, 4.799999999999999,\n",
       "        6.24, 7.68, 9.12, 10.559999999999999, 12.0], dtype=object),\n",
       " <a list of 10 Patch objects>)"
      ]
     },
     "execution_count": 10,
     "metadata": {},
     "output_type": "execute_result"
    },
    {
     "data": {
      "image/png": "[encoded data removed]",
      "text/plain": [
       "<Figure size 432x288 with 1 Axes>"
      ]
     },
     "metadata": {
      "needs_background": "light"
     },
     "output_type": "display_data"
    }
   ],
   "source": [
    "#Plotting the average distr. \n",
    "\n",
    "df_natur = df[df['Fakultet']=='Det Natur- og Biovidenskabelige Fakultet']\n",
    "#titanic_v2=titanic[titanic['class']==gruppering]\n",
    "plt.hist(df_natur['Eksamensgennemsnit'])"
   ]
  },
  {
   "cell_type": "code",
   "execution_count": 84,
   "metadata": {},
   "outputs": [
    {
     "data": {
      "application/vnd.jupyter.widget-view+json": {
       "model_id": "c5c8aac70ae4477984fb8dbe6611959d",
       "version_major": 2,
       "version_minor": 0
      },
      "text/plain": [
       "HBox(children=(IntProgress(value=0, max=6), HTML(value='')))"
      ]
     },
     "metadata": {},
     "output_type": "display_data"
    },
    {
     "name": "stdout",
     "output_type": "stream",
     "text": [
      "\n"
     ]
    },
    {
     "data": {
      "text/plain": [
       "[[5899, 14306, 13294, 25233, 43837, 40131, 26589],\n",
       " [4427, 2913, 4351, 10436, 19351, 18126, 9993],\n",
       " [1859, 1721, 2316, 6332, 12236, 11929, 8080],\n",
       " [2800, 12295, 12721, 25081, 44330, 38920, 26456],\n",
       " [5632, 3067, 6047, 16093, 23007, 17043, 10103],\n",
       " [161, 274, 368, 706, 1290, 1162, 914]]"
      ]
     },
     "execution_count": 84,
     "metadata": {},
     "output_type": "execute_result"
    }
   ],
   "source": [
    "y_inner = []\n",
    "y = []\n",
    "x = ['-3','00','02','4','7','10','12']\n",
    "\n",
    "# Looking at each faculty \n",
    "for i in tqdm_notebook(df['Fakultet'].unique()):\n",
    "    df_faculty = df[df['Fakultet']==i]\n",
    "   \n",
    "    for k in [-3,0,2,4,7,10,12]:\n",
    "        y_inner.append(df_faculty[k].sum(skipna = True)) \n",
    "    \n",
    "    y.append(y_inner)\n",
    "    y_inner=[]\n",
    "    \n",
    "y"
   ]
  },
  {
   "cell_type": "code",
   "execution_count": 91,
   "metadata": {},
   "outputs": [
    {
     "data": {
      "text/plain": [
       "[[0.03484573717134604,\n",
       "  0.08450637666948237,\n",
       "  0.07852843362533891,\n",
       "  0.14905280319453715,\n",
       "  0.2589477166265971,\n",
       "  0.23705615840367655,\n",
       "  0.15706277430902185],\n",
       " [0.06360906360906361,\n",
       "  0.04185525238156817,\n",
       "  0.06251706251706252,\n",
       "  0.14994899205425521,\n",
       "  0.27804359383306754,\n",
       "  0.26044226044226043,\n",
       "  0.14358377516272253],\n",
       " [0.04180064308681672,\n",
       "  0.03869763676837632,\n",
       "  0.05207654082252153,\n",
       "  0.14237852179974367,\n",
       "  0.27513322690171566,\n",
       "  0.26823016212083733,\n",
       "  0.18168326849998875],\n",
       " [0.01721985449222954,\n",
       "  0.0756136110649865,\n",
       "  0.07823348892701856,\n",
       "  0.15424684661414612,\n",
       "  0.2726271963001913,\n",
       "  0.2393559774419906,\n",
       "  0.1627030251594374],\n",
       " [0.06953773212169104,\n",
       "  0.03786793757408139,\n",
       "  0.07466169498222047,\n",
       "  0.1986986369024101,\n",
       "  0.2840650928486764,\n",
       "  0.21042819043856184,\n",
       "  0.12474071513235875],\n",
       " [0.033025641025641025,\n",
       "  0.056205128205128206,\n",
       "  0.07548717948717949,\n",
       "  0.1448205128205128,\n",
       "  0.26461538461538464,\n",
       "  0.23835897435897435,\n",
       "  0.1874871794871795]]"
      ]
     },
     "execution_count": 91,
     "metadata": {},
     "output_type": "execute_result"
    }
   ],
   "source": [
    "# calc frequencies \n",
    "y_freq_inner = []\n",
    "y_freq = []\n",
    "\n",
    "# running through each faculty\n",
    "for i in range(len(y)):\n",
    "    \n",
    "    # calc frequencies \n",
    "    for q in range(len(y[i])):\n",
    "        y_freq_inner.append(y[i][q]/sum(y[i]))\n",
    "\n",
    "    y_freq.append(y_freq_inner)\n",
    "    y_freq_inner = []\n",
    "\n",
    "y_freq"
   ]
  },
  {
   "cell_type": "code",
   "execution_count": 86,
   "metadata": {
    "scrolled": true
   },
   "outputs": [
    {
     "data": {
      "image/png": "[encoded data removed]",
      "text/plain": [
       "<Figure size 1080x720 with 6 Axes>"
      ]
     },
     "metadata": {
      "needs_background": "light"
     },
     "output_type": "display_data"
    }
   ],
   "source": [
    "Faculty_names = ['Science','Social Sciences','Humanities','Health & Medical Sciences','Law','Theology']\n",
    "\n",
    "f, ax = plt.subplots(figsize=(15,10))\n",
    "\n",
    "plt.subplot(2, 3, 1)\n",
    "plt.title(Faculty_names[0], fontsize = 16, weight = 'bold')\n",
    "plt.ylim([0,0.30])\n",
    "plt.grid(axis ='y',zorder=0)\n",
    "plt.ylabel('Frequency',fontsize=14)\n",
    "plt.bar(x, y_freq[0], width=0.93, edgecolor='black',zorder=3)\n",
    "\n",
    "plt.subplot(2, 3, 2)\n",
    "plt.title(Faculty_names[1], fontsize = 16, weight = 'bold')\n",
    "plt.ylim([0,0.30])\n",
    "plt.grid(axis ='y',zorder=0)\n",
    "plt.bar(x, y_freq[1], width=0.93, edgecolor='black',zorder=3)\n",
    "\n",
    "plt.subplot(2, 3, 3)\n",
    "plt.title(Faculty_names[2], fontsize = 16, weight = 'bold')\n",
    "plt.ylim([0,0.30])\n",
    "plt.grid(axis ='y',zorder=0)\n",
    "plt.bar(x, y_freq[2], width=0.93, edgecolor='black',zorder=3)\n",
    "\n",
    "plt.subplot(2, 3, 4)\n",
    "plt.title(Faculty_names[3], fontsize = 16, weight = 'bold')\n",
    "plt.ylim([0,0.30])\n",
    "plt.grid(axis ='y',zorder=0)\n",
    "plt.ylabel('Frequency',fontsize=14)\n",
    "plt.bar(x, y_freq[3], width=0.93, edgecolor='black',zorder=3)\n",
    "\n",
    "plt.subplot(2, 3, 5)\n",
    "plt.title(Faculty_names[4], fontsize = 16, weight = 'bold')\n",
    "plt.ylim([0,0.30])\n",
    "plt.grid(axis ='y',zorder=0)\n",
    "plt.bar(x, y_freq[4], width=0.93, edgecolor='black',zorder=3)\n",
    "\n",
    "plt.subplot(2, 3, 6)\n",
    "plt.title(Faculty_names[5], fontsize = 16, weight = 'bold')\n",
    "plt.ylim([0,0.30])\n",
    "plt.grid(axis ='y',zorder=0)\n",
    "plt.bar(x, y_freq[5], width=0.93, edgecolor='black',zorder=3)\n",
    "\n",
    "f.savefig('histogram_gades_split_faculty.png')"
   ]
  },
  {
   "cell_type": "code",
   "execution_count": 14,
   "metadata": {},
   "outputs": [
    {
     "data": {
      "image/png": "[encoded data removed]",
      "text/plain": [
       "<Figure size 1080x720 with 1 Axes>"
      ]
     },
     "metadata": {
      "needs_background": "light"
     },
     "output_type": "display_data"
    }
   ],
   "source": [
    "f, axs = plt.subplots(figsize=(15,10))\n",
    "\n",
    "\n",
    "plt.plot(x, y_freq[0],'b-', label = Faculty_names[0])\n",
    "plt.plot(x, y_freq[1],'r-',label = Faculty_names[1])\n",
    "plt.plot(x, y_freq[2],'g-',label = Faculty_names[2])\n",
    "plt.plot(x, y_freq[3], 'y-',label = Faculty_names[3])\n",
    "plt.plot(x, y_freq[4],'k-',label = Faculty_names[4])\n",
    "plt.plot(x, y_freq[5],'m-',label = Faculty_names[5])\n",
    "plt.legend(loc='best')\n",
    "plt.show()"
   ]
  },
  {
   "cell_type": "markdown",
   "metadata": {},
   "source": [
    "### Faculties,  weighted against ECTS"
   ]
  },
  {
   "cell_type": "code",
   "execution_count": 136,
   "metadata": {},
   "outputs": [
    {
     "data": {
      "text/html": [
       "<div>\n",
       "<style scoped>\n",
       "    .dataframe tbody tr th:only-of-type {\n",
       "        vertical-align: middle;\n",
       "    }\n",
       "\n",
       "    .dataframe tbody tr th {\n",
       "        vertical-align: top;\n",
       "    }\n",
       "\n",
       "    .dataframe thead th {\n",
       "        text-align: right;\n",
       "    }\n",
       "</style>\n",
       "<table border=\"1\" class=\"dataframe\">\n",
       "  <thead>\n",
       "    <tr style=\"text-align: right;\">\n",
       "      <th></th>\n",
       "      <th>Credit_edit</th>\n",
       "      <th>-3</th>\n",
       "      <th>Weigthed_m3</th>\n",
       "      <th>0</th>\n",
       "      <th>Weigthed_00</th>\n",
       "      <th>2</th>\n",
       "      <th>Weigthed_02</th>\n",
       "      <th>4</th>\n",
       "      <th>Weigthed_4</th>\n",
       "      <th>7</th>\n",
       "      <th>Weigthed_7</th>\n",
       "      <th>10</th>\n",
       "      <th>Weigthed_10</th>\n",
       "      <th>12</th>\n",
       "      <th>Weigthed_12</th>\n",
       "    </tr>\n",
       "  </thead>\n",
       "  <tbody>\n",
       "    <tr>\n",
       "      <th>0</th>\n",
       "      <td>7.5</td>\n",
       "      <td>0</td>\n",
       "      <td>0</td>\n",
       "      <td>0</td>\n",
       "      <td>0</td>\n",
       "      <td>0</td>\n",
       "      <td>0</td>\n",
       "      <td>3</td>\n",
       "      <td>22.5</td>\n",
       "      <td>6</td>\n",
       "      <td>45</td>\n",
       "      <td>2</td>\n",
       "      <td>15</td>\n",
       "      <td>3</td>\n",
       "      <td>22.5</td>\n",
       "    </tr>\n",
       "    <tr>\n",
       "      <th>1</th>\n",
       "      <td>7.5</td>\n",
       "      <td>1</td>\n",
       "      <td>7.5</td>\n",
       "      <td>0</td>\n",
       "      <td>0</td>\n",
       "      <td>1</td>\n",
       "      <td>7.5</td>\n",
       "      <td>1</td>\n",
       "      <td>7.5</td>\n",
       "      <td>4</td>\n",
       "      <td>30</td>\n",
       "      <td>4</td>\n",
       "      <td>30</td>\n",
       "      <td>5</td>\n",
       "      <td>37.5</td>\n",
       "    </tr>\n",
       "    <tr>\n",
       "      <th>2</th>\n",
       "      <td>7.5</td>\n",
       "      <td>1</td>\n",
       "      <td>7.5</td>\n",
       "      <td>0</td>\n",
       "      <td>0</td>\n",
       "      <td>2</td>\n",
       "      <td>15</td>\n",
       "      <td>4</td>\n",
       "      <td>30</td>\n",
       "      <td>4</td>\n",
       "      <td>30</td>\n",
       "      <td>7</td>\n",
       "      <td>52.5</td>\n",
       "      <td>9</td>\n",
       "      <td>67.5</td>\n",
       "    </tr>\n",
       "    <tr>\n",
       "      <th>3</th>\n",
       "      <td>7.5</td>\n",
       "      <td>0</td>\n",
       "      <td>0</td>\n",
       "      <td>1</td>\n",
       "      <td>7.5</td>\n",
       "      <td>2</td>\n",
       "      <td>15</td>\n",
       "      <td>4</td>\n",
       "      <td>30</td>\n",
       "      <td>3</td>\n",
       "      <td>22.5</td>\n",
       "      <td>4</td>\n",
       "      <td>30</td>\n",
       "      <td>5</td>\n",
       "      <td>37.5</td>\n",
       "    </tr>\n",
       "    <tr>\n",
       "      <th>4</th>\n",
       "      <td>10.0</td>\n",
       "      <td>0</td>\n",
       "      <td>0</td>\n",
       "      <td>0</td>\n",
       "      <td>0</td>\n",
       "      <td>0</td>\n",
       "      <td>0</td>\n",
       "      <td>1</td>\n",
       "      <td>10</td>\n",
       "      <td>5</td>\n",
       "      <td>50</td>\n",
       "      <td>3</td>\n",
       "      <td>30</td>\n",
       "      <td>13</td>\n",
       "      <td>130</td>\n",
       "    </tr>\n",
       "    <tr>\n",
       "      <th>5</th>\n",
       "      <td>7.5</td>\n",
       "      <td>0</td>\n",
       "      <td>0</td>\n",
       "      <td>0</td>\n",
       "      <td>0</td>\n",
       "      <td>0</td>\n",
       "      <td>0</td>\n",
       "      <td>0</td>\n",
       "      <td>0</td>\n",
       "      <td>4</td>\n",
       "      <td>30</td>\n",
       "      <td>10</td>\n",
       "      <td>75</td>\n",
       "      <td>12</td>\n",
       "      <td>90</td>\n",
       "    </tr>\n",
       "    <tr>\n",
       "      <th>6</th>\n",
       "      <td>7.5</td>\n",
       "      <td>0</td>\n",
       "      <td>0</td>\n",
       "      <td>0</td>\n",
       "      <td>0</td>\n",
       "      <td>0</td>\n",
       "      <td>0</td>\n",
       "      <td>0</td>\n",
       "      <td>0</td>\n",
       "      <td>6</td>\n",
       "      <td>45</td>\n",
       "      <td>7</td>\n",
       "      <td>52.5</td>\n",
       "      <td>5</td>\n",
       "      <td>37.5</td>\n",
       "    </tr>\n",
       "    <tr>\n",
       "      <th>7</th>\n",
       "      <td>7.5</td>\n",
       "      <td>0</td>\n",
       "      <td>0</td>\n",
       "      <td>0</td>\n",
       "      <td>0</td>\n",
       "      <td>0</td>\n",
       "      <td>0</td>\n",
       "      <td>3</td>\n",
       "      <td>22.5</td>\n",
       "      <td>8</td>\n",
       "      <td>60</td>\n",
       "      <td>7</td>\n",
       "      <td>52.5</td>\n",
       "      <td>2</td>\n",
       "      <td>15</td>\n",
       "    </tr>\n",
       "    <tr>\n",
       "      <th>8</th>\n",
       "      <td>7.5</td>\n",
       "      <td>0</td>\n",
       "      <td>0</td>\n",
       "      <td>0</td>\n",
       "      <td>0</td>\n",
       "      <td>0</td>\n",
       "      <td>0</td>\n",
       "      <td>1</td>\n",
       "      <td>7.5</td>\n",
       "      <td>15</td>\n",
       "      <td>112.5</td>\n",
       "      <td>1</td>\n",
       "      <td>7.5</td>\n",
       "      <td>1</td>\n",
       "      <td>7.5</td>\n",
       "    </tr>\n",
       "    <tr>\n",
       "      <th>9</th>\n",
       "      <td>5.0</td>\n",
       "      <td>0</td>\n",
       "      <td>0</td>\n",
       "      <td>0</td>\n",
       "      <td>0</td>\n",
       "      <td>3</td>\n",
       "      <td>15</td>\n",
       "      <td>3</td>\n",
       "      <td>15</td>\n",
       "      <td>7</td>\n",
       "      <td>35</td>\n",
       "      <td>8</td>\n",
       "      <td>40</td>\n",
       "      <td>1</td>\n",
       "      <td>5</td>\n",
       "    </tr>\n",
       "    <tr>\n",
       "      <th>10</th>\n",
       "      <td>5.0</td>\n",
       "      <td>1</td>\n",
       "      <td>5</td>\n",
       "      <td>0</td>\n",
       "      <td>0</td>\n",
       "      <td>0</td>\n",
       "      <td>0</td>\n",
       "      <td>2</td>\n",
       "      <td>10</td>\n",
       "      <td>11</td>\n",
       "      <td>55</td>\n",
       "      <td>6</td>\n",
       "      <td>30</td>\n",
       "      <td>1</td>\n",
       "      <td>5</td>\n",
       "    </tr>\n",
       "    <tr>\n",
       "      <th>11</th>\n",
       "      <td>5.0</td>\n",
       "      <td>1</td>\n",
       "      <td>5</td>\n",
       "      <td>0</td>\n",
       "      <td>0</td>\n",
       "      <td>3</td>\n",
       "      <td>15</td>\n",
       "      <td>3</td>\n",
       "      <td>15</td>\n",
       "      <td>12</td>\n",
       "      <td>60</td>\n",
       "      <td>5</td>\n",
       "      <td>25</td>\n",
       "      <td>2</td>\n",
       "      <td>10</td>\n",
       "    </tr>\n",
       "    <tr>\n",
       "      <th>12</th>\n",
       "      <td>5.0</td>\n",
       "      <td>3</td>\n",
       "      <td>15</td>\n",
       "      <td>1</td>\n",
       "      <td>5</td>\n",
       "      <td>3</td>\n",
       "      <td>15</td>\n",
       "      <td>4</td>\n",
       "      <td>20</td>\n",
       "      <td>13</td>\n",
       "      <td>65</td>\n",
       "      <td>10</td>\n",
       "      <td>50</td>\n",
       "      <td>2</td>\n",
       "      <td>10</td>\n",
       "    </tr>\n",
       "    <tr>\n",
       "      <th>13</th>\n",
       "      <td>5.0</td>\n",
       "      <td>0</td>\n",
       "      <td>0</td>\n",
       "      <td>0</td>\n",
       "      <td>0</td>\n",
       "      <td>0</td>\n",
       "      <td>0</td>\n",
       "      <td>0</td>\n",
       "      <td>0</td>\n",
       "      <td>4</td>\n",
       "      <td>20</td>\n",
       "      <td>7</td>\n",
       "      <td>35</td>\n",
       "      <td>1</td>\n",
       "      <td>5</td>\n",
       "    </tr>\n",
       "    <tr>\n",
       "      <th>14</th>\n",
       "      <td>7.5</td>\n",
       "      <td>0</td>\n",
       "      <td>0</td>\n",
       "      <td>1</td>\n",
       "      <td>7.5</td>\n",
       "      <td>1</td>\n",
       "      <td>7.5</td>\n",
       "      <td>14</td>\n",
       "      <td>105</td>\n",
       "      <td>26</td>\n",
       "      <td>195</td>\n",
       "      <td>10</td>\n",
       "      <td>75</td>\n",
       "      <td>11</td>\n",
       "      <td>82.5</td>\n",
       "    </tr>\n",
       "    <tr>\n",
       "      <th>15</th>\n",
       "      <td>7.5</td>\n",
       "      <td>0</td>\n",
       "      <td>0</td>\n",
       "      <td>3</td>\n",
       "      <td>22.5</td>\n",
       "      <td>0</td>\n",
       "      <td>0</td>\n",
       "      <td>5</td>\n",
       "      <td>37.5</td>\n",
       "      <td>12</td>\n",
       "      <td>90</td>\n",
       "      <td>31</td>\n",
       "      <td>232.5</td>\n",
       "      <td>16</td>\n",
       "      <td>120</td>\n",
       "    </tr>\n",
       "    <tr>\n",
       "      <th>16</th>\n",
       "      <td>15.0</td>\n",
       "      <td>4</td>\n",
       "      <td>60</td>\n",
       "      <td>0</td>\n",
       "      <td>0</td>\n",
       "      <td>1</td>\n",
       "      <td>15</td>\n",
       "      <td>2</td>\n",
       "      <td>30</td>\n",
       "      <td>5</td>\n",
       "      <td>75</td>\n",
       "      <td>13</td>\n",
       "      <td>195</td>\n",
       "      <td>6</td>\n",
       "      <td>90</td>\n",
       "    </tr>\n",
       "    <tr>\n",
       "      <th>17</th>\n",
       "      <td>15.0</td>\n",
       "      <td>0</td>\n",
       "      <td>0</td>\n",
       "      <td>0</td>\n",
       "      <td>0</td>\n",
       "      <td>0</td>\n",
       "      <td>0</td>\n",
       "      <td>1</td>\n",
       "      <td>15</td>\n",
       "      <td>11</td>\n",
       "      <td>165</td>\n",
       "      <td>18</td>\n",
       "      <td>270</td>\n",
       "      <td>14</td>\n",
       "      <td>210</td>\n",
       "    </tr>\n",
       "    <tr>\n",
       "      <th>18</th>\n",
       "      <td>15.0</td>\n",
       "      <td>7</td>\n",
       "      <td>105</td>\n",
       "      <td>0</td>\n",
       "      <td>0</td>\n",
       "      <td>0</td>\n",
       "      <td>0</td>\n",
       "      <td>0</td>\n",
       "      <td>0</td>\n",
       "      <td>10</td>\n",
       "      <td>150</td>\n",
       "      <td>6</td>\n",
       "      <td>90</td>\n",
       "      <td>10</td>\n",
       "      <td>150</td>\n",
       "    </tr>\n",
       "    <tr>\n",
       "      <th>19</th>\n",
       "      <td>15.0</td>\n",
       "      <td>1</td>\n",
       "      <td>15</td>\n",
       "      <td>0</td>\n",
       "      <td>0</td>\n",
       "      <td>0</td>\n",
       "      <td>0</td>\n",
       "      <td>1</td>\n",
       "      <td>15</td>\n",
       "      <td>1</td>\n",
       "      <td>15</td>\n",
       "      <td>1</td>\n",
       "      <td>15</td>\n",
       "      <td>1</td>\n",
       "      <td>15</td>\n",
       "    </tr>\n",
       "    <tr>\n",
       "      <th>20</th>\n",
       "      <td>15.0</td>\n",
       "      <td>2</td>\n",
       "      <td>30</td>\n",
       "      <td>1</td>\n",
       "      <td>15</td>\n",
       "      <td>0</td>\n",
       "      <td>0</td>\n",
       "      <td>1</td>\n",
       "      <td>15</td>\n",
       "      <td>5</td>\n",
       "      <td>75</td>\n",
       "      <td>14</td>\n",
       "      <td>210</td>\n",
       "      <td>11</td>\n",
       "      <td>165</td>\n",
       "    </tr>\n",
       "    <tr>\n",
       "      <th>21</th>\n",
       "      <td>7.5</td>\n",
       "      <td>NaN</td>\n",
       "      <td>NaN</td>\n",
       "      <td>NaN</td>\n",
       "      <td>NaN</td>\n",
       "      <td>NaN</td>\n",
       "      <td>NaN</td>\n",
       "      <td>NaN</td>\n",
       "      <td>NaN</td>\n",
       "      <td>NaN</td>\n",
       "      <td>NaN</td>\n",
       "      <td>NaN</td>\n",
       "      <td>NaN</td>\n",
       "      <td>NaN</td>\n",
       "      <td>NaN</td>\n",
       "    </tr>\n",
       "    <tr>\n",
       "      <th>22</th>\n",
       "      <td>15.0</td>\n",
       "      <td>0</td>\n",
       "      <td>0</td>\n",
       "      <td>0</td>\n",
       "      <td>0</td>\n",
       "      <td>2</td>\n",
       "      <td>30</td>\n",
       "      <td>2</td>\n",
       "      <td>30</td>\n",
       "      <td>7</td>\n",
       "      <td>105</td>\n",
       "      <td>3</td>\n",
       "      <td>45</td>\n",
       "      <td>2</td>\n",
       "      <td>30</td>\n",
       "    </tr>\n",
       "    <tr>\n",
       "      <th>23</th>\n",
       "      <td>15.0</td>\n",
       "      <td>0</td>\n",
       "      <td>0</td>\n",
       "      <td>0</td>\n",
       "      <td>0</td>\n",
       "      <td>0</td>\n",
       "      <td>0</td>\n",
       "      <td>3</td>\n",
       "      <td>45</td>\n",
       "      <td>3</td>\n",
       "      <td>45</td>\n",
       "      <td>7</td>\n",
       "      <td>105</td>\n",
       "      <td>3</td>\n",
       "      <td>45</td>\n",
       "    </tr>\n",
       "    <tr>\n",
       "      <th>24</th>\n",
       "      <td>15.0</td>\n",
       "      <td>0</td>\n",
       "      <td>0</td>\n",
       "      <td>0</td>\n",
       "      <td>0</td>\n",
       "      <td>1</td>\n",
       "      <td>15</td>\n",
       "      <td>1</td>\n",
       "      <td>15</td>\n",
       "      <td>4</td>\n",
       "      <td>60</td>\n",
       "      <td>1</td>\n",
       "      <td>15</td>\n",
       "      <td>5</td>\n",
       "      <td>75</td>\n",
       "    </tr>\n",
       "    <tr>\n",
       "      <th>25</th>\n",
       "      <td>15.0</td>\n",
       "      <td>0</td>\n",
       "      <td>0</td>\n",
       "      <td>1</td>\n",
       "      <td>15</td>\n",
       "      <td>1</td>\n",
       "      <td>15</td>\n",
       "      <td>7</td>\n",
       "      <td>105</td>\n",
       "      <td>9</td>\n",
       "      <td>135</td>\n",
       "      <td>14</td>\n",
       "      <td>210</td>\n",
       "      <td>3</td>\n",
       "      <td>45</td>\n",
       "    </tr>\n",
       "    <tr>\n",
       "      <th>26</th>\n",
       "      <td>15.0</td>\n",
       "      <td>0</td>\n",
       "      <td>0</td>\n",
       "      <td>5</td>\n",
       "      <td>75</td>\n",
       "      <td>0</td>\n",
       "      <td>0</td>\n",
       "      <td>0</td>\n",
       "      <td>0</td>\n",
       "      <td>2</td>\n",
       "      <td>30</td>\n",
       "      <td>2</td>\n",
       "      <td>30</td>\n",
       "      <td>2</td>\n",
       "      <td>30</td>\n",
       "    </tr>\n",
       "    <tr>\n",
       "      <th>27</th>\n",
       "      <td>15.0</td>\n",
       "      <td>0</td>\n",
       "      <td>0</td>\n",
       "      <td>0</td>\n",
       "      <td>0</td>\n",
       "      <td>1</td>\n",
       "      <td>15</td>\n",
       "      <td>0</td>\n",
       "      <td>0</td>\n",
       "      <td>5</td>\n",
       "      <td>75</td>\n",
       "      <td>5</td>\n",
       "      <td>75</td>\n",
       "      <td>8</td>\n",
       "      <td>120</td>\n",
       "    </tr>\n",
       "    <tr>\n",
       "      <th>28</th>\n",
       "      <td>15.0</td>\n",
       "      <td>0</td>\n",
       "      <td>0</td>\n",
       "      <td>0</td>\n",
       "      <td>0</td>\n",
       "      <td>1</td>\n",
       "      <td>15</td>\n",
       "      <td>1</td>\n",
       "      <td>15</td>\n",
       "      <td>2</td>\n",
       "      <td>30</td>\n",
       "      <td>5</td>\n",
       "      <td>75</td>\n",
       "      <td>3</td>\n",
       "      <td>45</td>\n",
       "    </tr>\n",
       "    <tr>\n",
       "      <th>29</th>\n",
       "      <td>7.5</td>\n",
       "      <td>2</td>\n",
       "      <td>15</td>\n",
       "      <td>0</td>\n",
       "      <td>0</td>\n",
       "      <td>0</td>\n",
       "      <td>0</td>\n",
       "      <td>1</td>\n",
       "      <td>7.5</td>\n",
       "      <td>1</td>\n",
       "      <td>7.5</td>\n",
       "      <td>4</td>\n",
       "      <td>30</td>\n",
       "      <td>0</td>\n",
       "      <td>0</td>\n",
       "    </tr>\n",
       "    <tr>\n",
       "      <th>...</th>\n",
       "      <td>...</td>\n",
       "      <td>...</td>\n",
       "      <td>...</td>\n",
       "      <td>...</td>\n",
       "      <td>...</td>\n",
       "      <td>...</td>\n",
       "      <td>...</td>\n",
       "      <td>...</td>\n",
       "      <td>...</td>\n",
       "      <td>...</td>\n",
       "      <td>...</td>\n",
       "      <td>...</td>\n",
       "      <td>...</td>\n",
       "      <td>...</td>\n",
       "      <td>...</td>\n",
       "    </tr>\n",
       "    <tr>\n",
       "      <th>13954</th>\n",
       "      <td>7.5</td>\n",
       "      <td>1</td>\n",
       "      <td>7.5</td>\n",
       "      <td>6</td>\n",
       "      <td>45</td>\n",
       "      <td>14</td>\n",
       "      <td>105</td>\n",
       "      <td>9</td>\n",
       "      <td>67.5</td>\n",
       "      <td>8</td>\n",
       "      <td>60</td>\n",
       "      <td>8</td>\n",
       "      <td>60</td>\n",
       "      <td>5</td>\n",
       "      <td>37.5</td>\n",
       "    </tr>\n",
       "    <tr>\n",
       "      <th>13955</th>\n",
       "      <td>7.5</td>\n",
       "      <td>0</td>\n",
       "      <td>0</td>\n",
       "      <td>0</td>\n",
       "      <td>0</td>\n",
       "      <td>0</td>\n",
       "      <td>0</td>\n",
       "      <td>3</td>\n",
       "      <td>22.5</td>\n",
       "      <td>2</td>\n",
       "      <td>15</td>\n",
       "      <td>2</td>\n",
       "      <td>15</td>\n",
       "      <td>0</td>\n",
       "      <td>0</td>\n",
       "    </tr>\n",
       "    <tr>\n",
       "      <th>13956</th>\n",
       "      <td>7.5</td>\n",
       "      <td>4</td>\n",
       "      <td>30</td>\n",
       "      <td>16</td>\n",
       "      <td>120</td>\n",
       "      <td>25</td>\n",
       "      <td>187.5</td>\n",
       "      <td>36</td>\n",
       "      <td>270</td>\n",
       "      <td>76</td>\n",
       "      <td>570</td>\n",
       "      <td>59</td>\n",
       "      <td>442.5</td>\n",
       "      <td>32</td>\n",
       "      <td>240</td>\n",
       "    </tr>\n",
       "    <tr>\n",
       "      <th>13957</th>\n",
       "      <td>7.5</td>\n",
       "      <td>0</td>\n",
       "      <td>0</td>\n",
       "      <td>5</td>\n",
       "      <td>37.5</td>\n",
       "      <td>3</td>\n",
       "      <td>22.5</td>\n",
       "      <td>3</td>\n",
       "      <td>22.5</td>\n",
       "      <td>2</td>\n",
       "      <td>15</td>\n",
       "      <td>1</td>\n",
       "      <td>7.5</td>\n",
       "      <td>1</td>\n",
       "      <td>7.5</td>\n",
       "    </tr>\n",
       "    <tr>\n",
       "      <th>13958</th>\n",
       "      <td>7.5</td>\n",
       "      <td>4</td>\n",
       "      <td>30</td>\n",
       "      <td>4</td>\n",
       "      <td>30</td>\n",
       "      <td>11</td>\n",
       "      <td>82.5</td>\n",
       "      <td>15</td>\n",
       "      <td>112.5</td>\n",
       "      <td>15</td>\n",
       "      <td>112.5</td>\n",
       "      <td>12</td>\n",
       "      <td>90</td>\n",
       "      <td>7</td>\n",
       "      <td>52.5</td>\n",
       "    </tr>\n",
       "    <tr>\n",
       "      <th>13959</th>\n",
       "      <td>7.5</td>\n",
       "      <td>0</td>\n",
       "      <td>0</td>\n",
       "      <td>3</td>\n",
       "      <td>22.5</td>\n",
       "      <td>1</td>\n",
       "      <td>7.5</td>\n",
       "      <td>4</td>\n",
       "      <td>30</td>\n",
       "      <td>0</td>\n",
       "      <td>0</td>\n",
       "      <td>1</td>\n",
       "      <td>7.5</td>\n",
       "      <td>0</td>\n",
       "      <td>0</td>\n",
       "    </tr>\n",
       "    <tr>\n",
       "      <th>13960</th>\n",
       "      <td>7.5</td>\n",
       "      <td>12</td>\n",
       "      <td>90</td>\n",
       "      <td>46</td>\n",
       "      <td>345</td>\n",
       "      <td>40</td>\n",
       "      <td>300</td>\n",
       "      <td>68</td>\n",
       "      <td>510</td>\n",
       "      <td>45</td>\n",
       "      <td>337.5</td>\n",
       "      <td>26</td>\n",
       "      <td>195</td>\n",
       "      <td>15</td>\n",
       "      <td>112.5</td>\n",
       "    </tr>\n",
       "    <tr>\n",
       "      <th>13961</th>\n",
       "      <td>7.5</td>\n",
       "      <td>2</td>\n",
       "      <td>15</td>\n",
       "      <td>16</td>\n",
       "      <td>120</td>\n",
       "      <td>14</td>\n",
       "      <td>105</td>\n",
       "      <td>4</td>\n",
       "      <td>30</td>\n",
       "      <td>7</td>\n",
       "      <td>52.5</td>\n",
       "      <td>2</td>\n",
       "      <td>15</td>\n",
       "      <td>0</td>\n",
       "      <td>0</td>\n",
       "    </tr>\n",
       "    <tr>\n",
       "      <th>13962</th>\n",
       "      <td>7.5</td>\n",
       "      <td>5</td>\n",
       "      <td>37.5</td>\n",
       "      <td>24</td>\n",
       "      <td>180</td>\n",
       "      <td>8</td>\n",
       "      <td>60</td>\n",
       "      <td>8</td>\n",
       "      <td>60</td>\n",
       "      <td>7</td>\n",
       "      <td>52.5</td>\n",
       "      <td>7</td>\n",
       "      <td>52.5</td>\n",
       "      <td>7</td>\n",
       "      <td>52.5</td>\n",
       "    </tr>\n",
       "    <tr>\n",
       "      <th>13963</th>\n",
       "      <td>7.5</td>\n",
       "      <td>1</td>\n",
       "      <td>7.5</td>\n",
       "      <td>5</td>\n",
       "      <td>37.5</td>\n",
       "      <td>4</td>\n",
       "      <td>30</td>\n",
       "      <td>4</td>\n",
       "      <td>30</td>\n",
       "      <td>2</td>\n",
       "      <td>15</td>\n",
       "      <td>0</td>\n",
       "      <td>0</td>\n",
       "      <td>1</td>\n",
       "      <td>7.5</td>\n",
       "    </tr>\n",
       "    <tr>\n",
       "      <th>13964</th>\n",
       "      <td>7.5</td>\n",
       "      <td>12</td>\n",
       "      <td>90</td>\n",
       "      <td>25</td>\n",
       "      <td>187.5</td>\n",
       "      <td>29</td>\n",
       "      <td>217.5</td>\n",
       "      <td>34</td>\n",
       "      <td>255</td>\n",
       "      <td>60</td>\n",
       "      <td>450</td>\n",
       "      <td>49</td>\n",
       "      <td>367.5</td>\n",
       "      <td>30</td>\n",
       "      <td>225</td>\n",
       "    </tr>\n",
       "    <tr>\n",
       "      <th>13965</th>\n",
       "      <td>7.5</td>\n",
       "      <td>2</td>\n",
       "      <td>15</td>\n",
       "      <td>10</td>\n",
       "      <td>75</td>\n",
       "      <td>6</td>\n",
       "      <td>45</td>\n",
       "      <td>5</td>\n",
       "      <td>37.5</td>\n",
       "      <td>4</td>\n",
       "      <td>30</td>\n",
       "      <td>2</td>\n",
       "      <td>15</td>\n",
       "      <td>0</td>\n",
       "      <td>0</td>\n",
       "    </tr>\n",
       "    <tr>\n",
       "      <th>13966</th>\n",
       "      <td>7.5</td>\n",
       "      <td>1</td>\n",
       "      <td>7.5</td>\n",
       "      <td>3</td>\n",
       "      <td>22.5</td>\n",
       "      <td>0</td>\n",
       "      <td>0</td>\n",
       "      <td>2</td>\n",
       "      <td>15</td>\n",
       "      <td>3</td>\n",
       "      <td>22.5</td>\n",
       "      <td>0</td>\n",
       "      <td>0</td>\n",
       "      <td>1</td>\n",
       "      <td>7.5</td>\n",
       "    </tr>\n",
       "    <tr>\n",
       "      <th>13967</th>\n",
       "      <td>7.5</td>\n",
       "      <td>0</td>\n",
       "      <td>0</td>\n",
       "      <td>0</td>\n",
       "      <td>0</td>\n",
       "      <td>0</td>\n",
       "      <td>0</td>\n",
       "      <td>8</td>\n",
       "      <td>60</td>\n",
       "      <td>5</td>\n",
       "      <td>37.5</td>\n",
       "      <td>6</td>\n",
       "      <td>45</td>\n",
       "      <td>0</td>\n",
       "      <td>0</td>\n",
       "    </tr>\n",
       "    <tr>\n",
       "      <th>13968</th>\n",
       "      <td>7.5</td>\n",
       "      <td>5</td>\n",
       "      <td>37.5</td>\n",
       "      <td>0</td>\n",
       "      <td>0</td>\n",
       "      <td>4</td>\n",
       "      <td>30</td>\n",
       "      <td>6</td>\n",
       "      <td>45</td>\n",
       "      <td>3</td>\n",
       "      <td>22.5</td>\n",
       "      <td>2</td>\n",
       "      <td>15</td>\n",
       "      <td>0</td>\n",
       "      <td>0</td>\n",
       "    </tr>\n",
       "    <tr>\n",
       "      <th>13969</th>\n",
       "      <td>7.5</td>\n",
       "      <td>1</td>\n",
       "      <td>7.5</td>\n",
       "      <td>0</td>\n",
       "      <td>0</td>\n",
       "      <td>1</td>\n",
       "      <td>7.5</td>\n",
       "      <td>0</td>\n",
       "      <td>0</td>\n",
       "      <td>2</td>\n",
       "      <td>15</td>\n",
       "      <td>0</td>\n",
       "      <td>0</td>\n",
       "      <td>0</td>\n",
       "      <td>0</td>\n",
       "    </tr>\n",
       "    <tr>\n",
       "      <th>13970</th>\n",
       "      <td>7.5</td>\n",
       "      <td>5</td>\n",
       "      <td>37.5</td>\n",
       "      <td>2</td>\n",
       "      <td>15</td>\n",
       "      <td>2</td>\n",
       "      <td>15</td>\n",
       "      <td>9</td>\n",
       "      <td>67.5</td>\n",
       "      <td>5</td>\n",
       "      <td>37.5</td>\n",
       "      <td>4</td>\n",
       "      <td>30</td>\n",
       "      <td>2</td>\n",
       "      <td>15</td>\n",
       "    </tr>\n",
       "    <tr>\n",
       "      <th>13971</th>\n",
       "      <td>15.0</td>\n",
       "      <td>NaN</td>\n",
       "      <td>NaN</td>\n",
       "      <td>NaN</td>\n",
       "      <td>NaN</td>\n",
       "      <td>NaN</td>\n",
       "      <td>NaN</td>\n",
       "      <td>NaN</td>\n",
       "      <td>NaN</td>\n",
       "      <td>NaN</td>\n",
       "      <td>NaN</td>\n",
       "      <td>NaN</td>\n",
       "      <td>NaN</td>\n",
       "      <td>NaN</td>\n",
       "      <td>NaN</td>\n",
       "    </tr>\n",
       "    <tr>\n",
       "      <th>13972</th>\n",
       "      <td>7.5</td>\n",
       "      <td>0</td>\n",
       "      <td>0</td>\n",
       "      <td>0</td>\n",
       "      <td>0</td>\n",
       "      <td>1</td>\n",
       "      <td>7.5</td>\n",
       "      <td>4</td>\n",
       "      <td>30</td>\n",
       "      <td>1</td>\n",
       "      <td>7.5</td>\n",
       "      <td>14</td>\n",
       "      <td>105</td>\n",
       "      <td>5</td>\n",
       "      <td>37.5</td>\n",
       "    </tr>\n",
       "    <tr>\n",
       "      <th>13973</th>\n",
       "      <td>7.5</td>\n",
       "      <td>0</td>\n",
       "      <td>0</td>\n",
       "      <td>0</td>\n",
       "      <td>0</td>\n",
       "      <td>0</td>\n",
       "      <td>0</td>\n",
       "      <td>1</td>\n",
       "      <td>7.5</td>\n",
       "      <td>4</td>\n",
       "      <td>30</td>\n",
       "      <td>6</td>\n",
       "      <td>45</td>\n",
       "      <td>6</td>\n",
       "      <td>45</td>\n",
       "    </tr>\n",
       "    <tr>\n",
       "      <th>13974</th>\n",
       "      <td>7.5</td>\n",
       "      <td>0</td>\n",
       "      <td>0</td>\n",
       "      <td>0</td>\n",
       "      <td>0</td>\n",
       "      <td>0</td>\n",
       "      <td>0</td>\n",
       "      <td>2</td>\n",
       "      <td>15</td>\n",
       "      <td>6</td>\n",
       "      <td>45</td>\n",
       "      <td>1</td>\n",
       "      <td>7.5</td>\n",
       "      <td>6</td>\n",
       "      <td>45</td>\n",
       "    </tr>\n",
       "    <tr>\n",
       "      <th>13975</th>\n",
       "      <td>7.5</td>\n",
       "      <td>0</td>\n",
       "      <td>0</td>\n",
       "      <td>0</td>\n",
       "      <td>0</td>\n",
       "      <td>0</td>\n",
       "      <td>0</td>\n",
       "      <td>2</td>\n",
       "      <td>15</td>\n",
       "      <td>10</td>\n",
       "      <td>75</td>\n",
       "      <td>12</td>\n",
       "      <td>90</td>\n",
       "      <td>2</td>\n",
       "      <td>15</td>\n",
       "    </tr>\n",
       "    <tr>\n",
       "      <th>13976</th>\n",
       "      <td>7.5</td>\n",
       "      <td>0</td>\n",
       "      <td>0</td>\n",
       "      <td>0</td>\n",
       "      <td>0</td>\n",
       "      <td>3</td>\n",
       "      <td>22.5</td>\n",
       "      <td>12</td>\n",
       "      <td>90</td>\n",
       "      <td>14</td>\n",
       "      <td>105</td>\n",
       "      <td>6</td>\n",
       "      <td>45</td>\n",
       "      <td>4</td>\n",
       "      <td>30</td>\n",
       "    </tr>\n",
       "    <tr>\n",
       "      <th>13977</th>\n",
       "      <td>7.5</td>\n",
       "      <td>2</td>\n",
       "      <td>15</td>\n",
       "      <td>4</td>\n",
       "      <td>30</td>\n",
       "      <td>6</td>\n",
       "      <td>45</td>\n",
       "      <td>13</td>\n",
       "      <td>97.5</td>\n",
       "      <td>15</td>\n",
       "      <td>112.5</td>\n",
       "      <td>11</td>\n",
       "      <td>82.5</td>\n",
       "      <td>3</td>\n",
       "      <td>22.5</td>\n",
       "    </tr>\n",
       "    <tr>\n",
       "      <th>13978</th>\n",
       "      <td>7.5</td>\n",
       "      <td>0</td>\n",
       "      <td>0</td>\n",
       "      <td>1</td>\n",
       "      <td>7.5</td>\n",
       "      <td>1</td>\n",
       "      <td>7.5</td>\n",
       "      <td>1</td>\n",
       "      <td>7.5</td>\n",
       "      <td>0</td>\n",
       "      <td>0</td>\n",
       "      <td>1</td>\n",
       "      <td>7.5</td>\n",
       "      <td>1</td>\n",
       "      <td>7.5</td>\n",
       "    </tr>\n",
       "    <tr>\n",
       "      <th>13979</th>\n",
       "      <td>7.5</td>\n",
       "      <td>13</td>\n",
       "      <td>97.5</td>\n",
       "      <td>0</td>\n",
       "      <td>0</td>\n",
       "      <td>3</td>\n",
       "      <td>22.5</td>\n",
       "      <td>21</td>\n",
       "      <td>157.5</td>\n",
       "      <td>27</td>\n",
       "      <td>202.5</td>\n",
       "      <td>24</td>\n",
       "      <td>180</td>\n",
       "      <td>9</td>\n",
       "      <td>67.5</td>\n",
       "    </tr>\n",
       "    <tr>\n",
       "      <th>13980</th>\n",
       "      <td>7.5</td>\n",
       "      <td>2</td>\n",
       "      <td>15</td>\n",
       "      <td>1</td>\n",
       "      <td>7.5</td>\n",
       "      <td>1</td>\n",
       "      <td>7.5</td>\n",
       "      <td>2</td>\n",
       "      <td>15</td>\n",
       "      <td>5</td>\n",
       "      <td>37.5</td>\n",
       "      <td>4</td>\n",
       "      <td>30</td>\n",
       "      <td>0</td>\n",
       "      <td>0</td>\n",
       "    </tr>\n",
       "    <tr>\n",
       "      <th>13981</th>\n",
       "      <td>7.5</td>\n",
       "      <td>1</td>\n",
       "      <td>7.5</td>\n",
       "      <td>1</td>\n",
       "      <td>7.5</td>\n",
       "      <td>2</td>\n",
       "      <td>15</td>\n",
       "      <td>12</td>\n",
       "      <td>90</td>\n",
       "      <td>35</td>\n",
       "      <td>262.5</td>\n",
       "      <td>41</td>\n",
       "      <td>307.5</td>\n",
       "      <td>2</td>\n",
       "      <td>15</td>\n",
       "    </tr>\n",
       "    <tr>\n",
       "      <th>13982</th>\n",
       "      <td>7.5</td>\n",
       "      <td>6</td>\n",
       "      <td>45</td>\n",
       "      <td>2</td>\n",
       "      <td>15</td>\n",
       "      <td>4</td>\n",
       "      <td>30</td>\n",
       "      <td>22</td>\n",
       "      <td>165</td>\n",
       "      <td>27</td>\n",
       "      <td>202.5</td>\n",
       "      <td>17</td>\n",
       "      <td>127.5</td>\n",
       "      <td>3</td>\n",
       "      <td>22.5</td>\n",
       "    </tr>\n",
       "    <tr>\n",
       "      <th>13983</th>\n",
       "      <td>7.5</td>\n",
       "      <td>1</td>\n",
       "      <td>7.5</td>\n",
       "      <td>1</td>\n",
       "      <td>7.5</td>\n",
       "      <td>2</td>\n",
       "      <td>15</td>\n",
       "      <td>0</td>\n",
       "      <td>0</td>\n",
       "      <td>1</td>\n",
       "      <td>7.5</td>\n",
       "      <td>1</td>\n",
       "      <td>7.5</td>\n",
       "      <td>0</td>\n",
       "      <td>0</td>\n",
       "    </tr>\n",
       "  </tbody>\n",
       "</table>\n",
       "<p>13984 rows × 15 columns</p>\n",
       "</div>"
      ],
      "text/plain": [
       "       Credit_edit   -3 Weigthed_m3    0 Weigthed_00    2 Weigthed_02    4  \\\n",
       "0              7.5    0           0    0           0    0           0    3   \n",
       "1              7.5    1         7.5    0           0    1         7.5    1   \n",
       "2              7.5    1         7.5    0           0    2          15    4   \n",
       "3              7.5    0           0    1         7.5    2          15    4   \n",
       "4             10.0    0           0    0           0    0           0    1   \n",
       "5              7.5    0           0    0           0    0           0    0   \n",
       "6              7.5    0           0    0           0    0           0    0   \n",
       "7              7.5    0           0    0           0    0           0    3   \n",
       "8              7.5    0           0    0           0    0           0    1   \n",
       "9              5.0    0           0    0           0    3          15    3   \n",
       "10             5.0    1           5    0           0    0           0    2   \n",
       "11             5.0    1           5    0           0    3          15    3   \n",
       "12             5.0    3          15    1           5    3          15    4   \n",
       "13             5.0    0           0    0           0    0           0    0   \n",
       "14             7.5    0           0    1         7.5    1         7.5   14   \n",
       "15             7.5    0           0    3        22.5    0           0    5   \n",
       "16            15.0    4          60    0           0    1          15    2   \n",
       "17            15.0    0           0    0           0    0           0    1   \n",
       "18            15.0    7         105    0           0    0           0    0   \n",
       "19            15.0    1          15    0           0    0           0    1   \n",
       "20            15.0    2          30    1          15    0           0    1   \n",
       "21             7.5  NaN         NaN  NaN         NaN  NaN         NaN  NaN   \n",
       "22            15.0    0           0    0           0    2          30    2   \n",
       "23            15.0    0           0    0           0    0           0    3   \n",
       "24            15.0    0           0    0           0    1          15    1   \n",
       "25            15.0    0           0    1          15    1          15    7   \n",
       "26            15.0    0           0    5          75    0           0    0   \n",
       "27            15.0    0           0    0           0    1          15    0   \n",
       "28            15.0    0           0    0           0    1          15    1   \n",
       "29             7.5    2          15    0           0    0           0    1   \n",
       "...            ...  ...         ...  ...         ...  ...         ...  ...   \n",
       "13954          7.5    1         7.5    6          45   14         105    9   \n",
       "13955          7.5    0           0    0           0    0           0    3   \n",
       "13956          7.5    4          30   16         120   25       187.5   36   \n",
       "13957          7.5    0           0    5        37.5    3        22.5    3   \n",
       "13958          7.5    4          30    4          30   11        82.5   15   \n",
       "13959          7.5    0           0    3        22.5    1         7.5    4   \n",
       "13960          7.5   12          90   46         345   40         300   68   \n",
       "13961          7.5    2          15   16         120   14         105    4   \n",
       "13962          7.5    5        37.5   24         180    8          60    8   \n",
       "13963          7.5    1         7.5    5        37.5    4          30    4   \n",
       "13964          7.5   12          90   25       187.5   29       217.5   34   \n",
       "13965          7.5    2          15   10          75    6          45    5   \n",
       "13966          7.5    1         7.5    3        22.5    0           0    2   \n",
       "13967          7.5    0           0    0           0    0           0    8   \n",
       "13968          7.5    5        37.5    0           0    4          30    6   \n",
       "13969          7.5    1         7.5    0           0    1         7.5    0   \n",
       "13970          7.5    5        37.5    2          15    2          15    9   \n",
       "13971         15.0  NaN         NaN  NaN         NaN  NaN         NaN  NaN   \n",
       "13972          7.5    0           0    0           0    1         7.5    4   \n",
       "13973          7.5    0           0    0           0    0           0    1   \n",
       "13974          7.5    0           0    0           0    0           0    2   \n",
       "13975          7.5    0           0    0           0    0           0    2   \n",
       "13976          7.5    0           0    0           0    3        22.5   12   \n",
       "13977          7.5    2          15    4          30    6          45   13   \n",
       "13978          7.5    0           0    1         7.5    1         7.5    1   \n",
       "13979          7.5   13        97.5    0           0    3        22.5   21   \n",
       "13980          7.5    2          15    1         7.5    1         7.5    2   \n",
       "13981          7.5    1         7.5    1         7.5    2          15   12   \n",
       "13982          7.5    6          45    2          15    4          30   22   \n",
       "13983          7.5    1         7.5    1         7.5    2          15    0   \n",
       "\n",
       "      Weigthed_4    7 Weigthed_7   10 Weigthed_10   12 Weigthed_12  \n",
       "0           22.5    6         45    2          15    3        22.5  \n",
       "1            7.5    4         30    4          30    5        37.5  \n",
       "2             30    4         30    7        52.5    9        67.5  \n",
       "3             30    3       22.5    4          30    5        37.5  \n",
       "4             10    5         50    3          30   13         130  \n",
       "5              0    4         30   10          75   12          90  \n",
       "6              0    6         45    7        52.5    5        37.5  \n",
       "7           22.5    8         60    7        52.5    2          15  \n",
       "8            7.5   15      112.5    1         7.5    1         7.5  \n",
       "9             15    7         35    8          40    1           5  \n",
       "10            10   11         55    6          30    1           5  \n",
       "11            15   12         60    5          25    2          10  \n",
       "12            20   13         65   10          50    2          10  \n",
       "13             0    4         20    7          35    1           5  \n",
       "14           105   26        195   10          75   11        82.5  \n",
       "15          37.5   12         90   31       232.5   16         120  \n",
       "16            30    5         75   13         195    6          90  \n",
       "17            15   11        165   18         270   14         210  \n",
       "18             0   10        150    6          90   10         150  \n",
       "19            15    1         15    1          15    1          15  \n",
       "20            15    5         75   14         210   11         165  \n",
       "21           NaN  NaN        NaN  NaN         NaN  NaN         NaN  \n",
       "22            30    7        105    3          45    2          30  \n",
       "23            45    3         45    7         105    3          45  \n",
       "24            15    4         60    1          15    5          75  \n",
       "25           105    9        135   14         210    3          45  \n",
       "26             0    2         30    2          30    2          30  \n",
       "27             0    5         75    5          75    8         120  \n",
       "28            15    2         30    5          75    3          45  \n",
       "29           7.5    1        7.5    4          30    0           0  \n",
       "...          ...  ...        ...  ...         ...  ...         ...  \n",
       "13954       67.5    8         60    8          60    5        37.5  \n",
       "13955       22.5    2         15    2          15    0           0  \n",
       "13956        270   76        570   59       442.5   32         240  \n",
       "13957       22.5    2         15    1         7.5    1         7.5  \n",
       "13958      112.5   15      112.5   12          90    7        52.5  \n",
       "13959         30    0          0    1         7.5    0           0  \n",
       "13960        510   45      337.5   26         195   15       112.5  \n",
       "13961         30    7       52.5    2          15    0           0  \n",
       "13962         60    7       52.5    7        52.5    7        52.5  \n",
       "13963         30    2         15    0           0    1         7.5  \n",
       "13964        255   60        450   49       367.5   30         225  \n",
       "13965       37.5    4         30    2          15    0           0  \n",
       "13966         15    3       22.5    0           0    1         7.5  \n",
       "13967         60    5       37.5    6          45    0           0  \n",
       "13968         45    3       22.5    2          15    0           0  \n",
       "13969          0    2         15    0           0    0           0  \n",
       "13970       67.5    5       37.5    4          30    2          15  \n",
       "13971        NaN  NaN        NaN  NaN         NaN  NaN         NaN  \n",
       "13972         30    1        7.5   14         105    5        37.5  \n",
       "13973        7.5    4         30    6          45    6          45  \n",
       "13974         15    6         45    1         7.5    6          45  \n",
       "13975         15   10         75   12          90    2          15  \n",
       "13976         90   14        105    6          45    4          30  \n",
       "13977       97.5   15      112.5   11        82.5    3        22.5  \n",
       "13978        7.5    0          0    1         7.5    1         7.5  \n",
       "13979      157.5   27      202.5   24         180    9        67.5  \n",
       "13980         15    5       37.5    4          30    0           0  \n",
       "13981         90   35      262.5   41       307.5    2          15  \n",
       "13982        165   27      202.5   17       127.5    3        22.5  \n",
       "13983          0    1        7.5    1         7.5    0           0  \n",
       "\n",
       "[13984 rows x 15 columns]"
      ]
     },
     "execution_count": 136,
     "metadata": {},
     "output_type": "execute_result"
    }
   ],
   "source": [
    "# We need to weight the grades according to ECTS points. If we do not small courses will have the same weight as\n",
    "# bigger courses. \n",
    "df['Weigthed_m3'] = df['Credit_edit'] * df[-3]\n",
    "df['Weigthed_00'] = df['Credit_edit'] * df[0]\n",
    "df['Weigthed_02'] = df['Credit_edit'] * df[2]\n",
    "df['Weigthed_4'] = df['Credit_edit'] * df[4]\n",
    "df['Weigthed_7'] = df['Credit_edit'] * df[7]\n",
    "df['Weigthed_10'] = df['Credit_edit'] * df[10]\n",
    "df['Weigthed_12'] = df['Credit_edit'] * df[12]\n",
    "df[['Credit_edit',-3,'Weigthed_m3',0,'Weigthed_00',2,'Weigthed_02',4,'Weigthed_4',7,'Weigthed_7',10,'Weigthed_10',12,'Weigthed_12']]"
   ]
  },
  {
   "cell_type": "code",
   "execution_count": 83,
   "metadata": {},
   "outputs": [
    {
     "data": {
      "application/vnd.jupyter.widget-view+json": {
       "model_id": "da32aeadba884fe4b4302adf5c04f6d4",
       "version_major": 2,
       "version_minor": 0
      },
      "text/plain": [
       "HBox(children=(IntProgress(value=0, max=6), HTML(value='')))"
      ]
     },
     "metadata": {},
     "output_type": "display_data"
    },
    {
     "name": "stdout",
     "output_type": "stream",
     "text": [
      "\n"
     ]
    },
    {
     "data": {
      "text/plain": [
       "[[48285.0, 115713.5, 108702.0, 208269.0, 366752.0, 342256.0, 223004.5],\n",
       " [38205.0, 24412.5, 36517.5, 93197.5, 183510.0, 178880.0, 103210.0],\n",
       " [23497.5, 18370.5, 25540.0, 72518.0, 145232.0, 146089.5, 100279.0],\n",
       " [23635.5, 101208.0, 101400.0, 195891.0, 333823.5, 271220.5, 164145.0],\n",
       " [56747.5, 30547.5, 60145.0, 160232.5, 227900.0, 169197.5, 102152.5],\n",
       " [2109.5, 3406.0, 4655.0, 8854.5, 16215.0, 14560.5, 11756.0]]"
      ]
     },
     "execution_count": 83,
     "metadata": {},
     "output_type": "execute_result"
    }
   ],
   "source": [
    "y_ects_inner = []\n",
    "y_ects = []\n",
    "x = ['-3','00','02','4','7','10','12']\n",
    "\n",
    "# Looking at each faculty \n",
    "for i in tqdm_notebook(df['Fakultet'].unique()):\n",
    "    df_faculty = df[df['Fakultet']==i]\n",
    "   \n",
    "    for k in ['Weigthed_m3','Weigthed_00','Weigthed_02','Weigthed_4','Weigthed_7','Weigthed_10','Weigthed_12']:\n",
    "        y_ects_inner.append(df_faculty[k].sum(skipna = True)) \n",
    "    \n",
    "    y_ects.append(y_ects_inner)\n",
    "    y_ects_inner=[]\n",
    "    \n",
    "y_ects"
   ]
  },
  {
   "cell_type": "code",
   "execution_count": 89,
   "metadata": {},
   "outputs": [
    {
     "data": {
      "text/plain": [
       "[[0.034172409839615794,\n",
       "  0.08189311682668286,\n",
       "  0.07693091631740531,\n",
       "  0.14739678212461305,\n",
       "  0.2595588620378745,\n",
       "  0.2422224770025379,\n",
       "  0.15782543585127057],\n",
       " [0.058068266881481,\n",
       "  0.037104870180451645,\n",
       "  0.05550341410403043,\n",
       "  0.14165206917122958,\n",
       "  0.2789191900384918,\n",
       "  0.2718819939735459,\n",
       "  0.15687019565076965],\n",
       " [0.04420757949039229,\n",
       "  0.034561776317831756,\n",
       "  0.04805028535736224,\n",
       "  0.1364334609845417,\n",
       "  0.27323567122241316,\n",
       "  0.27484894920573105,\n",
       "  0.1886622774217278],\n",
       " [0.01983969929242561,\n",
       "  0.08495425465878916,\n",
       "  0.08511541995100408,\n",
       "  0.16443140758996191,\n",
       "  0.2802123016963906,\n",
       "  0.22766318300612723,\n",
       "  0.13778373380530143],\n",
       " [0.07032583674392522,\n",
       "  0.03785679541715592,\n",
       "  0.07453627826711982,\n",
       "  0.19857235360273137,\n",
       "  0.2824310884874322,\n",
       "  0.20968246640786445,\n",
       "  0.12659518107377102],\n",
       " [0.03426932980270158,\n",
       "  0.05533128101825153,\n",
       "  0.07562158342335903,\n",
       "  0.14384346088552794,\n",
       "  0.26341653602787685,\n",
       "  0.2365387895673081,\n",
       "  0.19097901927497501]]"
      ]
     },
     "execution_count": 89,
     "metadata": {},
     "output_type": "execute_result"
    }
   ],
   "source": [
    "# calc frequencies \n",
    "y_ects_freq_inner = []\n",
    "y_ects_freq = []\n",
    "\n",
    "# running through each faculty\n",
    "for i in range(len(y_ects)):\n",
    "    \n",
    "    # calc frequencies \n",
    "    for q in range(len(y_ects[i])):\n",
    "        y_ects_freq_inner.append(y_ects[i][q]/sum(y_ects[i]))\n",
    "\n",
    "    y_ects_freq.append(y_ects_freq_inner)\n",
    "    y_ects_freq_inner = []\n",
    "\n",
    "y_ects_freq"
   ]
  },
  {
   "cell_type": "code",
   "execution_count": 153,
   "metadata": {},
   "outputs": [
    {
     "data": {
      "image/png": "[encoded data removed]",
      "text/plain": [
       "<Figure size 1080x720 with 6 Axes>"
      ]
     },
     "metadata": {
      "needs_background": "light"
     },
     "output_type": "display_data"
    }
   ],
   "source": [
    "f, ax = plt.subplots(figsize=(15,10))\n",
    "\n",
    "plt.subplot(2, 3, 1)\n",
    "plt.title(Faculty_names[0], fontsize = 16, weight = 'bold')\n",
    "plt.ylim([0,0.30])\n",
    "plt.grid(axis ='y',zorder=0)\n",
    "plt.ylabel('Frequency',fontsize=14)\n",
    "plt.annotate('Number of grades given: '+ str(list_number_of_grades_faculties[0]), (0,0), (0, -20), xycoords='axes fraction', textcoords='offset points', va='top')\n",
    "plt.bar(x, y_ects_freq[0], width=0.93, edgecolor='black',zorder=3)\n",
    "\n",
    "plt.subplot(2, 3, 2)\n",
    "plt.title(Faculty_names[1], fontsize = 16, weight = 'bold')\n",
    "plt.ylim([0,0.30])\n",
    "plt.grid(axis ='y',zorder=0)\n",
    "plt.annotate('Number of grades given: '+ str(list_number_of_grades_faculties[1]), (0,0), (0, -20), xycoords='axes fraction', textcoords='offset points', va='top')\n",
    "plt.bar(x, y_ects_freq[1], width=0.93, edgecolor='black',zorder=3)\n",
    "\n",
    "plt.subplot(2, 3, 3)\n",
    "plt.title(Faculty_names[2], fontsize = 16, weight = 'bold')\n",
    "plt.ylim([0,0.30])\n",
    "plt.grid(axis ='y',zorder=0)\n",
    "plt.annotate('Number of grades given: '+ str(list_number_of_grades_faculties[2]), (0,0), (0, -20), xycoords='axes fraction', textcoords='offset points', va='top')\n",
    "plt.bar(x, y_ects_freq[2], width=0.93, edgecolor='black',zorder=3)\n",
    "\n",
    "plt.subplot(2, 3, 4)\n",
    "plt.title(Faculty_names[3], fontsize = 16, weight = 'bold')\n",
    "plt.ylim([0,0.30])\n",
    "plt.grid(axis ='y',zorder=0)\n",
    "plt.ylabel('Frequency',fontsize=14)\n",
    "plt.annotate('Number of grades given: '+ str(list_number_of_grades_faculties[3]), (0,0), (0, -20), xycoords='axes fraction', textcoords='offset points', va='top')\n",
    "plt.bar(x, y_ects_freq[3], width=0.93, edgecolor='black',zorder=3)\n",
    "\n",
    "plt.subplot(2, 3, 5)\n",
    "plt.title(Faculty_names[4], fontsize = 16, weight = 'bold')\n",
    "plt.ylim([0,0.30])\n",
    "plt.grid(axis ='y',zorder=0)\n",
    "plt.annotate('Number of grades given: '+ str(list_number_of_grades_faculties[4]), (0,0), (0, -20), xycoords='axes fraction', textcoords='offset points', va='top')\n",
    "plt.bar(x, y_ects_freq[4], width=0.93, edgecolor='black',zorder=3)\n",
    "\n",
    "plt.subplot(2, 3, 6)\n",
    "plt.title(Faculty_names[5], fontsize = 16, weight = 'bold')\n",
    "plt.ylim([0,0.30])\n",
    "plt.grid(axis ='y',zorder=0)\n",
    "plt.annotate('Number of grades given: '+ str(list_number_of_grades_faculties[5]), (0,0), (0, -20), xycoords='axes fraction', textcoords='offset points', va='top')\n",
    "plt.bar(x, y_ects_freq[5], width=0.93, edgecolor='black',zorder=3)\n",
    "\n",
    "f.savefig('histogram_gades_split_faculty_ECTS_weight.png')"
   ]
  },
  {
   "cell_type": "markdown",
   "metadata": {},
   "source": [
    "### Faculties,  weighted against ECTS - droppping -3 and 00"
   ]
  },
  {
   "cell_type": "code",
   "execution_count": 265,
   "metadata": {},
   "outputs": [
    {
     "data": {
      "text/plain": [
       "[[0.0870323747271281,\n",
       "  0.1667508017519847,\n",
       "  0.29364038836381745,\n",
       "  0.27402763927625945,\n",
       "  0.17854879588081027],\n",
       " [0.06134147468147116,\n",
       "  0.15655157353669905,\n",
       "  0.3082569731990627,\n",
       "  0.30047957803851744,\n",
       "  0.17337040054424968],\n",
       " [0.05215880047012356,\n",
       "  0.1480991343967275,\n",
       "  0.2965985477633902,\n",
       "  0.29834976825685655,\n",
       "  0.20479374911290216],\n",
       " [0.09507913884929863,\n",
       "  0.18367995649238616,\n",
       "  0.31301430875403197,\n",
       "  0.254313723651639,\n",
       "  0.15391287225264422],\n",
       " [0.08357796220961539,\n",
       "  0.22266033468704294,\n",
       "  0.3166916217070637,\n",
       "  0.23511816877481753,\n",
       "  0.1419519126214604],\n",
       " [0.08306418515015793,\n",
       "  0.15800039256972573,\n",
       "  0.2893417319462536,\n",
       "  0.2598187041630235,\n",
       "  0.2097749861708392]]"
      ]
     },
     "execution_count": 265,
     "metadata": {},
     "output_type": "execute_result"
    }
   ],
   "source": [
    "# calc frequencies \n",
    "\n",
    "y_no_fail_ects_freq = []\n",
    "\n",
    "# running through each faculty\n",
    "for i in range(len(y_ects)):\n",
    "    \n",
    "    y_no_fail_ects_freq_inner = []\n",
    "    \n",
    "    # calc frequencies \n",
    "    for q in range(len(y_no_fail_ects[i])):\n",
    "        y_no_fail_ects_freq_inner.append(y_no_fail_ects[i][q]/sum(y_no_fail_ects[i]))\n",
    "\n",
    "    y_no_fail_ects_freq.append(y_no_fail_ects_freq_inner)\n",
    "\n",
    "\n",
    "y_no_fail_ects_freq"
   ]
  },
  {
   "cell_type": "code",
   "execution_count": 258,
   "metadata": {},
   "outputs": [
    {
     "data": {
      "image/png": "[encoded data removed]",
      "text/plain": [
       "<Figure size 1080x720 with 6 Axes>"
      ]
     },
     "metadata": {
      "needs_background": "light"
     },
     "output_type": "display_data"
    }
   ],
   "source": [
    "f, ax = plt.subplots(figsize=(15,10))\n",
    "\n",
    "plt.subplot(2, 3, 1)\n",
    "plt.title(Faculty_names[0], fontsize = 16, weight = 'bold')\n",
    "plt.ylim([0,0.35])\n",
    "plt.grid(axis ='y',zorder=0)\n",
    "plt.ylabel('Frequency',fontsize=14)\n",
    "plt.annotate('Number of passing grades: '+ str(list_no_fail_number_of_grades_faculties[0]), (0,0), (0, -20), xycoords='axes fraction', textcoords='offset points', va='top')\n",
    "plt.bar(x_no_fail, y_no_fail_ects_freq[0], width=0.93, edgecolor='black',zorder=3)\n",
    "\n",
    "plt.subplot(2, 3, 2)\n",
    "plt.title(Faculty_names[1], fontsize = 16, weight = 'bold')\n",
    "plt.ylim([0,0.35])\n",
    "plt.grid(axis ='y',zorder=0)\n",
    "plt.annotate('Number of passing grades: '+ str(list_no_fail_number_of_grades_faculties[1]), (0,0), (0, -20), xycoords='axes fraction', textcoords='offset points', va='top')\n",
    "plt.bar(x_no_fail, y_no_fail_ects_freq[1], width=0.93, edgecolor='black',zorder=3)\n",
    "\n",
    "plt.subplot(2, 3, 3)\n",
    "plt.title(Faculty_names[2], fontsize = 16, weight = 'bold')\n",
    "plt.ylim([0,0.35])\n",
    "plt.grid(axis ='y',zorder=0)\n",
    "plt.annotate('Number of passing grades: '+ str(list_no_fail_number_of_grades_faculties[2]), (0,0), (0, -20), xycoords='axes fraction', textcoords='offset points', va='top')\n",
    "plt.bar(x_no_fail, y_no_fail_ects_freq[2], width=0.93, edgecolor='black',zorder=3)\n",
    "\n",
    "plt.subplot(2, 3, 4)\n",
    "plt.title(Faculty_names[3], fontsize = 16, weight = 'bold')\n",
    "plt.ylim([0,0.35])\n",
    "plt.grid(axis ='y',zorder=0)\n",
    "plt.ylabel('Frequency',fontsize=14)\n",
    "plt.annotate('Number of passing grades: '+ str(list_no_fail_number_of_grades_faculties[3]), (0,0), (0, -20), xycoords='axes fraction', textcoords='offset points', va='top')\n",
    "plt.bar(x_no_fail, y_no_fail_ects_freq[3], width=0.93, edgecolor='black',zorder=3)\n",
    "\n",
    "plt.subplot(2, 3, 5)\n",
    "plt.title(Faculty_names[4], fontsize = 16, weight = 'bold')\n",
    "plt.ylim([0,0.35])\n",
    "plt.grid(axis ='y',zorder=0)\n",
    "plt.annotate('Number of passing grades: '+ str(list_no_fail_number_of_grades_faculties[4]), (0,0), (0, -20), xycoords='axes fraction', textcoords='offset points', va='top')\n",
    "plt.bar(x_no_fail, y_no_fail_ects_freq[4], width=0.93, edgecolor='black',zorder=3)\n",
    "\n",
    "plt.subplot(2, 3, 6)\n",
    "plt.title(Faculty_names[5], fontsize = 16, weight = 'bold')\n",
    "plt.ylim([0,0.35])\n",
    "plt.grid(axis ='y',zorder=0)\n",
    "plt.annotate('Number of passing grades: '+ str(list_no_fail_number_of_grades_faculties[5]), (0,0), (0, -20), xycoords='axes fraction', textcoords='offset points', va='top')\n",
    "plt.bar(x_no_fail, y_no_fail_ects_freq[5], width=0.93, edgecolor='black',zorder=3)\n",
    "\n",
    "f.savefig('histogram_gades_split_faculty_ECTS_weight_NO_FAIL.png')"
   ]
  },
  {
   "cell_type": "markdown",
   "metadata": {},
   "source": [
    "### Type of assessments broken down by faculties"
   ]
  },
  {
   "cell_type": "code",
   "execution_count": 272,
   "metadata": {},
   "outputs": [
    {
     "data": {
      "text/plain": [
       "['Continuous assessment not exam',\n",
       " 'Oral',\n",
       " 'Written not under invigilation',\n",
       " 'Portfolio',\n",
       " 'Written under invigilation',\n",
       " 'Practical',\n",
       " 'Course participation written',\n",
       " 'Course participation not written',\n",
       " 'Continuous assessment exam',\n",
       " 'Other']"
      ]
     },
     "execution_count": 272,
     "metadata": {},
     "output_type": "execute_result"
    }
   ],
   "source": [
    "list_type_ass=list(df['Type of assessmet_edit'].unique())\n",
    "list_type_ass"
   ]
  },
  {
   "cell_type": "code",
   "execution_count": 279,
   "metadata": {},
   "outputs": [
    {
     "data": {
      "text/plain": [
       "190343"
      ]
     },
     "execution_count": 279,
     "metadata": {},
     "output_type": "execute_result"
    }
   ],
   "source": [
    "df[df['Type of assessmet_edit']=='Written under invigilation']['Antal bestået'].sum()"
   ]
  },
  {
   "cell_type": "code",
   "execution_count": 282,
   "metadata": {},
   "outputs": [
    {
     "data": {
      "application/vnd.jupyter.widget-view+json": {
       "model_id": "dc3e2992551a43c3b7522d7a35288b98",
       "version_major": 2,
       "version_minor": 0
      },
      "text/plain": [
       "HBox(children=(IntProgress(value=0, max=6), HTML(value='')))"
      ]
     },
     "metadata": {},
     "output_type": "display_data"
    },
    {
     "name": "stdout",
     "output_type": "stream",
     "text": [
      "\n"
     ]
    },
    {
     "data": {
      "text/plain": [
       "[[13937, 42749, 28488, 3431, 60139, 2508, 79, 225, 7218, 5],\n",
       " [2526, 7457, 32365, 3891, 26961, 0, 4575, 1001, 489, 57],\n",
       " [0, 5936, 9530, 624, 475, 447, 538, 1172, 0, 35815],\n",
       " [816, 36900, 20389, 3126, 71792, 5097, 14231, 20896, 1027, 994],\n",
       " [0, 22068, 14572, 2868, 30976, 0, 0, 105, 0, 2581],\n",
       " [0, 2438, 4131, 291, 0, 0, 0, 0, 0, 127]]"
      ]
     },
     "execution_count": 282,
     "metadata": {},
     "output_type": "execute_result"
    }
   ],
   "source": [
    "y_type_ass_inner = []\n",
    "y_type_ass = []\n",
    "\n",
    "# Looking at each faculty \n",
    "for i in tqdm_notebook(df['Fakultet'].unique()):\n",
    "    df_faculty = df[df['Fakultet']==i]\n",
    "    \n",
    "    # Running through each type of assessment.\n",
    "    for k in list_type_ass:\n",
    "        # Summing number of passed people for all courses (in each faculty) broken down on each tyep of assessment\n",
    "        y_type_ass_inner.append(df_faculty[df_faculty['Type of assessmet_edit']==k]['Antal bestået'].sum(skipna = True)) \n",
    "    \n",
    "    y_type_ass.append(y_type_ass_inner)\n",
    "    y_type_ass_inner=[]\n",
    "    \n",
    "y_type_ass"
   ]
  },
  {
   "cell_type": "code",
   "execution_count": 322,
   "metadata": {},
   "outputs": [
    {
     "data": {
      "text/plain": [
       "[[42749, 28488, 60139, 27403],\n",
       " [7457, 32365, 26961, 12539],\n",
       " [5936, 9530, 475, 38596],\n",
       " [36900, 20389, 71792, 46187],\n",
       " [22068, 14572, 30976, 5554],\n",
       " [2438, 4131, 0, 418]]"
      ]
     },
     "execution_count": 322,
     "metadata": {},
     "output_type": "execute_result"
    }
   ],
   "source": [
    "# Creating the categories which we want for plot.\n",
    "categories = []\n",
    "\n",
    "for i in range(len(df['Fakultet'].unique())):\n",
    "    \n",
    "    categories_inner = []\n",
    "    \n",
    "    # Oral\n",
    "    categories_inner.append(y_type_ass[i][1])\n",
    "    \n",
    "    # Written not under invigilation\n",
    "    categories_inner.append(y_type_ass[i][2])\n",
    "    \n",
    "    # Written under invigilation\n",
    "    categories_inner.append(y_type_ass[i][4])\n",
    "    \n",
    "    # Rest\n",
    "    categories_inner.append(y_type_ass[i][0]+y_type_ass[i][3]+y_type_ass[i][5]+y_type_ass[i][6]+y_type_ass[i][7]\\\n",
    "                           +y_type_ass[i][8]+y_type_ass[i][9])\n",
    "    \n",
    "    categories.append(categories_inner)\n",
    "    \n",
    "\n",
    "categories"
   ]
  },
  {
   "cell_type": "code",
   "execution_count": 359,
   "metadata": {},
   "outputs": [],
   "source": [
    "#calc share.\n",
    "\n",
    "list_categories_share = []\n",
    "\n",
    "# Running through each faculty\n",
    "for i in range(len(categories)):\n",
    "    \n",
    "    categories_share_inner = []\n",
    "    \n",
    "    # For each faculty calc type of ass shares. \n",
    "    for k in range(len(categories[i])):\n",
    "        categories_share= categories[i][k]/sum(categories[i])*100 # times a 100 for %\n",
    "        categories_share_inner.append(categories_share)\n",
    "        \n",
    "    list_categories_share.append(categories_share_inner)        \n",
    "    \n",
    "list_categories_share; "
   ]
  },
  {
   "cell_type": "code",
   "execution_count": 397,
   "metadata": {},
   "outputs": [],
   "source": [
    "# Converting list to DataFrame \n",
    "dfcat= pd.DataFrame(list_categories_share) \n",
    "dfcat\n",
    "dfcat=dfcat.T\n",
    "dfcat.columns = ['Science','Social Sciences','Humanities','Health & Medical Sciences','Law','Theology']\n",
    "dfcat.rename(index={0:'Oral',1:'Written not under invigilation',2:'Written under invigilation',3:'Rest'})\n",
    "#dfcat.index.name = 'type_ass'\n",
    "dfcat=dfcat.T\n",
    "dfcat.columns = ['Oral','Written not invigilation','Written invigilation','Rest']"
   ]
  },
  {
   "cell_type": "code",
   "execution_count": 422,
   "metadata": {},
   "outputs": [
    {
     "data": {
      "image/png": "[encoded data removed]",
      "text/plain": [
       "<Figure size 504x504 with 1 Axes>"
      ]
     },
     "metadata": {
      "needs_background": "light"
     },
     "output_type": "display_data"
    }
   ],
   "source": [
    "colors = [\"#011f4b\",\"#005b96\",\"#6497b1\",'#b3cde0']\n",
    "\n",
    "\n",
    "dfcat.plot(kind='bar', stacked=True, color = colors, fontsize = 12)\n",
    "#plt.legend(bbox_to_anchor=(0, 1), loc='upper left', ncol=1)\n",
    "plt.rcParams[\"figure.figsize\"] = [6,6]\n",
    "plt.legend(bbox_to_anchor=(0,1.02,1,0.2), loc=\"lower left\", mode=\"expand\", borderaxespad=0, ncol=2, fontsize = 12) #,weight = 'bold')\n",
    "plt.tight_layout()\n",
    "plt.savefig('stacked_bar_share_ass.png')"
   ]
  },
  {
   "cell_type": "code",
   "execution_count": 323,
   "metadata": {},
   "outputs": [
    {
     "data": {
      "image/png": "[encoded data removed]",
      "text/plain": [
       "<Figure size 432x288 with 1 Axes>"
      ]
     },
     "metadata": {},
     "output_type": "display_data"
    }
   ],
   "source": [
    "#Plotting the pie chart\n",
    "labels = 'Oral', 'Written not under invigilation', 'Written not under invigilation', 'Rest'\n",
    "colors = ['gold', 'yellowgreen', 'lightcoral', 'lightskyblue']\n",
    "explode = (0, 0, 0, 0)  # if we want to explode slice type 0.1.\n",
    "\n",
    "# Plot\n",
    "plt.pie(categories[0], explode=explode, labels=labels, colors=colors,\n",
    "autopct='%1.1f%%', shadow=True, startangle=140)\n",
    "\n",
    "plt.axis('equal')\n",
    "plt.show()"
   ]
  },
  {
   "cell_type": "markdown",
   "metadata": {},
   "source": [
    "### Economics"
   ]
  },
  {
   "cell_type": "code",
   "execution_count": 15,
   "metadata": {},
   "outputs": [
    {
     "data": {
      "application/vnd.jupyter.widget-view+json": {
       "model_id": "ebe1ddbd75d84056bc5fdfb3ba9d0c76",
       "version_major": 2,
       "version_minor": 0
      },
      "text/plain": [
       "HBox(children=(IntProgress(value=0, max=6), HTML(value='')))"
      ]
     },
     "metadata": {},
     "output_type": "display_data"
    },
    {
     "name": "stdout",
     "output_type": "stream",
     "text": [
      "\n"
     ]
    }
   ],
   "source": [
    "y_inner = []\n",
    "y = []\n",
    "x = ['-3','00','02','4','7','10','12']\n",
    "\n",
    "# Looking at each faculty \n",
    "for i in tqdm_notebook(df['Fakultet'].unique()):\n",
    "    df_faculty = df[df['Fakultet']==i]\n",
    "   \n",
    "    for k in [-3,0,2,4,7,10,12]:\n",
    "        y_inner.append(df_faculty[k].sum(skipna = True)) #<= Do we have a list in a list\n",
    "    \n",
    "    y.append(y_inner)\n",
    "    y_inner=[]"
   ]
  },
  {
   "cell_type": "code",
   "execution_count": 16,
   "metadata": {},
   "outputs": [
    {
     "name": "stdout",
     "output_type": "stream",
     "text": [
      "727\n"
     ]
    }
   ],
   "source": [
    "df_polit = df[df['Institut']=='Økonomisk Institut']\n",
    "print(len(df_polit))"
   ]
  },
  {
   "cell_type": "code",
   "execution_count": 17,
   "metadata": {},
   "outputs": [
    {
     "data": {
      "text/plain": [
       "[1806, 2169, 2948, 5086, 7640, 6163, 3468]"
      ]
     },
     "execution_count": 17,
     "metadata": {},
     "output_type": "execute_result"
    }
   ],
   "source": [
    "y_polit = []\n",
    "\n",
    "for k in [-3,0,2,4,7,10,12]:\n",
    "    y_polit.append(df_polit[k].sum(skipna = True)) #<= Do we have a list in a list\n",
    "\n",
    "y_polit"
   ]
  },
  {
   "cell_type": "code",
   "execution_count": 18,
   "metadata": {},
   "outputs": [
    {
     "data": {
      "text/plain": [
       "[0.06168032786885246,\n",
       " 0.07407786885245901,\n",
       " 0.10068306010928962,\n",
       " 0.17370218579234972,\n",
       " 0.2609289617486339,\n",
       " 0.21048497267759564,\n",
       " 0.11844262295081967]"
      ]
     },
     "execution_count": 18,
     "metadata": {},
     "output_type": "execute_result"
    }
   ],
   "source": [
    "y_polit_freq = []\n",
    "\n",
    "# calc frequencies \n",
    "for q in range(len(y_polit)):\n",
    "    y_polit_freq.append(y_polit[q]/sum(y_polit))\n",
    "    \n",
    "y_polit_freq"
   ]
  },
  {
   "cell_type": "code",
   "execution_count": 19,
   "metadata": {},
   "outputs": [
    {
     "data": {
      "image/png": "[encoded data removed]",
      "text/plain": [
       "<Figure size 1080x720 with 1 Axes>"
      ]
     },
     "metadata": {
      "needs_background": "light"
     },
     "output_type": "display_data"
    }
   ],
   "source": [
    "f, ax = plt.subplots(figsize=(15,10))\n",
    "\n",
    "plt.subplot(1, 1, 1)\n",
    "plt.title(\"Economics\", fontsize = 16, weight = 'bold')\n",
    "plt.ylim([0,0.30])\n",
    "plt.grid(axis ='y',zorder=0)\n",
    "plt.ylabel('Frequency',fontsize=14)\n",
    "plt.bar(x, y_polit_freq, width=0.93, edgecolor='black',zorder=3)\n",
    "\n",
    "f.savefig('histogram_gades_economics.png')"
   ]
  },
  {
   "cell_type": "markdown",
   "metadata": {},
   "source": [
    "### Preparation and grades"
   ]
  },
  {
   "cell_type": "code",
   "execution_count": 20,
   "metadata": {},
   "outputs": [
    {
     "data": {
      "text/plain": [
       "array(['Kursus', 'Fakultet', 'Institut', 'Termin', 'ECTS', 'Eksamenstype',\n",
       "       'Antal tilmeldte', 'Fremmødte', 'Antal bestået',\n",
       "       'Eksamensgennemsnit', 12, 10, 7, 4, 2, 0, -3, 'Ej mødt',\n",
       "       'Ikke bestået', 'Year', 'ID', 'Re-exam_dummy', 'URL_E', 'level_0',\n",
       "       'Course Name', 'Credit', 'Type of assessment', 'Aid',\n",
       "       'Marking scale', 'Censorship form', 'Exam period', 'Re-exam',\n",
       "       'Language', 'Course code', 'Level', 'Duration', 'Placement',\n",
       "       'Schedule', 'Study board', 'Course id', 'Category', 'Lectures',\n",
       "       'Preparation', 'Exam', 'Total', 'Content', 'Learning\\r\\nOutcome',\n",
       "       'Class Instruction', 'Practical exercises',\n",
       "       'Exam registration requirements', 'Field Work', 'Course capacity',\n",
       "       'Seminar', 'Guidance', 'Continuing and further education', 'Price',\n",
       "       'Class Seminar', 'Class Exercises', 'Study Groups', 'Exercises',\n",
       "       'Exam Preparation', 'Excursions', 'Øvelseshold', 'Øvelser',\n",
       "       'Course Preparation', 'Theory exercises', 'Project work',\n",
       "       'Clinical practice', 'Praktik', 'Colloquia', 'Laboratory',\n",
       "       'E-Learning', 'Practical Training', 'Praksishold', 'Tutoring',\n",
       "       'Manuduktion', 'Aid_edit', 'Marking scale_edit',\n",
       "       'Censorship form_edit', 'Bachelor', 'Bachelor choice',\n",
       "       'Full Degree Master choice', 'Full Degree Master', 'Propaedeutics',\n",
       "       'Part Time Master', 'Ph.D.', 'Professionsbachelor', 'Master',\n",
       "       'Duration_edit', 'Credit_edit', 'Lectures_edit',\n",
       "       'Preparation_edit', 'Exam_edit', 'Total_edit',\n",
       "       'Practical exercises_edit', 'Field Work_edit', 'Guidance_edit',\n",
       "       'Class Seminar_edit', 'Class Exercises_edit', 'Study Groups_edit',\n",
       "       'Exercises_edit', 'Exam Preparation_edit', 'Excursions_edit',\n",
       "       'Øvelseshold_edit', 'Øvelser_edit', 'Course Preparation_edit',\n",
       "       'Theory exercises_edit', 'Project work_edit',\n",
       "       'Clinical practice_edit', 'Praktik_edit', 'Colloquia_edit',\n",
       "       'Laboratory_edit', 'E-Learning_edit', 'Practical Training_edit',\n",
       "       'Praksishold_edit', 'Tutoring_edit', 'Manuduktion_edit',\n",
       "       'Language_edit', 'Type of assessmet_edit', 'URL_C'], dtype=object)"
      ]
     },
     "execution_count": 20,
     "metadata": {},
     "output_type": "execute_result"
    }
   ],
   "source": [
    "df.columns.values"
   ]
  },
  {
   "cell_type": "code",
   "execution_count": 21,
   "metadata": {},
   "outputs": [
    {
     "name": "stdout",
     "output_type": "stream",
     "text": [
      "13984\n",
      "13984\n",
      "13984\n"
     ]
    }
   ],
   "source": [
    "df[['Total_edit','Preparation_edit','Lectures_edit']]\n",
    "print(len(df['Total_edit']))\n",
    "print(len(df['Preparation_edit']))\n",
    "print(len(df['Lectures_edit']))"
   ]
  },
  {
   "cell_type": "code",
   "execution_count": 22,
   "metadata": {},
   "outputs": [
    {
     "data": {
      "text/html": [
       "<div>\n",
       "<style scoped>\n",
       "    .dataframe tbody tr th:only-of-type {\n",
       "        vertical-align: middle;\n",
       "    }\n",
       "\n",
       "    .dataframe tbody tr th {\n",
       "        vertical-align: top;\n",
       "    }\n",
       "\n",
       "    .dataframe thead th {\n",
       "        text-align: right;\n",
       "    }\n",
       "</style>\n",
       "<table border=\"1\" class=\"dataframe\">\n",
       "  <thead>\n",
       "    <tr style=\"text-align: right;\">\n",
       "      <th></th>\n",
       "      <th>Preparation_edit</th>\n",
       "      <th>Total_edit</th>\n",
       "      <th>Share Preparation</th>\n",
       "    </tr>\n",
       "  </thead>\n",
       "  <tbody>\n",
       "    <tr>\n",
       "      <th>0</th>\n",
       "      <td>86.0</td>\n",
       "      <td>206.0</td>\n",
       "      <td>0.417476</td>\n",
       "    </tr>\n",
       "    <tr>\n",
       "      <th>1</th>\n",
       "      <td>0.0</td>\n",
       "      <td>28.0</td>\n",
       "      <td>0.000000</td>\n",
       "    </tr>\n",
       "    <tr>\n",
       "      <th>2</th>\n",
       "      <td>0.0</td>\n",
       "      <td>28.0</td>\n",
       "      <td>0.000000</td>\n",
       "    </tr>\n",
       "    <tr>\n",
       "      <th>3</th>\n",
       "      <td>168.0</td>\n",
       "      <td>275.0</td>\n",
       "      <td>0.610909</td>\n",
       "    </tr>\n",
       "    <tr>\n",
       "      <th>4</th>\n",
       "      <td>168.0</td>\n",
       "      <td>275.0</td>\n",
       "      <td>0.610909</td>\n",
       "    </tr>\n",
       "  </tbody>\n",
       "</table>\n",
       "</div>"
      ],
      "text/plain": [
       "   Preparation_edit  Total_edit  Share Preparation\n",
       "0              86.0       206.0           0.417476\n",
       "1               0.0        28.0           0.000000\n",
       "2               0.0        28.0           0.000000\n",
       "3             168.0       275.0           0.610909\n",
       "4             168.0       275.0           0.610909"
      ]
     },
     "execution_count": 22,
     "metadata": {},
     "output_type": "execute_result"
    }
   ],
   "source": [
    "df['Share Preparation'] = (df['Preparation_edit']+df['Course Preparation_edit'])/ df['Total_edit']\n",
    "df[['Preparation_edit','Total_edit','Share Preparation']].head()"
   ]
  },
  {
   "cell_type": "code",
   "execution_count": 23,
   "metadata": {},
   "outputs": [
    {
     "data": {
      "text/plain": [
       "[<matplotlib.lines.Line2D at 0x25a46cd4b38>]"
      ]
     },
     "execution_count": 23,
     "metadata": {},
     "output_type": "execute_result"
    },
    {
     "data": {
      "image/png": "[encoded data removed]",
      "text/plain": [
       "<Figure size 432x288 with 1 Axes>"
      ]
     },
     "metadata": {
      "needs_background": "light"
     },
     "output_type": "display_data"
    }
   ],
   "source": [
    "plt.plot(df['Share Preparation'])"
   ]
  },
  {
   "cell_type": "code",
   "execution_count": 24,
   "metadata": {},
   "outputs": [
    {
     "name": "stderr",
     "output_type": "stream",
     "text": [
      "C:\\Users\\jens_\\Anaconda3\\lib\\site-packages\\numpy\\lib\\histograms.py:824: RuntimeWarning: invalid value encountered in greater_equal\n",
      "  keep = (tmp_a >= first_edge)\n",
      "C:\\Users\\jens_\\Anaconda3\\lib\\site-packages\\numpy\\lib\\histograms.py:825: RuntimeWarning: invalid value encountered in less_equal\n",
      "  keep &= (tmp_a <= last_edge)\n"
     ]
    },
    {
     "data": {
      "text/plain": [
       "(array([2621.,  300.,  694.,  969., 1296., 1710., 2148., 2190., 1647.,\n",
       "          93.]),\n",
       " array([0. , 0.1, 0.2, 0.3, 0.4, 0.5, 0.6, 0.7, 0.8, 0.9, 1. ]),\n",
       " <a list of 10 Patch objects>)"
      ]
     },
     "execution_count": 24,
     "metadata": {},
     "output_type": "execute_result"
    },
    {
     "data": {
      "image/png": "[encoded data removed]",
      "text/plain": [
       "<Figure size 432x288 with 1 Axes>"
      ]
     },
     "metadata": {
      "needs_background": "light"
     },
     "output_type": "display_data"
    }
   ],
   "source": [
    "plt.hist(df['Share Preparation'])\n",
    "# We not that there is a lot of courses with very low share preparation. "
   ]
  },
  {
   "cell_type": "code",
   "execution_count": 58,
   "metadata": {},
   "outputs": [],
   "source": [
    "df_very_low_prep = df[df['Share Preparation']<=0.1] #if we check at 0.1 we have 2621, at 0.05 we have 2448.\n",
    "#print(len(df_very_low_prep))\n",
    "#print(df_very_low_prep['URL_C'])\n",
    "df_very_low_prep['URL_C'][377];"
   ]
  },
  {
   "cell_type": "code",
   "execution_count": 43,
   "metadata": {},
   "outputs": [
    {
     "data": {
      "text/plain": [
       "11047"
      ]
     },
     "execution_count": 43,
     "metadata": {},
     "output_type": "execute_result"
    }
   ],
   "source": [
    "df_prep = df[df['Share Preparation']>0.1] \n",
    "len(df_prep)"
   ]
  },
  {
   "cell_type": "code",
   "execution_count": 40,
   "metadata": {},
   "outputs": [
    {
     "data": {
      "application/vnd.jupyter.widget-view+json": {
       "model_id": "1ccb7c18432948d58768ab327c9979aa",
       "version_major": 2,
       "version_minor": 0
      },
      "text/plain": [
       "HBox(children=(IntProgress(value=0, max=11047), HTML(value='')))"
      ]
     },
     "metadata": {},
     "output_type": "display_data"
    },
    {
     "name": "stdout",
     "output_type": "stream",
     "text": [
      "\n"
     ]
    }
   ],
   "source": [
    "# Intern note, overvej finere inddeling, evt. 5%-point intervaller\n",
    "list_share_prep_level = []\n",
    "\n",
    "for i in tqdm_notebook(df_prep.index):\n",
    "    if 0.1 < df_prep['Share Preparation'][i] <= 0.2:\n",
    "        #df['Share Preparation level'][i] = '10-20 pct.'\n",
    "        list_share_prep_level.append('10-20 pct.')\n",
    "        \n",
    "    elif 0.2 < df_prep['Share Preparation'][i] <= 0.3:\n",
    "        #df_prep['Share Preparation level'][i] = '20-30 pct.'\n",
    "        list_share_prep_level.append('20-30 pct.')\n",
    "        \n",
    "    elif 0.3 < df_prep['Share Preparation'][i] <= 0.4:\n",
    "        #df_prep['Share Preparation level'][i] = '30-40 pct.'\n",
    "        list_share_prep_level.append('30-40 pct.')\n",
    "        \n",
    "    elif 0.4 < df_prep['Share Preparation'][i] <= 0.5:\n",
    "        #df_prep['Share Preparation level'][i] = '40-50 pct.'\n",
    "        list_share_prep_level.append('40-50 pct.')\n",
    "        \n",
    "    elif 0.5 < df_prep['Share Preparation'][i] <= 0.6:\n",
    "        #df_prep['Share Preparation level'][i] = '50-60 pct.'\n",
    "        list_share_prep_level.append('50-60 pct.')\n",
    "        \n",
    "    elif 0.6 < df_prep['Share Preparation'][i] <= 0.7:\n",
    "        #df_prep['Share Preparation level'][i]= '60-70 pct.'\n",
    "        list_share_prep_level.append('60-70 pct.')\n",
    "        \n",
    "    elif 0.7 < df['Share Preparation'][i] <= 0.8:\n",
    "        #df_prep['Share Preparation level'][i] = '70-80 pct.'\n",
    "        list_share_prep_level.append('70-80 pct.')\n",
    "        \n",
    "    elif 0.8 < df_prep['Share Preparation'][i] <= 0.9:\n",
    "        #df_prep['Share Preparation level'][i] = '80-90 pct.'\n",
    "        list_share_prep_level.append('80-90 pct.')\n",
    "    \n",
    "    elif 0.9 < df_prep['Share Preparation'][i] <= 1:\n",
    "        #df_prep['Share Preparation level'][i] = '90-100 pct.'\n",
    "        list_share_prep_level.append('90-100 pct.')"
   ]
  },
  {
   "cell_type": "code",
   "execution_count": 56,
   "metadata": {},
   "outputs": [
    {
     "name": "stdout",
     "output_type": "stream",
     "text": [
      "11047\n"
     ]
    },
    {
     "name": "stderr",
     "output_type": "stream",
     "text": [
      "C:\\Users\\jens_\\Anaconda3\\lib\\site-packages\\ipykernel_launcher.py:2: SettingWithCopyWarning: \n",
      "A value is trying to be set on a copy of a slice from a DataFrame.\n",
      "Try using .loc[row_indexer,col_indexer] = value instead\n",
      "\n",
      "See the caveats in the documentation: http://pandas.pydata.org/pandas-docs/stable/indexing.html#indexing-view-versus-copy\n",
      "  \n"
     ]
    }
   ],
   "source": [
    "print(len(list_share_prep_level))\n",
    "df_prep['Share Preparation level'] = list_share_prep_level\n",
    "df_prep['Share Preparation level'];"
   ]
  },
  {
   "cell_type": "code",
   "execution_count": 57,
   "metadata": {},
   "outputs": [],
   "source": [
    "#print(df_prep[df_prep['Share Preparation level']=='10-20 pct.'].loc[:,'Eksamensgennemsnit'].mean())\n",
    "#print(df_prep[df_prep['Share Preparation level']=='20-30 pct.'].loc[:,'Eksamensgennemsnit'].mean()) \n",
    "#print(df_prep[df_prep['Share Preparation level']=='30-40 pct.'].loc[:,'Eksamensgennemsnit'].mean()) \n",
    "#print(df_prep[df_prep['Share Preparation level']=='40-50 pct.'].loc[:,'Eksamensgennemsnit'].mean())    \n",
    "#print(df_prep[df_prep['Share Preparation level']=='50-60 pct.'].loc[:,'Eksamensgennemsnit'].mean())    \n",
    "#print(df_prep[df_prep['Share Preparation level']=='60-70 pct.'].loc[:,'Eksamensgennemsnit'].mean())\n",
    "#print(df_prep[df_prep['Share Preparation level']=='70-80 pct.'].loc[:,'Eksamensgennemsnit'].mean())  \n",
    "#print(df_prep[df_prep['Share Preparation level']=='80-90 pct.'].loc[:,'Eksamensgennemsnit'].mean()) \n",
    "#print(df_prep[df_prep['Share Preparation level']=='90-100 pct.'].loc[:,'Eksamensgennemsnit'].mean())  "
   ]
  },
  {
   "cell_type": "code",
   "execution_count": 55,
   "metadata": {},
   "outputs": [
    {
     "data": {
      "image/png": "[encoded data removed]",
      "text/plain": [
       "<Figure size 1080x720 with 1 Axes>"
      ]
     },
     "metadata": {
      "needs_background": "light"
     },
     "output_type": "display_data"
    }
   ],
   "source": [
    "list_share=[df_prep[df_prep['Share Preparation level']=='10-20 pct.'].loc[:,'Eksamensgennemsnit'].mean(),df_prep[df_prep['Share Preparation level']=='20-30 pct.'].loc[:,'Eksamensgennemsnit'].mean(),df_prep[df_prep['Share Preparation level']=='30-40 pct.'].loc[:,'Eksamensgennemsnit'].mean(),df_prep[df_prep['Share Preparation level']=='40-50 pct.'].loc[:,'Eksamensgennemsnit'].mean(),df_prep[df_prep['Share Preparation level']=='50-60 pct.'].loc[:,'Eksamensgennemsnit'].mean(),df_prep[df_prep['Share Preparation level']=='60-70 pct.'].loc[:,'Eksamensgennemsnit'].mean(),df_prep[df_prep['Share Preparation level']=='70-80 pct.'].loc[:,'Eksamensgennemsnit'].mean(),df_prep[df_prep['Share Preparation level']=='80-90 pct.'].loc[:,'Eksamensgennemsnit'].mean(),df_prep[df_prep['Share Preparation level']=='90-100 pct.'].loc[:,'Eksamensgennemsnit'].mean()]\n",
    "prep_level = ['10-20 pct.','20-30 pct.','30-40 pct.','40-50 pct.','50-60 pct.','60-70 pct.','70-80 pct.','80-90 pct.','90-100 pct.']\n",
    "\n",
    "f, ax = plt.subplots(figsize=(15,10))\n",
    "\n",
    "plt.subplot(1, 1, 1)\n",
    "plt.ylim([6,8.5])\n",
    "plt.grid(axis ='y',zorder=0)\n",
    "plt.ylabel('Grade',fontsize=14)\n",
    "plt.title(\"Share of (home) preperation of total workload\", fontsize = 16, weight = 'bold')\n",
    "plt.plot(prep_level, list_share)\n",
    "\n",
    "#Vælg denne figur, men fra sorter, den sidste x-værdi. der er meget få observartioner der. \n",
    "\n",
    "f.savefig('figure_grade_and_share_or_prep.png')"
   ]
  },
  {
   "cell_type": "code",
   "execution_count": 166,
   "metadata": {},
   "outputs": [
    {
     "name": "stdout",
     "output_type": "stream",
     "text": [
      "1646\n",
      "['Det Natur- og Biovidenskabelige Fakultet'\n",
      " 'Det Samfundsvidenskabelige Fakultet' 'Det Humanistiske Fakultet'\n",
      " 'Det Sundhedsvidenskabelige Fakultet' 'Det Juridiske Fakultet'\n",
      " 'Det Teologiske Fakultet']\n"
     ]
    },
    {
     "data": {
      "text/plain": [
       "[0.07168894289185905,\n",
       " 0.010328068043742407,\n",
       " 0.2624544349939247,\n",
       " 0.04495747266099635,\n",
       " 0.6105710814094775,\n",
       " 0.0]"
      ]
     },
     "execution_count": 166,
     "metadata": {},
     "output_type": "execute_result"
    }
   ],
   "source": [
    "df_test = df_prep[df_prep['Share Preparation level']=='80-90 pct.']\n",
    "print(len(df_test))\n",
    "#print(df_test.columns.values)\n",
    "\n",
    "list_share_of_fac = []\n",
    "\n",
    "print(df['Fakultet'].unique())\n",
    "for i in df['Fakultet'].unique():\n",
    "    list_share_of_fac.append(len(df_test[df_test['Fakultet']==i])/len(df_test))\n",
    "\n",
    "list_share_of_fac\n",
    "# We not that law represent 61 pct. of the all the courses in the 80-90 pct. prepation share range. \n",
    "# We will trye to move the out. "
   ]
  },
  {
   "cell_type": "code",
   "execution_count": 195,
   "metadata": {},
   "outputs": [
    {
     "data": {
      "text/plain": [
       "array(['Continuous assessment not exam', 'Oral',\n",
       "       'Written not under invigilation', 'Portfolio',\n",
       "       'Written under invigilation', 'Practical',\n",
       "       'Course participation written', 'Course participation not written',\n",
       "       'Continuous assessment exam', 'Other'], dtype=object)"
      ]
     },
     "execution_count": 195,
     "metadata": {},
     "output_type": "execute_result"
    }
   ],
   "source": [
    "df['Type of assessmet_edit'].unique()"
   ]
  },
  {
   "cell_type": "code",
   "execution_count": 220,
   "metadata": {},
   "outputs": [],
   "source": [
    "df_no_law = df_prep[df_prep['Type of assessmet_edit']!= ('Oral')] #\n",
    "df_no_law;"
   ]
  },
  {
   "cell_type": "code",
   "execution_count": 221,
   "metadata": {},
   "outputs": [
    {
     "data": {
      "image/png": "[encoded data removed]",
      "text/plain": [
       "<Figure size 1080x720 with 1 Axes>"
      ]
     },
     "metadata": {
      "needs_background": "light"
     },
     "output_type": "display_data"
    }
   ],
   "source": [
    "list_share=[df_no_law[df_no_law['Share Preparation level']=='10-20 pct.'].loc[:,'Eksamensgennemsnit'].mean(),df_no_law[df_no_law['Share Preparation level']=='20-30 pct.'].loc[:,'Eksamensgennemsnit'].mean(),df_no_law[df_no_law['Share Preparation level']=='30-40 pct.'].loc[:,'Eksamensgennemsnit'].mean(),df_no_law[df_no_law['Share Preparation level']=='40-50 pct.'].loc[:,'Eksamensgennemsnit'].mean(),df_no_law[df_no_law['Share Preparation level']=='50-60 pct.'].loc[:,'Eksamensgennemsnit'].mean(),df_no_law[df_no_law['Share Preparation level']=='60-70 pct.'].loc[:,'Eksamensgennemsnit'].mean(),df_no_law[df_no_law['Share Preparation level']=='70-80 pct.'].loc[:,'Eksamensgennemsnit'].mean(),df_no_law[df_no_law['Share Preparation level']=='80-90 pct.'].loc[:,'Eksamensgennemsnit'].mean()] #df_no_law[df_no_law['Share Preparation level']=='90-100 pct.'].loc[:,'Eksamensgennemsnit'].mean()\n",
    "prep_level = ['10-20 pct.','20-30 pct.','30-40 pct.','40-50 pct.','50-60 pct.','60-70 pct.','70-80 pct.','80-90 pct.'] #,'90-100 pct.'\n",
    "\n",
    "f, ax = plt.subplots(figsize=(15,10))\n",
    "\n",
    "plt.subplot(1, 1, 1)\n",
    "plt.ylim([6,8.5])\n",
    "plt.grid(axis ='y',zorder=0)\n",
    "plt.ylabel('Grade',fontsize=14)\n",
    "plt.title(\"Share of (home) preperation of total workload\", fontsize = 16, weight = 'bold')\n",
    "plt.plot(prep_level, list_share)\n",
    "\n",
    "#ville forvente at den var negativ hele vejen. \n",
    "\n",
    "f.savefig('figure_grade_and_share_of_prep_NO_LAW.png')"
   ]
  },
  {
   "cell_type": "code",
   "execution_count": 183,
   "metadata": {},
   "outputs": [
    {
     "data": {
      "text/plain": [
       "7.823466083792114"
      ]
     },
     "execution_count": 183,
     "metadata": {},
     "output_type": "execute_result"
    }
   ],
   "source": [
    "df_no_law[df_no_law['Share Preparation level']=='10-20 pct.'].loc[:,'Eksamensgennemsnit'].mean()"
   ]
  },
  {
   "cell_type": "code",
   "execution_count": 186,
   "metadata": {},
   "outputs": [
    {
     "data": {
      "text/plain": [
       "7.823466083792114"
      ]
     },
     "execution_count": 186,
     "metadata": {},
     "output_type": "execute_result"
    }
   ],
   "source": [
    "df_test = df_no_law[df_no_law['Share Preparation level']=='10-20 pct.']\n",
    "df_test['Eksamensgennemsnit'].mean()"
   ]
  },
  {
   "cell_type": "code",
   "execution_count": 222,
   "metadata": {},
   "outputs": [
    {
     "name": "stdout",
     "output_type": "stream",
     "text": [
      "['Continuous assessment not exam' 'Oral' 'Written not under invigilation'\n",
      " 'Portfolio' 'Written under invigilation' 'Practical'\n",
      " 'Course participation written' 'Course participation not written'\n",
      " 'Continuous assessment exam' 'Other']\n",
      "['10-20 pct.', '20-30 pct.', '30-40 pct.', '40-50 pct.', '50-60 pct.', '60-70 pct.', '70-80 pct.', '80-90 pct.']\n",
      "306\n",
      "688\n",
      "988\n",
      "1358\n",
      "1629\n",
      "2148\n",
      "2191\n",
      "1646\n"
     ]
    },
    {
     "data": {
      "text/plain": [
       "[[21, 93, 99, 28, 35, 0, 3, 6, 8, 13],\n",
       " [59, 178, 187, 28, 146, 25, 4, 3, 46, 12],\n",
       " [99, 286, 260, 43, 200, 20, 21, 31, 18, 10],\n",
       " [52, 309, 371, 105, 311, 36, 23, 37, 61, 53],\n",
       " [59, 307, 409, 51, 541, 25, 16, 71, 31, 119],\n",
       " [97, 468, 598, 57, 713, 21, 32, 32, 46, 84],\n",
       " [54, 411, 235, 27, 811, 8, 62, 88, 8, 487],\n",
       " [49, 721, 270, 1, 213, 1, 13, 3, 0, 375]]"
      ]
     },
     "execution_count": 222,
     "metadata": {},
     "output_type": "execute_result"
    },
    {
     "data": {
      "image/png": "[encoded data removed]",
      "text/plain": [
       "<Figure size 432x288 with 1 Axes>"
      ]
     },
     "metadata": {
      "needs_background": "light"
     },
     "output_type": "display_data"
    }
   ],
   "source": [
    "print(df['Type of assessmet_edit'].unique())\n",
    "print(prep_level)\n",
    "\n",
    "list_share_outer = []\n",
    "\n",
    "for i in prep_level:\n",
    "    df_test = df_prep[df_prep['Share Preparation level']==i]\n",
    "    print(len(df_test))\n",
    "    #print(df_test.columns.values)\n",
    "\n",
    "    list_share_inner = []\n",
    "    \n",
    "    for i in df['Type of assessmet_edit'].unique():\n",
    "        list_share_inner.append(len(df_test[df_test['Type of assessmet_edit']==i]))#/len(df_test))\n",
    "    \n",
    "    list_share_outer.append(list_share_inner)\n",
    "\n",
    "plt.plot(list_share_outer)\n",
    "list_share_outer"
   ]
  },
  {
   "cell_type": "code",
   "execution_count": 182,
   "metadata": {},
   "outputs": [
    {
     "name": "stdout",
     "output_type": "stream",
     "text": [
      "641\n",
      "['2014-2015' '2017-2018' '2016-2017' '2015-2016' '2013-2014']\n"
     ]
    },
    {
     "data": {
      "text/plain": [
       "[0.21060842433697347,\n",
       " 0.1747269890795632,\n",
       " 0.23244929797191888,\n",
       " 0.33541341653666146,\n",
       " 0.046801872074883]"
      ]
     },
     "execution_count": 182,
     "metadata": {},
     "output_type": "execute_result"
    }
   ],
   "source": [
    "#investegating year distr.\n",
    "df_test = df_no_law[df_no_law['Share Preparation level']=='80-90 pct.']\n",
    "print(len(df_test))\n",
    "#print(df_test.columns.values)\n",
    "\n",
    "list_share_of_fac = []\n",
    "\n",
    "print(df['Year'].unique())\n",
    "for i in df['Year'].unique():\n",
    "    list_share_of_fac.append(len(df_test[df_test['Year']==i])/len(df_test))\n",
    "\n",
    "list_share_of_fac\n",
    "\n",
    "\n"
   ]
  },
  {
   "cell_type": "markdown",
   "metadata": {},
   "source": [
    "### Preparation and grades (ECTS weighted)"
   ]
  },
  {
   "cell_type": "code",
   "execution_count": 117,
   "metadata": {},
   "outputs": [
    {
     "name": "stdout",
     "output_type": "stream",
     "text": [
      "40-50 pct.\n",
      "60-70 pct.\n",
      "10-20 pct.\n",
      "70-80 pct.\n",
      "30-40 pct.\n",
      "80-90 pct.\n",
      "50-60 pct.\n",
      "20-30 pct.\n",
      "90-100 pct.\n"
     ]
    },
    {
     "data": {
      "text/plain": [
       "[5.648798082385686,\n",
       " 5.99901161356598,\n",
       " 6.622786893412465,\n",
       " 5.530059450656822,\n",
       " 6.838189508886624,\n",
       " 6.84866783118873,\n",
       " 6.104158143013599,\n",
       " 6.934682232558989,\n",
       " 5.722258596681403]"
      ]
     },
     "execution_count": 117,
     "metadata": {},
     "output_type": "execute_result"
    }
   ],
   "source": [
    "list_weighted_grades_share_prep = []\n",
    "\n",
    "\n",
    "for i in df_prep['Share Preparation level'].unique():\n",
    "    print(i)\n",
    "    df_test = df_prep[df_prep['Share Preparation level']==i]\n",
    "    list_weighted_grades_share_prep.append((df_test['Eksamensgennemsnit'] * df_test['Credit_edit']/sum(df_test['Credit_edit'])).sum(skipna = True))\n",
    "    \n",
    "list_weighted_grades_share_prep"
   ]
  },
  {
   "cell_type": "code",
   "execution_count": 119,
   "metadata": {},
   "outputs": [
    {
     "data": {
      "image/png": "[encoded data removed]",
      "text/plain": [
       "<Figure size 1080x720 with 1 Axes>"
      ]
     },
     "metadata": {
      "needs_background": "light"
     },
     "output_type": "display_data"
    }
   ],
   "source": [
    "f, ax = plt.subplots(figsize=(15,10))\n",
    "\n",
    "plt.subplot(1, 1, 1)\n",
    "plt.ylim([5,7.5])\n",
    "plt.grid(axis ='y',zorder=0)\n",
    "plt.ylabel('Grade',fontsize=14)\n",
    "plt.title(\"Share of (home) preperation of total workload (ECTS weighted)\", fontsize = 16, weight = 'bold')\n",
    "plt.plot(prep_level, list_weighted_grades_share_prep)\n",
    "\n",
    "#ville forvente at den var negativ hele vejen. \n",
    "\n",
    "f.savefig('figure_grade_and_share_or_prep_ECTS_weighted.png')"
   ]
  },
  {
   "cell_type": "markdown",
   "metadata": {},
   "source": [
    "### Lectures and grades"
   ]
  },
  {
   "cell_type": "code",
   "execution_count": null,
   "metadata": {},
   "outputs": [],
   "source": []
  }
 ],
 "metadata": {
  "kernelspec": {
   "display_name": "Python 3",
   "language": "python",
   "name": "python3"
  },
  "language_info": {
   "codemirror_mode": {
    "name": "ipython",
    "version": 3
   },
   "file_extension": ".py",
   "mimetype": "text/x-python",
   "name": "python",
   "nbconvert_exporter": "python",
   "pygments_lexer": "ipython3",
   "version": "3.7.3"
  }
 },
 "nbformat": 4,
 "nbformat_minor": 2
}
