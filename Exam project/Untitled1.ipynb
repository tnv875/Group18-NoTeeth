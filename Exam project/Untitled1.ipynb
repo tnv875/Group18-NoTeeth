{
 "cells": [
  {
   "cell_type": "markdown",
   "metadata": {},
   "source": [
    "## Checking on course data\n"
   ]
  },
  {
   "cell_type": "code",
   "execution_count": 2,
   "metadata": {},
   "outputs": [],
   "source": [
    "import scraping_class\n",
    "logfile = 'log.txt'## name your log file.\n",
    "connector = scraping_class.Connector(logfile)\n",
    "import requests\n",
    "from bs4 import BeautifulSoup\n",
    "from tqdm import tqdm_notebook"
   ]
  },
  {
   "cell_type": "code",
   "execution_count": 3,
   "metadata": {},
   "outputs": [],
   "source": [
    "import pandas as pd\n",
    "import numpy as np\n",
    "import html5lib\n",
    "import sys"
   ]
  },
  {
   "cell_type": "code",
   "execution_count": 5,
   "metadata": {},
   "outputs": [
    {
     "data": {
      "text/plain": [
       "https://kurser.ku.dk/archive/2013-2014/course/AANA20003U    AANA20003U\n",
       "https://kurser.ku.dk/archive/2013-2014/course/AANA20004U    AANA20004U\n",
       "https://kurser.ku.dk/archive/2013-2014/course/AANB05023U    AANB05023U\n",
       "https://kurser.ku.dk/archive/2013-2014/course/AANB05024U    AANB05024U\n",
       "https://kurser.ku.dk/archive/2013-2014/course/AANB11001U    AANB11001U\n",
       "https://kurser.ku.dk/archive/2013-2014/course/AANB11002U    AANB11002U\n",
       "https://kurser.ku.dk/archive/2013-2014/course/AANB11003U    AANB11003U\n",
       "https://kurser.ku.dk/archive/2013-2014/course/AANB11004U    AANB11004U\n",
       "https://kurser.ku.dk/archive/2013-2014/course/AANB11005U    AANB11005U\n",
       "https://kurser.ku.dk/archive/2013-2014/course/AANB11006U    AANB11006U\n",
       "https://kurser.ku.dk/archive/2013-2014/course/AANB11007U    AANB11007U\n",
       "https://kurser.ku.dk/archive/2013-2014/course/AANB11008U    AANB11008U\n",
       "https://kurser.ku.dk/archive/2013-2014/course/AANB11015U    AANB11015U\n",
       "https://kurser.ku.dk/archive/2013-2014/course/AANB11040U    AANB11040U\n",
       "https://kurser.ku.dk/archive/2013-2014/course/AANK12005U    AANK12005U\n",
       "https://kurser.ku.dk/archive/2013-2014/course/AANK12015U    AANK12015U\n",
       "https://kurser.ku.dk/archive/2013-2014/course/AANK13003U    AANK13003U\n",
       "https://kurser.ku.dk/archive/2013-2014/course/AANK13012U    AANK13012U\n",
       "https://kurser.ku.dk/archive/2013-2014/course/APSA70032U    APSA70032U\n",
       "https://kurser.ku.dk/archive/2013-2014/course/APSA70033U    APSA70033U\n",
       "https://kurser.ku.dk/archive/2013-2014/course/APSA70101U    APSA70101U\n",
       "https://kurser.ku.dk/archive/2013-2014/course/APSA70105U    APSA70105U\n",
       "https://kurser.ku.dk/archive/2013-2014/course/APSA70123U    APSA70123U\n",
       "https://kurser.ku.dk/archive/2013-2014/course/APSA70126U    APSA70126U\n",
       "https://kurser.ku.dk/archive/2013-2014/course/APSB05012U    APSB05012U\n",
       "https://kurser.ku.dk/archive/2013-2014/course/APSB05021U    APSB05021U\n",
       "https://kurser.ku.dk/archive/2013-2014/course/APSB05029U    APSB05029U\n",
       "https://kurser.ku.dk/archive/2013-2014/course/APSB05106U    APSB05106U\n",
       "https://kurser.ku.dk/archive/2013-2014/course/APSB05108U    APSB05108U\n",
       "https://kurser.ku.dk/archive/2013-2014/course/APSB05119U    APSB05119U\n",
       "                                                               ...    \n",
       "https://kurser.ku.dk/archive/2017-2018/course/TTEAKH045U    TTEAKH045U\n",
       "https://kurser.ku.dk/archive/2017-2018/course/TTEAKH1BAU    TTEAKH1BAU\n",
       "https://kurser.ku.dk/archive/2017-2018/course/TTEAKH2BAU    TTEAKH2BAU\n",
       "https://kurser.ku.dk/archive/2017-2018/course/TTEAKHBA3U    TTEAKHBA3U\n",
       "https://kurser.ku.dk/archive/2017-2018/course/TTEAKKFDOU    TTEAKKFDOU\n",
       "https://kurser.ku.dk/archive/2017-2018/course/TTEAKKFERU    TTEAKKFERU\n",
       "https://kurser.ku.dk/archive/2017-2018/course/TTEAKKFGTU    TTEAKKFGTU\n",
       "https://kurser.ku.dk/archive/2017-2018/course/TTEAKKFKHU    TTEAKKFKHU\n",
       "https://kurser.ku.dk/archive/2017-2018/course/TTEAKKFNTU    TTEAKKFNTU\n",
       "https://kurser.ku.dk/archive/2017-2018/course/TTEAKS008U    TTEAKS008U\n",
       "https://kurser.ku.dk/archive/2017-2018/course/TTEAKVER5U    TTEAKVER5U\n",
       "https://kurser.ku.dk/archive/2017-2018/course/TTEAKVNT3U    TTEAKVNT3U\n",
       "https://kurser.ku.dk/archive/2017-2018/course/TTEANT1BAU    TTEANT1BAU\n",
       "https://kurser.ku.dk/archive/2017-2018/course/TTEANT2BAU    TTEANT2BAU\n",
       "https://kurser.ku.dk/archive/2017-2018/course/TTEANT3BAU    TTEANT3BAU\n",
       "https://kurser.ku.dk/archive/2017-2018/course/TTEANTVBAU    TTEANTVBAU\n",
       "https://kurser.ku.dk/archive/2017-2018/course/TTEAPT039U    TTEAPT039U\n",
       "https://kurser.ku.dk/archive/2017-2018/course/TTEAPTVBAU    TTEAPTVBAU\n",
       "https://kurser.ku.dk/archive/2017-2018/course/TTEARR006U    TTEARR006U\n",
       "https://kurser.ku.dk/archive/2017-2018/course/TTEARROA1U    TTEARROA1U\n",
       "https://kurser.ku.dk/archive/2017-2018/course/TTEARROH1U    TTEARROH1U\n",
       "https://kurser.ku.dk/archive/2017-2018/course/TTEASK008U    TTEASK008U\n",
       "https://kurser.ku.dk/archive/2017-2018/course/TTEASK016U    TTEASK016U\n",
       "https://kurser.ku.dk/archive/2017-2018/course/TTEASK017U    TTEASK017U\n",
       "https://kurser.ku.dk/archive/2017-2018/course/TTEASK020U    TTEASK020U\n",
       "https://kurser.ku.dk/archive/2017-2018/course/TTEASK023U    TTEASK023U\n",
       "https://kurser.ku.dk/archive/2017-2018/course/TTEASK024U    TTEASK024U\n",
       "https://kurser.ku.dk/archive/2017-2018/course/TTEASK026U    TTEASK026U\n",
       "https://kurser.ku.dk/archive/2017-2018/course/TTEAVFKH1U    TTEAVFKH1U\n",
       "https://kurser.ku.dk/archive/2017-2018/course/TTERRHS10U    TTERRHS10U\n",
       "Name: Course code, Length: 19116, dtype: object"
      ]
     },
     "execution_count": 5,
     "metadata": {},
     "output_type": "execute_result"
    }
   ],
   "source": [
    "dfc = pd.read_pickle('kurser_scrabe_ALL_edit.pkl')\n",
    "dfc['Course code']"
   ]
  },
  {
   "cell_type": "code",
   "execution_count": 9,
   "metadata": {},
   "outputs": [
    {
     "data": {
      "text/plain": [
       "https://kurser.ku.dk/archive/2013-2014/course/AANA20003U    2013-2014\n",
       "https://kurser.ku.dk/archive/2013-2014/course/AANA20004U    2013-2014\n",
       "https://kurser.ku.dk/archive/2013-2014/course/AANB05023U    2013-2014\n",
       "https://kurser.ku.dk/archive/2013-2014/course/AANB05024U    2013-2014\n",
       "https://kurser.ku.dk/archive/2013-2014/course/AANB11001U    2013-2014\n",
       "https://kurser.ku.dk/archive/2013-2014/course/AANB11002U    2013-2014\n",
       "https://kurser.ku.dk/archive/2013-2014/course/AANB11003U    2013-2014\n",
       "https://kurser.ku.dk/archive/2013-2014/course/AANB11004U    2013-2014\n",
       "https://kurser.ku.dk/archive/2013-2014/course/AANB11005U    2013-2014\n",
       "https://kurser.ku.dk/archive/2013-2014/course/AANB11006U    2013-2014\n",
       "https://kurser.ku.dk/archive/2013-2014/course/AANB11007U    2013-2014\n",
       "https://kurser.ku.dk/archive/2013-2014/course/AANB11008U    2013-2014\n",
       "https://kurser.ku.dk/archive/2013-2014/course/AANB11015U    2013-2014\n",
       "https://kurser.ku.dk/archive/2013-2014/course/AANB11040U    2013-2014\n",
       "https://kurser.ku.dk/archive/2013-2014/course/AANK12005U    2013-2014\n",
       "https://kurser.ku.dk/archive/2013-2014/course/AANK12015U    2013-2014\n",
       "https://kurser.ku.dk/archive/2013-2014/course/AANK13003U    2013-2014\n",
       "https://kurser.ku.dk/archive/2013-2014/course/AANK13012U    2013-2014\n",
       "https://kurser.ku.dk/archive/2013-2014/course/APSA70032U    2013-2014\n",
       "https://kurser.ku.dk/archive/2013-2014/course/APSA70033U    2013-2014\n",
       "https://kurser.ku.dk/archive/2013-2014/course/APSA70101U    2013-2014\n",
       "https://kurser.ku.dk/archive/2013-2014/course/APSA70105U    2013-2014\n",
       "https://kurser.ku.dk/archive/2013-2014/course/APSA70123U    2013-2014\n",
       "https://kurser.ku.dk/archive/2013-2014/course/APSA70126U    2013-2014\n",
       "https://kurser.ku.dk/archive/2013-2014/course/APSB05012U    2013-2014\n",
       "https://kurser.ku.dk/archive/2013-2014/course/APSB05021U    2013-2014\n",
       "https://kurser.ku.dk/archive/2013-2014/course/APSB05029U    2013-2014\n",
       "https://kurser.ku.dk/archive/2013-2014/course/APSB05106U    2013-2014\n",
       "https://kurser.ku.dk/archive/2013-2014/course/APSB05108U    2013-2014\n",
       "https://kurser.ku.dk/archive/2013-2014/course/APSB05119U    2013-2014\n",
       "                                                              ...    \n",
       "https://kurser.ku.dk/archive/2017-2018/course/TTEAKH045U    2017-2018\n",
       "https://kurser.ku.dk/archive/2017-2018/course/TTEAKH1BAU    2017-2018\n",
       "https://kurser.ku.dk/archive/2017-2018/course/TTEAKH2BAU    2017-2018\n",
       "https://kurser.ku.dk/archive/2017-2018/course/TTEAKHBA3U    2017-2018\n",
       "https://kurser.ku.dk/archive/2017-2018/course/TTEAKKFDOU    2017-2018\n",
       "https://kurser.ku.dk/archive/2017-2018/course/TTEAKKFERU    2017-2018\n",
       "https://kurser.ku.dk/archive/2017-2018/course/TTEAKKFGTU    2017-2018\n",
       "https://kurser.ku.dk/archive/2017-2018/course/TTEAKKFKHU    2017-2018\n",
       "https://kurser.ku.dk/archive/2017-2018/course/TTEAKKFNTU    2017-2018\n",
       "https://kurser.ku.dk/archive/2017-2018/course/TTEAKS008U    2017-2018\n",
       "https://kurser.ku.dk/archive/2017-2018/course/TTEAKVER5U    2017-2018\n",
       "https://kurser.ku.dk/archive/2017-2018/course/TTEAKVNT3U    2017-2018\n",
       "https://kurser.ku.dk/archive/2017-2018/course/TTEANT1BAU    2017-2018\n",
       "https://kurser.ku.dk/archive/2017-2018/course/TTEANT2BAU    2017-2018\n",
       "https://kurser.ku.dk/archive/2017-2018/course/TTEANT3BAU    2017-2018\n",
       "https://kurser.ku.dk/archive/2017-2018/course/TTEANTVBAU    2017-2018\n",
       "https://kurser.ku.dk/archive/2017-2018/course/TTEAPT039U    2017-2018\n",
       "https://kurser.ku.dk/archive/2017-2018/course/TTEAPTVBAU    2017-2018\n",
       "https://kurser.ku.dk/archive/2017-2018/course/TTEARR006U    2017-2018\n",
       "https://kurser.ku.dk/archive/2017-2018/course/TTEARROA1U    2017-2018\n",
       "https://kurser.ku.dk/archive/2017-2018/course/TTEARROH1U    2017-2018\n",
       "https://kurser.ku.dk/archive/2017-2018/course/TTEASK008U    2017-2018\n",
       "https://kurser.ku.dk/archive/2017-2018/course/TTEASK016U    2017-2018\n",
       "https://kurser.ku.dk/archive/2017-2018/course/TTEASK017U    2017-2018\n",
       "https://kurser.ku.dk/archive/2017-2018/course/TTEASK020U    2017-2018\n",
       "https://kurser.ku.dk/archive/2017-2018/course/TTEASK023U    2017-2018\n",
       "https://kurser.ku.dk/archive/2017-2018/course/TTEASK024U    2017-2018\n",
       "https://kurser.ku.dk/archive/2017-2018/course/TTEASK026U    2017-2018\n",
       "https://kurser.ku.dk/archive/2017-2018/course/TTEAVFKH1U    2017-2018\n",
       "https://kurser.ku.dk/archive/2017-2018/course/TTERRHS10U    2017-2018\n",
       "Name: Year, Length: 19116, dtype: object"
      ]
     },
     "execution_count": 9,
     "metadata": {},
     "output_type": "execute_result"
    }
   ],
   "source": [
    "dfc['Year']"
   ]
  },
  {
   "cell_type": "code",
   "execution_count": null,
   "metadata": {},
   "outputs": [],
   "source": []
  }
 ],
 "metadata": {
  "kernelspec": {
   "display_name": "Python 3",
   "language": "python",
   "name": "python3"
  },
  "language_info": {
   "codemirror_mode": {
    "name": "ipython",
    "version": 3
   },
   "file_extension": ".py",
   "mimetype": "text/x-python",
   "name": "python",
   "nbconvert_exporter": "python",
   "pygments_lexer": "ipython3",
   "version": "3.7.3"
  }
 },
 "nbformat": 4,
 "nbformat_minor": 2
}
