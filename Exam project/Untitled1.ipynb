{
 "cells": [
  {
   "cell_type": "markdown",
   "metadata": {},
   "source": [
    "## Checking on course data\n"
   ]
  },
  {
   "cell_type": "code",
   "execution_count": 2,
   "metadata": {},
   "outputs": [],
   "source": [
    "import scraping_class\n",
    "logfile = 'log.txt'## name your log file.\n",
    "connector = scraping_class.Connector(logfile)\n",
    "import requests\n",
    "from bs4 import BeautifulSoup\n",
    "from tqdm import tqdm_notebook"
   ]
  },
  {
   "cell_type": "code",
   "execution_count": 3,
   "metadata": {},
   "outputs": [],
   "source": [
    "import pandas as pd\n",
    "import numpy as np\n",
    "import html5lib\n",
    "import sys"
   ]
  },
  {
   "cell_type": "code",
   "execution_count": 5,
   "metadata": {},
   "outputs": [
    {
     "data": {
      "text/plain": [
       "https://kurser.ku.dk/archive/2013-2014/course/AANA20003U    AANA20003U\n",
       "https://kurser.ku.dk/archive/2013-2014/course/AANA20004U    AANA20004U\n",
       "https://kurser.ku.dk/archive/2013-2014/course/AANB05023U    AANB05023U\n",
       "https://kurser.ku.dk/archive/2013-2014/course/AANB05024U    AANB05024U\n",
       "https://kurser.ku.dk/archive/2013-2014/course/AANB11001U    AANB11001U\n",
       "https://kurser.ku.dk/archive/2013-2014/course/AANB11002U    AANB11002U\n",
       "https://kurser.ku.dk/archive/2013-2014/course/AANB11003U    AANB11003U\n",
       "https://kurser.ku.dk/archive/2013-2014/course/AANB11004U    AANB11004U\n",
       "https://kurser.ku.dk/archive/2013-2014/course/AANB11005U    AANB11005U\n",
       "https://kurser.ku.dk/archive/2013-2014/course/AANB11006U    AANB11006U\n",
       "https://kurser.ku.dk/archive/2013-2014/course/AANB11007U    AANB11007U\n",
       "https://kurser.ku.dk/archive/2013-2014/course/AANB11008U    AANB11008U\n",
       "https://kurser.ku.dk/archive/2013-2014/course/AANB11015U    AANB11015U\n",
       "https://kurser.ku.dk/archive/2013-2014/course/AANB11040U    AANB11040U\n",
       "https://kurser.ku.dk/archive/2013-2014/course/AANK12005U    AANK12005U\n",
       "https://kurser.ku.dk/archive/2013-2014/course/AANK12015U    AANK12015U\n",
       "https://kurser.ku.dk/archive/2013-2014/course/AANK13003U    AANK13003U\n",
       "https://kurser.ku.dk/archive/2013-2014/course/AANK13012U    AANK13012U\n",
       "https://kurser.ku.dk/archive/2013-2014/course/APSA70032U    APSA70032U\n",
       "https://kurser.ku.dk/archive/2013-2014/course/APSA70033U    APSA70033U\n",
       "https://kurser.ku.dk/archive/2013-2014/course/APSA70101U    APSA70101U\n",
       "https://kurser.ku.dk/archive/2013-2014/course/APSA70105U    APSA70105U\n",
       "https://kurser.ku.dk/archive/2013-2014/course/APSA70123U    APSA70123U\n",
       "https://kurser.ku.dk/archive/2013-2014/course/APSA70126U    APSA70126U\n",
       "https://kurser.ku.dk/archive/2013-2014/course/APSB05012U    APSB05012U\n",
       "https://kurser.ku.dk/archive/2013-2014/course/APSB05021U    APSB05021U\n",
       "https://kurser.ku.dk/archive/2013-2014/course/APSB05029U    APSB05029U\n",
       "https://kurser.ku.dk/archive/2013-2014/course/APSB05106U    APSB05106U\n",
       "https://kurser.ku.dk/archive/2013-2014/course/APSB05108U    APSB05108U\n",
       "https://kurser.ku.dk/archive/2013-2014/course/APSB05119U    APSB05119U\n",
       "                                                               ...    \n",
       "https://kurser.ku.dk/archive/2017-2018/course/TTEAKH045U    TTEAKH045U\n",
       "https://kurser.ku.dk/archive/2017-2018/course/TTEAKH1BAU    TTEAKH1BAU\n",
       "https://kurser.ku.dk/archive/2017-2018/course/TTEAKH2BAU    TTEAKH2BAU\n",
       "https://kurser.ku.dk/archive/2017-2018/course/TTEAKHBA3U    TTEAKHBA3U\n",
       "https://kurser.ku.dk/archive/2017-2018/course/TTEAKKFDOU    TTEAKKFDOU\n",
       "https://kurser.ku.dk/archive/2017-2018/course/TTEAKKFERU    TTEAKKFERU\n",
       "https://kurser.ku.dk/archive/2017-2018/course/TTEAKKFGTU    TTEAKKFGTU\n",
       "https://kurser.ku.dk/archive/2017-2018/course/TTEAKKFKHU    TTEAKKFKHU\n",
       "https://kurser.ku.dk/archive/2017-2018/course/TTEAKKFNTU    TTEAKKFNTU\n",
       "https://kurser.ku.dk/archive/2017-2018/course/TTEAKS008U    TTEAKS008U\n",
       "https://kurser.ku.dk/archive/2017-2018/course/TTEAKVER5U    TTEAKVER5U\n",
       "https://kurser.ku.dk/archive/2017-2018/course/TTEAKVNT3U    TTEAKVNT3U\n",
       "https://kurser.ku.dk/archive/2017-2018/course/TTEANT1BAU    TTEANT1BAU\n",
       "https://kurser.ku.dk/archive/2017-2018/course/TTEANT2BAU    TTEANT2BAU\n",
       "https://kurser.ku.dk/archive/2017-2018/course/TTEANT3BAU    TTEANT3BAU\n",
       "https://kurser.ku.dk/archive/2017-2018/course/TTEANTVBAU    TTEANTVBAU\n",
       "https://kurser.ku.dk/archive/2017-2018/course/TTEAPT039U    TTEAPT039U\n",
       "https://kurser.ku.dk/archive/2017-2018/course/TTEAPTVBAU    TTEAPTVBAU\n",
       "https://kurser.ku.dk/archive/2017-2018/course/TTEARR006U    TTEARR006U\n",
       "https://kurser.ku.dk/archive/2017-2018/course/TTEARROA1U    TTEARROA1U\n",
       "https://kurser.ku.dk/archive/2017-2018/course/TTEARROH1U    TTEARROH1U\n",
       "https://kurser.ku.dk/archive/2017-2018/course/TTEASK008U    TTEASK008U\n",
       "https://kurser.ku.dk/archive/2017-2018/course/TTEASK016U    TTEASK016U\n",
       "https://kurser.ku.dk/archive/2017-2018/course/TTEASK017U    TTEASK017U\n",
       "https://kurser.ku.dk/archive/2017-2018/course/TTEASK020U    TTEASK020U\n",
       "https://kurser.ku.dk/archive/2017-2018/course/TTEASK023U    TTEASK023U\n",
       "https://kurser.ku.dk/archive/2017-2018/course/TTEASK024U    TTEASK024U\n",
       "https://kurser.ku.dk/archive/2017-2018/course/TTEASK026U    TTEASK026U\n",
       "https://kurser.ku.dk/archive/2017-2018/course/TTEAVFKH1U    TTEAVFKH1U\n",
       "https://kurser.ku.dk/archive/2017-2018/course/TTERRHS10U    TTERRHS10U\n",
       "Name: Course code, Length: 19116, dtype: object"
      ]
     },
     "execution_count": 5,
     "metadata": {},
     "output_type": "execute_result"
    }
   ],
   "source": [
    "dfc = pd.read_pickle('kurser_scrabe_ALL_edit.pkl')\n",
    "dfc['Course code']"
   ]
  },
  {
   "cell_type": "code",
   "execution_count": 10,
   "metadata": {},
   "outputs": [],
   "source": [
    "dfc['Year'];"
   ]
  },
  {
   "cell_type": "code",
   "execution_count": 22,
   "metadata": {},
   "outputs": [
    {
     "data": {
      "application/vnd.jupyter.widget-view+json": {
       "model_id": "46e5c236b71c4369a1468d406a687d66",
       "version_major": 2,
       "version_minor": 0
      },
      "text/plain": [
       "HBox(children=(IntProgress(value=0, max=19116), HTML(value='')))"
      ]
     },
     "metadata": {},
     "output_type": "display_data"
    },
    {
     "name": "stderr",
     "output_type": "stream",
     "text": [
      "C:\\Users\\sfv328\\AppData\\Local\\Continuum\\anaconda3\\lib\\site-packages\\ipykernel_launcher.py:2: SettingWithCopyWarning: \n",
      "A value is trying to be set on a copy of a slice from a DataFrame\n",
      "\n",
      "See the caveats in the documentation: http://pandas.pydata.org/pandas-docs/stable/indexing.html#indexing-view-versus-copy\n",
      "  \n"
     ]
    },
    {
     "name": "stdout",
     "output_type": "stream",
     "text": [
      "\n"
     ]
    }
   ],
   "source": [
    "for i in tqdm_notebook(range(len(dfc['Course code']))):\n",
    "    dfc['ID'][i] = dfc['Course code'][i][:-1]"
   ]
  },
  {
   "cell_type": "code",
   "execution_count": 23,
   "metadata": {},
   "outputs": [
    {
     "data": {
      "application/vnd.jupyter.widget-view+json": {
       "model_id": "6896a67286f04799a5fca3868d0b18d3",
       "version_major": 2,
       "version_minor": 0
      },
      "text/plain": [
       "HBox(children=(IntProgress(value=0, max=19116), HTML(value='')))"
      ]
     },
     "metadata": {},
     "output_type": "display_data"
    },
    {
     "name": "stdout",
     "output_type": "stream",
     "text": [
      "\n"
     ]
    },
    {
     "ename": "AttributeError",
     "evalue": "'str' object has no attribute 'copy'",
     "output_type": "error",
     "traceback": [
      "\u001b[1;31m---------------------------------------------------------------------------\u001b[0m",
      "\u001b[1;31mAttributeError\u001b[0m                            Traceback (most recent call last)",
      "\u001b[1;32m<ipython-input-23-5fda3b38e59a>\u001b[0m in \u001b[0;36m<module>\u001b[1;34m\u001b[0m\n\u001b[0;32m      1\u001b[0m \u001b[1;32mfor\u001b[0m \u001b[0mi\u001b[0m \u001b[1;32min\u001b[0m \u001b[0mtqdm_notebook\u001b[0m\u001b[1;33m(\u001b[0m\u001b[0mrange\u001b[0m\u001b[1;33m(\u001b[0m\u001b[0mlen\u001b[0m\u001b[1;33m(\u001b[0m\u001b[0mdfc\u001b[0m\u001b[1;33m[\u001b[0m\u001b[1;34m'Course code'\u001b[0m\u001b[1;33m]\u001b[0m\u001b[1;33m)\u001b[0m\u001b[1;33m)\u001b[0m\u001b[1;33m)\u001b[0m\u001b[1;33m:\u001b[0m\u001b[1;33m\u001b[0m\u001b[1;33m\u001b[0m\u001b[0m\n\u001b[1;32m----> 2\u001b[1;33m     \u001b[0mdfc\u001b[0m\u001b[1;33m[\u001b[0m\u001b[1;34m'ID'\u001b[0m\u001b[1;33m]\u001b[0m\u001b[1;33m[\u001b[0m\u001b[0mi\u001b[0m\u001b[1;33m]\u001b[0m \u001b[1;33m=\u001b[0m \u001b[0mdfc\u001b[0m\u001b[1;33m[\u001b[0m\u001b[1;34m'Course code'\u001b[0m\u001b[1;33m]\u001b[0m\u001b[1;33m[\u001b[0m\u001b[0mi\u001b[0m\u001b[1;33m]\u001b[0m\u001b[1;33m[\u001b[0m\u001b[1;33m:\u001b[0m\u001b[1;33m-\u001b[0m\u001b[1;36m1\u001b[0m\u001b[1;33m]\u001b[0m\u001b[1;33m.\u001b[0m\u001b[0mcopy\u001b[0m\u001b[1;33m\u001b[0m\u001b[1;33m\u001b[0m\u001b[0m\n\u001b[0m",
      "\u001b[1;31mAttributeError\u001b[0m: 'str' object has no attribute 'copy'"
     ]
    }
   ],
   "source": [
    "for i in tqdm_notebook(range(len(dfc['Course code']))):\n",
    "    dfc['ID'][i] = dfc['Course code'][i][:-1].copy"
   ]
  },
  {
   "cell_type": "code",
   "execution_count": 24,
   "metadata": {},
   "outputs": [
    {
     "data": {
      "text/plain": [
       "https://kurser.ku.dk/archive/2013-2014/course/AANA20003U    AANA20003\n",
       "https://kurser.ku.dk/archive/2013-2014/course/AANA20004U    AANA20004\n",
       "https://kurser.ku.dk/archive/2013-2014/course/AANB05023U    AANB05023\n",
       "https://kurser.ku.dk/archive/2013-2014/course/AANB05024U    AANB05024\n",
       "https://kurser.ku.dk/archive/2013-2014/course/AANB11001U    AANB11001\n",
       "https://kurser.ku.dk/archive/2013-2014/course/AANB11002U    AANB11002\n",
       "https://kurser.ku.dk/archive/2013-2014/course/AANB11003U    AANB11003\n",
       "https://kurser.ku.dk/archive/2013-2014/course/AANB11004U    AANB11004\n",
       "https://kurser.ku.dk/archive/2013-2014/course/AANB11005U    AANB11005\n",
       "https://kurser.ku.dk/archive/2013-2014/course/AANB11006U    AANB11006\n",
       "https://kurser.ku.dk/archive/2013-2014/course/AANB11007U    AANB11007\n",
       "https://kurser.ku.dk/archive/2013-2014/course/AANB11008U    AANB11008\n",
       "https://kurser.ku.dk/archive/2013-2014/course/AANB11015U    AANB11015\n",
       "https://kurser.ku.dk/archive/2013-2014/course/AANB11040U    AANB11040\n",
       "https://kurser.ku.dk/archive/2013-2014/course/AANK12005U    AANK12005\n",
       "https://kurser.ku.dk/archive/2013-2014/course/AANK12015U    AANK12015\n",
       "https://kurser.ku.dk/archive/2013-2014/course/AANK13003U    AANK13003\n",
       "https://kurser.ku.dk/archive/2013-2014/course/AANK13012U    AANK13012\n",
       "https://kurser.ku.dk/archive/2013-2014/course/APSA70032U    APSA70032\n",
       "https://kurser.ku.dk/archive/2013-2014/course/APSA70033U    APSA70033\n",
       "https://kurser.ku.dk/archive/2013-2014/course/APSA70101U    APSA70101\n",
       "https://kurser.ku.dk/archive/2013-2014/course/APSA70105U    APSA70105\n",
       "https://kurser.ku.dk/archive/2013-2014/course/APSA70123U    APSA70123\n",
       "https://kurser.ku.dk/archive/2013-2014/course/APSA70126U    APSA70126\n",
       "https://kurser.ku.dk/archive/2013-2014/course/APSB05012U    APSB05012\n",
       "https://kurser.ku.dk/archive/2013-2014/course/APSB05021U    APSB05021\n",
       "https://kurser.ku.dk/archive/2013-2014/course/APSB05029U    APSB05029\n",
       "https://kurser.ku.dk/archive/2013-2014/course/APSB05106U    APSB05106\n",
       "https://kurser.ku.dk/archive/2013-2014/course/APSB05108U    APSB05108\n",
       "https://kurser.ku.dk/archive/2013-2014/course/APSB05119U    APSB05119\n",
       "                                                              ...    \n",
       "https://kurser.ku.dk/archive/2017-2018/course/TTEAKH045U    TTEAKH045\n",
       "https://kurser.ku.dk/archive/2017-2018/course/TTEAKH1BAU    TTEAKH1BA\n",
       "https://kurser.ku.dk/archive/2017-2018/course/TTEAKH2BAU    TTEAKH2BA\n",
       "https://kurser.ku.dk/archive/2017-2018/course/TTEAKHBA3U    TTEAKHBA3\n",
       "https://kurser.ku.dk/archive/2017-2018/course/TTEAKKFDOU    TTEAKKFDO\n",
       "https://kurser.ku.dk/archive/2017-2018/course/TTEAKKFERU    TTEAKKFER\n",
       "https://kurser.ku.dk/archive/2017-2018/course/TTEAKKFGTU    TTEAKKFGT\n",
       "https://kurser.ku.dk/archive/2017-2018/course/TTEAKKFKHU    TTEAKKFKH\n",
       "https://kurser.ku.dk/archive/2017-2018/course/TTEAKKFNTU    TTEAKKFNT\n",
       "https://kurser.ku.dk/archive/2017-2018/course/TTEAKS008U    TTEAKS008\n",
       "https://kurser.ku.dk/archive/2017-2018/course/TTEAKVER5U    TTEAKVER5\n",
       "https://kurser.ku.dk/archive/2017-2018/course/TTEAKVNT3U    TTEAKVNT3\n",
       "https://kurser.ku.dk/archive/2017-2018/course/TTEANT1BAU    TTEANT1BA\n",
       "https://kurser.ku.dk/archive/2017-2018/course/TTEANT2BAU    TTEANT2BA\n",
       "https://kurser.ku.dk/archive/2017-2018/course/TTEANT3BAU    TTEANT3BA\n",
       "https://kurser.ku.dk/archive/2017-2018/course/TTEANTVBAU    TTEANTVBA\n",
       "https://kurser.ku.dk/archive/2017-2018/course/TTEAPT039U    TTEAPT039\n",
       "https://kurser.ku.dk/archive/2017-2018/course/TTEAPTVBAU    TTEAPTVBA\n",
       "https://kurser.ku.dk/archive/2017-2018/course/TTEARR006U    TTEARR006\n",
       "https://kurser.ku.dk/archive/2017-2018/course/TTEARROA1U    TTEARROA1\n",
       "https://kurser.ku.dk/archive/2017-2018/course/TTEARROH1U    TTEARROH1\n",
       "https://kurser.ku.dk/archive/2017-2018/course/TTEASK008U    TTEASK008\n",
       "https://kurser.ku.dk/archive/2017-2018/course/TTEASK016U    TTEASK016\n",
       "https://kurser.ku.dk/archive/2017-2018/course/TTEASK017U    TTEASK017\n",
       "https://kurser.ku.dk/archive/2017-2018/course/TTEASK020U    TTEASK020\n",
       "https://kurser.ku.dk/archive/2017-2018/course/TTEASK023U    TTEASK023\n",
       "https://kurser.ku.dk/archive/2017-2018/course/TTEASK024U    TTEASK024\n",
       "https://kurser.ku.dk/archive/2017-2018/course/TTEASK026U    TTEASK026\n",
       "https://kurser.ku.dk/archive/2017-2018/course/TTEAVFKH1U    TTEAVFKH1\n",
       "https://kurser.ku.dk/archive/2017-2018/course/TTERRHS10U    TTERRHS10\n",
       "Name: ID, Length: 19116, dtype: object"
      ]
     },
     "execution_count": 24,
     "metadata": {},
     "output_type": "execute_result"
    }
   ],
   "source": [
    "dfc['ID']"
   ]
  }
 ],
 "metadata": {
  "kernelspec": {
   "display_name": "Python 3",
   "language": "python",
   "name": "python3"
  },
  "language_info": {
   "codemirror_mode": {
    "name": "ipython",
    "version": 3
   },
   "file_extension": ".py",
   "mimetype": "text/x-python",
   "name": "python",
   "nbconvert_exporter": "python",
   "pygments_lexer": "ipython3",
   "version": "3.7.3"
  }
 },
 "nbformat": 4,
 "nbformat_minor": 2
}
