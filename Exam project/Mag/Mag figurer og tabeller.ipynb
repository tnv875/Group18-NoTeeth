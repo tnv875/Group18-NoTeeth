{
 "cells": [
  {
   "cell_type": "code",
   "execution_count": 1,
   "metadata": {},
   "outputs": [],
   "source": [
    "import scraping_class\n",
    "logfile = 'log.txt'## name your log file.\n",
    "connector = scraping_class.Connector(logfile)\n",
    "import requests\n",
    "from bs4 import BeautifulSoup\n",
    "from tqdm import tqdm_notebook"
   ]
  },
  {
   "cell_type": "code",
   "execution_count": 2,
   "metadata": {},
   "outputs": [],
   "source": [
    "import pandas as pd\n",
    "import numpy as np\n",
    "import html5lib\n",
    "import sys\n",
    "import pickle\n",
    "from tqdm import tqdm_notebook\n",
    "import matplotlib.pyplot as plt\n",
    "from matplotlib import pyplot\n",
    "import math\n",
    "from math import isnan"
   ]
  },
  {
   "cell_type": "code",
   "execution_count": 3,
   "metadata": {},
   "outputs": [],
   "source": [
    "with open('df_final-COPY1.pkl', 'rb') as f:\n",
    "    df = pickle.load(f)"
   ]
  },
  {
   "cell_type": "markdown",
   "metadata": {},
   "source": [
    "## Data Structuring to graphs and tables"
   ]
  },
  {
   "cell_type": "markdown",
   "metadata": {},
   "source": [
    "#### Function for couting the categories"
   ]
  },
  {
   "cell_type": "code",
   "execution_count": 4,
   "metadata": {},
   "outputs": [],
   "source": [
    "def tlen(name):\n",
    "    tlen = pd.DataFrame()\n",
    "    tlen_id = []\n",
    "    tlen_value = []\n",
    "    tlen_share = []\n",
    "    for i in df[name].unique():\n",
    "        tlen_id.append(i)\n",
    "        tlen_value.append(len(df.loc[df[name] == i]))\n",
    "        \n",
    "    for i in df[name].unique():\n",
    "        tlen_share.append((len(df.loc[df[name] == i])/sum(tlen_value)*100))\n",
    "        \n",
    "    tlen_id.append('Total')\n",
    "    tlen_value.append(sum(tlen_value))\n",
    "    tlen_share.append(sum(tlen_share))\n",
    "        \n",
    "        \n",
    "    tlen['Id'] = tlen_id\n",
    "    tlen['Value'] = tlen_value\n",
    "    tlen['Share %'] = tlen_share\n",
    "        \n",
    "    return(tlen.sort_values('Value',ascending=True))"
   ]
  },
  {
   "cell_type": "code",
   "execution_count": 5,
   "metadata": {},
   "outputs": [],
   "source": [
    "# Counting observation in one year\n",
    "def tlen_year(name,year):\n",
    "    df1 = df[df['Year'] == year]\n",
    "    tlen = pd.DataFrame()\n",
    "    tlen_id = []\n",
    "    tlen_value = []\n",
    "    tlen_share = []\n",
    "    for i in df[name].unique():\n",
    "        tlen_id.append(i)\n",
    "        tlen_value.append(len(df1.loc[df[name] == i]))\n",
    "    \n",
    "    for i in df[name].unique():\n",
    "        tlen_share.append((len(df1.loc[df[name] == i])/sum(tlen_value)*100))\n",
    "        \n",
    "    tlen_id.append('Total')\n",
    "    tlen_value.append(sum(tlen_value))\n",
    "    tlen_share.append(sum(tlen_share))\n",
    "        \n",
    "    tlen['Id'] = tlen_id\n",
    "    tlen['Value'] = tlen_value\n",
    "    tlen['Share %'] = tlen_share\n",
    "        \n",
    "    return(tlen.sort_values('Value',ascending=True))"
   ]
  },
  {
   "cell_type": "code",
   "execution_count": 6,
   "metadata": {},
   "outputs": [],
   "source": [
    "# Counting var by year \n",
    "def tlen_byyear(name):\n",
    "    \n",
    "    tlen = pd.DataFrame()\n",
    "    tlen_id = []\n",
    "    tlen_1314 = []\n",
    "    tlen_1415 = []\n",
    "    tlen_1516 = []\n",
    "    tlen_1617 = []\n",
    "    tlen_1718 = []\n",
    "\n",
    "    for i in df[name].unique():\n",
    "        tlen_id.append(i)\n",
    "        df1 = df[df['Year'] == '2013-2014']\n",
    "        tlen_1314.append(len(df1.loc[df[name] == i]))\n",
    "        df2 = df[df['Year'] == '2014-2015']\n",
    "        tlen_1415.append(len(df2.loc[df[name] == i]))\n",
    "        df3 = df[df['Year'] == '2015-2016']\n",
    "        tlen_1516.append(len(df3.loc[df[name] == i]))\n",
    "        df4 = df[df['Year'] == '2016-2017']\n",
    "        tlen_1617.append(len(df4.loc[df[name] == i]))\n",
    "        df5 = df[df['Year'] == '2017-2018']\n",
    "        tlen_1718.append(len(df5.loc[df[name] == i]))\n",
    "    \n",
    "    \n",
    "        \n",
    "    tlen_id.append('Total')\n",
    "    tlen_1314.append(sum(tlen_1314))\n",
    "    tlen_1415.append(sum(tlen_1415))\n",
    "    tlen_1516.append(sum(tlen_1516))\n",
    "    tlen_1617.append(sum(tlen_1617))\n",
    "    tlen_1718.append(sum(tlen_1718))\n",
    "    \n",
    "        \n",
    "    tlen['Id'] = tlen_id\n",
    "    tlen['2013-2014'] = tlen_1314\n",
    "    tlen['2014-2015'] = tlen_1415\n",
    "    tlen['2015-2016'] = tlen_1516\n",
    "    tlen['2016-2017'] = tlen_1617\n",
    "    tlen['2017-2018'] = tlen_1718\n",
    "        \n",
    "    return(tlen)"
   ]
  },
  {
   "cell_type": "code",
   "execution_count": 7,
   "metadata": {},
   "outputs": [],
   "source": [
    "# Share of category by year\n",
    "def tlen_byyear_share(name):\n",
    "    \n",
    "    tlen = pd.DataFrame()\n",
    "    tlen_id = []\n",
    "    tlen_1314 = []\n",
    "    tlen_1415 = []\n",
    "    tlen_1516 = []\n",
    "    tlen_1617 = []\n",
    "    tlen_1718 = []\n",
    "    tlen_1314s = []\n",
    "    tlen_1415s = []\n",
    "    tlen_1516s = []\n",
    "    tlen_1617s = []\n",
    "    tlen_1718s = []\n",
    "\n",
    "    for i in df[name].unique():\n",
    "        tlen_id.append(i)\n",
    "        df1 = df[df['Year'] == '2013-2014']\n",
    "        tlen_1314.append(len(df1.loc[df[name] == i]))\n",
    "        df2 = df[df['Year'] == '2014-2015']\n",
    "        tlen_1415.append(len(df2.loc[df[name] == i]))\n",
    "        df3 = df[df['Year'] == '2015-2016']\n",
    "        tlen_1516.append(len(df3.loc[df[name] == i]))\n",
    "        df4 = df[df['Year'] == '2016-2017']\n",
    "        tlen_1617.append(len(df4.loc[df[name] == i]))\n",
    "        df5 = df[df['Year'] == '2017-2018']\n",
    "        tlen_1718.append(len(df5.loc[df[name] == i]))\n",
    "    \n",
    "    for i in df[name].unique():\n",
    "        df1 = df[df['Year'] == '2013-2014']\n",
    "        tlen_1314s.append(len(df1.loc[df[name] == i])/sum(tlen_1314))\n",
    "        df2 = df[df['Year'] == '2014-2015']\n",
    "        tlen_1415s.append(len(df2.loc[df[name] == i])/sum(tlen_1415))\n",
    "        df3 = df[df['Year'] == '2015-2016']\n",
    "        tlen_1516s.append(len(df3.loc[df[name] == i])/sum(tlen_1516))\n",
    "        df4 = df[df['Year'] == '2016-2017']\n",
    "        tlen_1617s.append(len(df4.loc[df[name] == i])/sum(tlen_1617))\n",
    "        df5 = df[df['Year'] == '2017-2018']\n",
    "        tlen_1718s.append(len(df5.loc[df[name] == i])/sum(tlen_1718))\n",
    "        \n",
    "    tlen['Id'] = tlen_id\n",
    "    tlen['2013-2014'] = tlen_1314s\n",
    "    tlen['2014-2015'] = tlen_1415s\n",
    "    tlen['2015-2016'] = tlen_1516s\n",
    "    tlen['2016-2017'] = tlen_1617s\n",
    "    tlen['2017-2018'] = tlen_1718s\n",
    "        \n",
    "    return(tlen)"
   ]
  },
  {
   "cell_type": "code",
   "execution_count": 8,
   "metadata": {},
   "outputs": [],
   "source": [
    "# Count group by variable\n",
    "def tlen_bygroup(var, group):\n",
    "    my_dict = {}\n",
    "    for i in df[group].unique():\n",
    "        list_value = []\n",
    "        list_id = []\n",
    "        for k in df[var].unique():\n",
    "            df1 = df[df[group] == i]\n",
    "            list_value.append(len(df1.loc[df[var] == k]))\n",
    "            list_id.append(k)\n",
    "        my_dict[i] = list_value\n",
    "        \n",
    "    my_dict['ID'] = list_id\n",
    "    return(pd.DataFrame.from_dict(my_dict, orient='index').T.set_index('ID'))\n",
    "        \n",
    "            "
   ]
  },
  {
   "cell_type": "code",
   "execution_count": 9,
   "metadata": {},
   "outputs": [
    {
     "name": "stderr",
     "output_type": "stream",
     "text": [
      "/Users/MagnusOrberg/anaconda3/lib/python3.7/site-packages/ipykernel_launcher.py:18: RuntimeWarning: invalid value encountered in long_scalars\n"
     ]
    }
   ],
   "source": [
    "#Calculate gpa when only passed exams are counted\n",
    "snit = []\n",
    "for i in range(0,len(df)):\n",
    "    x_02 = df[2][i]\n",
    "    x_04 = df[4][i]\n",
    "    x_07 = df[7][i]\n",
    "    x_10 = df[10][i]\n",
    "    x_12 = df[12][i]\n",
    "    \n",
    "    number = (x_12,x_10,x_07,x_04,x_02)\n",
    "    grades = [12,10,7,4,2]\n",
    "    mydick = dict(zip(grades,number))\n",
    "    cleandick = {k: mydick[k] for k in mydick if not isnan(mydick[k])}\n",
    "    \n",
    "    num = sum([x * y for x,y in mydick.items()])\n",
    "    den = sum(mydick.values())\n",
    "    \n",
    "    snit.append(num/den)\n",
    "    \n",
    "df[\"Snit\"] = snit"
   ]
  },
  {
   "cell_type": "code",
   "execution_count": 10,
   "metadata": {},
   "outputs": [],
   "source": [
    "# Defining total passed grades \n",
    "df['bestået'] = df[2] + df[4] + df[7] + df[10] + df[12]\n",
    "\n",
    "# Making nan to 0 and creating var for weighted GPA and contribute to weight\n",
    "l = []\n",
    "for i in range(len(df['bestået'])):\n",
    "    if isnan(df['bestået'][i]):\n",
    "        l.append(0)\n",
    "    else:\n",
    "        l.append(df['bestået'][i])\n",
    "\n",
    "df['bestået'] = l        \n",
    "df['Snit_w0'] = df['Snit']\n",
    "l = []\n",
    "for i in range(len(df['Snit_w0'])):\n",
    "    if isnan(df['Snit_w0'][i]):\n",
    "        l.append(0)\n",
    "    else:\n",
    "        l.append(df['Snit_w0'][i])\n",
    "        \n",
    "df['Snit_w0'] = l\n",
    "df['W_snit'] = df['Snit_w0']*df['bestået']/sum(df['bestået'])\n",
    "df['w_bestået'] = df['bestået']*df['Credit_edit']"
   ]
  },
  {
   "cell_type": "code",
   "execution_count": 11,
   "metadata": {},
   "outputs": [],
   "source": [
    "# Generating Level_all dummies\n",
    "\n",
    "l = []\n",
    "for i in range(len(df['Bachelor'])):\n",
    "    if df['Bachelor'][i] == 1:\n",
    "        l.append(1)\n",
    "    elif df['Bachelor choice'][i] == 1:\n",
    "        l.append(1)\n",
    "    else:\n",
    "        l.append(0)\n",
    "\n",
    "df['Bachelor_all'] = l\n",
    "\n",
    "l = []\n",
    "for i in range(len(df['Master'])):\n",
    "    if df['Master'][i] == 1:\n",
    "        l.append(1)\n",
    "    elif df['Full Degree Master choice'][i] == 1:\n",
    "        l.append(1)\n",
    "    elif df['Full Degree Master'][i] == 1:\n",
    "        l.append(1)\n",
    "    else:\n",
    "        l.append(0)\n",
    "\n",
    "df['Master_all'] = l"
   ]
  },
  {
   "cell_type": "code",
   "execution_count": 12,
   "metadata": {},
   "outputs": [],
   "source": [
    "# creating w_ mean function\n",
    "def w_mean(categories):\n",
    "    d = {}\n",
    "    df_stat1 = pd.DataFrame()\n",
    "    df_stat1[''] = ['Weighted mean'] \n",
    "    for i in categories:\n",
    "        d[i] = df[df[i] == 1]\n",
    "        df_stat1[i] = [sum(pd.DataFrame.from_dict(d[i])['W_snit']*sum(df['bestået'])/sum(pd.DataFrame.from_dict(d[i])['bestået']))]\n",
    "    return(df_stat1)"
   ]
  },
  {
   "cell_type": "code",
   "execution_count": 13,
   "metadata": {},
   "outputs": [],
   "source": [
    "# Generating Level_only dummies\n",
    "Master_only = []\n",
    "Bachelor_only = []\n",
    "Both = []\n",
    "Other = []\n",
    "for i in range(len(df['Bachelor_all'])):\n",
    "    if df['Bachelor_all'][i] == 1:\n",
    "        if df['Master_all'][i] == 1:\n",
    "            Both.append(1)\n",
    "            Master_only.append(0)\n",
    "            Bachelor_only.append(0)\n",
    "            Other.append(0)\n",
    "        elif df['Master_all'][i] == 0:\n",
    "            Both.append(0)\n",
    "            Master_only.append(0)\n",
    "            Bachelor_only.append(1)\n",
    "            Other.append(0)\n",
    "        else:\n",
    "            print('error', df['Level'][i])\n",
    "    elif df['Bachelor_all'][i] == 0:\n",
    "        if df['Master_all'][i] == 1:\n",
    "            Both.append(0)\n",
    "            Master_only.append(1)\n",
    "            Bachelor_only.append(0)\n",
    "            Other.append(0)\n",
    "        elif df['Master_all'][i] == 0:\n",
    "            Both.append(0)\n",
    "            Master_only.append(0)\n",
    "            Bachelor_only.append(0)\n",
    "            Other.append(1)\n",
    "        else:\n",
    "            print('error', df['Level'][i])\n",
    "    else: \n",
    "        print('error', df['Level'][i])\n",
    "\n",
    "df['Master_only'] = Master_only\n",
    "df['Bachelor_only'] = Bachelor_only\n",
    "df['Both'] = Both\n",
    "df['Other'] = Other\n",
    " \n",
    "w_mean(['Master_all', 'Bachelor_all','Master_only','Bachelor_only','Both','Other']);"
   ]
  },
  {
   "cell_type": "code",
   "execution_count": 14,
   "metadata": {},
   "outputs": [],
   "source": [
    "# Copied from Jens \n",
    "# We need to weight the grades according to ECTS points. If we do not small courses will have the same weight as\n",
    "# bigger courses. \n",
    "df['Weigthed_m3'] = df['Credit_edit'] * df[-3]\n",
    "df['Weigthed_00'] = df['Credit_edit'] * df[0]\n",
    "df['Weigthed_02'] = df['Credit_edit'] * df[2]\n",
    "df['Weigthed_4'] = df['Credit_edit'] * df[4]\n",
    "df['Weigthed_7'] = df['Credit_edit'] * df[7]\n",
    "df['Weigthed_10'] = df['Credit_edit'] * df[10]\n",
    "df['Weigthed_12'] = df['Credit_edit'] * df[12]\n",
    "df[['Credit_edit',-3,'Weigthed_m3',0,'Weigthed_00',2,'Weigthed_02',4,'Weigthed_4',7,'Weigthed_7',10,'Weigthed_10',12,'Weigthed_12']];\n",
    "\n",
    "\n"
   ]
  },
  {
   "cell_type": "code",
   "execution_count": 15,
   "metadata": {},
   "outputs": [],
   "source": [
    "# Copied from Jens: Weighting the Level categories\n",
    "\n",
    "y_inner = []\n",
    "y = []\n",
    "x = ['02','4','7','10','12']\n",
    "\n",
    "# Looking at each faculty \n",
    "for i in ['Master_only','Bachelor_only','Both','Other']:\n",
    "    df_level = df[df[i]==1]\n",
    "   \n",
    "    for k in ['Weigthed_02','Weigthed_4','Weigthed_7','Weigthed_10','Weigthed_12']:\n",
    "        y_inner.append(df_level[k].sum(skipna = True)) \n",
    "    \n",
    "    y.append(y_inner)\n",
    "    y_inner=[]\n",
    "    \n",
    "y\n",
    "\n",
    "# calc frequencies \n",
    "y_freq_inner = []\n",
    "y_freq = []\n",
    "\n",
    "# running through each faculty\n",
    "for i in range(len(y)):\n",
    "    \n",
    "    # calc frequencies \n",
    "    for q in range(len(y[i])):\n",
    "        y_freq_inner.append(y[i][q]/sum(y[i]))\n",
    "\n",
    "    y_freq.append(y_freq_inner)\n",
    "    y_freq_inner = []\n",
    "\n",
    "#Number of grades given for each faculty. \n",
    "list_number_of_grades_faculties = []\n",
    "for i in ['Master_only','Bachelor_only','Both','Other']:\n",
    "    df_number_grades = df[df[i] == 1]\n",
    "    list_number_of_grades_faculties.append(int(sum(df_number_grades[[12, 10, 7, 4, 2]].sum(skipna = True))))\n",
    "\n",
    "list_number_of_grades_faculties\n",
    "\n",
    "y_ects_freq = y_freq"
   ]
  },
  {
   "cell_type": "code",
   "execution_count": 16,
   "metadata": {},
   "outputs": [],
   "source": [
    "#Generating var of Type of assesment with used categories\n",
    "l = []\n",
    "for i in range(len(df['Level'])):\n",
    "    for k in ['Master_only','Bachelor_only','Both','Other']:\n",
    "        if df[k][i] == 1:\n",
    "            l.append(k)\n",
    "df['Level_edit'] = l\n",
    "\n",
    "l = []\n",
    "for i in range(len(df['Type of assessmet_edit'])):\n",
    "        if df['Type of assessmet_edit'][i] == 'Oral':\n",
    "            l.append('Oral')\n",
    "        elif df['Type of assessmet_edit'][i] == 'Written not under invigilation':\n",
    "            l.append('Written not under invigilation')\n",
    "        elif df['Type of assessmet_edit'][i] == 'Written under invigilation':\n",
    "            l.append('Written under invigilation')\n",
    "        else:\n",
    "            l.append('Rest')\n",
    "df['toa_edit'] = l\n",
    "df[['toa_edit','Type of assessmet_edit']];\n",
    "#tlen_bygroup_weight('toa_edit','Level_edit')"
   ]
  },
  {
   "cell_type": "code",
   "execution_count": 17,
   "metadata": {},
   "outputs": [],
   "source": [
    "# function with weights \n",
    "def tlen_bygroup_weight(var, group):\n",
    "    my_dict = {}\n",
    "    for i in df[group].unique():\n",
    "        list_value = []\n",
    "        list_id = []\n",
    "        for k in df[var].unique():\n",
    "            df1 = df[df[group] == i]\n",
    "            list_value.append(sum(df1[df[var] == k]['bestået']))\n",
    "            list_id.append(k)\n",
    "        my_dict[i] = list_value\n",
    "        \n",
    "    my_dict['ID'] = list_id\n",
    "    return(pd.DataFrame.from_dict(my_dict, orient='index').T.set_index('ID'))"
   ]
  },
  {
   "cell_type": "code",
   "execution_count": 18,
   "metadata": {},
   "outputs": [],
   "source": [
    "# Function with ECTS weights \n",
    "def tlen_bygroup_weight_ects(var, group):\n",
    "    my_dict = {}\n",
    "    for i in df[group].unique():\n",
    "        list_value = []\n",
    "        list_id = []\n",
    "        for k in df[var].unique():\n",
    "            df1 = df[df[group] == i]\n",
    "            list_value.append(sum(df1[df[var] == k]['w_bestået']))\n",
    "            list_id.append(k)\n",
    "        my_dict[i] = list_value\n",
    "        \n",
    "    my_dict['ID'] = list_id\n",
    "    return(pd.DataFrame.from_dict(my_dict, orient='index').T.set_index('ID'))"
   ]
  },
  {
   "cell_type": "code",
   "execution_count": 19,
   "metadata": {},
   "outputs": [
    {
     "data": {
      "text/html": [
       "<div>\n",
       "<style scoped>\n",
       "    .dataframe tbody tr th:only-of-type {\n",
       "        vertical-align: middle;\n",
       "    }\n",
       "\n",
       "    .dataframe tbody tr th {\n",
       "        vertical-align: top;\n",
       "    }\n",
       "\n",
       "    .dataframe thead th {\n",
       "        text-align: right;\n",
       "    }\n",
       "</style>\n",
       "<table border=\"1\" class=\"dataframe\">\n",
       "  <thead>\n",
       "    <tr style=\"text-align: right;\">\n",
       "      <th></th>\n",
       "      <th>Bachelor_only</th>\n",
       "      <th>Master_only</th>\n",
       "    </tr>\n",
       "    <tr>\n",
       "      <th></th>\n",
       "      <th></th>\n",
       "      <th></th>\n",
       "    </tr>\n",
       "  </thead>\n",
       "  <tbody>\n",
       "    <tr>\n",
       "      <th>Rest</th>\n",
       "      <td>7.581014</td>\n",
       "      <td>8.756378</td>\n",
       "    </tr>\n",
       "    <tr>\n",
       "      <th>Oral</th>\n",
       "      <td>8.369963</td>\n",
       "      <td>9.262555</td>\n",
       "    </tr>\n",
       "    <tr>\n",
       "      <th>Written not under invigilation</th>\n",
       "      <td>7.658774</td>\n",
       "      <td>8.370590</td>\n",
       "    </tr>\n",
       "    <tr>\n",
       "      <th>Written under invigilation</th>\n",
       "      <td>6.564404</td>\n",
       "      <td>7.184503</td>\n",
       "    </tr>\n",
       "  </tbody>\n",
       "</table>\n",
       "</div>"
      ],
      "text/plain": [
       "                                Bachelor_only  Master_only\n",
       "                                                          \n",
       "Rest                                 7.581014     8.756378\n",
       "Oral                                 8.369963     9.262555\n",
       "Written not under invigilation       7.658774     8.370590\n",
       "Written under invigilation           6.564404     7.184503"
      ]
     },
     "execution_count": 19,
     "metadata": {},
     "output_type": "execute_result"
    }
   ],
   "source": [
    "# Function calculating mean\n",
    "def w_mean_g(categories, group):\n",
    "    d = {}\n",
    "    df_stat1 = pd.DataFrame()\n",
    "    \n",
    "    for i in categories:\n",
    "        l = []\n",
    "        for k in group:\n",
    "            df1 = df[df['toa_edit'] == k]\n",
    "            d[i] = df1[df1[i] == 1]\n",
    "            l.append(sum(pd.DataFrame.from_dict(d[i])['W_snit']*sum(df['bestået'])/sum(pd.DataFrame.from_dict(d[i])['bestået'])))   \n",
    "        df_stat1[''] = group\n",
    "        df_stat1[i] = l\n",
    "        \n",
    "        \n",
    "    return(df_stat1)\n",
    "\n",
    "\n",
    "w_mean_g(['Bachelor_only','Master_only'], df['toa_edit'].unique()).set_index('');\n",
    "\n"
   ]
  },
  {
   "cell_type": "markdown",
   "metadata": {},
   "source": [
    "### Output to Report"
   ]
  },
  {
   "cell_type": "code",
   "execution_count": 20,
   "metadata": {},
   "outputs": [
    {
     "name": "stdout",
     "output_type": "stream",
     "text": [
      "\\begin{tabular}{lrr}\n",
      "\\toprule\n",
      "{} &  External censorship &  No external censorship \\\\\n",
      "              &                      &                         \\\\\n",
      "\\midrule\n",
      "Weighted mean &             7.634352 &                7.762438 \\\\\n",
      "\\bottomrule\n",
      "\\end{tabular}\n",
      "\n"
     ]
    }
   ],
   "source": [
    "# Generating table for Censorship\n",
    "\n",
    "df2 = df[df['Type of assessmet_edit'] == 'Oral' ]\n",
    "df_nocen = df[df['Censorship form_edit'] == 'No external censorship']\n",
    "df_cen = df[df['Censorship form_edit'] == 'External censorship']\n",
    "\n",
    "\n",
    "\n",
    "df_stat1 = pd.DataFrame()\n",
    "df_stat1[''] = ['Weighted mean'] \n",
    "df_stat1['External censorship'] = [sum(df_cen['W_snit']*sum(df['bestået'])/sum(df_cen['bestået']))]\n",
    "df_stat1['No external censorship'] = [sum(df_nocen['W_snit']*sum(df['bestået'])/sum(df_nocen['bestået']))]\n",
    "print(df_stat1.set_index('').to_latex())"
   ]
  },
  {
   "cell_type": "markdown",
   "metadata": {},
   "source": [
    "#### Table. Disribution of year and faculty"
   ]
  },
  {
   "cell_type": "code",
   "execution_count": 21,
   "metadata": {},
   "outputs": [
    {
     "name": "stdout",
     "output_type": "stream",
     "text": [
      "\\begin{tabular}{lrrrrr}\n",
      "\\toprule\n",
      "                                       Id &  2013-2014 &  2014-2015 &  2015-2016 &  2016-2017 &  2017-2018 \\\\\n",
      "\\midrule\n",
      " Det Natur- og Biovidenskabelige Fakultet &        519 &       1161 &       1205 &       1185 &       1207 \\\\\n",
      "      Det Samfundsvidenskabelige Fakultet &        225 &        456 &        534 &        497 &        513 \\\\\n",
      "                Det Humanistiske Fakultet &        212 &        421 &        758 &        341 &        244 \\\\\n",
      "      Det Sundhedsvidenskabelige Fakultet &        238 &        651 &        637 &        672 &        671 \\\\\n",
      "                   Det Juridiske Fakultet &        117 &        269 &        310 &        288 &        280 \\\\\n",
      "                  Det Teologiske Fakultet &         35 &         82 &         83 &         86 &         87 \\\\\n",
      "                                    Total &       1346 &       3040 &       3527 &       3069 &       3002 \\\\\n",
      "\\bottomrule\n",
      "\\end{tabular}\n",
      "\n"
     ]
    }
   ],
   "source": [
    "print(tlen_byyear('Fakultet').to_latex(index=False))"
   ]
  },
  {
   "cell_type": "markdown",
   "metadata": {},
   "source": [
    "#### List of categories we've made"
   ]
  },
  {
   "cell_type": "code",
   "execution_count": 22,
   "metadata": {},
   "outputs": [
    {
     "name": "stdout",
     "output_type": "stream",
     "text": [
      "\\begin{tabular}{llllll}\n",
      "\\toprule\n",
      "                  Aid\\_edit &       Marking scale\\_edit &    Censorship form\\_edit &        Duration\\_edit & Language\\_edit &            Type of assessmet\\_edit \\\\\n",
      "\\midrule\n",
      "                       nan &    7-point grading scale &  No external censorship &              1 block &       English &    Continuous assessment not exam \\\\\n",
      "          All aids allowed &                      nan &     External censorship &           1 semester &        Danish &                              Oral \\\\\n",
      " Only certain aids allowed &        passed/not passed &                     nan &  Other/Not specified &         Other &    Written not under invigilation \\\\\n",
      "      Written aids allowed &  completed/not completed &                    None &             2 blocks &          None &                         Portfolio \\\\\n",
      "              Without aids &       Without assessment &                    None &                 None &          None &        Written under invigilation \\\\\n",
      "                      None &                     None &                    None &                 None &          None &                         Practical \\\\\n",
      "                      None &                     None &                    None &                 None &          None &      Course participation written \\\\\n",
      "                      None &                     None &                    None &                 None &          None &  Course participation not written \\\\\n",
      "                      None &                     None &                    None &                 None &          None &        Continuous assessment exam \\\\\n",
      "                      None &                     None &                    None &                 None &          None &                             Other \\\\\n",
      "\\bottomrule\n",
      "\\end{tabular}\n",
      "\n"
     ]
    }
   ],
   "source": [
    "cat_list = ['Aid_edit', 'Marking scale_edit', 'Censorship form_edit', 'Duration_edit', 'Language_edit', 'Type of assessmet_edit']\n",
    "di = {}\n",
    "list_1 = []\n",
    "for i in cat_list:\n",
    "    list_1 = []\n",
    "    for k in df[i].unique():\n",
    "        list_1.append(k)\n",
    "    di[i]=list_1\n",
    "print(pd.DataFrame.from_dict(di, orient='index').T.to_latex(index=False))"
   ]
  },
  {
   "cell_type": "markdown",
   "metadata": {},
   "source": [
    "#### Graph for cecnsorship "
   ]
  },
  {
   "cell_type": "code",
   "execution_count": 23,
   "metadata": {},
   "outputs": [
    {
     "data": {
      "image/png": "[encoded data removed]",
      "text/plain": [
       "<Figure size 720x432 with 1 Axes>"
      ]
     },
     "metadata": {
      "needs_background": "light"
     },
     "output_type": "display_data"
    }
   ],
   "source": [
    "f, axs = plt.subplots(figsize=(10,6))\n",
    "graph_df = tlen_byyear_share('Censorship form_edit').set_index('Id').T.reset_index()\n",
    "\n",
    "\n",
    "plt.plot(graph_df['index'][1:],graph_df['No external censorship'][1:],label = 'No external censorship',color = \"#011f4b\", linewidth=4.0)\n",
    "plt.plot(graph_df['index'][1:],graph_df['External censorship'][1:],label = 'External censorship',color = \"#b3cde0\", linewidth=4.0)\n",
    "\n",
    "\n",
    "plt.legend(loc='best', fontsize = 12)\n",
    "plt.ylabel('Share of examns',fontsize = 12)\n",
    "plt.show()\n",
    "f.savefig('mag3_Censorship_year.png')"
   ]
  },
  {
   "cell_type": "code",
   "execution_count": 24,
   "metadata": {},
   "outputs": [
    {
     "data": {
      "image/png": "[encoded data removed]",
      "text/plain": [
       "<Figure size 1080x720 with 4 Axes>"
      ]
     },
     "metadata": {
      "needs_background": "light"
     },
     "output_type": "display_data"
    }
   ],
   "source": [
    "# Historgram of distributions by level\n",
    "Faculty_names = ['Master Only','Bachelor Only','Both','Other']\n",
    "\n",
    "f, ax = plt.subplots(figsize=(15,10))\n",
    "\n",
    "plt.subplot(2, 2, 1)\n",
    "plt.title(Faculty_names[0], fontsize = 16, weight = 'bold')\n",
    "plt.ylim([0,0.35])\n",
    "plt.grid(axis ='y',zorder=0)\n",
    "plt.ylabel('Frequency',fontsize=14)\n",
    "plt.annotate('Number of grades given: '+ str(list_number_of_grades_faculties[0]), (0,0), (0, -20),fontsize= 13, xycoords='axes fraction', textcoords='offset points', va='top')\n",
    "plt.bar(x, y_ects_freq[0], width=0.93, edgecolor='black',zorder=3)\n",
    "\n",
    "plt.subplot(2, 2, 2)\n",
    "plt.title(Faculty_names[1], fontsize = 16, weight = 'bold')\n",
    "plt.ylim([0,0.35])\n",
    "plt.grid(axis ='y',zorder=0)\n",
    "plt.annotate('Number of grades given: '+ str(list_number_of_grades_faculties[1]), (0,0), (0, -20),fontsize= 13, xycoords='axes fraction', textcoords='offset points', va='top')\n",
    "plt.bar(x, y_ects_freq[1], width=0.93, edgecolor='black',zorder=3)\n",
    "\n",
    "plt.subplot(2, 2, 3)\n",
    "plt.title(Faculty_names[2], fontsize = 16, weight = 'bold')\n",
    "plt.ylim([0,0.35])\n",
    "plt.grid(axis ='y',zorder=0)\n",
    "plt.ylabel('Frequency',fontsize=14)\n",
    "plt.annotate('Number of grades given: '+ str(list_number_of_grades_faculties[2]), (0,0), (0, -20),fontsize= 13, xycoords='axes fraction', textcoords='offset points', va='top')\n",
    "plt.bar(x, y_ects_freq[2], width=0.93, edgecolor='black',zorder=3)\n",
    "\n",
    "plt.subplot(2, 2, 4)\n",
    "plt.title(Faculty_names[3], fontsize = 16, weight = 'bold')\n",
    "plt.ylim([0,0.35])\n",
    "plt.grid(axis ='y',zorder=0)\n",
    "plt.annotate('Number of grades given: '+ str(list_number_of_grades_faculties[3]), (0,0), (0, -20),fontsize= 13, xycoords='axes fraction', textcoords='offset points', va='top')\n",
    "plt.bar(x, y_ects_freq[3], width=0.93, edgecolor='black',zorder=3)\n",
    "\n",
    "f.savefig('histogram_grades_split_Level_ECTS_weight.png')"
   ]
  },
  {
   "cell_type": "code",
   "execution_count": 25,
   "metadata": {},
   "outputs": [
    {
     "name": "stderr",
     "output_type": "stream",
     "text": [
      "/Users/MagnusOrberg/anaconda3/lib/python3.7/site-packages/ipykernel_launcher.py:8: UserWarning: Boolean Series key will be reindexed to match DataFrame index.\n",
      "  \n",
      "/Users/MagnusOrberg/anaconda3/lib/python3.7/site-packages/matplotlib/tight_layout.py:181: UserWarning: Tight layout not applied. The bottom and top margins cannot be made large enough to accommodate all axes decorations. \n",
      "  warnings.warn('Tight layout not applied. '\n"
     ]
    },
    {
     "data": {
      "image/png": "[encoded data removed]",
      "text/plain": [
       "<Figure size 432x288 with 1 Axes>"
      ]
     },
     "metadata": {
      "needs_background": "light"
     },
     "output_type": "display_data"
    }
   ],
   "source": [
    "#Diagram of type of assessment\n",
    "colors = [\"#011f4b\",\"#005b96\",\"#6497b1\",'#b3cde0']\n",
    "\n",
    "d = tlen_bygroup_weight('toa_edit','Fakultet')\n",
    "di = {}\n",
    "di['ID'] = ['Rest', 'Oral', 'Written not under invigilation', 'Written under invigilation']\n",
    "for i in d.columns.unique():\n",
    "    l = []\n",
    "    for k in range(len(d['Det Natur- og Biovidenskabelige Fakultet'])):\n",
    "        l.append(d[i][k]/sum(d[i])*100)\n",
    "    \n",
    "    di[i] = l\n",
    "    \n",
    "dfcat = pd.DataFrame.from_dict(di).set_index('ID') \n",
    "dfcat = dfcat.rename(columns ={'Det Natur- og Biovidenskabelige Fakultet':'Science','Det Samfundsvidenskabelige Fakultet':'Social Sciences','Det Humanistiske Fakultet':'Humanities','Det Sundhedsvidenskabelige Fakultet':'Health & Medical Sciences','Det Juridiske Fakultet':'Law','Det Teologiske Fakultet':'Theology'}).T[['Oral', 'Written not under invigilation', 'Written under invigilation','Rest']]\n",
    "dfcat;\n",
    "\n",
    "dfcat.plot(kind='bar', stacked=True, color = colors, fontsize = 16)\n",
    "#plt.legend(bbox_to_anchor=(0, 1), loc='upper left', ncol=1)\n",
    "plt.rcParams[\"figure.figsize\"] = [10,10]\n",
    "plt.legend(bbox_to_anchor=(0,1.02,1,0.2), loc=\"lower left\", mode=\"expand\", borderaxespad=0, ncol=2, fontsize = 16) #,weight = 'bold')\n",
    "plt.tight_layout()\n",
    "plt.savefig('mag_4.png')"
   ]
  },
  {
   "cell_type": "code",
   "execution_count": 26,
   "metadata": {},
   "outputs": [
    {
     "name": "stderr",
     "output_type": "stream",
     "text": [
      "/Users/MagnusOrberg/anaconda3/lib/python3.7/site-packages/ipykernel_launcher.py:8: UserWarning: Boolean Series key will be reindexed to match DataFrame index.\n",
      "  \n"
     ]
    },
    {
     "data": {
      "image/png": "[encoded data removed]",
      "text/plain": [
       "<Figure size 720x720 with 1 Axes>"
      ]
     },
     "metadata": {
      "needs_background": "light"
     },
     "output_type": "display_data"
    }
   ],
   "source": [
    "# Diagram of type of assessment\n",
    "d = tlen_bygroup_weight('toa_edit','Level_edit')\n",
    "di = {}\n",
    "di['ID'] = ['Rest', 'Oral', 'Written not under invigilation', 'Written under invigilation']\n",
    "for i in d.columns.unique():\n",
    "    l = []\n",
    "    for k in range(len(d['Master_only'])):\n",
    "        l.append(d[i][k]/sum(d[i])*100)\n",
    "    \n",
    "    di[i] = l\n",
    "    \n",
    "dfcat = pd.DataFrame.from_dict(di).set_index('ID') \n",
    "dfcat = dfcat.rename(columns ={'Bachelor_only': 'Only Bachelor','Master_only':'Only Master'}).T.reindex(index =['Only Bachelor','Only Master','Both','Other'])[['Oral', 'Written not under invigilation', 'Written under invigilation','Rest']]\n",
    "\n",
    "colors = [\"#011f4b\",\"#005b96\",\"#6497b1\",'#b3cde0']\n",
    "\n",
    "\n",
    "dfcat.plot(kind='bar', stacked=True, color = colors, fontsize = 12)\n",
    "plt.legend(bbox_to_anchor=(0, 1), loc='upper left', ncol=1)\n",
    "plt.rcParams[\"figure.figsize\"] = [8,8]\n",
    "plt.legend(bbox_to_anchor=(0,1.02,1,0.2), loc=\"lower left\", mode=\"expand\", borderaxespad=0, ncol=2, fontsize = 12) #,weight = 'bold')\n",
    "plt.tight_layout()\n",
    "plt.savefig('mag_2stacked_bar_share_ass_level.png')\n"
   ]
  },
  {
   "cell_type": "code",
   "execution_count": 27,
   "metadata": {},
   "outputs": [
    {
     "name": "stdout",
     "output_type": "stream",
     "text": [
      "\\begin{tabular}{lrrrr}\n",
      "\\toprule\n",
      "{} &  Bachelor\\_only &  Master\\_only &      Both &     Other \\\\\n",
      "                               &                &              &           &           \\\\\n",
      "\\midrule\n",
      "Rest                           &       7.581014 &     8.756378 &  8.619758 &  8.430719 \\\\\n",
      "Oral                           &       8.369963 &     9.262555 &  8.650164 &  8.361100 \\\\\n",
      "Written not under invigilation &       7.658774 &     8.370590 &  8.240386 &  7.975831 \\\\\n",
      "Written under invigilation     &       6.564404 &     7.184503 &  6.930722 &  6.714200 \\\\\n",
      "\\bottomrule\n",
      "\\end{tabular}\n",
      "\n"
     ]
    }
   ],
   "source": [
    "# Table of GPA by type of assesment and Level\n",
    "print(w_mean_g(['Bachelor_only','Master_only','Both','Other'], df['toa_edit'].unique()).set_index('').to_latex())"
   ]
  }
 ],
 "metadata": {
  "kernelspec": {
   "display_name": "Python 3",
   "language": "python",
   "name": "python3"
  },
  "language_info": {
   "codemirror_mode": {
    "name": "ipython",
    "version": 3
   },
   "file_extension": ".py",
   "mimetype": "text/x-python",
   "name": "python",
   "nbconvert_exporter": "python",
   "pygments_lexer": "ipython3",
   "version": "3.7.3"
  }
 },
 "nbformat": 4,
 "nbformat_minor": 2
}
