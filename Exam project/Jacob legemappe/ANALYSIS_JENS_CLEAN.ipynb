{
 "cells": [
  {
   "cell_type": "code",
   "execution_count": null,
   "metadata": {},
   "outputs": [],
   "source": [
    "import scraping_class\n",
    "logfile = 'log.txt'## name your log file.\n",
    "connector = scraping_class.Connector(logfile)\n",
    "import requests\n",
    "from bs4 import BeautifulSoup\n",
    "from tqdm import tqdm_notebook"
   ]
  },
  {
   "cell_type": "code",
   "execution_count": null,
   "metadata": {},
   "outputs": [],
   "source": [
    "import pandas as pd\n",
    "import numpy as np\n",
    "import html5lib\n",
    "import sys\n",
    "import pickle\n",
    "from tqdm import tqdm_notebook\n",
    "import seaborn as sns"
   ]
  },
  {
   "cell_type": "code",
   "execution_count": null,
   "metadata": {},
   "outputs": [],
   "source": [
    "import matplotlib.pyplot as plt\n",
    "from matplotlib import pyplot"
   ]
  },
  {
   "cell_type": "code",
   "execution_count": null,
   "metadata": {},
   "outputs": [],
   "source": [
    "with open('df_final.pkl', 'rb') as f:\n",
    "    df = pickle.load(f)"
   ]
  },
  {
   "cell_type": "markdown",
   "metadata": {},
   "source": [
    "### Grade distrubtion by Faculties (used in the appendix)"
   ]
  },
  {
   "cell_type": "code",
   "execution_count": null,
   "metadata": {},
   "outputs": [],
   "source": [
    "# note: no NaN's\n",
    "print(df['Fakultet'].unique())"
   ]
  },
  {
   "cell_type": "code",
   "execution_count": null,
   "metadata": {},
   "outputs": [],
   "source": [
    "# Number of courses by faculty\n",
    "print(sum(df['Fakultet'] == 'Det Natur- og Biovidenskabelige Fakultet'))\n",
    "print(sum(df['Fakultet'] == 'Det Samfundsvidenskabelige Fakultet'))\n",
    "print(sum(df['Fakultet'] == 'Det Humanistiske Fakultet'))\n",
    "print(sum(df['Fakultet'] == 'Det Sundhedsvidenskabelige Fakultet'))\n",
    "print(sum(df['Fakultet'] == 'Det Juridiske Fakultet'))\n",
    "print(sum(df['Fakultet'] == 'Det Teologiske Fakultet'))"
   ]
  },
  {
   "cell_type": "code",
   "execution_count": null,
   "metadata": {},
   "outputs": [],
   "source": [
    "#Number of grades given for each faculty. \n",
    "list_number_of_grades_faculties = []\n",
    "for i in tqdm_notebook(df['Fakultet'].unique()):\n",
    "    df_number_grades = df[df['Fakultet'] == i]\n",
    "    list_number_of_grades_faculties.append(int(sum(df_number_grades[[12, 10, 7, 4, 2, 0, -3]].sum(skipna = True))))\n",
    "\n",
    "list_number_of_grades_faculties;"
   ]
  },
  {
   "cell_type": "code",
   "execution_count": null,
   "metadata": {},
   "outputs": [],
   "source": [
    "#Number of passing grades given for each faculty. \n",
    "list_no_fail_number_of_grades_faculties = []\n",
    "for i in tqdm_notebook(df['Fakultet'].unique()):\n",
    "    df_number_grades = df[df['Fakultet'] == i]\n",
    "    list_no_fail_number_of_grades_faculties.append(int(sum(df_number_grades[[12, 10, 7, 4, 2]].sum(skipna = True))))\n",
    "\n",
    "list_no_fail_number_of_grades_faculties"
   ]
  },
  {
   "cell_type": "markdown",
   "metadata": {},
   "source": [
    "### Grade distrubtion by Faculties,  weighted against ECTS"
   ]
  },
  {
   "cell_type": "code",
   "execution_count": null,
   "metadata": {},
   "outputs": [],
   "source": [
    "# We need to weight the grades according to ECTS points. If we do not small courses will have the same weight as\n",
    "# bigger courses. \n",
    "df['Weigthed_m3'] = df['Credit_edit'] * df[-3]\n",
    "df['Weigthed_00'] = df['Credit_edit'] * df[0]\n",
    "df['Weigthed_02'] = df['Credit_edit'] * df[2]\n",
    "df['Weigthed_4'] = df['Credit_edit'] * df[4]\n",
    "df['Weigthed_7'] = df['Credit_edit'] * df[7]\n",
    "df['Weigthed_10'] = df['Credit_edit'] * df[10]\n",
    "df['Weigthed_12'] = df['Credit_edit'] * df[12]\n",
    "df[['Credit_edit',-3,'Weigthed_m3',0,'Weigthed_00',2,'Weigthed_02',4,'Weigthed_4',7,'Weigthed_7',10,'Weigthed_10',12,'Weigthed_12']];"
   ]
  },
  {
   "cell_type": "code",
   "execution_count": null,
   "metadata": {},
   "outputs": [],
   "source": [
    "y_ects_inner = []\n",
    "y_ects = []\n",
    "x = ['-3','00','02','4','7','10','12']\n",
    "\n",
    "# Looking at each faculty \n",
    "for i in tqdm_notebook(df['Fakultet'].unique()):\n",
    "    df_faculty = df[df['Fakultet']==i]\n",
    "   \n",
    "    # Using the weighted grades this time.\n",
    "    for k in ['Weigthed_m3','Weigthed_00','Weigthed_02','Weigthed_4','Weigthed_7','Weigthed_10','Weigthed_12']:\n",
    "        y_ects_inner.append(df_faculty[k].sum(skipna = True)) \n",
    "    \n",
    "    y_ects.append(y_ects_inner)\n",
    "    y_ects_inner=[]"
   ]
  },
  {
   "cell_type": "code",
   "execution_count": null,
   "metadata": {},
   "outputs": [],
   "source": [
    "# calc frequencies \n",
    "y_ects_freq_inner = []\n",
    "y_ects_freq = []\n",
    "\n",
    "# running through each faculty\n",
    "for i in range(len(y_ects)):\n",
    "    \n",
    "    # calc frequencies \n",
    "    for q in range(len(y_ects[i])):\n",
    "        y_ects_freq_inner.append(y_ects[i][q]/sum(y_ects[i]))\n",
    "\n",
    "    y_ects_freq.append(y_ects_freq_inner)\n",
    "    y_ects_freq_inner = []"
   ]
  },
  {
   "cell_type": "code",
   "execution_count": null,
   "metadata": {},
   "outputs": [],
   "source": [
    "# This figure is used in the analysis. It uses WEIGHTED grades\n",
    "f, ax = plt.subplots(figsize=(15,10))\n",
    "\n",
    "plt.subplot(2, 3, 1)\n",
    "plt.title(Faculty_names[0], fontsize = 16, weight = 'bold')\n",
    "plt.ylim([0,0.30])\n",
    "plt.grid(axis ='y',zorder=0)\n",
    "plt.ylabel('Frequency',fontsize=14)\n",
    "plt.annotate('Number of grades th=0.93, edgecolor='black',zorder=3)\n",
    "given: '+ str(list_number_of_grades_faculties[0]), (0,0), (0, -20),fontsize= 13, xycoords='axes fraction', textcoords='offset points', va='top')\n",
    "plt.bar(x, y_ects_freq[0], wid\n",
    "plt.subplot(2, 3, 2)\n",
    "plt.title(Faculty_names[1], fontsize = 16, weight = 'bold')\n",
    "plt.ylim([0,0.30])\n",
    "plt.grid(axis ='y',zorder=0)\n",
    "plt.annotate('Number of grades given: '+ str(list_number_of_grades_faculties[1]), (0,0), (0, -20),fontsize= 13, xycoords='axes fraction', textcoords='offset points', va='top')\n",
    "plt.bar(x, y_ects_freq[1], width=0.93, edgecolor='black',zorder=3)\n",
    "\n",
    "plt.subplot(2, 3, 3)\n",
    "plt.title(Faculty_names[2], fontsize = 16, weight = 'bold')\n",
    "plt.ylim([0,0.30])\n",
    "plt.grid(axis ='y',zorder=0)\n",
    "plt.annotate('Number of grades given: '+ str(list_number_of_grades_faculties[2]), (0,0), (0, -20),fontsize= 13, xycoords='axes fraction', textcoords='offset points', va='top')\n",
    "plt.bar(x, y_ects_freq[2], width=0.93, edgecolor='black',zorder=3)\n",
    "\n",
    "plt.subplot(2, 3, 4)\n",
    "plt.title(Faculty_names[3], fontsize = 16, weight = 'bold')\n",
    "plt.ylim([0,0.30])\n",
    "plt.grid(axis ='y',zorder=0)\n",
    "plt.ylabel('Frequency',fontsize=14)\n",
    "plt.annotate('Number of grades given: '+ str(list_number_of_grades_faculties[3]), (0,0), (0, -20),fontsize= 13, xycoords='axes fraction', textcoords='offset points', va='top')\n",
    "plt.bar(x, y_ects_freq[3], width=0.93, edgecolor='black',zorder=3)\n",
    "\n",
    "plt.subplot(2, 3, 5)\n",
    "plt.title(Faculty_names[4], fontsize = 16, weight = 'bold')\n",
    "plt.ylim([0,0.30])\n",
    "plt.grid(axis ='y',zorder=0)\n",
    "plt.annotate('Number of grades given: '+ str(list_number_of_grades_faculties[4]), (0,0), (0, -20),fontsize= 13, xycoords='axes fraction', textcoords='offset points', va='top')\n",
    "plt.bar(x, y_ects_freq[4], width=0.93, edgecolor='black',zorder=3)\n",
    "\n",
    "plt.subplot(2, 3, 6)\n",
    "plt.title(Faculty_names[5], fontsize = 16, weight = 'bold')\n",
    "plt.ylim([0,0.30])\n",
    "plt.grid(axis ='y',zorder=0)\n",
    "plt.annotate('Number of grades given: '+ str(list_number_of_grades_faculties[5]), (0,0), (0, -20),fontsize= 13, xycoords='axes fraction', textcoords='offset points', va='top')\n",
    "plt.bar(x, y_ects_freq[5], width=0.93, edgecolor='black',zorder=3)\n",
    "\n",
    "f.savefig('histogram_gades_split_faculty_ECTS_weight.png')"
   ]
  },
  {
   "cell_type": "markdown",
   "metadata": {},
   "source": [
    "### Faculties,  weighted against ECTS - droppping -3 and 00"
   ]
  },
  {
   "cell_type": "code",
   "execution_count": null,
   "metadata": {},
   "outputs": [],
   "source": [
    "y_no_fail_ects = []\n",
    "x_no_fail = ['02','4','7','10','12']\n",
    "\n",
    "# Looking at each faculty \n",
    "for i in tqdm_notebook(df['Fakultet'].unique()):\n",
    "    df_faculty = df[df['Fakultet']==i]\n",
    "    \n",
    "    y_no_fail_ects_inner=[]\n",
    "   \n",
    "    for k in ['Weigthed_02','Weigthed_4','Weigthed_7','Weigthed_10','Weigthed_12']:\n",
    "        y_no_fail_ects_inner.append(df_faculty[k].sum(skipna = True)) \n",
    "    \n",
    "    y_no_fail_ects.append(y_no_fail_ects_inner)\n",
    "    \n",
    "y_no_fail_ects"
   ]
  },
  {
   "cell_type": "code",
   "execution_count": null,
   "metadata": {},
   "outputs": [],
   "source": [
    "# calc frequencies \n",
    "y_no_fail_ects_freq = []\n",
    "\n",
    "# running through each faculty\n",
    "for i in range(len(y_ects)):\n",
    "    \n",
    "    y_no_fail_ects_freq_inner = []\n",
    "    \n",
    "    # calc frequencies \n",
    "    for q in range(len(y_no_fail_ects[i])):\n",
    "        y_no_fail_ects_freq_inner.append(y_no_fail_ects[i][q]/sum(y_no_fail_ects[i]))\n",
    "\n",
    "    y_no_fail_ects_freq.append(y_no_fail_ects_freq_inner)\n",
    "\n",
    "\n",
    "y_no_fail_ects_freq"
   ]
  },
  {
   "cell_type": "code",
   "execution_count": null,
   "metadata": {},
   "outputs": [],
   "source": [
    "# This figure is used in the analysis\n",
    "f, ax = plt.subplots(figsize=(15,10))\n",
    "\n",
    "plt.subplot(2, 3, 1)\n",
    "plt.title(Faculty_names[0], fontsize = 16, weight = 'bold')\n",
    "plt.ylim([0,0.35])\n",
    "plt.grid(axis ='y',zorder=0)\n",
    "plt.ylabel('Frequency',fontsize=14)\n",
    "plt.annotate('Number of passing grades: '+ str(list_no_fail_number_of_grades_faculties[0]), (0,0), (0, -20),fontsize= 13, xycoords='axes fraction', textcoords='offset points', va='top')\n",
    "plt.bar(x_no_fail, y_no_fail_ects_freq[0], width=0.93, edgecolor='black',zorder=3)\n",
    "\n",
    "plt.subplot(2, 3, 2)\n",
    "plt.title(Faculty_names[1], fontsize = 16, weight = 'bold')\n",
    "plt.ylim([0,0.35])\n",
    "plt.grid(axis ='y',zorder=0)\n",
    "plt.annotate('Number of passing grades: '+ str(list_no_fail_number_of_grades_faculties[1]), (0,0), (0, -20),fontsize= 13, xycoords='axes fraction', textcoords='offset points', va='top')\n",
    "plt.bar(x_no_fail, y_no_fail_ects_freq[1], width=0.93, edgecolor='black',zorder=3)\n",
    "\n",
    "plt.subplot(2, 3, 3)\n",
    "plt.title(Faculty_names[2], fontsize = 16, weight = 'bold')\n",
    "plt.ylim([0,0.35])\n",
    "plt.grid(axis ='y',zorder=0)\n",
    "plt.annotate('Number of passing grades: '+ str(list_no_fail_number_of_grades_faculties[2]), (0,0), (0, -20),fontsize= 13, xycoords='axes fraction', textcoords='offset points', va='top')\n",
    "plt.bar(x_no_fail, y_no_fail_ects_freq[2], width=0.93, edgecolor='black',zorder=3)\n",
    "\n",
    "plt.subplot(2, 3, 4)\n",
    "plt.title(Faculty_names[3], fontsize = 16, weight = 'bold')\n",
    "plt.ylim([0,0.35])\n",
    "plt.grid(axis ='y',zorder=0)\n",
    "plt.ylabel('Frequency',fontsize=14)\n",
    "plt.annotate('Number of passing grades: '+ str(list_no_fail_number_of_grades_faculties[3]), (0,0), (0, -20),fontsize= 13, xycoords='axes fraction', textcoords='offset points', va='top')\n",
    "plt.bar(x_no_fail, y_no_fail_ects_freq[3], width=0.93, edgecolor='black',zorder=3)\n",
    "\n",
    "plt.subplot(2, 3, 5)\n",
    "plt.title(Faculty_names[4], fontsize = 16, weight = 'bold')\n",
    "plt.ylim([0,0.35])\n",
    "plt.grid(axis ='y',zorder=0)\n",
    "plt.annotate('Number of passing grades: '+ str(list_no_fail_number_of_grades_faculties[4]), (0,0), (0, -20),fontsize= 13, xycoords='axes fraction', textcoords='offset points', va='top')\n",
    "plt.bar(x_no_fail, y_no_fail_ects_freq[4], width=0.93, edgecolor='black',zorder=3)\n",
    "\n",
    "plt.subplot(2, 3, 6)\n",
    "plt.title(Faculty_names[5], fontsize = 16, weight = 'bold')\n",
    "plt.ylim([0,0.35])\n",
    "plt.grid(axis ='y',zorder=0)\n",
    "plt.annotate('Number of passing grades: '+ str(list_no_fail_number_of_grades_faculties[5]), (0,0), (0, -20),fontsize= 13, xycoords='axes fraction', textcoords='offset points', va='top')\n",
    "plt.bar(x_no_fail, y_no_fail_ects_freq[5], width=0.93, edgecolor='black',zorder=3)\n",
    "\n",
    "f.savefig('histogram_gades_split_faculty_ECTS_weight_NO_FAIL.png')"
   ]
  },
  {
   "cell_type": "markdown",
   "metadata": {},
   "source": [
    "### Calculating GPA by faculty"
   ]
  },
  {
   "cell_type": "code",
   "execution_count": null,
   "metadata": {},
   "outputs": [],
   "source": [
    "from math import isnan\n",
    "import math"
   ]
  },
  {
   "cell_type": "code",
   "execution_count": null,
   "metadata": {},
   "outputs": [],
   "source": [
    "#Calculate gpa when ONLY PASSED exams are counted\n",
    "snit = []\n",
    "for i in range(0,len(df)):\n",
    "    x_02 = df[2][i]\n",
    "    x_04 = df[4][i]\n",
    "    x_07 = df[7][i]\n",
    "    x_10 = df[10][i]\n",
    "    x_12 = df[12][i]\n",
    "    \n",
    "    number = (x_12,x_10,x_07,x_04,x_02)\n",
    "    grades = [12,10,7,4,2]\n",
    "    mydick = dict(zip(grades,number))\n",
    "    cleandick = {k: mydick[k] for k in mydick if not isnan(mydick[k])}\n",
    "    \n",
    "    num = sum([x * y for x,y in mydick.items()])\n",
    "    den = sum(mydick.values())\n",
    "    \n",
    "    snit.append(num/den)\n",
    "    \n",
    "df[\"Snit\"] = snit"
   ]
  },
  {
   "cell_type": "code",
   "execution_count": null,
   "metadata": {},
   "outputs": [],
   "source": [
    "# Here I calculate the GPA of some form of assessment\n",
    "def gpa(df,string):\n",
    "    \n",
    "    x_gpa = []\n",
    "    x_sho = []\n",
    "    x_ect = []\n",
    "\n",
    "    for i in range(0,len(df)):\n",
    "        if df[\"Fakultet\"][i] == string:\n",
    "            if math.isnan(df[\"Snit\"][i]) == False:\n",
    "                x_gpa.append(float(df[\"Snit\"][i]))\n",
    "                x_sho.append(float(df[\"Fremmødte\"][i]))\n",
    "                x_ect.append(float(df[\"Credit_edit\"][i]))\n",
    "\n",
    "    den = 0\n",
    "    num = 0\n",
    "    for i in range(0,len(x_gpa)):\n",
    "        den = x_sho[i]*x_ect[i] + den\n",
    "        num = x_gpa[i]*x_sho[i]*x_ect[i] + num\n",
    "    out = num/den\n",
    "    return out"
   ]
  },
  {
   "cell_type": "code",
   "execution_count": null,
   "metadata": {},
   "outputs": [],
   "source": [
    "# Looping through each faculty\n",
    "\n",
    "for i in df['Fakultet'].unique():\n",
    "    print(gpa(df,i))"
   ]
  },
  {
   "cell_type": "markdown",
   "metadata": {},
   "source": [
    "### Type of assessments broken down by faculties"
   ]
  },
  {
   "cell_type": "code",
   "execution_count": null,
   "metadata": {},
   "outputs": [],
   "source": [
    "list_type_ass=list(df['Type of assessmet_edit'].unique())"
   ]
  },
  {
   "cell_type": "code",
   "execution_count": null,
   "metadata": {},
   "outputs": [],
   "source": [
    "y_type_ass_inner = []\n",
    "y_type_ass = []\n",
    "\n",
    "# Looking at each faculty \n",
    "for i in tqdm_notebook(df['Fakultet'].unique()):\n",
    "    df_faculty = df[df['Fakultet']==i]\n",
    "    \n",
    "    # Running through each type of assessment.\n",
    "    for k in list_type_ass:\n",
    "        # Summing number of passed people for all courses (in each faculty) broken down on each tyep of assessment\n",
    "        y_type_ass_inner.append(df_faculty[df_faculty['Type of assessmet_edit']==k]['Antal bestået'].sum(skipna = True)) \n",
    "    \n",
    "    y_type_ass.append(y_type_ass_inner)\n",
    "    y_type_ass_inner=[]"
   ]
  },
  {
   "cell_type": "code",
   "execution_count": null,
   "metadata": {},
   "outputs": [],
   "source": [
    "# Creating the categories which we want for plot.\n",
    "categories = []\n",
    "\n",
    "for i in range(len(df['Fakultet'].unique())):\n",
    "    \n",
    "    categories_inner = []\n",
    "    \n",
    "    # Oral\n",
    "    categories_inner.append(y_type_ass[i][1])\n",
    "    \n",
    "    # Written not under invigilation\n",
    "    categories_inner.append(y_type_ass[i][2])\n",
    "    \n",
    "    # Written under invigilation\n",
    "    categories_inner.append(y_type_ass[i][4])\n",
    "    \n",
    "    # Rest\n",
    "    categories_inner.append(y_type_ass[i][0]+y_type_ass[i][3]+y_type_ass[i][5]+y_type_ass[i][6]+y_type_ass[i][7]\\\n",
    "                           +y_type_ass[i][8]+y_type_ass[i][9])\n",
    "    \n",
    "    categories.append(categories_inner)"
   ]
  },
  {
   "cell_type": "code",
   "execution_count": null,
   "metadata": {},
   "outputs": [],
   "source": [
    "#calc share.\n",
    "\n",
    "list_categories_share = []\n",
    "\n",
    "# Running through each faculty\n",
    "for i in range(len(categories)):\n",
    "    \n",
    "    categories_share_inner = []\n",
    "    \n",
    "    # For each faculty calc type of ass shares. \n",
    "    for k in range(len(categories[i])):\n",
    "        categories_share= categories[i][k]/sum(categories[i])*100 # times a 100 for %\n",
    "        categories_share_inner.append(categories_share)\n",
    "        \n",
    "    list_categories_share.append(categories_share_inner)        "
   ]
  },
  {
   "cell_type": "code",
   "execution_count": null,
   "metadata": {},
   "outputs": [],
   "source": [
    "# Converting list to DataFrame \n",
    "dfcat= pd.DataFrame(list_categories_share) \n",
    "dfcat\n",
    "dfcat=dfcat.T\n",
    "dfcat.columns = ['Science','Social Sciences','Humanities','Health & Medical Sciences','Law','Theology']\n",
    "dfcat.rename(index={0:'Oral',1:'Written not under invigilation',2:'Written under invigilation',3:'Rest'})\n",
    "#dfcat.index.name = 'type_ass'\n",
    "dfcat=dfcat.T\n",
    "dfcat.columns = ['Oral','Written not invigilation','Written invigilation','Rest']"
   ]
  },
  {
   "cell_type": "code",
   "execution_count": null,
   "metadata": {},
   "outputs": [],
   "source": [
    "colors = [\"#011f4b\",\"#005b96\",\"#6497b1\",'#b3cde0']\n",
    "\n",
    "\n",
    "dfcat.plot(kind='bar', stacked=True, color = colors, fontsize = 12)\n",
    "#plt.legend(bbox_to_anchor=(0, 1), loc='upper left', ncol=1)\n",
    "plt.rcParams[\"figure.figsize\"] = [15,15]\n",
    "plt.legend(bbox_to_anchor=(0,1.02,1,0.2), loc=\"lower left\", mode=\"expand\", borderaxespad=0, ncol=2, fontsize = 12) #,weight = 'bold')\n",
    "plt.tight_layout()\n",
    "plt.savefig('stacked_bar_share_ass.png')"
   ]
  }
 ],
 "metadata": {
  "kernelspec": {
   "display_name": "Python 3",
   "language": "python",
   "name": "python3"
  },
  "language_info": {
   "codemirror_mode": {
    "name": "ipython",
    "version": 3
   },
   "file_extension": ".py",
   "mimetype": "text/x-python",
   "name": "python",
   "nbconvert_exporter": "python",
   "pygments_lexer": "ipython3",
   "version": "3.7.3"
  }
 },
 "nbformat": 4,
 "nbformat_minor": 2
}
