{
 "cells": [
  {
   "cell_type": "code",
   "execution_count": 121,
   "metadata": {},
   "outputs": [],
   "source": [
    "import scraping_class\n",
    "logfile = 'log.txt'## name your log file.\n",
    "connector = scraping_class.Connector(logfile)\n",
    "import requests\n",
    "from bs4 import BeautifulSoup\n"
   ]
  },
  {
   "cell_type": "code",
   "execution_count": 122,
   "metadata": {},
   "outputs": [],
   "source": [
    "import pandas as pd\n",
    "import numpy as np\n",
    "import html5lib"
   ]
  },
  {
   "cell_type": "code",
   "execution_count": 123,
   "metadata": {},
   "outputs": [],
   "source": [
    "base_url = 'https://kurser.ku.dk/course/'\n",
    "course_id = 'aØka08088u'\n",
    "year = '2018-2019'\n",
    "url = base_url + course_id + '/' +  year\n"
   ]
  },
  {
   "cell_type": "code",
   "execution_count": 124,
   "metadata": {},
   "outputs": [],
   "source": [
    "response = requests.get(url)\n",
    "raw_html = response.text\n",
    "soup = BeautifulSoup(raw_html,'lxml')\n",
    "soup;\n"
   ]
  },
  {
   "cell_type": "code",
   "execution_count": 130,
   "metadata": {},
   "outputs": [
    {
     "data": {
      "text/plain": [
       "<h1 class=\"courseTitle\">AØKA08088U  Advanced Development\n",
       "Economics - Micro Aspects</h1>"
      ]
     },
     "execution_count": 130,
     "metadata": {},
     "output_type": "execute_result"
    }
   ],
   "source": [
    "name = soup.find('h1',{'class':\"courseTitle\"})\n",
    "name"
   ]
  },
  {
   "cell_type": "code",
   "execution_count": 152,
   "metadata": {},
   "outputs": [
    {
     "data": {
      "text/plain": [
       "<dd>Spring</dd>"
      ]
     },
     "execution_count": 152,
     "metadata": {},
     "output_type": "execute_result"
    }
   ],
   "source": [
    "placement = soup.find_all({'dd'})[13]\n",
    "placement"
   ]
  },
  {
   "cell_type": "code",
   "execution_count": 125,
   "metadata": {},
   "outputs": [],
   "source": [
    "exam = soup.find('div',{'id':'course-exams1'})\n",
    "#print(exam)\n"
   ]
  },
  {
   "cell_type": "code",
   "execution_count": 154,
   "metadata": {},
   "outputs": [],
   "source": [
    "vkolex = exam.find_all('dt')\n",
    "vkolex;"
   ]
  },
  {
   "cell_type": "code",
   "execution_count": 155,
   "metadata": {},
   "outputs": [],
   "source": [
    "hkolex = exam.find_all('dd')\n",
    "hkol;"
   ]
  },
  {
   "cell_type": "code",
   "execution_count": 179,
   "metadata": {},
   "outputs": [
    {
     "data": {
      "text/html": [
       "<div>\n",
       "<style scoped>\n",
       "    .dataframe tbody tr th:only-of-type {\n",
       "        vertical-align: middle;\n",
       "    }\n",
       "\n",
       "    .dataframe tbody tr th {\n",
       "        vertical-align: top;\n",
       "    }\n",
       "\n",
       "    .dataframe thead th {\n",
       "        text-align: right;\n",
       "    }\n",
       "</style>\n",
       "<table border=\"1\" class=\"dataframe\">\n",
       "  <thead>\n",
       "    <tr style=\"text-align: right;\">\n",
       "      <th></th>\n",
       "      <th>Course-id</th>\n",
       "      <th>Name</th>\n",
       "      <th>Year</th>\n",
       "      <th>Level_2</th>\n",
       "      <th>Level_1</th>\n",
       "      <th><dt>Aid</dt></th>\n",
       "      <th><dt>Exam registration requirements</dt></th>\n",
       "      <th><dt>Type of assessment</dt></th>\n",
       "      <th><dt>Credit</dt></th>\n",
       "      <th>Placement</th>\n",
       "    </tr>\n",
       "  </thead>\n",
       "  <tbody>\n",
       "    <tr>\n",
       "      <th>0</th>\n",
       "      <td>aØka08088u</td>\n",
       "      <td>AØKA08088U  Advanced Development\n",
       "Economics - M...</td>\n",
       "      <td>2018-2019</td>\n",
       "      <td>Ph.D.</td>\n",
       "      <td>Full Degree Master</td>\n",
       "      <td>Without aids</td>\n",
       "      <td>The students have to show active participation...</td>\n",
       "      <td>Written assignment, 3 hours under invigilation</td>\n",
       "      <td>7,5 ECTS</td>\n",
       "      <td>Spring</td>\n",
       "    </tr>\n",
       "  </tbody>\n",
       "</table>\n",
       "</div>"
      ],
      "text/plain": [
       "    Course-id                                               Name       Year  \\\n",
       "0  aØka08088u  AØKA08088U  Advanced Development\n",
       "Economics - M...  2018-2019   \n",
       "\n",
       "  Level_2             Level_1  <dt>Aid</dt>  \\\n",
       "0   Ph.D.  Full Degree Master  Without aids   \n",
       "\n",
       "             <dt>Exam registration requirements</dt>  \\\n",
       "0  The students have to show active participation...   \n",
       "\n",
       "                      <dt>Type of assessment</dt> <dt>Credit</dt> Placement  \n",
       "0  Written assignment, 3 hours under invigilation        7,5 ECTS    Spring  "
      ]
     },
     "execution_count": 179,
     "metadata": {},
     "output_type": "execute_result"
    }
   ],
   "source": [
    "df = pd.DataFrame([course_id], columns=['Course-id'])\n",
    "df.insert(1,'Name', name, allow_duplicates=True)\n",
    "df.insert(2,'Year', year, allow_duplicates=True)\n",
    "df.insert(3,'Placement', soup.find_all({'dd'})[13], allow_duplicates=True )\n",
    "df.insert(3, vkolex[0], hkolex[0], allow_duplicates=True)\n",
    "df.insert(3, vkolex[1], hkolex[1].find_all('div')[0], allow_duplicates=True)\n",
    "df.insert(3, vkolex[2], hkolex[2].find_all('p')[0] ,allow_duplicates=True)\n",
    "df.insert(3, vkolex[3], hkolex[3] , allow_duplicates=True)\n",
    "\n",
    "if len(soup.find_all({'dd'})[11]) == 2: #Can be more than 0 level \n",
    "    df.insert(3, 'Level_1', soup.find_all({'dd'})[11].find_all('div')[0])\n",
    "    df.insert(3, 'Level_2', soup.find_all({'dd'})[11].find_all('div')[1])\n",
    "else:\n",
    "    df.insert(3, 'Level_1', soup.find_all({'dd'})[11])\n",
    "    df.insert(3, 'Level_2', '-')\n",
    "\n",
    "df"
   ]
  },
  {
   "cell_type": "code",
   "execution_count": 203,
   "metadata": {},
   "outputs": [],
   "source": [
    "# testing\n",
    "def test(course_id2, year2):\n",
    "    base_url = 'https://kurser.ku.dk/course/'\n",
    "    url = base_url + course_id2 + '/' +  year2\n",
    "    response = requests.get(url)\n",
    "    raw_html = response.text\n",
    "    soup = BeautifulSoup(raw_html,'lxml')\n",
    "    name = soup.find('h1',{'class':\"courseTitle\"})\n",
    "    \n",
    "    exam = soup.find('div',{'id':'course-exams1'})\n",
    "    vkolex = exam.find_all('dt')\n",
    "    hkolex = exam.find_all('dd')"
   ]
  },
  {
   "cell_type": "code",
   "execution_count": 205,
   "metadata": {},
   "outputs": [
    {
     "data": {
      "text/plain": [
       "<dd>Without aids</dd>"
      ]
     },
     "execution_count": 205,
     "metadata": {},
     "output_type": "execute_result"
    }
   ],
   "source": [
    "test('aØka08088u','2018-2019')\n",
    "hkolex[3] "
   ]
  },
  {
   "cell_type": "code",
   "execution_count": 200,
   "metadata": {},
   "outputs": [],
   "source": [
    "\n",
    "#Creating functions\n",
    "\n",
    "def create_df(course_id2, year2):\n",
    "    base_url = 'https://kurser.ku.dk/course/'\n",
    "    url = base_url + course_id2 + '/' +  year2\n",
    "    response = requests.get(url)\n",
    "    raw_html = response.text\n",
    "    soup = BeautifulSoup(raw_html,'lxml')\n",
    "    name = soup.find('h1',{'class':\"courseTitle\"})\n",
    "    \n",
    "    exam = soup.find('div',{'id':'course-exams1'})\n",
    "    vkolex = exam.find_all('dt')\n",
    "    hkolex = exam.find_all('dd')\n",
    "    \n",
    "    df = pd.DataFrame([course_id], columns=['Course-id'])\n",
    "    df.insert(1,'Name', soup.find('h1',{'class':\"courseTitle\"}), allow_duplicates=True)\n",
    "    df.insert(2,'Year', year, allow_duplicates=True)\n",
    "    df.insert(3,'Placement', soup.find_all({'dd'})[13], allow_duplicates=True )\n",
    "    df.insert(3, vkolex[0], hkolex[0], allow_duplicates=True)\n",
    "    df.insert(3, vkolex[1], hkolex[1].find_all('div')[0], allow_duplicates=True)\n",
    "    \n",
    "    df.insert(3, vkolex[2], hkolex[2].find_all('p')[0] ,allow_duplicates=True)\n",
    "    df.insert(3, vkolex[3], hkolex[3] , allow_duplicates=True)\n",
    "\n",
    "    if len(soup.find_all({'dd'})[11]) == 2: #Can be more than 0 level \n",
    "        df.insert(3, 'Level_1', soup.find_all({'dd'})[11].find_all('div')[0])\n",
    "        df.insert(3, 'Level_2', soup.find_all({'dd'})[11].find_all('div')[1])\n",
    "    else:\n",
    "        df.insert(3, 'Level_1', soup.find_all({'dd'})[11])\n",
    "        df.insert(3, 'Level_2', '-')\n",
    "    return(df)\n"
   ]
  },
  {
   "cell_type": "code",
   "execution_count": 202,
   "metadata": {},
   "outputs": [
    {
     "ename": "ValueError",
     "evalue": "Length of values does not match length of index",
     "output_type": "error",
     "traceback": [
      "\u001b[0;31m---------------------------------------------------------------------------\u001b[0m",
      "\u001b[0;31mValueError\u001b[0m                                Traceback (most recent call last)",
      "\u001b[0;32m<ipython-input-202-c313ab330cab>\u001b[0m in \u001b[0;36m<module>\u001b[0;34m()\u001b[0m\n\u001b[0;32m----> 1\u001b[0;31m \u001b[0mcreate_df\u001b[0m\u001b[0;34m(\u001b[0m\u001b[0;34m'aØka08100u'\u001b[0m\u001b[0;34m,\u001b[0m\u001b[0;34m'2018-2019'\u001b[0m\u001b[0;34m)\u001b[0m\u001b[0;34m\u001b[0m\u001b[0;34m\u001b[0m\u001b[0m\n\u001b[0m",
      "\u001b[0;32m<ipython-input-200-be657fd800b7>\u001b[0m in \u001b[0;36mcreate_df\u001b[0;34m(course_id2, year2)\u001b[0m\n\u001b[1;32m     22\u001b[0m \u001b[0;34m\u001b[0m\u001b[0m\n\u001b[1;32m     23\u001b[0m     \u001b[0mdf\u001b[0m\u001b[0;34m.\u001b[0m\u001b[0minsert\u001b[0m\u001b[0;34m(\u001b[0m\u001b[0;36m3\u001b[0m\u001b[0;34m,\u001b[0m \u001b[0mvkolex\u001b[0m\u001b[0;34m[\u001b[0m\u001b[0;36m2\u001b[0m\u001b[0;34m]\u001b[0m\u001b[0;34m,\u001b[0m \u001b[0mhkolex\u001b[0m\u001b[0;34m[\u001b[0m\u001b[0;36m2\u001b[0m\u001b[0;34m]\u001b[0m\u001b[0;34m.\u001b[0m\u001b[0mfind_all\u001b[0m\u001b[0;34m(\u001b[0m\u001b[0;34m'p'\u001b[0m\u001b[0;34m)\u001b[0m\u001b[0;34m[\u001b[0m\u001b[0;36m0\u001b[0m\u001b[0;34m]\u001b[0m \u001b[0;34m,\u001b[0m\u001b[0mallow_duplicates\u001b[0m\u001b[0;34m=\u001b[0m\u001b[0;32mTrue\u001b[0m\u001b[0;34m)\u001b[0m\u001b[0;34m\u001b[0m\u001b[0;34m\u001b[0m\u001b[0m\n\u001b[0;32m---> 24\u001b[0;31m     \u001b[0mdf\u001b[0m\u001b[0;34m.\u001b[0m\u001b[0minsert\u001b[0m\u001b[0;34m(\u001b[0m\u001b[0;36m3\u001b[0m\u001b[0;34m,\u001b[0m \u001b[0mvkolex\u001b[0m\u001b[0;34m[\u001b[0m\u001b[0;36m3\u001b[0m\u001b[0;34m]\u001b[0m\u001b[0;34m,\u001b[0m \u001b[0mhkolex\u001b[0m\u001b[0;34m[\u001b[0m\u001b[0;36m3\u001b[0m\u001b[0;34m]\u001b[0m \u001b[0;34m,\u001b[0m \u001b[0mallow_duplicates\u001b[0m\u001b[0;34m=\u001b[0m\u001b[0;32mTrue\u001b[0m\u001b[0;34m)\u001b[0m\u001b[0;34m\u001b[0m\u001b[0;34m\u001b[0m\u001b[0m\n\u001b[0m\u001b[1;32m     25\u001b[0m \u001b[0;34m\u001b[0m\u001b[0m\n\u001b[1;32m     26\u001b[0m     \u001b[0;32mif\u001b[0m \u001b[0mlen\u001b[0m\u001b[0;34m(\u001b[0m\u001b[0msoup\u001b[0m\u001b[0;34m.\u001b[0m\u001b[0mfind_all\u001b[0m\u001b[0;34m(\u001b[0m\u001b[0;34m{\u001b[0m\u001b[0;34m'dd'\u001b[0m\u001b[0;34m}\u001b[0m\u001b[0;34m)\u001b[0m\u001b[0;34m[\u001b[0m\u001b[0;36m11\u001b[0m\u001b[0;34m]\u001b[0m\u001b[0;34m)\u001b[0m \u001b[0;34m==\u001b[0m \u001b[0;36m2\u001b[0m\u001b[0;34m:\u001b[0m \u001b[0;31m#Can be more than 0 level\u001b[0m\u001b[0;34m\u001b[0m\u001b[0;34m\u001b[0m\u001b[0m\n",
      "\u001b[0;32m~/anaconda3/lib/python3.7/site-packages/pandas/core/frame.py\u001b[0m in \u001b[0;36minsert\u001b[0;34m(self, loc, column, value, allow_duplicates)\u001b[0m\n\u001b[1;32m   3469\u001b[0m         \"\"\"\n\u001b[1;32m   3470\u001b[0m         \u001b[0mself\u001b[0m\u001b[0;34m.\u001b[0m\u001b[0m_ensure_valid_index\u001b[0m\u001b[0;34m(\u001b[0m\u001b[0mvalue\u001b[0m\u001b[0;34m)\u001b[0m\u001b[0;34m\u001b[0m\u001b[0;34m\u001b[0m\u001b[0m\n\u001b[0;32m-> 3471\u001b[0;31m         \u001b[0mvalue\u001b[0m \u001b[0;34m=\u001b[0m \u001b[0mself\u001b[0m\u001b[0;34m.\u001b[0m\u001b[0m_sanitize_column\u001b[0m\u001b[0;34m(\u001b[0m\u001b[0mcolumn\u001b[0m\u001b[0;34m,\u001b[0m \u001b[0mvalue\u001b[0m\u001b[0;34m,\u001b[0m \u001b[0mbroadcast\u001b[0m\u001b[0;34m=\u001b[0m\u001b[0;32mFalse\u001b[0m\u001b[0;34m)\u001b[0m\u001b[0;34m\u001b[0m\u001b[0;34m\u001b[0m\u001b[0m\n\u001b[0m\u001b[1;32m   3472\u001b[0m         self._data.insert(loc, column, value,\n\u001b[1;32m   3473\u001b[0m                           allow_duplicates=allow_duplicates)\n",
      "\u001b[0;32m~/anaconda3/lib/python3.7/site-packages/pandas/core/frame.py\u001b[0m in \u001b[0;36m_sanitize_column\u001b[0;34m(self, key, value, broadcast)\u001b[0m\n\u001b[1;32m   3628\u001b[0m \u001b[0;34m\u001b[0m\u001b[0m\n\u001b[1;32m   3629\u001b[0m             \u001b[0;31m# turn me into an ndarray\u001b[0m\u001b[0;34m\u001b[0m\u001b[0;34m\u001b[0m\u001b[0;34m\u001b[0m\u001b[0m\n\u001b[0;32m-> 3630\u001b[0;31m             \u001b[0mvalue\u001b[0m \u001b[0;34m=\u001b[0m \u001b[0msanitize_index\u001b[0m\u001b[0;34m(\u001b[0m\u001b[0mvalue\u001b[0m\u001b[0;34m,\u001b[0m \u001b[0mself\u001b[0m\u001b[0;34m.\u001b[0m\u001b[0mindex\u001b[0m\u001b[0;34m,\u001b[0m \u001b[0mcopy\u001b[0m\u001b[0;34m=\u001b[0m\u001b[0;32mFalse\u001b[0m\u001b[0;34m)\u001b[0m\u001b[0;34m\u001b[0m\u001b[0;34m\u001b[0m\u001b[0m\n\u001b[0m\u001b[1;32m   3631\u001b[0m             \u001b[0;32mif\u001b[0m \u001b[0;32mnot\u001b[0m \u001b[0misinstance\u001b[0m\u001b[0;34m(\u001b[0m\u001b[0mvalue\u001b[0m\u001b[0;34m,\u001b[0m \u001b[0;34m(\u001b[0m\u001b[0mnp\u001b[0m\u001b[0;34m.\u001b[0m\u001b[0mndarray\u001b[0m\u001b[0;34m,\u001b[0m \u001b[0mIndex\u001b[0m\u001b[0;34m)\u001b[0m\u001b[0;34m)\u001b[0m\u001b[0;34m:\u001b[0m\u001b[0;34m\u001b[0m\u001b[0;34m\u001b[0m\u001b[0m\n\u001b[1;32m   3632\u001b[0m                 \u001b[0;32mif\u001b[0m \u001b[0misinstance\u001b[0m\u001b[0;34m(\u001b[0m\u001b[0mvalue\u001b[0m\u001b[0;34m,\u001b[0m \u001b[0mlist\u001b[0m\u001b[0;34m)\u001b[0m \u001b[0;32mand\u001b[0m \u001b[0mlen\u001b[0m\u001b[0;34m(\u001b[0m\u001b[0mvalue\u001b[0m\u001b[0;34m)\u001b[0m \u001b[0;34m>\u001b[0m \u001b[0;36m0\u001b[0m\u001b[0;34m:\u001b[0m\u001b[0;34m\u001b[0m\u001b[0;34m\u001b[0m\u001b[0m\n",
      "\u001b[0;32m~/anaconda3/lib/python3.7/site-packages/pandas/core/internals/construction.py\u001b[0m in \u001b[0;36msanitize_index\u001b[0;34m(data, index, copy)\u001b[0m\n\u001b[1;32m    517\u001b[0m \u001b[0;34m\u001b[0m\u001b[0m\n\u001b[1;32m    518\u001b[0m     \u001b[0;32mif\u001b[0m \u001b[0mlen\u001b[0m\u001b[0;34m(\u001b[0m\u001b[0mdata\u001b[0m\u001b[0;34m)\u001b[0m \u001b[0;34m!=\u001b[0m \u001b[0mlen\u001b[0m\u001b[0;34m(\u001b[0m\u001b[0mindex\u001b[0m\u001b[0;34m)\u001b[0m\u001b[0;34m:\u001b[0m\u001b[0;34m\u001b[0m\u001b[0;34m\u001b[0m\u001b[0m\n\u001b[0;32m--> 519\u001b[0;31m         \u001b[0;32mraise\u001b[0m \u001b[0mValueError\u001b[0m\u001b[0;34m(\u001b[0m\u001b[0;34m'Length of values does not match length of index'\u001b[0m\u001b[0;34m)\u001b[0m\u001b[0;34m\u001b[0m\u001b[0;34m\u001b[0m\u001b[0m\n\u001b[0m\u001b[1;32m    520\u001b[0m \u001b[0;34m\u001b[0m\u001b[0m\n\u001b[1;32m    521\u001b[0m     \u001b[0;32mif\u001b[0m \u001b[0misinstance\u001b[0m\u001b[0;34m(\u001b[0m\u001b[0mdata\u001b[0m\u001b[0;34m,\u001b[0m \u001b[0mABCIndexClass\u001b[0m\u001b[0;34m)\u001b[0m \u001b[0;32mand\u001b[0m \u001b[0;32mnot\u001b[0m \u001b[0mcopy\u001b[0m\u001b[0;34m:\u001b[0m\u001b[0;34m\u001b[0m\u001b[0;34m\u001b[0m\u001b[0m\n",
      "\u001b[0;31mValueError\u001b[0m: Length of values does not match length of index"
     ]
    }
   ],
   "source": [
    "create_df('aØka08100u','2018-2019')"
   ]
  },
  {
   "cell_type": "code",
   "execution_count": 201,
   "metadata": {},
   "outputs": [
    {
     "data": {
      "text/html": [
       "<div>\n",
       "<style scoped>\n",
       "    .dataframe tbody tr th:only-of-type {\n",
       "        vertical-align: middle;\n",
       "    }\n",
       "\n",
       "    .dataframe tbody tr th {\n",
       "        vertical-align: top;\n",
       "    }\n",
       "\n",
       "    .dataframe thead th {\n",
       "        text-align: right;\n",
       "    }\n",
       "</style>\n",
       "<table border=\"1\" class=\"dataframe\">\n",
       "  <thead>\n",
       "    <tr style=\"text-align: right;\">\n",
       "      <th></th>\n",
       "      <th>Course-id</th>\n",
       "      <th>Name</th>\n",
       "      <th>Year</th>\n",
       "      <th>Level_2</th>\n",
       "      <th>Level_1</th>\n",
       "      <th><dt>Aid</dt></th>\n",
       "      <th><dt>Exam registration requirements</dt></th>\n",
       "      <th><dt>Type of assessment</dt></th>\n",
       "      <th><dt>Credit</dt></th>\n",
       "      <th>Placement</th>\n",
       "    </tr>\n",
       "  </thead>\n",
       "  <tbody>\n",
       "    <tr>\n",
       "      <th>0</th>\n",
       "      <td>aØka08088u</td>\n",
       "      <td>AØKA08088U  Advanced Development\n",
       "Economics - M...</td>\n",
       "      <td>2018-2019</td>\n",
       "      <td>Ph.D.</td>\n",
       "      <td>Full Degree Master</td>\n",
       "      <td>Without aids</td>\n",
       "      <td>The students have to show active participation...</td>\n",
       "      <td>Written assignment, 3 hours under invigilation</td>\n",
       "      <td>7,5 ECTS</td>\n",
       "      <td>Spring</td>\n",
       "    </tr>\n",
       "  </tbody>\n",
       "</table>\n",
       "</div>"
      ],
      "text/plain": [
       "    Course-id                                               Name       Year  \\\n",
       "0  aØka08088u  AØKA08088U  Advanced Development\n",
       "Economics - M...  2018-2019   \n",
       "\n",
       "  Level_2             Level_1  <dt>Aid</dt>  \\\n",
       "0   Ph.D.  Full Degree Master  Without aids   \n",
       "\n",
       "             <dt>Exam registration requirements</dt>  \\\n",
       "0  The students have to show active participation...   \n",
       "\n",
       "                      <dt>Type of assessment</dt> <dt>Credit</dt> Placement  \n",
       "0  Written assignment, 3 hours under invigilation        7,5 ECTS    Spring  "
      ]
     },
     "execution_count": 201,
     "metadata": {},
     "output_type": "execute_result"
    }
   ],
   "source": [
    "create_df('aØka08088u','2018-2019')"
   ]
  },
  {
   "cell_type": "code",
   "execution_count": null,
   "metadata": {},
   "outputs": [],
   "source": []
  }
 ],
 "metadata": {
  "kernelspec": {
   "display_name": "Python 3",
   "language": "python",
   "name": "python3"
  },
  "language_info": {
   "codemirror_mode": {
    "name": "ipython",
    "version": 3
   },
   "file_extension": ".py",
   "mimetype": "text/x-python",
   "name": "python",
   "nbconvert_exporter": "python",
   "pygments_lexer": "ipython3",
   "version": "3.7.3"
  }
 },
 "nbformat": 4,
 "nbformat_minor": 2
}
