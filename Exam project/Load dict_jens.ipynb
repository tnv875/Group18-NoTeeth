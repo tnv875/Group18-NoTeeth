{
 "cells": [
  {
   "cell_type": "code",
   "execution_count": 1,
   "metadata": {},
   "outputs": [],
   "source": [
    "import numpy as np\n",
    "import pandas as pd\n",
    "dict_load = np.load('kurser_scrabe_ALL.npy', allow_pickle=True).item()\n",
    "dict_load;\n",
    "df = pd.DataFrame.from_dict(dict_load, orient='index')"
   ]
  },
  {
   "cell_type": "code",
   "execution_count": 42,
   "metadata": {},
   "outputs": [
    {
     "data": {
      "text/plain": [
       "['Course Name',\n",
       " 'Credit',\n",
       " 'Type of assessment',\n",
       " 'Aid',\n",
       " 'Marking scale',\n",
       " 'Censorship form',\n",
       " 'Exam period',\n",
       " 'Re-exam',\n",
       " 'Language',\n",
       " 'Course code',\n",
       " 'Level',\n",
       " 'Duration',\n",
       " 'Placement',\n",
       " 'Schedule',\n",
       " 'Study board',\n",
       " 'Year',\n",
       " 'Course id',\n",
       " 'Category',\n",
       " 'Lectures',\n",
       " 'Preparation',\n",
       " 'Exam',\n",
       " 'Total',\n",
       " 'Content',\n",
       " 'Learning\\r\\nOutcome',\n",
       " 'Class Instruction',\n",
       " 'Practical exercises',\n",
       " 'Exam registration requirements',\n",
       " 'Field Work',\n",
       " 'Course capacity',\n",
       " 'Pris',\n",
       " 'Seminar',\n",
       " 'Guidance',\n",
       " 'Continuing and further education',\n",
       " 'Class Seminar',\n",
       " 'Class Exercises',\n",
       " 'Study Groups',\n",
       " 'Exercises',\n",
       " 'Exam Preparation',\n",
       " 'Excursions',\n",
       " 'Øvelseshold',\n",
       " 'Øvelser',\n",
       " 'Course Preparation',\n",
       " 'Theory exercises',\n",
       " 'Project work',\n",
       " 'Undervisningsforberedelse',\n",
       " 'Price',\n",
       " 'Clinical practice',\n",
       " 'Praktik',\n",
       " 'Colloquia',\n",
       " 'Laboratory',\n",
       " 'E-Learning',\n",
       " 'Practical Training',\n",
       " 'Praksishold',\n",
       " 'Tutoring',\n",
       " 'Manuduktion',\n",
       " 'Type of assessmet_edit']"
      ]
     },
     "execution_count": 42,
     "metadata": {},
     "output_type": "execute_result"
    }
   ],
   "source": [
    "list(df.columns.values)"
   ]
  },
  {
   "cell_type": "code",
   "execution_count": 38,
   "metadata": {},
   "outputs": [],
   "source": [
    "# Copying to list to check data in the column.\n",
    "df_eksamensform = df['Type of assessment'].tolist()\n",
    "\n",
    "# \n",
    "df['Type of assessmet_edit'] = df['Type of assessment']\n"
   ]
  },
  {
   "cell_type": "code",
   "execution_count": 58,
   "metadata": {},
   "outputs": [
    {
     "name": "stdout",
     "output_type": "stream",
     "text": [
      "19119\n"
     ]
    }
   ],
   "source": [
    "print(len(df_eksamensform))\n",
    "df_eksamensform;"
   ]
  },
  {
   "cell_type": "code",
   "execution_count": 52,
   "metadata": {},
   "outputs": [],
   "source": [
    "check_written_start = [\"Skriftlig\",\"skriftlig\",\"Written\",\"written\",\"skriftlige hjemmeopgave\",\"Skriftlig prøve\"] \n",
    "check_written_run = [\"skriftlige hjemmeopgave\",\"Skriftlig prøve\", \"skriftlig prøve\"] \n",
    "check_written_level_2 = [\"med opsyn\",\"Med opsyn\",\"under invigilation\",\"Under invigilation\", \"Peter Bangs Vej\"]\n",
    "\n",
    "check_con_ass = [\"Continuous assessment\",\"continuous assessment\",\"Løbende bedømmelse\",\"løbende bedømmelse\"]\n",
    "\n",
    "check_oral = [\"Mundtlig\",\"mundtlig\",\"Oral\",\"oral\",\"Fri mundtlig prøve\",\"fri mundtlig prøve\"]\n",
    "\n",
    "check_other = [\"Andet\",\"andet\",\"Other\",\"other\"]\n",
    "\n",
    "check_exam = [\"Eksamen\",\"eksamen\",\"Exam\",\"exam\"]\n",
    "\n",
    "check_cor_part = [\"Kursusdeltagelse\",\"kursusdeltagelse\",\"Course participation\",\"course participation\"]\n",
    "#check_cor_part_written = [\"Skriftlig\",\"skriftlig\",\"Written\",\"written\",\"skriftlige hjemmeopgave\",\"Skriftlig prøve\"], #\\\n",
    "                         #\"KursusdeltagelseSkriftlig\",\"Kursusdeltagelseskriftlig\",\"\"]\n",
    "    \n",
    "check_port = [\"Portfolio\",\"portfolio\",\"Portefølje\",\"portefølje\"]\n",
    "\n",
    "check_prac = [\"Praktisk\",\"praktisk\",\"Practical\",\"practical\"]\n",
    "\n",
    "list_written_exams = []\n",
    "list_written_exams_invigilation = []\n",
    "list_written_exams_not_invigilation = []\n",
    "\n",
    "\n",
    "list_oral_exams = []\n",
    "list_oralandwritten_exams = []\n",
    "\n",
    "list_con_ass = []\n",
    "list_con_ass_exams = []\n",
    "\n",
    "list_other_exams = []\n",
    "\n",
    "list_cor_part = []\n",
    "list_cor_part_written = []\n",
    "list_cor_part_not_written = []\n",
    "\n",
    "list_port = []\n",
    "\n",
    "list_prac = []\n",
    "\n",
    "list_res = []\n",
    "\n",
    "\n",
    "for i in range(0,len(df_eksamensform)):\n",
    "    \n",
    "    # Checking for cont. assement \n",
    "    if any(k in df_eksamensform[i][0:21] for k in check_con_ass) or any(k in df_eksamensform[i][0:18] for k in check_con_ass):\n",
    "        #list_con_ass.append(df_eksamensform[i])\n",
    "        \n",
    "        if any(k in df_eksamensform[i] for k in check_exam):\n",
    "            list_con_ass_exams.append(df_eksamensform[i])\n",
    "            df['Type of assessmet_edit'][i] = \"Continuous assessment exam\"\n",
    "            \n",
    "        else:\n",
    "            list_con_ass.append(df_eksamensform[i])\n",
    "            df['Type of assessmet_edit'][i] = \"Continuous assessment not exam\"\n",
    "  \n",
    "    else:\n",
    "        # Checking written/skriftligt\n",
    "        if any(k in df_eksamensform[i][0:9] for k in check_written_start) \\\n",
    "        or any(k in df_eksamensform[i][0:7] for k in check_written_start) \\\n",
    "        or (any(k in df_eksamensform[i] for k in check_written_run) and any(k in df_eksamensform[i][0:5] for k in check_other)):\n",
    "            #list_written_exams.append(df_eksamensform[i])\n",
    "\n",
    "            # Under inv. or not.\n",
    "            if any(k in df_eksamensform[i] for k in check_written_level_2):\n",
    "                list_written_exams_invigilation.append(df_eksamensform[i])\n",
    "                df['Type of assessmet_edit'][i] = \"Written under invigilation\"\n",
    "\n",
    "            else:\n",
    "                list_written_exams_not_invigilation.append(df_eksamensform[i])\n",
    "                df['Type of assessmet_edit'][i] = \"Written not under invigilation\"\n",
    "\n",
    "        # Checking mundtligt/oral\n",
    "        elif any(k in df_eksamensform[i][0:8] for k in check_oral) or any(k in df_eksamensform[i][0:4] for k in check_oral) \\\n",
    "        or (any(k in df_eksamensform[i]for k in check_oral) and any(k in df_eksamensform[i][0:5] for k in check_other)):\n",
    "            list_oral_exams.append(df_eksamensform[i])\n",
    "            df['Type of assessmet_edit'][i] = \"Oral\"\n",
    "\n",
    "        # Checking andet/other\n",
    "        elif any(k in df_eksamensform[i][0:5] for k in check_other):\n",
    "            list_other_exams.append(df_eksamensform[i])\n",
    "            df['Type of assessmet_edit'][i] = \"Other\"\n",
    "        \n",
    "        # Checking kursusdeltagelse/course participation \n",
    "        elif any(k in df_eksamensform[i][0:16] for k in check_cor_part) \\\n",
    "        or any(k in df_eksamensform[i][0:20] for k in check_cor_part) :\n",
    "            #list_cor_part.append(df_eksamensform[i])\n",
    "            \n",
    "            if any(k in df_eksamensform[i] for k in check_written_start):\n",
    "                list_cor_part_written.append(df_eksamensform[i])\n",
    "                df['Type of assessmet_edit'][i] = \"Course participation written\"\n",
    "                \n",
    "            else:\n",
    "                list_cor_part_not_written.append(df_eksamensform[i])\n",
    "                df['Type of assessmet_edit'][i] = \"Course participation not written\"\n",
    "                \n",
    "        # Checking portfolio\n",
    "        elif any(k in df_eksamensform[i][0:9] for k in check_port):\n",
    "            list_port.append(df_eksamensform[i])\n",
    "            df['Type of assessmet_edit'][i] = \"Portfolio\"\n",
    "            \n",
    "        # Checking practical \n",
    "        elif any(k in df_eksamensform[i][0:9] for k in check_prac):\n",
    "            list_prac.append(df_eksamensform[i])\n",
    "            df['Type of assessmet_edit'][i] = \"Practical\"\n",
    "            \n",
    "        # Residual \n",
    "        else:\n",
    "            list_res.append(df_eksamensform[i])\n",
    "            df['Type of assessmet_edit'][i] = \"Resdiual\""
   ]
  },
  {
   "cell_type": "code",
   "execution_count": 55,
   "metadata": {},
   "outputs": [
    {
     "name": "stdout",
     "output_type": "stream",
     "text": [
      "{'Continuous assessment not exam', 'Course participation written', 'Other', 'Oral', 'Continuous assessment exam', 'Portfolio', 'Practical', 'Written not under invigilation', 'Course participation not written', 'Written under invigilation'}\n",
      "19119\n"
     ]
    }
   ],
   "source": [
    "# Making sure that the new column has the correct values \n",
    "print(set(df['Type of assessmet_edit'].tolist()))\n",
    "print(len(df['Type of assessmet_edit']))"
   ]
  },
  {
   "cell_type": "code",
   "execution_count": 57,
   "metadata": {},
   "outputs": [
    {
     "name": "stdout",
     "output_type": "stream",
     "text": [
      "233\n",
      "697\n",
      "2613\n",
      "4911\n",
      "3833\n",
      "4897\n",
      "0\n",
      "452\n",
      "709\n",
      "488\n",
      "286\n",
      "0\n"
     ]
    }
   ],
   "source": [
    "print(len( list_con_ass_exams))\n",
    "print(len( list_con_ass))\n",
    "print(len( list_written_exams_invigilation))\n",
    "print(len( list_written_exams_not_invigilation))\n",
    "print(len( list_oral_exams))\n",
    "print(len( list_other_exams))\n",
    "print(len( list_cor_part))\n",
    "print(len( list_cor_part_written))\n",
    "print(len( list_cor_part_not_written))\n",
    "print(len( list_port))\n",
    "print(len( list_prac))\n",
    "print(len( list_res))"
   ]
  }
 ],
 "metadata": {
  "kernelspec": {
   "display_name": "Python 3",
   "language": "python",
   "name": "python3"
  },
  "language_info": {
   "codemirror_mode": {
    "name": "ipython",
    "version": 3
   },
   "file_extension": ".py",
   "mimetype": "text/x-python",
   "name": "python",
   "nbconvert_exporter": "python",
   "pygments_lexer": "ipython3",
   "version": "3.7.3"
  }
 },
 "nbformat": 4,
 "nbformat_minor": 2
}
