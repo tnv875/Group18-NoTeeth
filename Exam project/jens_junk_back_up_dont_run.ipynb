{
 "cells": [
  {
   "cell_type": "markdown",
   "metadata": {},
   "source": [
    "### old method - guessing grade links"
   ]
  },
  {
   "cell_type": "code",
   "execution_count": null,
   "metadata": {},
   "outputs": [],
   "source": [
    "main_stad = 'http://karakterstatistik.stads.ku.dk/Histogram/'\n",
    "\n",
    "grade_links = []\n",
    "\n",
    "for i in range(0,len(desired_links_courses)):\n",
    "    \n",
    "    # Running through alle the years.\n",
    "    for k in range (0,len(given_year)):\n",
    "        \n",
    "        if desired_links_courses[i][29:38] == given_year[k]:\n",
    "\n",
    "            #Possible summer exam link\n",
    "            grade_link_summer = main_stad + course_ids[i][:-1]  +'E/Summer-' + given_year[k][5:]\n",
    "\n",
    "            #checking if the summer link exists\n",
    "            r = requests.get(grade_link_summer)\n",
    "            if r.status_code == 200:\n",
    "                grade_links.append(grade_link_summer)\n",
    "                #print('link created') \n",
    "                print(grade_link_summer)\n",
    "\n",
    "            #Possible winter exam link\n",
    "            grade_link_winter = main_stad + course_ids[i][:-1]  +'E/winter-' + given_year[k][:4]\n",
    "\n",
    "            #checking if the summer link exists\n",
    "            r = requests.get(grade_link_winter)\n",
    "            if r.status_code == 200:\n",
    "                grade_links.append(grade_link_winter)\n",
    "                #print('link created') \n",
    "                print(grade_link_winter)\n",
    "\n",
    "    \n",
    "    "
   ]
  }
 ],
 "metadata": {
  "kernelspec": {
   "display_name": "Python 3",
   "language": "python",
   "name": "python3"
  },
  "language_info": {
   "codemirror_mode": {
    "name": "ipython",
    "version": 3
   },
   "file_extension": ".py",
   "mimetype": "text/x-python",
   "name": "python",
   "nbconvert_exporter": "python",
   "pygments_lexer": "ipython3",
   "version": "3.7.3"
  }
 },
 "nbformat": 4,
 "nbformat_minor": 2
}
